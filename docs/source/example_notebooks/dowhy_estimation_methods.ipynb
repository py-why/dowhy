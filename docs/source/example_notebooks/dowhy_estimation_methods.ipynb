{
 "cells": [
  {
   "cell_type": "markdown",
   "metadata": {},
   "source": [
    "# DoWhy: Different estimation methods for causal inference\n",
    "This is a quick introduction to the DoWhy causal inference library.\n",
    "We will load in a sample dataset and use different methods for estimating the causal effect of a (pre-specified)treatment variable on a (pre-specified) outcome variable.\n",
    "\n",
    "We will see that not all estimators return the correct effect for this dataset.\n",
    "\n",
    "First, let us add the required path for Python to find the DoWhy code and load all required packages"
   ]
  },
  {
   "cell_type": "code",
   "execution_count": 2,
   "metadata": {},
   "outputs": [],
   "source": [
    "%load_ext autoreload\n",
    "%autoreload 2"
   ]
  },
  {
   "cell_type": "code",
   "execution_count": 3,
   "metadata": {},
   "outputs": [],
   "source": [
    "import numpy as np\n",
    "import pandas as pd\n",
    "import logging\n",
    "\n",
    "import dowhy\n",
    "from dowhy import CausalModel\n",
    "import dowhy.datasets "
   ]
  },
  {
   "cell_type": "markdown",
   "metadata": {},
   "source": [
    "Now, let us load a dataset. For simplicity, we simulate a dataset with linear relationships between common causes and treatment, and common causes and outcome. \n",
    "\n",
    "Beta is the true causal effect. "
   ]
  },
  {
   "cell_type": "code",
   "execution_count": 5,
   "metadata": {},
   "outputs": [
    {
     "data": {
      "text/html": [
       "<div>\n",
       "<style scoped>\n",
       "    .dataframe tbody tr th:only-of-type {\n",
       "        vertical-align: middle;\n",
       "    }\n",
       "\n",
       "    .dataframe tbody tr th {\n",
       "        vertical-align: top;\n",
       "    }\n",
       "\n",
       "    .dataframe thead th {\n",
       "        text-align: right;\n",
       "    }\n",
       "</style>\n",
       "<table border=\"1\" class=\"dataframe\">\n",
       "  <thead>\n",
       "    <tr style=\"text-align: right;\">\n",
       "      <th></th>\n",
       "      <th>Z0</th>\n",
       "      <th>Z1</th>\n",
       "      <th>W0</th>\n",
       "      <th>W1</th>\n",
       "      <th>W2</th>\n",
       "      <th>W3</th>\n",
       "      <th>W4</th>\n",
       "      <th>v0</th>\n",
       "      <th>y</th>\n",
       "    </tr>\n",
       "  </thead>\n",
       "  <tbody>\n",
       "    <tr>\n",
       "      <th>0</th>\n",
       "      <td>1.0</td>\n",
       "      <td>0.421312</td>\n",
       "      <td>-1.583551</td>\n",
       "      <td>0.402410</td>\n",
       "      <td>-1.105975</td>\n",
       "      <td>0.739810</td>\n",
       "      <td>1.211359</td>\n",
       "      <td>False</td>\n",
       "      <td>-0.185804</td>\n",
       "    </tr>\n",
       "    <tr>\n",
       "      <th>1</th>\n",
       "      <td>1.0</td>\n",
       "      <td>0.746953</td>\n",
       "      <td>2.279664</td>\n",
       "      <td>-0.417571</td>\n",
       "      <td>0.093978</td>\n",
       "      <td>0.321185</td>\n",
       "      <td>0.993456</td>\n",
       "      <td>True</td>\n",
       "      <td>11.737828</td>\n",
       "    </tr>\n",
       "    <tr>\n",
       "      <th>2</th>\n",
       "      <td>1.0</td>\n",
       "      <td>0.501129</td>\n",
       "      <td>1.049498</td>\n",
       "      <td>0.687589</td>\n",
       "      <td>0.484270</td>\n",
       "      <td>1.210224</td>\n",
       "      <td>1.011547</td>\n",
       "      <td>True</td>\n",
       "      <td>16.888337</td>\n",
       "    </tr>\n",
       "    <tr>\n",
       "      <th>3</th>\n",
       "      <td>1.0</td>\n",
       "      <td>0.176015</td>\n",
       "      <td>-1.003549</td>\n",
       "      <td>0.367438</td>\n",
       "      <td>0.585892</td>\n",
       "      <td>0.982697</td>\n",
       "      <td>0.672420</td>\n",
       "      <td>True</td>\n",
       "      <td>13.432931</td>\n",
       "    </tr>\n",
       "    <tr>\n",
       "      <th>4</th>\n",
       "      <td>0.0</td>\n",
       "      <td>0.530091</td>\n",
       "      <td>-0.353482</td>\n",
       "      <td>-0.084989</td>\n",
       "      <td>-0.386943</td>\n",
       "      <td>0.369482</td>\n",
       "      <td>1.684832</td>\n",
       "      <td>True</td>\n",
       "      <td>10.235980</td>\n",
       "    </tr>\n",
       "    <tr>\n",
       "      <th>...</th>\n",
       "      <td>...</td>\n",
       "      <td>...</td>\n",
       "      <td>...</td>\n",
       "      <td>...</td>\n",
       "      <td>...</td>\n",
       "      <td>...</td>\n",
       "      <td>...</td>\n",
       "      <td>...</td>\n",
       "      <td>...</td>\n",
       "    </tr>\n",
       "    <tr>\n",
       "      <th>9995</th>\n",
       "      <td>1.0</td>\n",
       "      <td>0.292260</td>\n",
       "      <td>0.528659</td>\n",
       "      <td>2.498418</td>\n",
       "      <td>-0.021759</td>\n",
       "      <td>0.784687</td>\n",
       "      <td>1.363865</td>\n",
       "      <td>True</td>\n",
       "      <td>22.179346</td>\n",
       "    </tr>\n",
       "    <tr>\n",
       "      <th>9996</th>\n",
       "      <td>0.0</td>\n",
       "      <td>0.164502</td>\n",
       "      <td>0.182104</td>\n",
       "      <td>1.385027</td>\n",
       "      <td>0.850735</td>\n",
       "      <td>2.093879</td>\n",
       "      <td>0.206717</td>\n",
       "      <td>True</td>\n",
       "      <td>20.171739</td>\n",
       "    </tr>\n",
       "    <tr>\n",
       "      <th>9997</th>\n",
       "      <td>1.0</td>\n",
       "      <td>0.313910</td>\n",
       "      <td>-2.812370</td>\n",
       "      <td>0.811047</td>\n",
       "      <td>-0.198128</td>\n",
       "      <td>1.303460</td>\n",
       "      <td>2.513005</td>\n",
       "      <td>True</td>\n",
       "      <td>13.668510</td>\n",
       "    </tr>\n",
       "    <tr>\n",
       "      <th>9998</th>\n",
       "      <td>1.0</td>\n",
       "      <td>0.736399</td>\n",
       "      <td>-0.190206</td>\n",
       "      <td>1.201272</td>\n",
       "      <td>1.237471</td>\n",
       "      <td>1.261077</td>\n",
       "      <td>1.224890</td>\n",
       "      <td>True</td>\n",
       "      <td>19.424837</td>\n",
       "    </tr>\n",
       "    <tr>\n",
       "      <th>9999</th>\n",
       "      <td>1.0</td>\n",
       "      <td>0.634383</td>\n",
       "      <td>-0.239042</td>\n",
       "      <td>-0.245989</td>\n",
       "      <td>0.549542</td>\n",
       "      <td>0.516117</td>\n",
       "      <td>0.698215</td>\n",
       "      <td>True</td>\n",
       "      <td>11.039883</td>\n",
       "    </tr>\n",
       "  </tbody>\n",
       "</table>\n",
       "<p>10000 rows × 9 columns</p>\n",
       "</div>"
      ],
      "text/plain": [
       "       Z0        Z1        W0        W1        W2        W3        W4     v0  \\\n",
       "0     1.0  0.421312 -1.583551  0.402410 -1.105975  0.739810  1.211359  False   \n",
       "1     1.0  0.746953  2.279664 -0.417571  0.093978  0.321185  0.993456   True   \n",
       "2     1.0  0.501129  1.049498  0.687589  0.484270  1.210224  1.011547   True   \n",
       "3     1.0  0.176015 -1.003549  0.367438  0.585892  0.982697  0.672420   True   \n",
       "4     0.0  0.530091 -0.353482 -0.084989 -0.386943  0.369482  1.684832   True   \n",
       "...   ...       ...       ...       ...       ...       ...       ...    ...   \n",
       "9995  1.0  0.292260  0.528659  2.498418 -0.021759  0.784687  1.363865   True   \n",
       "9996  0.0  0.164502  0.182104  1.385027  0.850735  2.093879  0.206717   True   \n",
       "9997  1.0  0.313910 -2.812370  0.811047 -0.198128  1.303460  2.513005   True   \n",
       "9998  1.0  0.736399 -0.190206  1.201272  1.237471  1.261077  1.224890   True   \n",
       "9999  1.0  0.634383 -0.239042 -0.245989  0.549542  0.516117  0.698215   True   \n",
       "\n",
       "              y  \n",
       "0     -0.185804  \n",
       "1     11.737828  \n",
       "2     16.888337  \n",
       "3     13.432931  \n",
       "4     10.235980  \n",
       "...         ...  \n",
       "9995  22.179346  \n",
       "9996  20.171739  \n",
       "9997  13.668510  \n",
       "9998  19.424837  \n",
       "9999  11.039883  \n",
       "\n",
       "[10000 rows x 9 columns]"
      ]
     },
     "execution_count": 5,
     "metadata": {},
     "output_type": "execute_result"
    }
   ],
   "source": [
    "data = dowhy.datasets.linear_dataset(beta=10,\n",
    "        num_common_causes=5, \n",
    "        num_instruments = 2,\n",
    "        num_treatments=1,\n",
    "        num_samples=10000,\n",
    "        treatment_is_binary=True,\n",
    "        outcome_is_binary=False,\n",
    "        stddev_treatment_noise=10)\n",
    "df = data[\"df\"]\n",
    "df"
   ]
  },
  {
   "cell_type": "markdown",
   "metadata": {},
   "source": [
    "Note that we are using a pandas dataframe to load the data."
   ]
  },
  {
   "cell_type": "markdown",
   "metadata": {},
   "source": [
    "## Identifying the causal estimand"
   ]
  },
  {
   "cell_type": "markdown",
   "metadata": {},
   "source": [
    "We now input a causal graph in the DOT graph format."
   ]
  },
  {
   "cell_type": "code",
   "execution_count": 9,
   "metadata": {},
   "outputs": [],
   "source": [
    "# With graph\n",
    "model=CausalModel(\n",
    "        data = df,\n",
    "        treatment=data[\"treatment_name\"],\n",
    "        outcome=data[\"outcome_name\"],\n",
    "        graph=data[\"gml_graph\"],\n",
    "        instruments=data[\"instrument_names\"]\n",
    "        )"
   ]
  },
  {
   "cell_type": "code",
   "execution_count": 10,
   "metadata": {},
   "outputs": [
    {
     "data": {
      "image/png": "[encoded data removed]",
      "text/plain": [
       "<Figure size 800x600 with 1 Axes>"
      ]
     },
     "metadata": {},
     "output_type": "display_data"
    }
   ],
   "source": [
    "model.view_model()"
   ]
  },
  {
   "cell_type": "code",
   "execution_count": 11,
   "metadata": {},
   "outputs": [
    {
     "data": {
      "image/png": "[encoded data removed]",
      "text/plain": [
       "<IPython.core.display.Image object>"
      ]
     },
     "metadata": {},
     "output_type": "display_data"
    }
   ],
   "source": [
    "from IPython.display import Image, display\n",
    "display(Image(filename=\"causal_model.png\"))"
   ]
  },
  {
   "cell_type": "markdown",
   "metadata": {},
   "source": [
    "We get a causal graph. Now identification and estimation is done. "
   ]
  },
  {
   "cell_type": "code",
   "execution_count": 13,
   "metadata": {},
   "outputs": [
    {
     "name": "stdout",
     "output_type": "stream",
     "text": [
      "Estimand type: EstimandType.NONPARAMETRIC_ATE\n",
      "\n",
      "### Estimand : 1\n",
      "Estimand name: backdoor\n",
      "Estimand expression:\n",
      "  d                       \n",
      "─────(E[y|W3,W0,W1,W4,W2])\n",
      "d[v₀]                     \n",
      "Estimand assumption 1, Unconfoundedness: If U→{v0} and U→y then P(y|v0,W3,W0,W1,W4,W2,U) = P(y|v0,W3,W0,W1,W4,W2)\n",
      "\n",
      "### Estimand : 2\n",
      "Estimand name: iv\n",
      "Estimand expression:\n",
      " ⎡                              -1⎤\n",
      " ⎢    d        ⎛    d          ⎞  ⎥\n",
      "E⎢─────────(y)⋅⎜─────────([v₀])⎟  ⎥\n",
      " ⎣d[Z₁  Z₀]    ⎝d[Z₁  Z₀]      ⎠  ⎦\n",
      "Estimand assumption 1, As-if-random: If U→→y then ¬(U →→{Z1,Z0})\n",
      "Estimand assumption 2, Exclusion: If we remove {Z1,Z0}→{v0}, then ¬({Z1,Z0}→y)\n",
      "\n",
      "### Estimand : 3\n",
      "Estimand name: frontdoor\n",
      "No such variable(s) found!\n",
      "\n",
      "### Estimand : 4\n",
      "Estimand name: general_adjustment\n",
      "Estimand expression:\n",
      "  d                       \n",
      "─────(E[y|W3,W0,W1,W4,W2])\n",
      "d[v₀]                     \n",
      "Estimand assumption 1, Unconfoundedness: If U→{v0} and U→y then P(y|v0,W3,W0,W1,W4,W2,U) = P(y|v0,W3,W0,W1,W4,W2)\n",
      "\n"
     ]
    }
   ],
   "source": [
    "identified_estimand = model.identify_effect(proceed_when_unidentifiable=True)\n",
    "print(identified_estimand)"
   ]
  },
  {
   "cell_type": "markdown",
   "metadata": {},
   "source": [
    "## Method 1: Regression\n",
    "\n",
    "Use linear regression."
   ]
  },
  {
   "cell_type": "code",
   "execution_count": 15,
   "metadata": {},
   "outputs": [
    {
     "name": "stdout",
     "output_type": "stream",
     "text": [
      "*** Causal Estimate ***\n",
      "\n",
      "## Identified estimand\n",
      "Estimand type: EstimandType.NONPARAMETRIC_ATE\n",
      "\n",
      "### Estimand : 1\n",
      "Estimand name: backdoor\n",
      "Estimand expression:\n",
      "  d                       \n",
      "─────(E[y|W3,W0,W1,W4,W2])\n",
      "d[v₀]                     \n",
      "Estimand assumption 1, Unconfoundedness: If U→{v0} and U→y then P(y|v0,W3,W0,W1,W4,W2,U) = P(y|v0,W3,W0,W1,W4,W2)\n",
      "\n",
      "## Realized estimand\n",
      "b: y~v0+W3+W0+W1+W4+W2\n",
      "Target units: ate\n",
      "\n",
      "## Estimate\n",
      "Mean value: 10.000036044411651\n",
      "p-value: [0.]\n",
      "\n",
      "Causal Estimate is 10.000036044411651\n"
     ]
    }
   ],
   "source": [
    "causal_estimate_reg = model.estimate_effect(identified_estimand,\n",
    "        method_name=\"backdoor.linear_regression\",\n",
    "        test_significance=True)\n",
    "print(causal_estimate_reg)\n",
    "print(\"Causal Estimate is \" + str(causal_estimate_reg.value))"
   ]
  },
  {
   "cell_type": "markdown",
   "metadata": {},
   "source": [
    "## Method 2: Distance Matching\n",
    "\n",
    "Define a distance metric and then use the metric to match closest points between treatment and control."
   ]
  },
  {
   "cell_type": "code",
   "execution_count": 17,
   "metadata": {},
   "outputs": [
    {
     "name": "stdout",
     "output_type": "stream",
     "text": [
      "*** Causal Estimate ***\n",
      "\n",
      "## Identified estimand\n",
      "Estimand type: EstimandType.NONPARAMETRIC_ATE\n",
      "\n",
      "### Estimand : 1\n",
      "Estimand name: backdoor\n",
      "Estimand expression:\n",
      "  d                       \n",
      "─────(E[y|W3,W0,W1,W4,W2])\n",
      "d[v₀]                     \n",
      "Estimand assumption 1, Unconfoundedness: If U→{v0} and U→y then P(y|v0,W3,W0,W1,W4,W2,U) = P(y|v0,W3,W0,W1,W4,W2)\n",
      "\n",
      "## Realized estimand\n",
      "b: y~v0+W3+W0+W1+W4+W2\n",
      "Target units: att\n",
      "\n",
      "## Estimate\n",
      "Mean value: 10.937052018998383\n",
      "\n",
      "Causal Estimate is 10.937052018998383\n"
     ]
    }
   ],
   "source": [
    "causal_estimate_dmatch = model.estimate_effect(identified_estimand,\n",
    "                                              method_name=\"backdoor.distance_matching\",\n",
    "                                              target_units=\"att\",\n",
    "                                              method_params={'distance_metric':\"minkowski\", 'p':2})\n",
    "print(causal_estimate_dmatch)\n",
    "print(\"Causal Estimate is \" + str(causal_estimate_dmatch.value))"
   ]
  },
  {
   "cell_type": "markdown",
   "metadata": {},
   "source": [
    "## Method 3: Propensity Score Stratification\n",
    "\n",
    "We will be using propensity scores to stratify units in the data."
   ]
  },
  {
   "cell_type": "code",
   "execution_count": 19,
   "metadata": {},
   "outputs": [
    {
     "name": "stdout",
     "output_type": "stream",
     "text": [
      "*** Causal Estimate ***\n",
      "\n",
      "## Identified estimand\n",
      "Estimand type: EstimandType.NONPARAMETRIC_ATE\n",
      "\n",
      "### Estimand : 1\n",
      "Estimand name: backdoor\n",
      "Estimand expression:\n",
      "  d                       \n",
      "─────(E[y|W3,W0,W1,W4,W2])\n",
      "d[v₀]                     \n",
      "Estimand assumption 1, Unconfoundedness: If U→{v0} and U→y then P(y|v0,W3,W0,W1,W4,W2,U) = P(y|v0,W3,W0,W1,W4,W2)\n",
      "\n",
      "## Realized estimand\n",
      "b: y~v0+W3+W0+W1+W4+W2\n",
      "Target units: att\n",
      "\n",
      "## Estimate\n",
      "Mean value: 9.975378691336758\n",
      "\n",
      "Causal Estimate is 9.975378691336758\n"
     ]
    }
   ],
   "source": [
    "causal_estimate_strat = model.estimate_effect(identified_estimand,\n",
    "                                              method_name=\"backdoor.propensity_score_stratification\",\n",
    "                                              target_units=\"att\")\n",
    "print(causal_estimate_strat)\n",
    "print(\"Causal Estimate is \" + str(causal_estimate_strat.value))"
   ]
  },
  {
   "cell_type": "markdown",
   "metadata": {},
   "source": [
    "## Method 4: Propensity Score Matching\n",
    "\n",
    "We will be using propensity scores to match units in the data."
   ]
  },
  {
   "cell_type": "code",
   "execution_count": 21,
   "metadata": {},
   "outputs": [
    {
     "name": "stdout",
     "output_type": "stream",
     "text": [
      "*** Causal Estimate ***\n",
      "\n",
      "## Identified estimand\n",
      "Estimand type: EstimandType.NONPARAMETRIC_ATE\n",
      "\n",
      "### Estimand : 1\n",
      "Estimand name: backdoor\n",
      "Estimand expression:\n",
      "  d                       \n",
      "─────(E[y|W3,W0,W1,W4,W2])\n",
      "d[v₀]                     \n",
      "Estimand assumption 1, Unconfoundedness: If U→{v0} and U→y then P(y|v0,W3,W0,W1,W4,W2,U) = P(y|v0,W3,W0,W1,W4,W2)\n",
      "\n",
      "## Realized estimand\n",
      "b: y~v0+W3+W0+W1+W4+W2\n",
      "Target units: atc\n",
      "\n",
      "## Estimate\n",
      "Mean value: 9.917597820954011\n",
      "\n",
      "Causal Estimate is 9.917597820954011\n"
     ]
    }
   ],
   "source": [
    "causal_estimate_match = model.estimate_effect(identified_estimand,\n",
    "                                              method_name=\"backdoor.propensity_score_matching\",\n",
    "                                              target_units=\"atc\")\n",
    "print(causal_estimate_match)\n",
    "print(\"Causal Estimate is \" + str(causal_estimate_match.value))"
   ]
  },
  {
   "cell_type": "markdown",
   "metadata": {},
   "source": [
    "## Method 5: Weighting\n",
    "\n",
    "We will be using (inverse) propensity scores to assign weights to units in the data. DoWhy supports a few different weighting schemes:\n",
    "1. Vanilla Inverse Propensity Score weighting (IPS) (weighting_scheme=\"ips_weight\")\n",
    "2. Self-normalized IPS weighting (also known as the Hajek estimator) (weighting_scheme=\"ips_normalized_weight\")\n",
    "3. Stabilized IPS weighting (weighting_scheme = \"ips_stabilized_weight\")"
   ]
  },
  {
   "cell_type": "code",
   "execution_count": 23,
   "metadata": {},
   "outputs": [
    {
     "name": "stdout",
     "output_type": "stream",
     "text": [
      "*** Causal Estimate ***\n",
      "\n",
      "## Identified estimand\n",
      "Estimand type: EstimandType.NONPARAMETRIC_ATE\n",
      "\n",
      "### Estimand : 1\n",
      "Estimand name: backdoor\n",
      "Estimand expression:\n",
      "  d                       \n",
      "─────(E[y|W3,W0,W1,W4,W2])\n",
      "d[v₀]                     \n",
      "Estimand assumption 1, Unconfoundedness: If U→{v0} and U→y then P(y|v0,W3,W0,W1,W4,W2,U) = P(y|v0,W3,W0,W1,W4,W2)\n",
      "\n",
      "## Realized estimand\n",
      "b: y~v0+W3+W0+W1+W4+W2\n",
      "Target units: ate\n",
      "\n",
      "## Estimate\n",
      "Mean value: 11.052794283268813\n",
      "\n",
      "Causal Estimate is 11.052794283268813\n"
     ]
    }
   ],
   "source": [
    "causal_estimate_ipw = model.estimate_effect(identified_estimand,\n",
    "                                            method_name=\"backdoor.propensity_score_weighting\",\n",
    "                                            target_units = \"ate\",\n",
    "                                            method_params={\"weighting_scheme\":\"ips_weight\"})\n",
    "print(causal_estimate_ipw)\n",
    "print(\"Causal Estimate is \" + str(causal_estimate_ipw.value))"
   ]
  },
  {
   "cell_type": "markdown",
   "metadata": {},
   "source": [
    "## Method 6: Instrumental Variable\n",
    "\n",
    "We will be using the Wald estimator for the provided instrumental variable."
   ]
  },
  {
   "cell_type": "code",
   "execution_count": 25,
   "metadata": {
    "scrolled": true
   },
   "outputs": [
    {
     "name": "stdout",
     "output_type": "stream",
     "text": [
      "*** Causal Estimate ***\n",
      "\n",
      "## Identified estimand\n",
      "Estimand type: EstimandType.NONPARAMETRIC_ATE\n",
      "\n",
      "### Estimand : 1\n",
      "Estimand name: iv\n",
      "Estimand expression:\n",
      " ⎡                              -1⎤\n",
      " ⎢    d        ⎛    d          ⎞  ⎥\n",
      "E⎢─────────(y)⋅⎜─────────([v₀])⎟  ⎥\n",
      " ⎣d[Z₁  Z₀]    ⎝d[Z₁  Z₀]      ⎠  ⎦\n",
      "Estimand assumption 1, As-if-random: If U→→y then ¬(U →→{Z1,Z0})\n",
      "Estimand assumption 2, Exclusion: If we remove {Z1,Z0}→{v0}, then ¬({Z1,Z0}→y)\n",
      "\n",
      "## Realized estimand\n",
      "Realized estimand: Wald Estimator\n",
      "Realized estimand type: EstimandType.NONPARAMETRIC_ATE\n",
      "Estimand expression:\n",
      " ⎡ d    ⎤  -1⎡ d     ⎤\n",
      "E⎢───(y)⎥⋅E  ⎢───(v₀)⎥\n",
      " ⎣dZ₀   ⎦    ⎣dZ₀    ⎦\n",
      "Estimand assumption 1, As-if-random: If U→→y then ¬(U →→{Z1,Z0})\n",
      "Estimand assumption 2, Exclusion: If we remove {Z1,Z0}→{v0}, then ¬({Z1,Z0}→y)\n",
      "Estimand assumption 3, treatment_effect_homogeneity: Each unit's treatment ['v0'] is affected in the same way by common causes of ['v0'] and ['y']\n",
      "Estimand assumption 4, outcome_effect_homogeneity: Each unit's outcome ['y'] is affected in the same way by common causes of ['v0'] and ['y']\n",
      "\n",
      "Target units: ate\n",
      "\n",
      "## Estimate\n",
      "Mean value: 10.17569424143378\n",
      "\n",
      "Causal Estimate is 10.17569424143378\n"
     ]
    }
   ],
   "source": [
    "causal_estimate_iv = model.estimate_effect(identified_estimand,\n",
    "        method_name=\"iv.instrumental_variable\", method_params = {'iv_instrument_name': 'Z0'})\n",
    "print(causal_estimate_iv)\n",
    "print(\"Causal Estimate is \" + str(causal_estimate_iv.value))"
   ]
  },
  {
   "cell_type": "markdown",
   "metadata": {},
   "source": [
    "## Method 7: Regression Discontinuity\n",
    "\n",
    "We will be internally converting this to an equivalent instrumental variables problem."
   ]
  },
  {
   "cell_type": "code",
   "execution_count": 27,
   "metadata": {},
   "outputs": [
    {
     "name": "stdout",
     "output_type": "stream",
     "text": [
      "*** Causal Estimate ***\n",
      "\n",
      "## Identified estimand\n",
      "Estimand type: EstimandType.NONPARAMETRIC_ATE\n",
      "\n",
      "### Estimand : 1\n",
      "Estimand name: iv\n",
      "Estimand expression:\n",
      " ⎡                              -1⎤\n",
      " ⎢    d        ⎛    d          ⎞  ⎥\n",
      "E⎢─────────(y)⋅⎜─────────([v₀])⎟  ⎥\n",
      " ⎣d[Z₁  Z₀]    ⎝d[Z₁  Z₀]      ⎠  ⎦\n",
      "Estimand assumption 1, As-if-random: If U→→y then ¬(U →→{Z1,Z0})\n",
      "Estimand assumption 2, Exclusion: If we remove {Z1,Z0}→{v0}, then ¬({Z1,Z0}→y)\n",
      "\n",
      "## Realized estimand\n",
      "Realized estimand: Wald Estimator\n",
      "Realized estimand type: EstimandType.NONPARAMETRIC_ATE\n",
      "Estimand expression:\n",
      " ⎡        d            ⎤  -1⎡        d             ⎤\n",
      "E⎢──────────────────(y)⎥⋅E  ⎢──────────────────(v₀)⎥\n",
      " ⎣dlocal_rd_variable   ⎦    ⎣dlocal_rd_variable    ⎦\n",
      "Estimand assumption 1, As-if-random: If U→→y then ¬(U →→{Z1,Z0})\n",
      "Estimand assumption 2, Exclusion: If we remove {Z1,Z0}→{v0}, then ¬({Z1,Z0}→y)\n",
      "Estimand assumption 3, treatment_effect_homogeneity: Each unit's treatment ['v0'] is affected in the same way by common causes of ['v0'] and ['y']\n",
      "Estimand assumption 4, outcome_effect_homogeneity: Each unit's outcome ['y'] is affected in the same way by common causes of ['v0'] and ['y']\n",
      "\n",
      "Target units: ate\n",
      "\n",
      "## Estimate\n",
      "Mean value: 14.932177387020745\n",
      "\n",
      "Causal Estimate is 14.932177387020745\n"
     ]
    }
   ],
   "source": [
    "causal_estimate_regdist = model.estimate_effect(identified_estimand,\n",
    "        method_name=\"iv.regression_discontinuity\", \n",
    "        method_params={'rd_variable_name':'Z1',\n",
    "                       'rd_threshold_value':0.5,\n",
    "                       'rd_bandwidth': 0.15})\n",
    "print(causal_estimate_regdist)\n",
    "print(\"Causal Estimate is \" + str(causal_estimate_regdist.value))"
   ]
  },
  {
   "cell_type": "markdown",
   "metadata": {},
   "source": [
    "## Method 8: Doubly Robust Estimator\n",
    "\n",
    "Combines a regression estimator and a propensity score estimator to give back a doubly robust estimate."
   ]
  },
  {
   "cell_type": "code",
   "execution_count": 29,
   "metadata": {},
   "outputs": [
    {
     "name": "stdout",
     "output_type": "stream",
     "text": [
      "*** Causal Estimate ***\n",
      "\n",
      "## Identified estimand\n",
      "Estimand type: EstimandType.NONPARAMETRIC_ATE\n",
      "\n",
      "### Estimand : 1\n",
      "Estimand name: backdoor\n",
      "Estimand expression:\n",
      "  d                       \n",
      "─────(E[y|W3,W0,W1,W4,W2])\n",
      "d[v₀]                     \n",
      "Estimand assumption 1, Unconfoundedness: If U→{v0} and U→y then P(y|v0,W3,W0,W1,W4,W2,U) = P(y|v0,W3,W0,W1,W4,W2)\n",
      "\n",
      "## Realized estimand\n",
      "b: y~v0+W3+W0+W1+W4+W2\n",
      "Target units: ate\n",
      "\n",
      "## Estimate\n",
      "Mean value: 10.000031320681353\n",
      "\n",
      "Causal Estimate is 10.000031320681353\n"
     ]
    }
   ],
   "source": [
    "causal_estimate_doubly_robust = model.estimate_effect(identified_estimand,\n",
    "        method_name=\"backdoor.doubly_robust\",\n",
    "        method_params={'propensity_score_model_kwargs':{'propensity_score_column':'propensity_score_dr'}}\n",
    "    )\n",
    "print(causal_estimate_doubly_robust)\n",
    "print(\"Causal Estimate is \" + str(causal_estimate_doubly_robust.value))"
   ]
  },
  {
   "cell_type": "code",
   "execution_count": null,
   "metadata": {},
   "outputs": [],
   "source": []
  }
 ],
 "metadata": {
  "kernelspec": {
   "display_name": "Python 3 (ipykernel)",
   "language": "python",
   "name": "python3"
  },
  "language_info": {
   "codemirror_mode": {
    "name": "ipython",
    "version": 3
   },
   "file_extension": ".py",
   "mimetype": "text/x-python",
   "name": "python",
   "nbconvert_exporter": "python",
   "pygments_lexer": "ipython3",
   "version": "3.11.7"
  },
  "toc": {
   "base_numbering": 1,
   "nav_menu": {},
   "number_sections": false,
   "sideBar": true,
   "skip_h1_title": true,
   "title_cell": "Table of Contents",
   "title_sidebar": "Contents",
   "toc_cell": false,
   "toc_position": {},
   "toc_section_display": true,
   "toc_window_display": false
  }
 },
 "nbformat": 4,
 "nbformat_minor": 4
}
