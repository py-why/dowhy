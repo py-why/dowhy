{
 "cells": [
  {
   "cell_type": "markdown",
   "metadata": {},
   "source": [
    "# DoWhy: Different estimation methods for causal inference\n",
    "This is a quick introduction to the DoWhy causal inference library.\n",
    "We will load in a sample dataset and use different methods for estimating the causal effect of a (pre-specified)treatment variable on a (pre-specified) outcome variable.\n",
    "\n",
    "We will see that not all estimators return the correct effect for this dataset.\n",
    "\n",
    "First, let us add the required path for Python to find the DoWhy code and load all required packages"
   ]
  },
  {
   "cell_type": "code",
   "execution_count": 1,
   "metadata": {
    "execution": {
     "iopub.execute_input": "2025-08-08T19:56:29.079174Z",
     "iopub.status.busy": "2025-08-08T19:56:29.078980Z",
     "iopub.status.idle": "2025-08-08T19:56:29.096061Z",
     "shell.execute_reply": "2025-08-08T19:56:29.095399Z"
    }
   },
   "outputs": [],
   "source": [
    "%load_ext autoreload\n",
    "%autoreload 2"
   ]
  },
  {
   "cell_type": "code",
   "execution_count": 2,
   "metadata": {
    "execution": {
     "iopub.execute_input": "2025-08-08T19:56:29.098398Z",
     "iopub.status.busy": "2025-08-08T19:56:29.097981Z",
     "iopub.status.idle": "2025-08-08T19:56:30.891226Z",
     "shell.execute_reply": "2025-08-08T19:56:30.890544Z"
    }
   },
   "outputs": [],
   "source": [
    "import numpy as np\n",
    "import pandas as pd\n",
    "import logging\n",
    "\n",
    "import dowhy\n",
    "from dowhy import CausalModel\n",
    "import dowhy.datasets "
   ]
  },
  {
   "cell_type": "markdown",
   "metadata": {},
   "source": [
    "Now, let us load a dataset. For simplicity, we simulate a dataset with linear relationships between common causes and treatment, and common causes and outcome. \n",
    "\n",
    "Beta is the true causal effect. "
   ]
  },
  {
   "cell_type": "code",
   "execution_count": 3,
   "metadata": {
    "execution": {
     "iopub.execute_input": "2025-08-08T19:56:30.894071Z",
     "iopub.status.busy": "2025-08-08T19:56:30.893511Z",
     "iopub.status.idle": "2025-08-08T19:56:31.131661Z",
     "shell.execute_reply": "2025-08-08T19:56:31.131096Z"
    }
   },
   "outputs": [
    {
     "data": {
      "text/html": [
       "<div>\n",
       "<style scoped>\n",
       "    .dataframe tbody tr th:only-of-type {\n",
       "        vertical-align: middle;\n",
       "    }\n",
       "\n",
       "    .dataframe tbody tr th {\n",
       "        vertical-align: top;\n",
       "    }\n",
       "\n",
       "    .dataframe thead th {\n",
       "        text-align: right;\n",
       "    }\n",
       "</style>\n",
       "<table border=\"1\" class=\"dataframe\">\n",
       "  <thead>\n",
       "    <tr style=\"text-align: right;\">\n",
       "      <th></th>\n",
       "      <th>Z0</th>\n",
       "      <th>Z1</th>\n",
       "      <th>W0</th>\n",
       "      <th>W1</th>\n",
       "      <th>W2</th>\n",
       "      <th>W3</th>\n",
       "      <th>W4</th>\n",
       "      <th>v0</th>\n",
       "      <th>y</th>\n",
       "    </tr>\n",
       "  </thead>\n",
       "  <tbody>\n",
       "    <tr>\n",
       "      <th>0</th>\n",
       "      <td>1.0</td>\n",
       "      <td>0.123348</td>\n",
       "      <td>1.653586</td>\n",
       "      <td>-0.525550</td>\n",
       "      <td>-0.038131</td>\n",
       "      <td>0.470161</td>\n",
       "      <td>-0.760142</td>\n",
       "      <td>False</td>\n",
       "      <td>3.548089</td>\n",
       "    </tr>\n",
       "    <tr>\n",
       "      <th>1</th>\n",
       "      <td>0.0</td>\n",
       "      <td>0.168282</td>\n",
       "      <td>1.032901</td>\n",
       "      <td>-2.170387</td>\n",
       "      <td>-0.204605</td>\n",
       "      <td>-0.574760</td>\n",
       "      <td>-0.733668</td>\n",
       "      <td>False</td>\n",
       "      <td>-6.612028</td>\n",
       "    </tr>\n",
       "    <tr>\n",
       "      <th>2</th>\n",
       "      <td>1.0</td>\n",
       "      <td>0.352744</td>\n",
       "      <td>0.117281</td>\n",
       "      <td>1.150514</td>\n",
       "      <td>-1.423508</td>\n",
       "      <td>-1.981921</td>\n",
       "      <td>-0.170070</td>\n",
       "      <td>False</td>\n",
       "      <td>-6.393734</td>\n",
       "    </tr>\n",
       "    <tr>\n",
       "      <th>3</th>\n",
       "      <td>1.0</td>\n",
       "      <td>0.855878</td>\n",
       "      <td>-1.454249</td>\n",
       "      <td>-0.790602</td>\n",
       "      <td>0.227430</td>\n",
       "      <td>-1.247391</td>\n",
       "      <td>-0.020429</td>\n",
       "      <td>True</td>\n",
       "      <td>-0.889069</td>\n",
       "    </tr>\n",
       "    <tr>\n",
       "      <th>4</th>\n",
       "      <td>1.0</td>\n",
       "      <td>0.671380</td>\n",
       "      <td>-0.424204</td>\n",
       "      <td>0.520210</td>\n",
       "      <td>0.681261</td>\n",
       "      <td>-0.886718</td>\n",
       "      <td>0.523009</td>\n",
       "      <td>True</td>\n",
       "      <td>12.379908</td>\n",
       "    </tr>\n",
       "    <tr>\n",
       "      <th>...</th>\n",
       "      <td>...</td>\n",
       "      <td>...</td>\n",
       "      <td>...</td>\n",
       "      <td>...</td>\n",
       "      <td>...</td>\n",
       "      <td>...</td>\n",
       "      <td>...</td>\n",
       "      <td>...</td>\n",
       "      <td>...</td>\n",
       "    </tr>\n",
       "    <tr>\n",
       "      <th>9995</th>\n",
       "      <td>1.0</td>\n",
       "      <td>0.431815</td>\n",
       "      <td>0.135635</td>\n",
       "      <td>-0.033951</td>\n",
       "      <td>0.701220</td>\n",
       "      <td>0.143498</td>\n",
       "      <td>-1.430698</td>\n",
       "      <td>True</td>\n",
       "      <td>6.778781</td>\n",
       "    </tr>\n",
       "    <tr>\n",
       "      <th>9996</th>\n",
       "      <td>1.0</td>\n",
       "      <td>0.476320</td>\n",
       "      <td>-0.099508</td>\n",
       "      <td>0.271561</td>\n",
       "      <td>-0.141042</td>\n",
       "      <td>-0.883375</td>\n",
       "      <td>-1.109160</td>\n",
       "      <td>True</td>\n",
       "      <td>2.828651</td>\n",
       "    </tr>\n",
       "    <tr>\n",
       "      <th>9997</th>\n",
       "      <td>0.0</td>\n",
       "      <td>0.570132</td>\n",
       "      <td>-1.903315</td>\n",
       "      <td>-1.692048</td>\n",
       "      <td>-0.540029</td>\n",
       "      <td>1.602781</td>\n",
       "      <td>0.248422</td>\n",
       "      <td>True</td>\n",
       "      <td>-0.728166</td>\n",
       "    </tr>\n",
       "    <tr>\n",
       "      <th>9998</th>\n",
       "      <td>1.0</td>\n",
       "      <td>0.637596</td>\n",
       "      <td>2.404926</td>\n",
       "      <td>1.135312</td>\n",
       "      <td>1.288889</td>\n",
       "      <td>-1.318874</td>\n",
       "      <td>-0.317503</td>\n",
       "      <td>True</td>\n",
       "      <td>24.431097</td>\n",
       "    </tr>\n",
       "    <tr>\n",
       "      <th>9999</th>\n",
       "      <td>1.0</td>\n",
       "      <td>0.414033</td>\n",
       "      <td>0.228034</td>\n",
       "      <td>-0.424940</td>\n",
       "      <td>-0.764367</td>\n",
       "      <td>0.578254</td>\n",
       "      <td>0.191054</td>\n",
       "      <td>True</td>\n",
       "      <td>9.328874</td>\n",
       "    </tr>\n",
       "  </tbody>\n",
       "</table>\n",
       "<p>10000 rows × 9 columns</p>\n",
       "</div>"
      ],
      "text/plain": [
       "       Z0        Z1        W0        W1        W2        W3        W4     v0  \\\n",
       "0     1.0  0.123348  1.653586 -0.525550 -0.038131  0.470161 -0.760142  False   \n",
       "1     0.0  0.168282  1.032901 -2.170387 -0.204605 -0.574760 -0.733668  False   \n",
       "2     1.0  0.352744  0.117281  1.150514 -1.423508 -1.981921 -0.170070  False   \n",
       "3     1.0  0.855878 -1.454249 -0.790602  0.227430 -1.247391 -0.020429   True   \n",
       "4     1.0  0.671380 -0.424204  0.520210  0.681261 -0.886718  0.523009   True   \n",
       "...   ...       ...       ...       ...       ...       ...       ...    ...   \n",
       "9995  1.0  0.431815  0.135635 -0.033951  0.701220  0.143498 -1.430698   True   \n",
       "9996  1.0  0.476320 -0.099508  0.271561 -0.141042 -0.883375 -1.109160   True   \n",
       "9997  0.0  0.570132 -1.903315 -1.692048 -0.540029  1.602781  0.248422   True   \n",
       "9998  1.0  0.637596  2.404926  1.135312  1.288889 -1.318874 -0.317503   True   \n",
       "9999  1.0  0.414033  0.228034 -0.424940 -0.764367  0.578254  0.191054   True   \n",
       "\n",
       "              y  \n",
       "0      3.548089  \n",
       "1     -6.612028  \n",
       "2     -6.393734  \n",
       "3     -0.889069  \n",
       "4     12.379908  \n",
       "...         ...  \n",
       "9995   6.778781  \n",
       "9996   2.828651  \n",
       "9997  -0.728166  \n",
       "9998  24.431097  \n",
       "9999   9.328874  \n",
       "\n",
       "[10000 rows x 9 columns]"
      ]
     },
     "execution_count": 3,
     "metadata": {},
     "output_type": "execute_result"
    }
   ],
   "source": [
    "data = dowhy.datasets.linear_dataset(beta=10,\n",
    "        num_common_causes=5, \n",
    "        num_instruments = 2,\n",
    "        num_treatments=1,\n",
    "        num_samples=10000,\n",
    "        treatment_is_binary=True,\n",
    "        outcome_is_binary=False,\n",
    "        stddev_treatment_noise=10)\n",
    "df = data[\"df\"]\n",
    "df"
   ]
  },
  {
   "cell_type": "markdown",
   "metadata": {},
   "source": [
    "Note that we are using a pandas dataframe to load the data."
   ]
  },
  {
   "cell_type": "markdown",
   "metadata": {},
   "source": [
    "## Identifying the causal estimand"
   ]
  },
  {
   "cell_type": "markdown",
   "metadata": {},
   "source": [
    "We now input a causal graph in the DOT graph format."
   ]
  },
  {
   "cell_type": "code",
   "execution_count": 4,
   "metadata": {
    "execution": {
     "iopub.execute_input": "2025-08-08T19:56:31.133685Z",
     "iopub.status.busy": "2025-08-08T19:56:31.133497Z",
     "iopub.status.idle": "2025-08-08T19:56:31.162567Z",
     "shell.execute_reply": "2025-08-08T19:56:31.162001Z"
    }
   },
   "outputs": [],
   "source": [
    "# With graph\n",
    "model=CausalModel(\n",
    "        data = df,\n",
    "        treatment=data[\"treatment_name\"],\n",
    "        outcome=data[\"outcome_name\"],\n",
    "        graph=data[\"gml_graph\"],\n",
    "        instruments=data[\"instrument_names\"]\n",
    "        )"
   ]
  },
  {
   "cell_type": "code",
   "execution_count": 5,
   "metadata": {
    "execution": {
     "iopub.execute_input": "2025-08-08T19:56:31.164670Z",
     "iopub.status.busy": "2025-08-08T19:56:31.164292Z",
     "iopub.status.idle": "2025-08-08T19:56:31.320338Z",
     "shell.execute_reply": "2025-08-08T19:56:31.319739Z"
    }
   },
   "outputs": [
    {
     "data": {
      "image/png": "[encoded data removed]",
      "text/plain": [
       "<Figure size 800x600 with 1 Axes>"
      ]
     },
     "metadata": {},
     "output_type": "display_data"
    }
   ],
   "source": [
    "model.view_model()"
   ]
  },
  {
   "cell_type": "code",
   "execution_count": 6,
   "metadata": {
    "execution": {
     "iopub.execute_input": "2025-08-08T19:56:31.322544Z",
     "iopub.status.busy": "2025-08-08T19:56:31.322135Z",
     "iopub.status.idle": "2025-08-08T19:56:31.350621Z",
     "shell.execute_reply": "2025-08-08T19:56:31.350099Z"
    }
   },
   "outputs": [
    {
     "data": {
      "image/png": "[encoded data removed]",
      "text/plain": [
       "<IPython.core.display.Image object>"
      ]
     },
     "metadata": {},
     "output_type": "display_data"
    }
   ],
   "source": [
    "from IPython.display import Image, display\n",
    "display(Image(filename=\"causal_model.png\"))"
   ]
  },
  {
   "cell_type": "markdown",
   "metadata": {},
   "source": [
    "We get a causal graph. Now identification and estimation is done. "
   ]
  },
  {
   "cell_type": "code",
   "execution_count": 7,
   "metadata": {
    "execution": {
     "iopub.execute_input": "2025-08-08T19:56:31.352676Z",
     "iopub.status.busy": "2025-08-08T19:56:31.352288Z",
     "iopub.status.idle": "2025-08-08T19:56:31.533721Z",
     "shell.execute_reply": "2025-08-08T19:56:31.533083Z"
    }
   },
   "outputs": [
    {
     "name": "stdout",
     "output_type": "stream",
     "text": [
      "Estimand type: EstimandType.NONPARAMETRIC_ATE\n",
      "\n",
      "### Estimand : 1\n",
      "Estimand name: backdoor\n",
      "Estimand expression:\n",
      "  d                       \n",
      "─────(E[y|W3,W0,W1,W2,W4])\n",
      "d[v₀]                     \n",
      "Estimand assumption 1, Unconfoundedness: If U→{v0} and U→y then P(y|v0,W3,W0,W1,W2,W4,U) = P(y|v0,W3,W0,W1,W2,W4)\n",
      "\n",
      "### Estimand : 2\n",
      "Estimand name: iv\n",
      "Estimand expression:\n",
      " ⎡                              -1⎤\n",
      " ⎢    d        ⎛    d          ⎞  ⎥\n",
      "E⎢─────────(y)⋅⎜─────────([v₀])⎟  ⎥\n",
      " ⎣d[Z₁  Z₀]    ⎝d[Z₁  Z₀]      ⎠  ⎦\n",
      "Estimand assumption 1, As-if-random: If U→→y then ¬(U →→{Z1,Z0})\n",
      "Estimand assumption 2, Exclusion: If we remove {Z1,Z0}→{v0}, then ¬({Z1,Z0}→y)\n",
      "\n",
      "### Estimand : 3\n",
      "Estimand name: frontdoor\n",
      "No such variable(s) found!\n",
      "\n"
     ]
    }
   ],
   "source": [
    "identified_estimand = model.identify_effect(proceed_when_unidentifiable=True)\n",
    "print(identified_estimand)"
   ]
  },
  {
   "cell_type": "markdown",
   "metadata": {},
   "source": [
    "## Method 1: Regression\n",
    "\n",
    "Use linear regression."
   ]
  },
  {
   "cell_type": "code",
   "execution_count": 8,
   "metadata": {
    "execution": {
     "iopub.execute_input": "2025-08-08T19:56:31.536001Z",
     "iopub.status.busy": "2025-08-08T19:56:31.535596Z",
     "iopub.status.idle": "2025-08-08T19:56:31.583111Z",
     "shell.execute_reply": "2025-08-08T19:56:31.582476Z"
    }
   },
   "outputs": [
    {
     "name": "stdout",
     "output_type": "stream",
     "text": [
      "*** Causal Estimate ***\n",
      "\n",
      "## Identified estimand\n",
      "Estimand type: EstimandType.NONPARAMETRIC_ATE\n",
      "\n",
      "### Estimand : 1\n",
      "Estimand name: backdoor\n",
      "Estimand expression:\n",
      "  d                       \n",
      "─────(E[y|W3,W0,W1,W2,W4])\n",
      "d[v₀]                     \n",
      "Estimand assumption 1, Unconfoundedness: If U→{v0} and U→y then P(y|v0,W3,W0,W1,W2,W4,U) = P(y|v0,W3,W0,W1,W2,W4)\n",
      "\n",
      "## Realized estimand\n",
      "b: y~v0+W3+W0+W1+W2+W4\n",
      "Target units: ate\n",
      "\n",
      "## Estimate\n",
      "Mean value: 9.999997348239512\n",
      "p-value: [0.]\n",
      "\n",
      "Causal Estimate is 9.999997348239512\n"
     ]
    },
    {
     "name": "stderr",
     "output_type": "stream",
     "text": [
      "/home/runner/work/dowhy/dowhy/dowhy/causal_estimators/regression_estimator.py:131: FutureWarning: Series.__getitem__ treating keys as positions is deprecated. In a future version, integer keys will always be treated as labels (consistent with DataFrame behavior). To access a value by position, use `ser.iloc[pos]`\n",
      "  intercept_parameter = self.model.params[0]\n"
     ]
    }
   ],
   "source": [
    "causal_estimate_reg = model.estimate_effect(identified_estimand,\n",
    "        method_name=\"backdoor.linear_regression\",\n",
    "        test_significance=True)\n",
    "print(causal_estimate_reg)\n",
    "print(\"Causal Estimate is \" + str(causal_estimate_reg.value))"
   ]
  },
  {
   "cell_type": "markdown",
   "metadata": {},
   "source": [
    "## Method 2: Distance Matching\n",
    "\n",
    "Define a distance metric and then use the metric to match closest points between treatment and control."
   ]
  },
  {
   "cell_type": "code",
   "execution_count": 9,
   "metadata": {
    "execution": {
     "iopub.execute_input": "2025-08-08T19:56:31.586395Z",
     "iopub.status.busy": "2025-08-08T19:56:31.585260Z",
     "iopub.status.idle": "2025-08-08T19:56:34.086696Z",
     "shell.execute_reply": "2025-08-08T19:56:34.086105Z"
    }
   },
   "outputs": [
    {
     "name": "stdout",
     "output_type": "stream",
     "text": [
      "*** Causal Estimate ***\n",
      "\n",
      "## Identified estimand\n",
      "Estimand type: EstimandType.NONPARAMETRIC_ATE\n",
      "\n",
      "### Estimand : 1\n",
      "Estimand name: backdoor\n",
      "Estimand expression:\n",
      "  d                       \n",
      "─────(E[y|W3,W0,W1,W2,W4])\n",
      "d[v₀]                     \n",
      "Estimand assumption 1, Unconfoundedness: If U→{v0} and U→y then P(y|v0,W3,W0,W1,W2,W4,U) = P(y|v0,W3,W0,W1,W2,W4)\n",
      "\n",
      "## Realized estimand\n",
      "b: y~v0+W3+W0+W1+W2+W4\n",
      "Target units: att\n",
      "\n",
      "## Estimate\n",
      "Mean value: 10.48772343612147\n",
      "\n",
      "Causal Estimate is 10.48772343612147\n"
     ]
    }
   ],
   "source": [
    "causal_estimate_dmatch = model.estimate_effect(identified_estimand,\n",
    "                                              method_name=\"backdoor.distance_matching\",\n",
    "                                              target_units=\"att\",\n",
    "                                              method_params={'distance_metric':\"minkowski\", 'p':2})\n",
    "print(causal_estimate_dmatch)\n",
    "print(\"Causal Estimate is \" + str(causal_estimate_dmatch.value))"
   ]
  },
  {
   "cell_type": "markdown",
   "metadata": {},
   "source": [
    "## Method 3: Propensity Score Stratification\n",
    "\n",
    "We will be using propensity scores to stratify units in the data."
   ]
  },
  {
   "cell_type": "code",
   "execution_count": 10,
   "metadata": {
    "execution": {
     "iopub.execute_input": "2025-08-08T19:56:34.088958Z",
     "iopub.status.busy": "2025-08-08T19:56:34.088631Z",
     "iopub.status.idle": "2025-08-08T19:56:34.734799Z",
     "shell.execute_reply": "2025-08-08T19:56:34.734102Z"
    }
   },
   "outputs": [
    {
     "name": "stdout",
     "output_type": "stream",
     "text": [
      "*** Causal Estimate ***\n",
      "\n",
      "## Identified estimand\n",
      "Estimand type: EstimandType.NONPARAMETRIC_ATE\n",
      "\n",
      "### Estimand : 1\n",
      "Estimand name: backdoor\n",
      "Estimand expression:\n",
      "  d                       \n",
      "─────(E[y|W3,W0,W1,W2,W4])\n",
      "d[v₀]                     \n",
      "Estimand assumption 1, Unconfoundedness: If U→{v0} and U→y then P(y|v0,W3,W0,W1,W2,W4,U) = P(y|v0,W3,W0,W1,W2,W4)\n",
      "\n",
      "## Realized estimand\n",
      "b: y~v0+W3+W0+W1+W2+W4\n",
      "Target units: att\n",
      "\n",
      "## Estimate\n",
      "Mean value: 10.108693770484072\n",
      "\n",
      "Causal Estimate is 10.108693770484072\n"
     ]
    }
   ],
   "source": [
    "causal_estimate_strat = model.estimate_effect(identified_estimand,\n",
    "                                              method_name=\"backdoor.propensity_score_stratification\",\n",
    "                                              target_units=\"att\")\n",
    "print(causal_estimate_strat)\n",
    "print(\"Causal Estimate is \" + str(causal_estimate_strat.value))"
   ]
  },
  {
   "cell_type": "markdown",
   "metadata": {},
   "source": [
    "## Method 4: Propensity Score Matching\n",
    "\n",
    "We will be using propensity scores to match units in the data."
   ]
  },
  {
   "cell_type": "code",
   "execution_count": 11,
   "metadata": {
    "execution": {
     "iopub.execute_input": "2025-08-08T19:56:34.737080Z",
     "iopub.status.busy": "2025-08-08T19:56:34.736677Z",
     "iopub.status.idle": "2025-08-08T19:56:34.791525Z",
     "shell.execute_reply": "2025-08-08T19:56:34.790860Z"
    }
   },
   "outputs": [
    {
     "name": "stdout",
     "output_type": "stream",
     "text": [
      "*** Causal Estimate ***\n",
      "\n",
      "## Identified estimand\n",
      "Estimand type: EstimandType.NONPARAMETRIC_ATE\n",
      "\n",
      "### Estimand : 1\n",
      "Estimand name: backdoor\n",
      "Estimand expression:\n",
      "  d                       \n",
      "─────(E[y|W3,W0,W1,W2,W4])\n",
      "d[v₀]                     \n",
      "Estimand assumption 1, Unconfoundedness: If U→{v0} and U→y then P(y|v0,W3,W0,W1,W2,W4,U) = P(y|v0,W3,W0,W1,W2,W4)\n",
      "\n",
      "## Realized estimand\n",
      "b: y~v0+W3+W0+W1+W2+W4\n",
      "Target units: atc\n",
      "\n",
      "## Estimate\n",
      "Mean value: 9.98179780005938\n",
      "\n",
      "Causal Estimate is 9.98179780005938\n"
     ]
    }
   ],
   "source": [
    "causal_estimate_match = model.estimate_effect(identified_estimand,\n",
    "                                              method_name=\"backdoor.propensity_score_matching\",\n",
    "                                              target_units=\"atc\")\n",
    "print(causal_estimate_match)\n",
    "print(\"Causal Estimate is \" + str(causal_estimate_match.value))"
   ]
  },
  {
   "cell_type": "markdown",
   "metadata": {},
   "source": [
    "## Method 5: Weighting\n",
    "\n",
    "We will be using (inverse) propensity scores to assign weights to units in the data. DoWhy supports a few different weighting schemes:\n",
    "1. Vanilla Inverse Propensity Score weighting (IPS) (weighting_scheme=\"ips_weight\")\n",
    "2. Self-normalized IPS weighting (also known as the Hajek estimator) (weighting_scheme=\"ips_normalized_weight\")\n",
    "3. Stabilized IPS weighting (weighting_scheme = \"ips_stabilized_weight\")"
   ]
  },
  {
   "cell_type": "code",
   "execution_count": 12,
   "metadata": {
    "execution": {
     "iopub.execute_input": "2025-08-08T19:56:34.793513Z",
     "iopub.status.busy": "2025-08-08T19:56:34.793298Z",
     "iopub.status.idle": "2025-08-08T19:56:34.835706Z",
     "shell.execute_reply": "2025-08-08T19:56:34.835060Z"
    }
   },
   "outputs": [
    {
     "name": "stdout",
     "output_type": "stream",
     "text": [
      "*** Causal Estimate ***\n",
      "\n",
      "## Identified estimand\n",
      "Estimand type: EstimandType.NONPARAMETRIC_ATE\n",
      "\n",
      "### Estimand : 1\n",
      "Estimand name: backdoor\n",
      "Estimand expression:\n",
      "  d                       \n",
      "─────(E[y|W3,W0,W1,W2,W4])\n",
      "d[v₀]                     \n",
      "Estimand assumption 1, Unconfoundedness: If U→{v0} and U→y then P(y|v0,W3,W0,W1,W2,W4,U) = P(y|v0,W3,W0,W1,W2,W4)\n",
      "\n",
      "## Realized estimand\n",
      "b: y~v0+W3+W0+W1+W2+W4\n",
      "Target units: ate\n",
      "\n",
      "## Estimate\n",
      "Mean value: 10.187422956673645\n",
      "\n",
      "Causal Estimate is 10.187422956673645\n"
     ]
    }
   ],
   "source": [
    "causal_estimate_ipw = model.estimate_effect(identified_estimand,\n",
    "                                            method_name=\"backdoor.propensity_score_weighting\",\n",
    "                                            target_units = \"ate\",\n",
    "                                            method_params={\"weighting_scheme\":\"ips_weight\"})\n",
    "print(causal_estimate_ipw)\n",
    "print(\"Causal Estimate is \" + str(causal_estimate_ipw.value))"
   ]
  },
  {
   "cell_type": "markdown",
   "metadata": {},
   "source": [
    "## Method 6: Instrumental Variable\n",
    "\n",
    "We will be using the Wald estimator for the provided instrumental variable."
   ]
  },
  {
   "cell_type": "code",
   "execution_count": 13,
   "metadata": {
    "execution": {
     "iopub.execute_input": "2025-08-08T19:56:34.837914Z",
     "iopub.status.busy": "2025-08-08T19:56:34.837402Z",
     "iopub.status.idle": "2025-08-08T19:56:34.869431Z",
     "shell.execute_reply": "2025-08-08T19:56:34.868900Z"
    },
    "scrolled": true
   },
   "outputs": [
    {
     "name": "stdout",
     "output_type": "stream",
     "text": [
      "*** Causal Estimate ***\n",
      "\n",
      "## Identified estimand\n",
      "Estimand type: EstimandType.NONPARAMETRIC_ATE\n",
      "\n",
      "### Estimand : 1\n",
      "Estimand name: iv\n",
      "Estimand expression:\n",
      " ⎡                              -1⎤\n",
      " ⎢    d        ⎛    d          ⎞  ⎥\n",
      "E⎢─────────(y)⋅⎜─────────([v₀])⎟  ⎥\n",
      " ⎣d[Z₁  Z₀]    ⎝d[Z₁  Z₀]      ⎠  ⎦\n",
      "Estimand assumption 1, As-if-random: If U→→y then ¬(U →→{Z1,Z0})\n",
      "Estimand assumption 2, Exclusion: If we remove {Z1,Z0}→{v0}, then ¬({Z1,Z0}→y)\n",
      "\n",
      "## Realized estimand\n",
      "Realized estimand: Wald Estimator\n",
      "Realized estimand type: EstimandType.NONPARAMETRIC_ATE\n",
      "Estimand expression:\n",
      " ⎡ d    ⎤ \n",
      "E⎢───(y)⎥ \n",
      " ⎣dZ₀   ⎦ \n",
      "──────────\n",
      " ⎡ d     ⎤\n",
      "E⎢───(v₀)⎥\n",
      " ⎣dZ₀    ⎦\n",
      "Estimand assumption 1, As-if-random: If U→→y then ¬(U →→{Z1,Z0})\n",
      "Estimand assumption 2, Exclusion: If we remove {Z1,Z0}→{v0}, then ¬({Z1,Z0}→y)\n",
      "Estimand assumption 3, treatment_effect_homogeneity: Each unit's treatment ['v0'] is affected in the same way by common causes of ['v0'] and ['y']\n",
      "Estimand assumption 4, outcome_effect_homogeneity: Each unit's outcome ['y'] is affected in the same way by common causes of ['v0'] and ['y']\n",
      "\n",
      "Target units: ate\n",
      "\n",
      "## Estimate\n",
      "Mean value: 10.184011257425485\n",
      "\n",
      "Causal Estimate is 10.184011257425485\n"
     ]
    }
   ],
   "source": [
    "causal_estimate_iv = model.estimate_effect(identified_estimand,\n",
    "        method_name=\"iv.instrumental_variable\", method_params = {'iv_instrument_name': 'Z0'})\n",
    "print(causal_estimate_iv)\n",
    "print(\"Causal Estimate is \" + str(causal_estimate_iv.value))"
   ]
  },
  {
   "cell_type": "markdown",
   "metadata": {},
   "source": [
    "## Method 7: Regression Discontinuity\n",
    "\n",
    "We will be internally converting this to an equivalent instrumental variables problem."
   ]
  },
  {
   "cell_type": "code",
   "execution_count": 14,
   "metadata": {
    "execution": {
     "iopub.execute_input": "2025-08-08T19:56:34.871585Z",
     "iopub.status.busy": "2025-08-08T19:56:34.871124Z",
     "iopub.status.idle": "2025-08-08T19:56:34.902277Z",
     "shell.execute_reply": "2025-08-08T19:56:34.901679Z"
    }
   },
   "outputs": [
    {
     "name": "stdout",
     "output_type": "stream",
     "text": [
      "*** Causal Estimate ***\n",
      "\n",
      "## Identified estimand\n",
      "Estimand type: EstimandType.NONPARAMETRIC_ATE\n",
      "\n",
      "### Estimand : 1\n",
      "Estimand name: iv\n",
      "Estimand expression:\n",
      " ⎡                              -1⎤\n",
      " ⎢    d        ⎛    d          ⎞  ⎥\n",
      "E⎢─────────(y)⋅⎜─────────([v₀])⎟  ⎥\n",
      " ⎣d[Z₁  Z₀]    ⎝d[Z₁  Z₀]      ⎠  ⎦\n",
      "Estimand assumption 1, As-if-random: If U→→y then ¬(U →→{Z1,Z0})\n",
      "Estimand assumption 2, Exclusion: If we remove {Z1,Z0}→{v0}, then ¬({Z1,Z0}→y)\n",
      "\n",
      "## Realized estimand\n",
      "Realized estimand: Wald Estimator\n",
      "Realized estimand type: EstimandType.NONPARAMETRIC_ATE\n",
      "Estimand expression:\n",
      " ⎡        d            ⎤ \n",
      "E⎢──────────────────(y)⎥ \n",
      " ⎣dlocal_rd_variable   ⎦ \n",
      "─────────────────────────\n",
      " ⎡        d             ⎤\n",
      "E⎢──────────────────(v₀)⎥\n",
      " ⎣dlocal_rd_variable    ⎦\n",
      "Estimand assumption 1, As-if-random: If U→→y then ¬(U →→{Z1,Z0})\n",
      "Estimand assumption 2, Exclusion: If we remove {Z1,Z0}→{v0}, then ¬({Z1,Z0}→y)\n",
      "Estimand assumption 3, treatment_effect_homogeneity: Each unit's treatment ['v0'] is affected in the same way by common causes of ['v0'] and ['y']\n",
      "Estimand assumption 4, outcome_effect_homogeneity: Each unit's outcome ['y'] is affected in the same way by common causes of ['v0'] and ['y']\n",
      "\n",
      "Target units: ate\n",
      "\n",
      "## Estimate\n",
      "Mean value: 6.447683867565166\n",
      "\n",
      "Causal Estimate is 6.447683867565166\n"
     ]
    }
   ],
   "source": [
    "causal_estimate_regdist = model.estimate_effect(identified_estimand,\n",
    "        method_name=\"iv.regression_discontinuity\", \n",
    "        method_params={'rd_variable_name':'Z1',\n",
    "                       'rd_threshold_value':0.5,\n",
    "                       'rd_bandwidth': 0.15})\n",
    "print(causal_estimate_regdist)\n",
    "print(\"Causal Estimate is \" + str(causal_estimate_regdist.value))"
   ]
  }
 ],
 "metadata": {
  "kernelspec": {
   "display_name": "Python 3",
   "language": "python",
   "name": "python3"
  },
  "language_info": {
   "codemirror_mode": {
    "name": "ipython",
    "version": 3
   },
   "file_extension": ".py",
   "mimetype": "text/x-python",
   "name": "python",
   "nbconvert_exporter": "python",
   "pygments_lexer": "ipython3",
   "version": "3.9.23"
  },
  "toc": {
   "base_numbering": 1,
   "nav_menu": {},
   "number_sections": false,
   "sideBar": true,
   "skip_h1_title": true,
   "title_cell": "Table of Contents",
   "title_sidebar": "Contents",
   "toc_cell": false,
   "toc_position": {},
   "toc_section_display": true,
   "toc_window_display": false
  }
 },
 "nbformat": 4,
 "nbformat_minor": 4
}
