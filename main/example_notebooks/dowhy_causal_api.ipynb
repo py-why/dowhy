{
 "cells": [
  {
   "cell_type": "markdown",
   "metadata": {},
   "source": [
    "# Demo for the DoWhy causal API\n",
    "We show a simple example of adding a causal extension to any dataframe. "
   ]
  },
  {
   "cell_type": "code",
   "execution_count": 1,
   "metadata": {
    "execution": {
     "iopub.execute_input": "2025-03-19T15:19:07.956994Z",
     "iopub.status.busy": "2025-03-19T15:19:07.956785Z",
     "iopub.status.idle": "2025-03-19T15:19:09.570759Z",
     "shell.execute_reply": "2025-03-19T15:19:09.570022Z"
    }
   },
   "outputs": [],
   "source": [
    "import dowhy.datasets\n",
    "import dowhy.api\n",
    "from dowhy.graph import build_graph_from_str\n",
    "\n",
    "import numpy as np\n",
    "import pandas as pd\n",
    "\n",
    "from statsmodels.api import OLS"
   ]
  },
  {
   "cell_type": "code",
   "execution_count": 2,
   "metadata": {
    "execution": {
     "iopub.execute_input": "2025-03-19T15:19:09.573277Z",
     "iopub.status.busy": "2025-03-19T15:19:09.572922Z",
     "iopub.status.idle": "2025-03-19T15:19:09.612127Z",
     "shell.execute_reply": "2025-03-19T15:19:09.611484Z"
    }
   },
   "outputs": [
    {
     "data": {
      "text/html": [
       "<div>\n",
       "<style scoped>\n",
       "    .dataframe tbody tr th:only-of-type {\n",
       "        vertical-align: middle;\n",
       "    }\n",
       "\n",
       "    .dataframe tbody tr th {\n",
       "        vertical-align: top;\n",
       "    }\n",
       "\n",
       "    .dataframe thead th {\n",
       "        text-align: right;\n",
       "    }\n",
       "</style>\n",
       "<table border=\"1\" class=\"dataframe\">\n",
       "  <thead>\n",
       "    <tr style=\"text-align: right;\">\n",
       "      <th></th>\n",
       "      <th>W0</th>\n",
       "      <th>v0</th>\n",
       "      <th>y</th>\n",
       "    </tr>\n",
       "  </thead>\n",
       "  <tbody>\n",
       "    <tr>\n",
       "      <th>0</th>\n",
       "      <td>-0.350584</td>\n",
       "      <td>True</td>\n",
       "      <td>2.693066</td>\n",
       "    </tr>\n",
       "    <tr>\n",
       "      <th>1</th>\n",
       "      <td>2.343845</td>\n",
       "      <td>True</td>\n",
       "      <td>8.823433</td>\n",
       "    </tr>\n",
       "    <tr>\n",
       "      <th>2</th>\n",
       "      <td>-0.853574</td>\n",
       "      <td>False</td>\n",
       "      <td>-0.760625</td>\n",
       "    </tr>\n",
       "    <tr>\n",
       "      <th>3</th>\n",
       "      <td>-0.720307</td>\n",
       "      <td>True</td>\n",
       "      <td>0.992088</td>\n",
       "    </tr>\n",
       "    <tr>\n",
       "      <th>4</th>\n",
       "      <td>-1.767053</td>\n",
       "      <td>False</td>\n",
       "      <td>-3.543647</td>\n",
       "    </tr>\n",
       "    <tr>\n",
       "      <th>...</th>\n",
       "      <td>...</td>\n",
       "      <td>...</td>\n",
       "      <td>...</td>\n",
       "    </tr>\n",
       "    <tr>\n",
       "      <th>995</th>\n",
       "      <td>0.288447</td>\n",
       "      <td>True</td>\n",
       "      <td>2.620491</td>\n",
       "    </tr>\n",
       "    <tr>\n",
       "      <th>996</th>\n",
       "      <td>1.189487</td>\n",
       "      <td>False</td>\n",
       "      <td>1.842660</td>\n",
       "    </tr>\n",
       "    <tr>\n",
       "      <th>997</th>\n",
       "      <td>-1.345706</td>\n",
       "      <td>True</td>\n",
       "      <td>3.080546</td>\n",
       "    </tr>\n",
       "    <tr>\n",
       "      <th>998</th>\n",
       "      <td>-0.989674</td>\n",
       "      <td>True</td>\n",
       "      <td>4.430537</td>\n",
       "    </tr>\n",
       "    <tr>\n",
       "      <th>999</th>\n",
       "      <td>-2.001564</td>\n",
       "      <td>False</td>\n",
       "      <td>-5.360771</td>\n",
       "    </tr>\n",
       "  </tbody>\n",
       "</table>\n",
       "<p>1000 rows × 3 columns</p>\n",
       "</div>"
      ],
      "text/plain": [
       "           W0     v0         y\n",
       "0   -0.350584   True  2.693066\n",
       "1    2.343845   True  8.823433\n",
       "2   -0.853574  False -0.760625\n",
       "3   -0.720307   True  0.992088\n",
       "4   -1.767053  False -3.543647\n",
       "..        ...    ...       ...\n",
       "995  0.288447   True  2.620491\n",
       "996  1.189487  False  1.842660\n",
       "997 -1.345706   True  3.080546\n",
       "998 -0.989674   True  4.430537\n",
       "999 -2.001564  False -5.360771\n",
       "\n",
       "[1000 rows x 3 columns]"
      ]
     },
     "execution_count": 2,
     "metadata": {},
     "output_type": "execute_result"
    }
   ],
   "source": [
    "data = dowhy.datasets.linear_dataset(beta=5,\n",
    "        num_common_causes=1,\n",
    "        num_instruments = 0,\n",
    "        num_samples=1000,\n",
    "        treatment_is_binary=True)\n",
    "df = data['df']\n",
    "df['y'] = df['y'] + np.random.normal(size=len(df)) # Adding noise to data. Without noise, the variance in Y|X, Z is zero, and mcmc fails.\n",
    "nx_graph = build_graph_from_str(data[\"dot_graph\"])\n",
    "\n",
    "treatment= data[\"treatment_name\"][0]\n",
    "outcome = data[\"outcome_name\"][0]\n",
    "common_cause = data[\"common_causes_names\"][0]\n",
    "df"
   ]
  },
  {
   "cell_type": "code",
   "execution_count": 3,
   "metadata": {
    "execution": {
     "iopub.execute_input": "2025-03-19T15:19:09.614116Z",
     "iopub.status.busy": "2025-03-19T15:19:09.613920Z",
     "iopub.status.idle": "2025-03-19T15:19:09.777432Z",
     "shell.execute_reply": "2025-03-19T15:19:09.776605Z"
    },
    "scrolled": true
   },
   "outputs": [
    {
     "data": {
      "text/plain": [
       "<Axes: xlabel='v0'>"
      ]
     },
     "execution_count": 3,
     "metadata": {},
     "output_type": "execute_result"
    },
    {
     "data": {
      "image/png": "[encoded data removed]",
      "text/plain": [
       "<Figure size 640x480 with 1 Axes>"
      ]
     },
     "metadata": {},
     "output_type": "display_data"
    }
   ],
   "source": [
    "# data['df'] is just a regular pandas.DataFrame\n",
    "df.causal.do(x=treatment,\n",
    "             variable_types={treatment: 'b', outcome: 'c', common_cause: 'c'},\n",
    "             outcome=outcome,\n",
    "             common_causes=[common_cause],\n",
    "            ).groupby(treatment).mean().plot(y=outcome, kind='bar')"
   ]
  },
  {
   "cell_type": "code",
   "execution_count": 4,
   "metadata": {
    "execution": {
     "iopub.execute_input": "2025-03-19T15:19:09.779882Z",
     "iopub.status.busy": "2025-03-19T15:19:09.779638Z",
     "iopub.status.idle": "2025-03-19T15:19:09.904827Z",
     "shell.execute_reply": "2025-03-19T15:19:09.904026Z"
    }
   },
   "outputs": [
    {
     "data": {
      "text/plain": [
       "<Axes: xlabel='v0'>"
      ]
     },
     "execution_count": 4,
     "metadata": {},
     "output_type": "execute_result"
    },
    {
     "data": {
      "image/png": "[encoded data removed]",
      "text/plain": [
       "<Figure size 640x480 with 1 Axes>"
      ]
     },
     "metadata": {},
     "output_type": "display_data"
    }
   ],
   "source": [
    "df.causal.do(x={treatment: 1}, \n",
    "              variable_types={treatment:'b', outcome: 'c', common_cause: 'c'}, \n",
    "              outcome=outcome,\n",
    "              method='weighting', \n",
    "              common_causes=[common_cause]\n",
    "              ).groupby(treatment).mean().plot(y=outcome, kind='bar')"
   ]
  },
  {
   "cell_type": "code",
   "execution_count": 5,
   "metadata": {
    "execution": {
     "iopub.execute_input": "2025-03-19T15:19:09.907105Z",
     "iopub.status.busy": "2025-03-19T15:19:09.906876Z",
     "iopub.status.idle": "2025-03-19T15:19:09.930936Z",
     "shell.execute_reply": "2025-03-19T15:19:09.930206Z"
    }
   },
   "outputs": [],
   "source": [
    "cdf_1 = df.causal.do(x={treatment: 1}, \n",
    "              variable_types={treatment: 'b', outcome: 'c', common_cause: 'c'}, \n",
    "              outcome=outcome, \n",
    "              graph=nx_graph\n",
    "              )\n",
    "\n",
    "cdf_0 = df.causal.do(x={treatment: 0}, \n",
    "              variable_types={treatment: 'b', outcome: 'c', common_cause: 'c'}, \n",
    "              outcome=outcome, \n",
    "              graph=nx_graph\n",
    "              )\n"
   ]
  },
  {
   "cell_type": "code",
   "execution_count": 6,
   "metadata": {
    "execution": {
     "iopub.execute_input": "2025-03-19T15:19:09.933553Z",
     "iopub.status.busy": "2025-03-19T15:19:09.933116Z",
     "iopub.status.idle": "2025-03-19T15:19:09.943317Z",
     "shell.execute_reply": "2025-03-19T15:19:09.942649Z"
    },
    "scrolled": true
   },
   "outputs": [
    {
     "data": {
      "text/html": [
       "<div>\n",
       "<style scoped>\n",
       "    .dataframe tbody tr th:only-of-type {\n",
       "        vertical-align: middle;\n",
       "    }\n",
       "\n",
       "    .dataframe tbody tr th {\n",
       "        vertical-align: top;\n",
       "    }\n",
       "\n",
       "    .dataframe thead th {\n",
       "        text-align: right;\n",
       "    }\n",
       "</style>\n",
       "<table border=\"1\" class=\"dataframe\">\n",
       "  <thead>\n",
       "    <tr style=\"text-align: right;\">\n",
       "      <th></th>\n",
       "      <th>W0</th>\n",
       "      <th>v0</th>\n",
       "      <th>y</th>\n",
       "      <th>propensity_score</th>\n",
       "      <th>weight</th>\n",
       "    </tr>\n",
       "  </thead>\n",
       "  <tbody>\n",
       "    <tr>\n",
       "      <th>0</th>\n",
       "      <td>-1.799174</td>\n",
       "      <td>False</td>\n",
       "      <td>-3.835996</td>\n",
       "      <td>0.564483</td>\n",
       "      <td>1.771534</td>\n",
       "    </tr>\n",
       "    <tr>\n",
       "      <th>1</th>\n",
       "      <td>-3.050651</td>\n",
       "      <td>False</td>\n",
       "      <td>-4.819457</td>\n",
       "      <td>0.607009</td>\n",
       "      <td>1.647421</td>\n",
       "    </tr>\n",
       "    <tr>\n",
       "      <th>2</th>\n",
       "      <td>-1.641033</td>\n",
       "      <td>False</td>\n",
       "      <td>-3.679600</td>\n",
       "      <td>0.559027</td>\n",
       "      <td>1.788824</td>\n",
       "    </tr>\n",
       "    <tr>\n",
       "      <th>3</th>\n",
       "      <td>-1.049986</td>\n",
       "      <td>False</td>\n",
       "      <td>-1.169226</td>\n",
       "      <td>0.538519</td>\n",
       "      <td>1.856944</td>\n",
       "    </tr>\n",
       "    <tr>\n",
       "      <th>4</th>\n",
       "      <td>-1.574879</td>\n",
       "      <td>False</td>\n",
       "      <td>-1.591004</td>\n",
       "      <td>0.556740</td>\n",
       "      <td>1.796171</td>\n",
       "    </tr>\n",
       "    <tr>\n",
       "      <th>...</th>\n",
       "      <td>...</td>\n",
       "      <td>...</td>\n",
       "      <td>...</td>\n",
       "      <td>...</td>\n",
       "      <td>...</td>\n",
       "    </tr>\n",
       "    <tr>\n",
       "      <th>995</th>\n",
       "      <td>-0.424351</td>\n",
       "      <td>False</td>\n",
       "      <td>0.179638</td>\n",
       "      <td>0.516670</td>\n",
       "      <td>1.935471</td>\n",
       "    </tr>\n",
       "    <tr>\n",
       "      <th>996</th>\n",
       "      <td>-0.615770</td>\n",
       "      <td>False</td>\n",
       "      <td>-2.113757</td>\n",
       "      <td>0.523366</td>\n",
       "      <td>1.910710</td>\n",
       "    </tr>\n",
       "    <tr>\n",
       "      <th>997</th>\n",
       "      <td>-0.728079</td>\n",
       "      <td>False</td>\n",
       "      <td>-1.554656</td>\n",
       "      <td>0.527290</td>\n",
       "      <td>1.896488</td>\n",
       "    </tr>\n",
       "    <tr>\n",
       "      <th>998</th>\n",
       "      <td>0.183197</td>\n",
       "      <td>False</td>\n",
       "      <td>2.920524</td>\n",
       "      <td>0.495391</td>\n",
       "      <td>2.018608</td>\n",
       "    </tr>\n",
       "    <tr>\n",
       "      <th>999</th>\n",
       "      <td>0.222296</td>\n",
       "      <td>False</td>\n",
       "      <td>1.569353</td>\n",
       "      <td>0.494021</td>\n",
       "      <td>2.024205</td>\n",
       "    </tr>\n",
       "  </tbody>\n",
       "</table>\n",
       "<p>1000 rows × 5 columns</p>\n",
       "</div>"
      ],
      "text/plain": [
       "           W0     v0         y  propensity_score    weight\n",
       "0   -1.799174  False -3.835996          0.564483  1.771534\n",
       "1   -3.050651  False -4.819457          0.607009  1.647421\n",
       "2   -1.641033  False -3.679600          0.559027  1.788824\n",
       "3   -1.049986  False -1.169226          0.538519  1.856944\n",
       "4   -1.574879  False -1.591004          0.556740  1.796171\n",
       "..        ...    ...       ...               ...       ...\n",
       "995 -0.424351  False  0.179638          0.516670  1.935471\n",
       "996 -0.615770  False -2.113757          0.523366  1.910710\n",
       "997 -0.728079  False -1.554656          0.527290  1.896488\n",
       "998  0.183197  False  2.920524          0.495391  2.018608\n",
       "999  0.222296  False  1.569353          0.494021  2.024205\n",
       "\n",
       "[1000 rows x 5 columns]"
      ]
     },
     "execution_count": 6,
     "metadata": {},
     "output_type": "execute_result"
    }
   ],
   "source": [
    "cdf_0"
   ]
  },
  {
   "cell_type": "code",
   "execution_count": 7,
   "metadata": {
    "execution": {
     "iopub.execute_input": "2025-03-19T15:19:09.945224Z",
     "iopub.status.busy": "2025-03-19T15:19:09.944991Z",
     "iopub.status.idle": "2025-03-19T15:19:09.954599Z",
     "shell.execute_reply": "2025-03-19T15:19:09.953942Z"
    }
   },
   "outputs": [
    {
     "data": {
      "text/html": [
       "<div>\n",
       "<style scoped>\n",
       "    .dataframe tbody tr th:only-of-type {\n",
       "        vertical-align: middle;\n",
       "    }\n",
       "\n",
       "    .dataframe tbody tr th {\n",
       "        vertical-align: top;\n",
       "    }\n",
       "\n",
       "    .dataframe thead th {\n",
       "        text-align: right;\n",
       "    }\n",
       "</style>\n",
       "<table border=\"1\" class=\"dataframe\">\n",
       "  <thead>\n",
       "    <tr style=\"text-align: right;\">\n",
       "      <th></th>\n",
       "      <th>W0</th>\n",
       "      <th>v0</th>\n",
       "      <th>y</th>\n",
       "      <th>propensity_score</th>\n",
       "      <th>weight</th>\n",
       "    </tr>\n",
       "  </thead>\n",
       "  <tbody>\n",
       "    <tr>\n",
       "      <th>0</th>\n",
       "      <td>-0.309410</td>\n",
       "      <td>True</td>\n",
       "      <td>5.237502</td>\n",
       "      <td>0.487353</td>\n",
       "      <td>2.051899</td>\n",
       "    </tr>\n",
       "    <tr>\n",
       "      <th>1</th>\n",
       "      <td>-2.441848</td>\n",
       "      <td>True</td>\n",
       "      <td>1.075175</td>\n",
       "      <td>0.413518</td>\n",
       "      <td>2.418272</td>\n",
       "    </tr>\n",
       "    <tr>\n",
       "      <th>2</th>\n",
       "      <td>-0.076482</td>\n",
       "      <td>True</td>\n",
       "      <td>4.246861</td>\n",
       "      <td>0.495512</td>\n",
       "      <td>2.018116</td>\n",
       "    </tr>\n",
       "    <tr>\n",
       "      <th>3</th>\n",
       "      <td>-1.191165</td>\n",
       "      <td>True</td>\n",
       "      <td>2.585076</td>\n",
       "      <td>0.456568</td>\n",
       "      <td>2.190255</td>\n",
       "    </tr>\n",
       "    <tr>\n",
       "      <th>4</th>\n",
       "      <td>-0.321887</td>\n",
       "      <td>True</td>\n",
       "      <td>4.129084</td>\n",
       "      <td>0.486917</td>\n",
       "      <td>2.053740</td>\n",
       "    </tr>\n",
       "    <tr>\n",
       "      <th>...</th>\n",
       "      <td>...</td>\n",
       "      <td>...</td>\n",
       "      <td>...</td>\n",
       "      <td>...</td>\n",
       "      <td>...</td>\n",
       "    </tr>\n",
       "    <tr>\n",
       "      <th>995</th>\n",
       "      <td>0.256963</td>\n",
       "      <td>True</td>\n",
       "      <td>4.418986</td>\n",
       "      <td>0.507193</td>\n",
       "      <td>1.971635</td>\n",
       "    </tr>\n",
       "    <tr>\n",
       "      <th>996</th>\n",
       "      <td>-2.834070</td>\n",
       "      <td>True</td>\n",
       "      <td>-0.123419</td>\n",
       "      <td>0.400254</td>\n",
       "      <td>2.498412</td>\n",
       "    </tr>\n",
       "    <tr>\n",
       "      <th>997</th>\n",
       "      <td>0.866529</td>\n",
       "      <td>True</td>\n",
       "      <td>7.324587</td>\n",
       "      <td>0.528519</td>\n",
       "      <td>1.892079</td>\n",
       "    </tr>\n",
       "    <tr>\n",
       "      <th>998</th>\n",
       "      <td>-1.271193</td>\n",
       "      <td>True</td>\n",
       "      <td>1.413350</td>\n",
       "      <td>0.453787</td>\n",
       "      <td>2.203679</td>\n",
       "    </tr>\n",
       "    <tr>\n",
       "      <th>999</th>\n",
       "      <td>-1.498723</td>\n",
       "      <td>True</td>\n",
       "      <td>3.464655</td>\n",
       "      <td>0.445895</td>\n",
       "      <td>2.242678</td>\n",
       "    </tr>\n",
       "  </tbody>\n",
       "</table>\n",
       "<p>1000 rows × 5 columns</p>\n",
       "</div>"
      ],
      "text/plain": [
       "           W0    v0         y  propensity_score    weight\n",
       "0   -0.309410  True  5.237502          0.487353  2.051899\n",
       "1   -2.441848  True  1.075175          0.413518  2.418272\n",
       "2   -0.076482  True  4.246861          0.495512  2.018116\n",
       "3   -1.191165  True  2.585076          0.456568  2.190255\n",
       "4   -0.321887  True  4.129084          0.486917  2.053740\n",
       "..        ...   ...       ...               ...       ...\n",
       "995  0.256963  True  4.418986          0.507193  1.971635\n",
       "996 -2.834070  True -0.123419          0.400254  2.498412\n",
       "997  0.866529  True  7.324587          0.528519  1.892079\n",
       "998 -1.271193  True  1.413350          0.453787  2.203679\n",
       "999 -1.498723  True  3.464655          0.445895  2.242678\n",
       "\n",
       "[1000 rows x 5 columns]"
      ]
     },
     "execution_count": 7,
     "metadata": {},
     "output_type": "execute_result"
    }
   ],
   "source": [
    "cdf_1"
   ]
  },
  {
   "cell_type": "markdown",
   "metadata": {},
   "source": [
    "## Comparing the estimate to Linear Regression\n",
    "First, estimating the effect using the causal data frame, and the 95% confidence interval."
   ]
  },
  {
   "cell_type": "code",
   "execution_count": 8,
   "metadata": {
    "execution": {
     "iopub.execute_input": "2025-03-19T15:19:09.956566Z",
     "iopub.status.busy": "2025-03-19T15:19:09.956360Z",
     "iopub.status.idle": "2025-03-19T15:19:10.005642Z",
     "shell.execute_reply": "2025-03-19T15:19:10.004915Z"
    }
   },
   "outputs": [
    {
     "data": {
      "image/png": "[encoded data removed]",
      "text/latex": [
       "$\\displaystyle 4.86500119177374$"
      ],
      "text/plain": [
       "4.865001191773741"
      ]
     },
     "execution_count": 8,
     "metadata": {},
     "output_type": "execute_result"
    }
   ],
   "source": [
    "(cdf_1['y'] - cdf_0['y']).mean()"
   ]
  },
  {
   "cell_type": "code",
   "execution_count": 9,
   "metadata": {
    "execution": {
     "iopub.execute_input": "2025-03-19T15:19:10.007720Z",
     "iopub.status.busy": "2025-03-19T15:19:10.007498Z",
     "iopub.status.idle": "2025-03-19T15:19:10.025373Z",
     "shell.execute_reply": "2025-03-19T15:19:10.024742Z"
    }
   },
   "outputs": [
    {
     "data": {
      "image/png": "[encoded data removed]",
      "text/latex": [
       "$\\displaystyle 0.190519413611057$"
      ],
      "text/plain": [
       "0.19051941361105684"
      ]
     },
     "execution_count": 9,
     "metadata": {},
     "output_type": "execute_result"
    }
   ],
   "source": [
    "1.96*(cdf_1['y'] - cdf_0['y']).std() / np.sqrt(len(df))"
   ]
  },
  {
   "cell_type": "markdown",
   "metadata": {},
   "source": [
    "Comparing to the estimate from OLS."
   ]
  },
  {
   "cell_type": "code",
   "execution_count": 10,
   "metadata": {
    "execution": {
     "iopub.execute_input": "2025-03-19T15:19:10.027580Z",
     "iopub.status.busy": "2025-03-19T15:19:10.027176Z",
     "iopub.status.idle": "2025-03-19T15:19:10.046705Z",
     "shell.execute_reply": "2025-03-19T15:19:10.046009Z"
    }
   },
   "outputs": [
    {
     "data": {
      "text/html": [
       "<table class=\"simpletable\">\n",
       "<caption>OLS Regression Results</caption>\n",
       "<tr>\n",
       "  <th>Dep. Variable:</th>            <td>y</td>        <th>  R-squared (uncentered):</th>      <td>   0.916</td>\n",
       "</tr>\n",
       "<tr>\n",
       "  <th>Model:</th>                   <td>OLS</td>       <th>  Adj. R-squared (uncentered):</th> <td>   0.916</td>\n",
       "</tr>\n",
       "<tr>\n",
       "  <th>Method:</th>             <td>Least Squares</td>  <th>  F-statistic:       </th>          <td>   5470.</td>\n",
       "</tr>\n",
       "<tr>\n",
       "  <th>Date:</th>             <td>Wed, 19 Mar 2025</td> <th>  Prob (F-statistic):</th>           <td>  0.00</td> \n",
       "</tr>\n",
       "<tr>\n",
       "  <th>Time:</th>                 <td>15:19:10</td>     <th>  Log-Likelihood:    </th>          <td> -1442.5</td>\n",
       "</tr>\n",
       "<tr>\n",
       "  <th>No. Observations:</th>      <td>  1000</td>      <th>  AIC:               </th>          <td>   2889.</td>\n",
       "</tr>\n",
       "<tr>\n",
       "  <th>Df Residuals:</th>          <td>   998</td>      <th>  BIC:               </th>          <td>   2899.</td>\n",
       "</tr>\n",
       "<tr>\n",
       "  <th>Df Model:</th>              <td>     2</td>      <th>                     </th>              <td> </td>   \n",
       "</tr>\n",
       "<tr>\n",
       "  <th>Covariance Type:</th>      <td>nonrobust</td>    <th>                     </th>              <td> </td>   \n",
       "</tr>\n",
       "</table>\n",
       "<table class=\"simpletable\">\n",
       "<tr>\n",
       "   <td></td>     <th>coef</th>     <th>std err</th>      <th>t</th>      <th>P>|t|</th>  <th>[0.025</th>    <th>0.975]</th>  \n",
       "</tr>\n",
       "<tr>\n",
       "  <th>x1</th> <td>    1.8471</td> <td>    0.028</td> <td>   65.017</td> <td> 0.000</td> <td>    1.791</td> <td>    1.903</td>\n",
       "</tr>\n",
       "<tr>\n",
       "  <th>x2</th> <td>    4.8847</td> <td>    0.050</td> <td>   98.475</td> <td> 0.000</td> <td>    4.787</td> <td>    4.982</td>\n",
       "</tr>\n",
       "</table>\n",
       "<table class=\"simpletable\">\n",
       "<tr>\n",
       "  <th>Omnibus:</th>       <td> 2.561</td> <th>  Durbin-Watson:     </th> <td>   2.009</td>\n",
       "</tr>\n",
       "<tr>\n",
       "  <th>Prob(Omnibus):</th> <td> 0.278</td> <th>  Jarque-Bera (JB):  </th> <td>   2.367</td>\n",
       "</tr>\n",
       "<tr>\n",
       "  <th>Skew:</th>          <td>-0.052</td> <th>  Prob(JB):          </th> <td>   0.306</td>\n",
       "</tr>\n",
       "<tr>\n",
       "  <th>Kurtosis:</th>      <td> 2.786</td> <th>  Cond. No.          </th> <td>    1.93</td>\n",
       "</tr>\n",
       "</table><br/><br/>Notes:<br/>[1] R² is computed without centering (uncentered) since the model does not contain a constant.<br/>[2] Standard Errors assume that the covariance matrix of the errors is correctly specified."
      ],
      "text/latex": [
       "\\begin{center}\n",
       "\\begin{tabular}{lclc}\n",
       "\\toprule\n",
       "\\textbf{Dep. Variable:}    &        y         & \\textbf{  R-squared (uncentered):}      &     0.916   \\\\\n",
       "\\textbf{Model:}            &       OLS        & \\textbf{  Adj. R-squared (uncentered):} &     0.916   \\\\\n",
       "\\textbf{Method:}           &  Least Squares   & \\textbf{  F-statistic:       }          &     5470.   \\\\\n",
       "\\textbf{Date:}             & Wed, 19 Mar 2025 & \\textbf{  Prob (F-statistic):}          &     0.00    \\\\\n",
       "\\textbf{Time:}             &     15:19:10     & \\textbf{  Log-Likelihood:    }          &   -1442.5   \\\\\n",
       "\\textbf{No. Observations:} &        1000      & \\textbf{  AIC:               }          &     2889.   \\\\\n",
       "\\textbf{Df Residuals:}     &         998      & \\textbf{  BIC:               }          &     2899.   \\\\\n",
       "\\textbf{Df Model:}         &           2      & \\textbf{                     }          &             \\\\\n",
       "\\textbf{Covariance Type:}  &    nonrobust     & \\textbf{                     }          &             \\\\\n",
       "\\bottomrule\n",
       "\\end{tabular}\n",
       "\\begin{tabular}{lcccccc}\n",
       "            & \\textbf{coef} & \\textbf{std err} & \\textbf{t} & \\textbf{P$> |$t$|$} & \\textbf{[0.025} & \\textbf{0.975]}  \\\\\n",
       "\\midrule\n",
       "\\textbf{x1} &       1.8471  &        0.028     &    65.017  &         0.000        &        1.791    &        1.903     \\\\\n",
       "\\textbf{x2} &       4.8847  &        0.050     &    98.475  &         0.000        &        4.787    &        4.982     \\\\\n",
       "\\bottomrule\n",
       "\\end{tabular}\n",
       "\\begin{tabular}{lclc}\n",
       "\\textbf{Omnibus:}       &  2.561 & \\textbf{  Durbin-Watson:     } &    2.009  \\\\\n",
       "\\textbf{Prob(Omnibus):} &  0.278 & \\textbf{  Jarque-Bera (JB):  } &    2.367  \\\\\n",
       "\\textbf{Skew:}          & -0.052 & \\textbf{  Prob(JB):          } &    0.306  \\\\\n",
       "\\textbf{Kurtosis:}      &  2.786 & \\textbf{  Cond. No.          } &     1.93  \\\\\n",
       "\\bottomrule\n",
       "\\end{tabular}\n",
       "%\\caption{OLS Regression Results}\n",
       "\\end{center}\n",
       "\n",
       "Notes: \\newline\n",
       " [1] R² is computed without centering (uncentered) since the model does not contain a constant. \\newline\n",
       " [2] Standard Errors assume that the covariance matrix of the errors is correctly specified."
      ],
      "text/plain": [
       "<class 'statsmodels.iolib.summary.Summary'>\n",
       "\"\"\"\n",
       "                                 OLS Regression Results                                \n",
       "=======================================================================================\n",
       "Dep. Variable:                      y   R-squared (uncentered):                   0.916\n",
       "Model:                            OLS   Adj. R-squared (uncentered):              0.916\n",
       "Method:                 Least Squares   F-statistic:                              5470.\n",
       "Date:                Wed, 19 Mar 2025   Prob (F-statistic):                        0.00\n",
       "Time:                        15:19:10   Log-Likelihood:                         -1442.5\n",
       "No. Observations:                1000   AIC:                                      2889.\n",
       "Df Residuals:                     998   BIC:                                      2899.\n",
       "Df Model:                           2                                                  \n",
       "Covariance Type:            nonrobust                                                  \n",
       "==============================================================================\n",
       "                 coef    std err          t      P>|t|      [0.025      0.975]\n",
       "------------------------------------------------------------------------------\n",
       "x1             1.8471      0.028     65.017      0.000       1.791       1.903\n",
       "x2             4.8847      0.050     98.475      0.000       4.787       4.982\n",
       "==============================================================================\n",
       "Omnibus:                        2.561   Durbin-Watson:                   2.009\n",
       "Prob(Omnibus):                  0.278   Jarque-Bera (JB):                2.367\n",
       "Skew:                          -0.052   Prob(JB):                        0.306\n",
       "Kurtosis:                       2.786   Cond. No.                         1.93\n",
       "==============================================================================\n",
       "\n",
       "Notes:\n",
       "[1] R² is computed without centering (uncentered) since the model does not contain a constant.\n",
       "[2] Standard Errors assume that the covariance matrix of the errors is correctly specified.\n",
       "\"\"\""
      ]
     },
     "execution_count": 10,
     "metadata": {},
     "output_type": "execute_result"
    }
   ],
   "source": [
    "model = OLS(np.asarray(df[outcome]), np.asarray(df[[common_cause, treatment]], dtype=np.float64))\n",
    "result = model.fit()\n",
    "result.summary()"
   ]
  }
 ],
 "metadata": {
  "kernelspec": {
   "display_name": "Python 3 (ipykernel)",
   "language": "python",
   "name": "python3"
  },
  "language_info": {
   "codemirror_mode": {
    "name": "ipython",
    "version": 3
   },
   "file_extension": ".py",
   "mimetype": "text/x-python",
   "name": "python",
   "nbconvert_exporter": "python",
   "pygments_lexer": "ipython3",
   "version": "3.8.10"
  },
  "toc": {
   "base_numbering": 1,
   "nav_menu": {},
   "number_sections": false,
   "sideBar": true,
   "skip_h1_title": true,
   "title_cell": "Table of Contents",
   "title_sidebar": "Contents",
   "toc_cell": false,
   "toc_position": {},
   "toc_section_display": true,
   "toc_window_display": false
  }
 },
 "nbformat": 4,
 "nbformat_minor": 4
}
