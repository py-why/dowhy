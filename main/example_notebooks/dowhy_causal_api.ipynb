{
 "cells": [
  {
   "cell_type": "markdown",
   "metadata": {},
   "source": [
    "# Demo for the DoWhy causal API\n",
    "We show a simple example of adding a causal extension to any dataframe. "
   ]
  },
  {
   "cell_type": "code",
   "execution_count": 1,
   "metadata": {
    "execution": {
     "iopub.execute_input": "2025-05-19T22:53:35.873719Z",
     "iopub.status.busy": "2025-05-19T22:53:35.873529Z",
     "iopub.status.idle": "2025-05-19T22:53:37.396685Z",
     "shell.execute_reply": "2025-05-19T22:53:37.395967Z"
    }
   },
   "outputs": [],
   "source": [
    "import dowhy.datasets\n",
    "import dowhy.api\n",
    "from dowhy.graph import build_graph_from_str\n",
    "\n",
    "import numpy as np\n",
    "import pandas as pd\n",
    "\n",
    "from statsmodels.api import OLS"
   ]
  },
  {
   "cell_type": "code",
   "execution_count": 2,
   "metadata": {
    "execution": {
     "iopub.execute_input": "2025-05-19T22:53:37.399256Z",
     "iopub.status.busy": "2025-05-19T22:53:37.398767Z",
     "iopub.status.idle": "2025-05-19T22:53:37.437222Z",
     "shell.execute_reply": "2025-05-19T22:53:37.436604Z"
    }
   },
   "outputs": [
    {
     "data": {
      "text/html": [
       "<div>\n",
       "<style scoped>\n",
       "    .dataframe tbody tr th:only-of-type {\n",
       "        vertical-align: middle;\n",
       "    }\n",
       "\n",
       "    .dataframe tbody tr th {\n",
       "        vertical-align: top;\n",
       "    }\n",
       "\n",
       "    .dataframe thead th {\n",
       "        text-align: right;\n",
       "    }\n",
       "</style>\n",
       "<table border=\"1\" class=\"dataframe\">\n",
       "  <thead>\n",
       "    <tr style=\"text-align: right;\">\n",
       "      <th></th>\n",
       "      <th>W0</th>\n",
       "      <th>v0</th>\n",
       "      <th>y</th>\n",
       "    </tr>\n",
       "  </thead>\n",
       "  <tbody>\n",
       "    <tr>\n",
       "      <th>0</th>\n",
       "      <td>-0.656885</td>\n",
       "      <td>False</td>\n",
       "      <td>-0.299071</td>\n",
       "    </tr>\n",
       "    <tr>\n",
       "      <th>1</th>\n",
       "      <td>1.889930</td>\n",
       "      <td>True</td>\n",
       "      <td>8.495853</td>\n",
       "    </tr>\n",
       "    <tr>\n",
       "      <th>2</th>\n",
       "      <td>-1.165882</td>\n",
       "      <td>False</td>\n",
       "      <td>-1.447712</td>\n",
       "    </tr>\n",
       "    <tr>\n",
       "      <th>3</th>\n",
       "      <td>0.582056</td>\n",
       "      <td>False</td>\n",
       "      <td>1.701473</td>\n",
       "    </tr>\n",
       "    <tr>\n",
       "      <th>4</th>\n",
       "      <td>-2.581135</td>\n",
       "      <td>False</td>\n",
       "      <td>-3.331185</td>\n",
       "    </tr>\n",
       "    <tr>\n",
       "      <th>...</th>\n",
       "      <td>...</td>\n",
       "      <td>...</td>\n",
       "      <td>...</td>\n",
       "    </tr>\n",
       "    <tr>\n",
       "      <th>995</th>\n",
       "      <td>0.497085</td>\n",
       "      <td>True</td>\n",
       "      <td>6.504748</td>\n",
       "    </tr>\n",
       "    <tr>\n",
       "      <th>996</th>\n",
       "      <td>-0.342295</td>\n",
       "      <td>True</td>\n",
       "      <td>3.953657</td>\n",
       "    </tr>\n",
       "    <tr>\n",
       "      <th>997</th>\n",
       "      <td>-0.653641</td>\n",
       "      <td>False</td>\n",
       "      <td>-1.576820</td>\n",
       "    </tr>\n",
       "    <tr>\n",
       "      <th>998</th>\n",
       "      <td>-0.406649</td>\n",
       "      <td>True</td>\n",
       "      <td>3.890597</td>\n",
       "    </tr>\n",
       "    <tr>\n",
       "      <th>999</th>\n",
       "      <td>-0.989882</td>\n",
       "      <td>True</td>\n",
       "      <td>2.064405</td>\n",
       "    </tr>\n",
       "  </tbody>\n",
       "</table>\n",
       "<p>1000 rows × 3 columns</p>\n",
       "</div>"
      ],
      "text/plain": [
       "           W0     v0         y\n",
       "0   -0.656885  False -0.299071\n",
       "1    1.889930   True  8.495853\n",
       "2   -1.165882  False -1.447712\n",
       "3    0.582056  False  1.701473\n",
       "4   -2.581135  False -3.331185\n",
       "..        ...    ...       ...\n",
       "995  0.497085   True  6.504748\n",
       "996 -0.342295   True  3.953657\n",
       "997 -0.653641  False -1.576820\n",
       "998 -0.406649   True  3.890597\n",
       "999 -0.989882   True  2.064405\n",
       "\n",
       "[1000 rows x 3 columns]"
      ]
     },
     "execution_count": 2,
     "metadata": {},
     "output_type": "execute_result"
    }
   ],
   "source": [
    "data = dowhy.datasets.linear_dataset(beta=5,\n",
    "        num_common_causes=1,\n",
    "        num_instruments = 0,\n",
    "        num_samples=1000,\n",
    "        treatment_is_binary=True)\n",
    "df = data['df']\n",
    "df['y'] = df['y'] + np.random.normal(size=len(df)) # Adding noise to data. Without noise, the variance in Y|X, Z is zero, and mcmc fails.\n",
    "nx_graph = build_graph_from_str(data[\"dot_graph\"])\n",
    "\n",
    "treatment= data[\"treatment_name\"][0]\n",
    "outcome = data[\"outcome_name\"][0]\n",
    "common_cause = data[\"common_causes_names\"][0]\n",
    "df"
   ]
  },
  {
   "cell_type": "code",
   "execution_count": 3,
   "metadata": {
    "execution": {
     "iopub.execute_input": "2025-05-19T22:53:37.439287Z",
     "iopub.status.busy": "2025-05-19T22:53:37.438939Z",
     "iopub.status.idle": "2025-05-19T22:53:37.623383Z",
     "shell.execute_reply": "2025-05-19T22:53:37.622811Z"
    },
    "scrolled": true
   },
   "outputs": [
    {
     "data": {
      "text/plain": [
       "<Axes: xlabel='v0'>"
      ]
     },
     "execution_count": 3,
     "metadata": {},
     "output_type": "execute_result"
    },
    {
     "data": {
      "image/png": "[encoded data removed]",
      "text/plain": [
       "<Figure size 640x480 with 1 Axes>"
      ]
     },
     "metadata": {},
     "output_type": "display_data"
    }
   ],
   "source": [
    "# data['df'] is just a regular pandas.DataFrame\n",
    "df.causal.do(x=treatment,\n",
    "             variable_types={treatment: 'b', outcome: 'c', common_cause: 'c'},\n",
    "             outcome=outcome,\n",
    "             common_causes=[common_cause],\n",
    "            ).groupby(treatment).mean().plot(y=outcome, kind='bar')"
   ]
  },
  {
   "cell_type": "code",
   "execution_count": 4,
   "metadata": {
    "execution": {
     "iopub.execute_input": "2025-05-19T22:53:37.625434Z",
     "iopub.status.busy": "2025-05-19T22:53:37.625041Z",
     "iopub.status.idle": "2025-05-19T22:53:37.758833Z",
     "shell.execute_reply": "2025-05-19T22:53:37.757839Z"
    }
   },
   "outputs": [
    {
     "data": {
      "text/plain": [
       "<Axes: xlabel='v0'>"
      ]
     },
     "execution_count": 4,
     "metadata": {},
     "output_type": "execute_result"
    },
    {
     "data": {
      "image/png": "[encoded data removed]",
      "text/plain": [
       "<Figure size 640x480 with 1 Axes>"
      ]
     },
     "metadata": {},
     "output_type": "display_data"
    }
   ],
   "source": [
    "df.causal.do(x={treatment: 1}, \n",
    "              variable_types={treatment:'b', outcome: 'c', common_cause: 'c'}, \n",
    "              outcome=outcome,\n",
    "              method='weighting', \n",
    "              common_causes=[common_cause]\n",
    "              ).groupby(treatment).mean().plot(y=outcome, kind='bar')"
   ]
  },
  {
   "cell_type": "code",
   "execution_count": 5,
   "metadata": {
    "execution": {
     "iopub.execute_input": "2025-05-19T22:53:37.761446Z",
     "iopub.status.busy": "2025-05-19T22:53:37.760913Z",
     "iopub.status.idle": "2025-05-19T22:53:37.782784Z",
     "shell.execute_reply": "2025-05-19T22:53:37.782242Z"
    }
   },
   "outputs": [],
   "source": [
    "cdf_1 = df.causal.do(x={treatment: 1}, \n",
    "              variable_types={treatment: 'b', outcome: 'c', common_cause: 'c'}, \n",
    "              outcome=outcome, \n",
    "              graph=nx_graph\n",
    "              )\n",
    "\n",
    "cdf_0 = df.causal.do(x={treatment: 0}, \n",
    "              variable_types={treatment: 'b', outcome: 'c', common_cause: 'c'}, \n",
    "              outcome=outcome, \n",
    "              graph=nx_graph\n",
    "              )\n"
   ]
  },
  {
   "cell_type": "code",
   "execution_count": 6,
   "metadata": {
    "execution": {
     "iopub.execute_input": "2025-05-19T22:53:37.784824Z",
     "iopub.status.busy": "2025-05-19T22:53:37.784459Z",
     "iopub.status.idle": "2025-05-19T22:53:37.793428Z",
     "shell.execute_reply": "2025-05-19T22:53:37.792794Z"
    },
    "scrolled": true
   },
   "outputs": [
    {
     "data": {
      "text/html": [
       "<div>\n",
       "<style scoped>\n",
       "    .dataframe tbody tr th:only-of-type {\n",
       "        vertical-align: middle;\n",
       "    }\n",
       "\n",
       "    .dataframe tbody tr th {\n",
       "        vertical-align: top;\n",
       "    }\n",
       "\n",
       "    .dataframe thead th {\n",
       "        text-align: right;\n",
       "    }\n",
       "</style>\n",
       "<table border=\"1\" class=\"dataframe\">\n",
       "  <thead>\n",
       "    <tr style=\"text-align: right;\">\n",
       "      <th></th>\n",
       "      <th>W0</th>\n",
       "      <th>v0</th>\n",
       "      <th>y</th>\n",
       "      <th>propensity_score</th>\n",
       "      <th>weight</th>\n",
       "    </tr>\n",
       "  </thead>\n",
       "  <tbody>\n",
       "    <tr>\n",
       "      <th>0</th>\n",
       "      <td>-0.419280</td>\n",
       "      <td>False</td>\n",
       "      <td>-2.698724</td>\n",
       "      <td>0.604875</td>\n",
       "      <td>1.653235</td>\n",
       "    </tr>\n",
       "    <tr>\n",
       "      <th>1</th>\n",
       "      <td>-1.335955</td>\n",
       "      <td>False</td>\n",
       "      <td>-1.847423</td>\n",
       "      <td>0.798562</td>\n",
       "      <td>1.252251</td>\n",
       "    </tr>\n",
       "    <tr>\n",
       "      <th>2</th>\n",
       "      <td>0.570623</td>\n",
       "      <td>False</td>\n",
       "      <td>1.712644</td>\n",
       "      <td>0.353954</td>\n",
       "      <td>2.825224</td>\n",
       "    </tr>\n",
       "    <tr>\n",
       "      <th>3</th>\n",
       "      <td>0.661332</td>\n",
       "      <td>False</td>\n",
       "      <td>0.781223</td>\n",
       "      <td>0.332731</td>\n",
       "      <td>3.005433</td>\n",
       "    </tr>\n",
       "    <tr>\n",
       "      <th>4</th>\n",
       "      <td>-0.487866</td>\n",
       "      <td>False</td>\n",
       "      <td>-0.187255</td>\n",
       "      <td>0.621757</td>\n",
       "      <td>1.608346</td>\n",
       "    </tr>\n",
       "    <tr>\n",
       "      <th>...</th>\n",
       "      <td>...</td>\n",
       "      <td>...</td>\n",
       "      <td>...</td>\n",
       "      <td>...</td>\n",
       "      <td>...</td>\n",
       "    </tr>\n",
       "    <tr>\n",
       "      <th>995</th>\n",
       "      <td>0.979580</td>\n",
       "      <td>False</td>\n",
       "      <td>2.223974</td>\n",
       "      <td>0.263821</td>\n",
       "      <td>3.790445</td>\n",
       "    </tr>\n",
       "    <tr>\n",
       "      <th>996</th>\n",
       "      <td>1.491719</td>\n",
       "      <td>False</td>\n",
       "      <td>3.311740</td>\n",
       "      <td>0.173962</td>\n",
       "      <td>5.748379</td>\n",
       "    </tr>\n",
       "    <tr>\n",
       "      <th>997</th>\n",
       "      <td>-0.489798</td>\n",
       "      <td>False</td>\n",
       "      <td>-1.111616</td>\n",
       "      <td>0.622228</td>\n",
       "      <td>1.607128</td>\n",
       "    </tr>\n",
       "    <tr>\n",
       "      <th>998</th>\n",
       "      <td>-0.858891</td>\n",
       "      <td>False</td>\n",
       "      <td>-1.563904</td>\n",
       "      <td>0.707265</td>\n",
       "      <td>1.413898</td>\n",
       "    </tr>\n",
       "    <tr>\n",
       "      <th>999</th>\n",
       "      <td>-0.216431</td>\n",
       "      <td>False</td>\n",
       "      <td>-2.870887</td>\n",
       "      <td>0.553608</td>\n",
       "      <td>1.806331</td>\n",
       "    </tr>\n",
       "  </tbody>\n",
       "</table>\n",
       "<p>1000 rows × 5 columns</p>\n",
       "</div>"
      ],
      "text/plain": [
       "           W0     v0         y  propensity_score    weight\n",
       "0   -0.419280  False -2.698724          0.604875  1.653235\n",
       "1   -1.335955  False -1.847423          0.798562  1.252251\n",
       "2    0.570623  False  1.712644          0.353954  2.825224\n",
       "3    0.661332  False  0.781223          0.332731  3.005433\n",
       "4   -0.487866  False -0.187255          0.621757  1.608346\n",
       "..        ...    ...       ...               ...       ...\n",
       "995  0.979580  False  2.223974          0.263821  3.790445\n",
       "996  1.491719  False  3.311740          0.173962  5.748379\n",
       "997 -0.489798  False -1.111616          0.622228  1.607128\n",
       "998 -0.858891  False -1.563904          0.707265  1.413898\n",
       "999 -0.216431  False -2.870887          0.553608  1.806331\n",
       "\n",
       "[1000 rows x 5 columns]"
      ]
     },
     "execution_count": 6,
     "metadata": {},
     "output_type": "execute_result"
    }
   ],
   "source": [
    "cdf_0"
   ]
  },
  {
   "cell_type": "code",
   "execution_count": 7,
   "metadata": {
    "execution": {
     "iopub.execute_input": "2025-05-19T22:53:37.795187Z",
     "iopub.status.busy": "2025-05-19T22:53:37.795001Z",
     "iopub.status.idle": "2025-05-19T22:53:37.803629Z",
     "shell.execute_reply": "2025-05-19T22:53:37.803125Z"
    }
   },
   "outputs": [
    {
     "data": {
      "text/html": [
       "<div>\n",
       "<style scoped>\n",
       "    .dataframe tbody tr th:only-of-type {\n",
       "        vertical-align: middle;\n",
       "    }\n",
       "\n",
       "    .dataframe tbody tr th {\n",
       "        vertical-align: top;\n",
       "    }\n",
       "\n",
       "    .dataframe thead th {\n",
       "        text-align: right;\n",
       "    }\n",
       "</style>\n",
       "<table border=\"1\" class=\"dataframe\">\n",
       "  <thead>\n",
       "    <tr style=\"text-align: right;\">\n",
       "      <th></th>\n",
       "      <th>W0</th>\n",
       "      <th>v0</th>\n",
       "      <th>y</th>\n",
       "      <th>propensity_score</th>\n",
       "      <th>weight</th>\n",
       "    </tr>\n",
       "  </thead>\n",
       "  <tbody>\n",
       "    <tr>\n",
       "      <th>0</th>\n",
       "      <td>-0.910890</td>\n",
       "      <td>True</td>\n",
       "      <td>4.348244</td>\n",
       "      <td>0.281687</td>\n",
       "      <td>3.550044</td>\n",
       "    </tr>\n",
       "    <tr>\n",
       "      <th>1</th>\n",
       "      <td>0.526948</td>\n",
       "      <td>True</td>\n",
       "      <td>7.704552</td>\n",
       "      <td>0.635612</td>\n",
       "      <td>1.573287</td>\n",
       "    </tr>\n",
       "    <tr>\n",
       "      <th>2</th>\n",
       "      <td>-0.742876</td>\n",
       "      <td>True</td>\n",
       "      <td>3.595488</td>\n",
       "      <td>0.318275</td>\n",
       "      <td>3.141938</td>\n",
       "    </tr>\n",
       "    <tr>\n",
       "      <th>3</th>\n",
       "      <td>1.349560</td>\n",
       "      <td>True</td>\n",
       "      <td>5.743681</td>\n",
       "      <td>0.803804</td>\n",
       "      <td>1.244084</td>\n",
       "    </tr>\n",
       "    <tr>\n",
       "      <th>4</th>\n",
       "      <td>0.657380</td>\n",
       "      <td>True</td>\n",
       "      <td>6.526140</td>\n",
       "      <td>0.666358</td>\n",
       "      <td>1.500695</td>\n",
       "    </tr>\n",
       "    <tr>\n",
       "      <th>...</th>\n",
       "      <td>...</td>\n",
       "      <td>...</td>\n",
       "      <td>...</td>\n",
       "      <td>...</td>\n",
       "      <td>...</td>\n",
       "    </tr>\n",
       "    <tr>\n",
       "      <th>995</th>\n",
       "      <td>0.538204</td>\n",
       "      <td>True</td>\n",
       "      <td>4.782649</td>\n",
       "      <td>0.638314</td>\n",
       "      <td>1.566628</td>\n",
       "    </tr>\n",
       "    <tr>\n",
       "      <th>996</th>\n",
       "      <td>0.044565</td>\n",
       "      <td>True</td>\n",
       "      <td>5.111167</td>\n",
       "      <td>0.513910</td>\n",
       "      <td>1.945867</td>\n",
       "    </tr>\n",
       "    <tr>\n",
       "      <th>997</th>\n",
       "      <td>0.115424</td>\n",
       "      <td>True</td>\n",
       "      <td>6.932372</td>\n",
       "      <td>0.532257</td>\n",
       "      <td>1.878793</td>\n",
       "    </tr>\n",
       "    <tr>\n",
       "      <th>998</th>\n",
       "      <td>-0.406649</td>\n",
       "      <td>True</td>\n",
       "      <td>3.890597</td>\n",
       "      <td>0.398263</td>\n",
       "      <td>2.510903</td>\n",
       "    </tr>\n",
       "    <tr>\n",
       "      <th>999</th>\n",
       "      <td>-1.414064</td>\n",
       "      <td>True</td>\n",
       "      <td>4.846598</td>\n",
       "      <td>0.188711</td>\n",
       "      <td>5.299102</td>\n",
       "    </tr>\n",
       "  </tbody>\n",
       "</table>\n",
       "<p>1000 rows × 5 columns</p>\n",
       "</div>"
      ],
      "text/plain": [
       "           W0    v0         y  propensity_score    weight\n",
       "0   -0.910890  True  4.348244          0.281687  3.550044\n",
       "1    0.526948  True  7.704552          0.635612  1.573287\n",
       "2   -0.742876  True  3.595488          0.318275  3.141938\n",
       "3    1.349560  True  5.743681          0.803804  1.244084\n",
       "4    0.657380  True  6.526140          0.666358  1.500695\n",
       "..        ...   ...       ...               ...       ...\n",
       "995  0.538204  True  4.782649          0.638314  1.566628\n",
       "996  0.044565  True  5.111167          0.513910  1.945867\n",
       "997  0.115424  True  6.932372          0.532257  1.878793\n",
       "998 -0.406649  True  3.890597          0.398263  2.510903\n",
       "999 -1.414064  True  4.846598          0.188711  5.299102\n",
       "\n",
       "[1000 rows x 5 columns]"
      ]
     },
     "execution_count": 7,
     "metadata": {},
     "output_type": "execute_result"
    }
   ],
   "source": [
    "cdf_1"
   ]
  },
  {
   "cell_type": "markdown",
   "metadata": {},
   "source": [
    "## Comparing the estimate to Linear Regression\n",
    "First, estimating the effect using the causal data frame, and the 95% confidence interval."
   ]
  },
  {
   "cell_type": "code",
   "execution_count": 8,
   "metadata": {
    "execution": {
     "iopub.execute_input": "2025-05-19T22:53:37.805268Z",
     "iopub.status.busy": "2025-05-19T22:53:37.805084Z",
     "iopub.status.idle": "2025-05-19T22:53:37.852556Z",
     "shell.execute_reply": "2025-05-19T22:53:37.851980Z"
    }
   },
   "outputs": [
    {
     "data": {
      "image/png": "[encoded data removed]",
      "text/latex": [
       "$\\displaystyle 5.04255379094633$"
      ],
      "text/plain": [
       "5.04255379094633"
      ]
     },
     "execution_count": 8,
     "metadata": {},
     "output_type": "execute_result"
    }
   ],
   "source": [
    "(cdf_1['y'] - cdf_0['y']).mean()"
   ]
  },
  {
   "cell_type": "code",
   "execution_count": 9,
   "metadata": {
    "execution": {
     "iopub.execute_input": "2025-05-19T22:53:37.854407Z",
     "iopub.status.busy": "2025-05-19T22:53:37.854193Z",
     "iopub.status.idle": "2025-05-19T22:53:37.871141Z",
     "shell.execute_reply": "2025-05-19T22:53:37.870610Z"
    }
   },
   "outputs": [
    {
     "data": {
      "image/png": "[encoded data removed]",
      "text/latex": [
       "$\\displaystyle 0.18569909161109$"
      ],
      "text/plain": [
       "0.18569909161109013"
      ]
     },
     "execution_count": 9,
     "metadata": {},
     "output_type": "execute_result"
    }
   ],
   "source": [
    "1.96*(cdf_1['y'] - cdf_0['y']).std() / np.sqrt(len(df))"
   ]
  },
  {
   "cell_type": "markdown",
   "metadata": {},
   "source": [
    "Comparing to the estimate from OLS."
   ]
  },
  {
   "cell_type": "code",
   "execution_count": 10,
   "metadata": {
    "execution": {
     "iopub.execute_input": "2025-05-19T22:53:37.873007Z",
     "iopub.status.busy": "2025-05-19T22:53:37.872818Z",
     "iopub.status.idle": "2025-05-19T22:53:37.890595Z",
     "shell.execute_reply": "2025-05-19T22:53:37.890052Z"
    }
   },
   "outputs": [
    {
     "data": {
      "text/html": [
       "<table class=\"simpletable\">\n",
       "<caption>OLS Regression Results</caption>\n",
       "<tr>\n",
       "  <th>Dep. Variable:</th>            <td>y</td>        <th>  R-squared (uncentered):</th>      <td>   0.949</td>\n",
       "</tr>\n",
       "<tr>\n",
       "  <th>Model:</th>                   <td>OLS</td>       <th>  Adj. R-squared (uncentered):</th> <td>   0.949</td>\n",
       "</tr>\n",
       "<tr>\n",
       "  <th>Method:</th>             <td>Least Squares</td>  <th>  F-statistic:       </th>          <td>   9216.</td>\n",
       "</tr>\n",
       "<tr>\n",
       "  <th>Date:</th>             <td>Mon, 19 May 2025</td> <th>  Prob (F-statistic):</th>           <td>  0.00</td> \n",
       "</tr>\n",
       "<tr>\n",
       "  <th>Time:</th>                 <td>22:53:37</td>     <th>  Log-Likelihood:    </th>          <td> -1393.2</td>\n",
       "</tr>\n",
       "<tr>\n",
       "  <th>No. Observations:</th>      <td>  1000</td>      <th>  AIC:               </th>          <td>   2790.</td>\n",
       "</tr>\n",
       "<tr>\n",
       "  <th>Df Residuals:</th>          <td>   998</td>      <th>  BIC:               </th>          <td>   2800.</td>\n",
       "</tr>\n",
       "<tr>\n",
       "  <th>Df Model:</th>              <td>     2</td>      <th>                     </th>              <td> </td>   \n",
       "</tr>\n",
       "<tr>\n",
       "  <th>Covariance Type:</th>      <td>nonrobust</td>    <th>                     </th>              <td> </td>   \n",
       "</tr>\n",
       "</table>\n",
       "<table class=\"simpletable\">\n",
       "<tr>\n",
       "   <td></td>     <th>coef</th>     <th>std err</th>      <th>t</th>      <th>P>|t|</th>  <th>[0.025</th>    <th>0.975]</th>  \n",
       "</tr>\n",
       "<tr>\n",
       "  <th>x1</th> <td>    1.8431</td> <td>    0.030</td> <td>   61.262</td> <td> 0.000</td> <td>    1.784</td> <td>    1.902</td>\n",
       "</tr>\n",
       "<tr>\n",
       "  <th>x2</th> <td>    5.0012</td> <td>    0.046</td> <td>  108.005</td> <td> 0.000</td> <td>    4.910</td> <td>    5.092</td>\n",
       "</tr>\n",
       "</table>\n",
       "<table class=\"simpletable\">\n",
       "<tr>\n",
       "  <th>Omnibus:</th>       <td> 2.324</td> <th>  Durbin-Watson:     </th> <td>   1.982</td>\n",
       "</tr>\n",
       "<tr>\n",
       "  <th>Prob(Omnibus):</th> <td> 0.313</td> <th>  Jarque-Bera (JB):  </th> <td>   2.208</td>\n",
       "</tr>\n",
       "<tr>\n",
       "  <th>Skew:</th>          <td> 0.082</td> <th>  Prob(JB):          </th> <td>   0.331</td>\n",
       "</tr>\n",
       "<tr>\n",
       "  <th>Kurtosis:</th>      <td> 3.162</td> <th>  Cond. No.          </th> <td>    1.60</td>\n",
       "</tr>\n",
       "</table><br/><br/>Notes:<br/>[1] R² is computed without centering (uncentered) since the model does not contain a constant.<br/>[2] Standard Errors assume that the covariance matrix of the errors is correctly specified."
      ],
      "text/latex": [
       "\\begin{center}\n",
       "\\begin{tabular}{lclc}\n",
       "\\toprule\n",
       "\\textbf{Dep. Variable:}    &        y         & \\textbf{  R-squared (uncentered):}      &     0.949   \\\\\n",
       "\\textbf{Model:}            &       OLS        & \\textbf{  Adj. R-squared (uncentered):} &     0.949   \\\\\n",
       "\\textbf{Method:}           &  Least Squares   & \\textbf{  F-statistic:       }          &     9216.   \\\\\n",
       "\\textbf{Date:}             & Mon, 19 May 2025 & \\textbf{  Prob (F-statistic):}          &     0.00    \\\\\n",
       "\\textbf{Time:}             &     22:53:37     & \\textbf{  Log-Likelihood:    }          &   -1393.2   \\\\\n",
       "\\textbf{No. Observations:} &        1000      & \\textbf{  AIC:               }          &     2790.   \\\\\n",
       "\\textbf{Df Residuals:}     &         998      & \\textbf{  BIC:               }          &     2800.   \\\\\n",
       "\\textbf{Df Model:}         &           2      & \\textbf{                     }          &             \\\\\n",
       "\\textbf{Covariance Type:}  &    nonrobust     & \\textbf{                     }          &             \\\\\n",
       "\\bottomrule\n",
       "\\end{tabular}\n",
       "\\begin{tabular}{lcccccc}\n",
       "            & \\textbf{coef} & \\textbf{std err} & \\textbf{t} & \\textbf{P$> |$t$|$} & \\textbf{[0.025} & \\textbf{0.975]}  \\\\\n",
       "\\midrule\n",
       "\\textbf{x1} &       1.8431  &        0.030     &    61.262  &         0.000        &        1.784    &        1.902     \\\\\n",
       "\\textbf{x2} &       5.0012  &        0.046     &   108.005  &         0.000        &        4.910    &        5.092     \\\\\n",
       "\\bottomrule\n",
       "\\end{tabular}\n",
       "\\begin{tabular}{lclc}\n",
       "\\textbf{Omnibus:}       &  2.324 & \\textbf{  Durbin-Watson:     } &    1.982  \\\\\n",
       "\\textbf{Prob(Omnibus):} &  0.313 & \\textbf{  Jarque-Bera (JB):  } &    2.208  \\\\\n",
       "\\textbf{Skew:}          &  0.082 & \\textbf{  Prob(JB):          } &    0.331  \\\\\n",
       "\\textbf{Kurtosis:}      &  3.162 & \\textbf{  Cond. No.          } &     1.60  \\\\\n",
       "\\bottomrule\n",
       "\\end{tabular}\n",
       "%\\caption{OLS Regression Results}\n",
       "\\end{center}\n",
       "\n",
       "Notes: \\newline\n",
       " [1] R² is computed without centering (uncentered) since the model does not contain a constant. \\newline\n",
       " [2] Standard Errors assume that the covariance matrix of the errors is correctly specified."
      ],
      "text/plain": [
       "<class 'statsmodels.iolib.summary.Summary'>\n",
       "\"\"\"\n",
       "                                 OLS Regression Results                                \n",
       "=======================================================================================\n",
       "Dep. Variable:                      y   R-squared (uncentered):                   0.949\n",
       "Model:                            OLS   Adj. R-squared (uncentered):              0.949\n",
       "Method:                 Least Squares   F-statistic:                              9216.\n",
       "Date:                Mon, 19 May 2025   Prob (F-statistic):                        0.00\n",
       "Time:                        22:53:37   Log-Likelihood:                         -1393.2\n",
       "No. Observations:                1000   AIC:                                      2790.\n",
       "Df Residuals:                     998   BIC:                                      2800.\n",
       "Df Model:                           2                                                  \n",
       "Covariance Type:            nonrobust                                                  \n",
       "==============================================================================\n",
       "                 coef    std err          t      P>|t|      [0.025      0.975]\n",
       "------------------------------------------------------------------------------\n",
       "x1             1.8431      0.030     61.262      0.000       1.784       1.902\n",
       "x2             5.0012      0.046    108.005      0.000       4.910       5.092\n",
       "==============================================================================\n",
       "Omnibus:                        2.324   Durbin-Watson:                   1.982\n",
       "Prob(Omnibus):                  0.313   Jarque-Bera (JB):                2.208\n",
       "Skew:                           0.082   Prob(JB):                        0.331\n",
       "Kurtosis:                       3.162   Cond. No.                         1.60\n",
       "==============================================================================\n",
       "\n",
       "Notes:\n",
       "[1] R² is computed without centering (uncentered) since the model does not contain a constant.\n",
       "[2] Standard Errors assume that the covariance matrix of the errors is correctly specified.\n",
       "\"\"\""
      ]
     },
     "execution_count": 10,
     "metadata": {},
     "output_type": "execute_result"
    }
   ],
   "source": [
    "model = OLS(np.asarray(df[outcome]), np.asarray(df[[common_cause, treatment]], dtype=np.float64))\n",
    "result = model.fit()\n",
    "result.summary()"
   ]
  }
 ],
 "metadata": {
  "kernelspec": {
   "display_name": "Python 3 (ipykernel)",
   "language": "python",
   "name": "python3"
  },
  "language_info": {
   "codemirror_mode": {
    "name": "ipython",
    "version": 3
   },
   "file_extension": ".py",
   "mimetype": "text/x-python",
   "name": "python",
   "nbconvert_exporter": "python",
   "pygments_lexer": "ipython3",
   "version": "3.8.10"
  },
  "toc": {
   "base_numbering": 1,
   "nav_menu": {},
   "number_sections": false,
   "sideBar": true,
   "skip_h1_title": true,
   "title_cell": "Table of Contents",
   "title_sidebar": "Contents",
   "toc_cell": false,
   "toc_position": {},
   "toc_section_display": true,
   "toc_window_display": false
  }
 },
 "nbformat": 4,
 "nbformat_minor": 4
}
