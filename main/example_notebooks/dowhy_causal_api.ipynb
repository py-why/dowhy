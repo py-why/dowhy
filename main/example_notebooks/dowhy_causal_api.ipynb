{
 "cells": [
  {
   "cell_type": "markdown",
   "metadata": {},
   "source": [
    "# Demo for the DoWhy causal API\n",
    "We show a simple example of adding a causal extension to any dataframe. "
   ]
  },
  {
   "cell_type": "code",
   "execution_count": 1,
   "metadata": {
    "execution": {
     "iopub.execute_input": "2025-08-26T20:27:53.428952Z",
     "iopub.status.busy": "2025-08-26T20:27:53.428750Z",
     "iopub.status.idle": "2025-08-26T20:27:55.132568Z",
     "shell.execute_reply": "2025-08-26T20:27:55.131843Z"
    }
   },
   "outputs": [],
   "source": [
    "import dowhy.datasets\n",
    "import dowhy.api\n",
    "from dowhy.graph import build_graph_from_str\n",
    "\n",
    "import numpy as np\n",
    "import pandas as pd\n",
    "\n",
    "from statsmodels.api import OLS"
   ]
  },
  {
   "cell_type": "code",
   "execution_count": 2,
   "metadata": {
    "execution": {
     "iopub.execute_input": "2025-08-26T20:27:55.135257Z",
     "iopub.status.busy": "2025-08-26T20:27:55.134722Z",
     "iopub.status.idle": "2025-08-26T20:27:55.187818Z",
     "shell.execute_reply": "2025-08-26T20:27:55.187201Z"
    }
   },
   "outputs": [
    {
     "data": {
      "text/html": [
       "<div>\n",
       "<style scoped>\n",
       "    .dataframe tbody tr th:only-of-type {\n",
       "        vertical-align: middle;\n",
       "    }\n",
       "\n",
       "    .dataframe tbody tr th {\n",
       "        vertical-align: top;\n",
       "    }\n",
       "\n",
       "    .dataframe thead th {\n",
       "        text-align: right;\n",
       "    }\n",
       "</style>\n",
       "<table border=\"1\" class=\"dataframe\">\n",
       "  <thead>\n",
       "    <tr style=\"text-align: right;\">\n",
       "      <th></th>\n",
       "      <th>W0</th>\n",
       "      <th>v0</th>\n",
       "      <th>y</th>\n",
       "    </tr>\n",
       "  </thead>\n",
       "  <tbody>\n",
       "    <tr>\n",
       "      <th>0</th>\n",
       "      <td>1.524459</td>\n",
       "      <td>False</td>\n",
       "      <td>2.894592</td>\n",
       "    </tr>\n",
       "    <tr>\n",
       "      <th>1</th>\n",
       "      <td>0.597564</td>\n",
       "      <td>True</td>\n",
       "      <td>5.522022</td>\n",
       "    </tr>\n",
       "    <tr>\n",
       "      <th>2</th>\n",
       "      <td>-0.918363</td>\n",
       "      <td>False</td>\n",
       "      <td>-1.742012</td>\n",
       "    </tr>\n",
       "    <tr>\n",
       "      <th>3</th>\n",
       "      <td>-0.144220</td>\n",
       "      <td>False</td>\n",
       "      <td>-0.553316</td>\n",
       "    </tr>\n",
       "    <tr>\n",
       "      <th>4</th>\n",
       "      <td>0.277026</td>\n",
       "      <td>True</td>\n",
       "      <td>6.652711</td>\n",
       "    </tr>\n",
       "    <tr>\n",
       "      <th>...</th>\n",
       "      <td>...</td>\n",
       "      <td>...</td>\n",
       "      <td>...</td>\n",
       "    </tr>\n",
       "    <tr>\n",
       "      <th>995</th>\n",
       "      <td>0.275157</td>\n",
       "      <td>False</td>\n",
       "      <td>-0.155439</td>\n",
       "    </tr>\n",
       "    <tr>\n",
       "      <th>996</th>\n",
       "      <td>-0.490586</td>\n",
       "      <td>True</td>\n",
       "      <td>2.751520</td>\n",
       "    </tr>\n",
       "    <tr>\n",
       "      <th>997</th>\n",
       "      <td>0.386001</td>\n",
       "      <td>False</td>\n",
       "      <td>1.374444</td>\n",
       "    </tr>\n",
       "    <tr>\n",
       "      <th>998</th>\n",
       "      <td>0.623935</td>\n",
       "      <td>True</td>\n",
       "      <td>6.125341</td>\n",
       "    </tr>\n",
       "    <tr>\n",
       "      <th>999</th>\n",
       "      <td>-0.750355</td>\n",
       "      <td>False</td>\n",
       "      <td>-1.535576</td>\n",
       "    </tr>\n",
       "  </tbody>\n",
       "</table>\n",
       "<p>1000 rows × 3 columns</p>\n",
       "</div>"
      ],
      "text/plain": [
       "           W0     v0         y\n",
       "0    1.524459  False  2.894592\n",
       "1    0.597564   True  5.522022\n",
       "2   -0.918363  False -1.742012\n",
       "3   -0.144220  False -0.553316\n",
       "4    0.277026   True  6.652711\n",
       "..        ...    ...       ...\n",
       "995  0.275157  False -0.155439\n",
       "996 -0.490586   True  2.751520\n",
       "997  0.386001  False  1.374444\n",
       "998  0.623935   True  6.125341\n",
       "999 -0.750355  False -1.535576\n",
       "\n",
       "[1000 rows x 3 columns]"
      ]
     },
     "execution_count": 2,
     "metadata": {},
     "output_type": "execute_result"
    }
   ],
   "source": [
    "data = dowhy.datasets.linear_dataset(beta=5,\n",
    "        num_common_causes=1,\n",
    "        num_instruments = 0,\n",
    "        num_samples=1000,\n",
    "        treatment_is_binary=True)\n",
    "df = data['df']\n",
    "df['y'] = df['y'] + np.random.normal(size=len(df)) # Adding noise to data. Without noise, the variance in Y|X, Z is zero, and mcmc fails.\n",
    "nx_graph = build_graph_from_str(data[\"dot_graph\"])\n",
    "\n",
    "treatment= data[\"treatment_name\"][0]\n",
    "outcome = data[\"outcome_name\"][0]\n",
    "common_cause = data[\"common_causes_names\"][0]\n",
    "df"
   ]
  },
  {
   "cell_type": "code",
   "execution_count": 3,
   "metadata": {
    "execution": {
     "iopub.execute_input": "2025-08-26T20:27:55.190015Z",
     "iopub.status.busy": "2025-08-26T20:27:55.189662Z",
     "iopub.status.idle": "2025-08-26T20:27:55.423992Z",
     "shell.execute_reply": "2025-08-26T20:27:55.423395Z"
    },
    "scrolled": true
   },
   "outputs": [
    {
     "data": {
      "text/plain": [
       "<Axes: xlabel='v0'>"
      ]
     },
     "execution_count": 3,
     "metadata": {},
     "output_type": "execute_result"
    },
    {
     "data": {
      "image/png": "[encoded data removed]",
      "text/plain": [
       "<Figure size 640x480 with 1 Axes>"
      ]
     },
     "metadata": {},
     "output_type": "display_data"
    }
   ],
   "source": [
    "# data['df'] is just a regular pandas.DataFrame\n",
    "df.causal.do(x=treatment,\n",
    "             variable_types={treatment: 'b', outcome: 'c', common_cause: 'c'},\n",
    "             outcome=outcome,\n",
    "             common_causes=[common_cause],\n",
    "            ).groupby(treatment).mean().plot(y=outcome, kind='bar')"
   ]
  },
  {
   "cell_type": "code",
   "execution_count": 4,
   "metadata": {
    "execution": {
     "iopub.execute_input": "2025-08-26T20:27:55.426193Z",
     "iopub.status.busy": "2025-08-26T20:27:55.425718Z",
     "iopub.status.idle": "2025-08-26T20:27:55.516038Z",
     "shell.execute_reply": "2025-08-26T20:27:55.515438Z"
    }
   },
   "outputs": [
    {
     "data": {
      "text/plain": [
       "<Axes: xlabel='v0'>"
      ]
     },
     "execution_count": 4,
     "metadata": {},
     "output_type": "execute_result"
    },
    {
     "data": {
      "image/png": "[encoded data removed]",
      "text/plain": [
       "<Figure size 640x480 with 1 Axes>"
      ]
     },
     "metadata": {},
     "output_type": "display_data"
    }
   ],
   "source": [
    "df.causal.do(x={treatment: 1}, \n",
    "              variable_types={treatment:'b', outcome: 'c', common_cause: 'c'}, \n",
    "              outcome=outcome,\n",
    "              method='weighting', \n",
    "              common_causes=[common_cause]\n",
    "              ).groupby(treatment).mean().plot(y=outcome, kind='bar')"
   ]
  },
  {
   "cell_type": "code",
   "execution_count": 5,
   "metadata": {
    "execution": {
     "iopub.execute_input": "2025-08-26T20:27:55.518301Z",
     "iopub.status.busy": "2025-08-26T20:27:55.517774Z",
     "iopub.status.idle": "2025-08-26T20:27:55.538738Z",
     "shell.execute_reply": "2025-08-26T20:27:55.538048Z"
    }
   },
   "outputs": [],
   "source": [
    "cdf_1 = df.causal.do(x={treatment: 1}, \n",
    "              variable_types={treatment: 'b', outcome: 'c', common_cause: 'c'}, \n",
    "              outcome=outcome, \n",
    "              graph=nx_graph\n",
    "              )\n",
    "\n",
    "cdf_0 = df.causal.do(x={treatment: 0}, \n",
    "              variable_types={treatment: 'b', outcome: 'c', common_cause: 'c'}, \n",
    "              outcome=outcome, \n",
    "              graph=nx_graph\n",
    "              )\n"
   ]
  },
  {
   "cell_type": "code",
   "execution_count": 6,
   "metadata": {
    "execution": {
     "iopub.execute_input": "2025-08-26T20:27:55.540953Z",
     "iopub.status.busy": "2025-08-26T20:27:55.540498Z",
     "iopub.status.idle": "2025-08-26T20:27:55.549074Z",
     "shell.execute_reply": "2025-08-26T20:27:55.548582Z"
    },
    "scrolled": true
   },
   "outputs": [
    {
     "data": {
      "text/html": [
       "<div>\n",
       "<style scoped>\n",
       "    .dataframe tbody tr th:only-of-type {\n",
       "        vertical-align: middle;\n",
       "    }\n",
       "\n",
       "    .dataframe tbody tr th {\n",
       "        vertical-align: top;\n",
       "    }\n",
       "\n",
       "    .dataframe thead th {\n",
       "        text-align: right;\n",
       "    }\n",
       "</style>\n",
       "<table border=\"1\" class=\"dataframe\">\n",
       "  <thead>\n",
       "    <tr style=\"text-align: right;\">\n",
       "      <th></th>\n",
       "      <th>W0</th>\n",
       "      <th>v0</th>\n",
       "      <th>y</th>\n",
       "      <th>propensity_score</th>\n",
       "      <th>weight</th>\n",
       "    </tr>\n",
       "  </thead>\n",
       "  <tbody>\n",
       "    <tr>\n",
       "      <th>0</th>\n",
       "      <td>0.686850</td>\n",
       "      <td>False</td>\n",
       "      <td>1.336979</td>\n",
       "      <td>0.307573</td>\n",
       "      <td>3.251263</td>\n",
       "    </tr>\n",
       "    <tr>\n",
       "      <th>1</th>\n",
       "      <td>-0.968684</td>\n",
       "      <td>False</td>\n",
       "      <td>-2.292953</td>\n",
       "      <td>0.719606</td>\n",
       "      <td>1.389649</td>\n",
       "    </tr>\n",
       "    <tr>\n",
       "      <th>2</th>\n",
       "      <td>0.208372</td>\n",
       "      <td>False</td>\n",
       "      <td>1.270343</td>\n",
       "      <td>0.424444</td>\n",
       "      <td>2.356022</td>\n",
       "    </tr>\n",
       "    <tr>\n",
       "      <th>3</th>\n",
       "      <td>-0.039039</td>\n",
       "      <td>False</td>\n",
       "      <td>0.876932</td>\n",
       "      <td>0.489394</td>\n",
       "      <td>2.043342</td>\n",
       "    </tr>\n",
       "    <tr>\n",
       "      <th>4</th>\n",
       "      <td>1.195703</td>\n",
       "      <td>False</td>\n",
       "      <td>1.539124</td>\n",
       "      <td>0.205771</td>\n",
       "      <td>4.859778</td>\n",
       "    </tr>\n",
       "    <tr>\n",
       "      <th>...</th>\n",
       "      <td>...</td>\n",
       "      <td>...</td>\n",
       "      <td>...</td>\n",
       "      <td>...</td>\n",
       "      <td>...</td>\n",
       "    </tr>\n",
       "    <tr>\n",
       "      <th>995</th>\n",
       "      <td>1.606665</td>\n",
       "      <td>False</td>\n",
       "      <td>2.004791</td>\n",
       "      <td>0.143562</td>\n",
       "      <td>6.965625</td>\n",
       "    </tr>\n",
       "    <tr>\n",
       "      <th>996</th>\n",
       "      <td>1.336141</td>\n",
       "      <td>False</td>\n",
       "      <td>2.721816</td>\n",
       "      <td>0.182515</td>\n",
       "      <td>5.479001</td>\n",
       "    </tr>\n",
       "    <tr>\n",
       "      <th>997</th>\n",
       "      <td>-0.143527</td>\n",
       "      <td>False</td>\n",
       "      <td>-0.421825</td>\n",
       "      <td>0.517062</td>\n",
       "      <td>1.934005</td>\n",
       "    </tr>\n",
       "    <tr>\n",
       "      <th>998</th>\n",
       "      <td>-0.399153</td>\n",
       "      <td>False</td>\n",
       "      <td>-1.246800</td>\n",
       "      <td>0.583973</td>\n",
       "      <td>1.712409</td>\n",
       "    </tr>\n",
       "    <tr>\n",
       "      <th>999</th>\n",
       "      <td>-1.832077</td>\n",
       "      <td>False</td>\n",
       "      <td>-2.103029</td>\n",
       "      <td>0.864976</td>\n",
       "      <td>1.156101</td>\n",
       "    </tr>\n",
       "  </tbody>\n",
       "</table>\n",
       "<p>1000 rows × 5 columns</p>\n",
       "</div>"
      ],
      "text/plain": [
       "           W0     v0         y  propensity_score    weight\n",
       "0    0.686850  False  1.336979          0.307573  3.251263\n",
       "1   -0.968684  False -2.292953          0.719606  1.389649\n",
       "2    0.208372  False  1.270343          0.424444  2.356022\n",
       "3   -0.039039  False  0.876932          0.489394  2.043342\n",
       "4    1.195703  False  1.539124          0.205771  4.859778\n",
       "..        ...    ...       ...               ...       ...\n",
       "995  1.606665  False  2.004791          0.143562  6.965625\n",
       "996  1.336141  False  2.721816          0.182515  5.479001\n",
       "997 -0.143527  False -0.421825          0.517062  1.934005\n",
       "998 -0.399153  False -1.246800          0.583973  1.712409\n",
       "999 -1.832077  False -2.103029          0.864976  1.156101\n",
       "\n",
       "[1000 rows x 5 columns]"
      ]
     },
     "execution_count": 6,
     "metadata": {},
     "output_type": "execute_result"
    }
   ],
   "source": [
    "cdf_0"
   ]
  },
  {
   "cell_type": "code",
   "execution_count": 7,
   "metadata": {
    "execution": {
     "iopub.execute_input": "2025-08-26T20:27:55.551129Z",
     "iopub.status.busy": "2025-08-26T20:27:55.550738Z",
     "iopub.status.idle": "2025-08-26T20:27:55.559248Z",
     "shell.execute_reply": "2025-08-26T20:27:55.558525Z"
    }
   },
   "outputs": [
    {
     "data": {
      "text/html": [
       "<div>\n",
       "<style scoped>\n",
       "    .dataframe tbody tr th:only-of-type {\n",
       "        vertical-align: middle;\n",
       "    }\n",
       "\n",
       "    .dataframe tbody tr th {\n",
       "        vertical-align: top;\n",
       "    }\n",
       "\n",
       "    .dataframe thead th {\n",
       "        text-align: right;\n",
       "    }\n",
       "</style>\n",
       "<table border=\"1\" class=\"dataframe\">\n",
       "  <thead>\n",
       "    <tr style=\"text-align: right;\">\n",
       "      <th></th>\n",
       "      <th>W0</th>\n",
       "      <th>v0</th>\n",
       "      <th>y</th>\n",
       "      <th>propensity_score</th>\n",
       "      <th>weight</th>\n",
       "    </tr>\n",
       "  </thead>\n",
       "  <tbody>\n",
       "    <tr>\n",
       "      <th>0</th>\n",
       "      <td>0.486018</td>\n",
       "      <td>True</td>\n",
       "      <td>5.731617</td>\n",
       "      <td>0.645362</td>\n",
       "      <td>1.549517</td>\n",
       "    </tr>\n",
       "    <tr>\n",
       "      <th>1</th>\n",
       "      <td>-2.019900</td>\n",
       "      <td>True</td>\n",
       "      <td>1.438117</td>\n",
       "      <td>0.113423</td>\n",
       "      <td>8.816575</td>\n",
       "    </tr>\n",
       "    <tr>\n",
       "      <th>2</th>\n",
       "      <td>0.779625</td>\n",
       "      <td>True</td>\n",
       "      <td>5.351522</td>\n",
       "      <td>0.712956</td>\n",
       "      <td>1.402611</td>\n",
       "    </tr>\n",
       "    <tr>\n",
       "      <th>3</th>\n",
       "      <td>1.599964</td>\n",
       "      <td>True</td>\n",
       "      <td>9.187401</td>\n",
       "      <td>0.855563</td>\n",
       "      <td>1.168821</td>\n",
       "    </tr>\n",
       "    <tr>\n",
       "      <th>4</th>\n",
       "      <td>-1.085253</td>\n",
       "      <td>True</td>\n",
       "      <td>3.149118</td>\n",
       "      <td>0.256163</td>\n",
       "      <td>3.903769</td>\n",
       "    </tr>\n",
       "    <tr>\n",
       "      <th>...</th>\n",
       "      <td>...</td>\n",
       "      <td>...</td>\n",
       "      <td>...</td>\n",
       "      <td>...</td>\n",
       "      <td>...</td>\n",
       "    </tr>\n",
       "    <tr>\n",
       "      <th>995</th>\n",
       "      <td>1.028011</td>\n",
       "      <td>True</td>\n",
       "      <td>6.188327</td>\n",
       "      <td>0.763677</td>\n",
       "      <td>1.309455</td>\n",
       "    </tr>\n",
       "    <tr>\n",
       "      <th>996</th>\n",
       "      <td>-0.070812</td>\n",
       "      <td>True</td>\n",
       "      <td>6.911912</td>\n",
       "      <td>0.502191</td>\n",
       "      <td>1.991272</td>\n",
       "    </tr>\n",
       "    <tr>\n",
       "      <th>997</th>\n",
       "      <td>-1.238410</td>\n",
       "      <td>True</td>\n",
       "      <td>1.942119</td>\n",
       "      <td>0.226483</td>\n",
       "      <td>4.415339</td>\n",
       "    </tr>\n",
       "    <tr>\n",
       "      <th>998</th>\n",
       "      <td>0.120633</td>\n",
       "      <td>True</td>\n",
       "      <td>6.926872</td>\n",
       "      <td>0.552703</td>\n",
       "      <td>1.809290</td>\n",
       "    </tr>\n",
       "    <tr>\n",
       "      <th>999</th>\n",
       "      <td>-1.844860</td>\n",
       "      <td>True</td>\n",
       "      <td>2.818377</td>\n",
       "      <td>0.133450</td>\n",
       "      <td>7.493462</td>\n",
       "    </tr>\n",
       "  </tbody>\n",
       "</table>\n",
       "<p>1000 rows × 5 columns</p>\n",
       "</div>"
      ],
      "text/plain": [
       "           W0    v0         y  propensity_score    weight\n",
       "0    0.486018  True  5.731617          0.645362  1.549517\n",
       "1   -2.019900  True  1.438117          0.113423  8.816575\n",
       "2    0.779625  True  5.351522          0.712956  1.402611\n",
       "3    1.599964  True  9.187401          0.855563  1.168821\n",
       "4   -1.085253  True  3.149118          0.256163  3.903769\n",
       "..        ...   ...       ...               ...       ...\n",
       "995  1.028011  True  6.188327          0.763677  1.309455\n",
       "996 -0.070812  True  6.911912          0.502191  1.991272\n",
       "997 -1.238410  True  1.942119          0.226483  4.415339\n",
       "998  0.120633  True  6.926872          0.552703  1.809290\n",
       "999 -1.844860  True  2.818377          0.133450  7.493462\n",
       "\n",
       "[1000 rows x 5 columns]"
      ]
     },
     "execution_count": 7,
     "metadata": {},
     "output_type": "execute_result"
    }
   ],
   "source": [
    "cdf_1"
   ]
  },
  {
   "cell_type": "markdown",
   "metadata": {},
   "source": [
    "## Comparing the estimate to Linear Regression\n",
    "First, estimating the effect using the causal data frame, and the 95% confidence interval."
   ]
  },
  {
   "cell_type": "code",
   "execution_count": 8,
   "metadata": {
    "execution": {
     "iopub.execute_input": "2025-08-26T20:27:55.561326Z",
     "iopub.status.busy": "2025-08-26T20:27:55.560937Z",
     "iopub.status.idle": "2025-08-26T20:27:55.624790Z",
     "shell.execute_reply": "2025-08-26T20:27:55.624204Z"
    }
   },
   "outputs": [
    {
     "data": {
      "image/png": "[encoded data removed]",
      "text/latex": [
       "$\\displaystyle 4.81384155047008$"
      ],
      "text/plain": [
       "np.float64(4.813841550470084)"
      ]
     },
     "execution_count": 8,
     "metadata": {},
     "output_type": "execute_result"
    }
   ],
   "source": [
    "(cdf_1['y'] - cdf_0['y']).mean()"
   ]
  },
  {
   "cell_type": "code",
   "execution_count": 9,
   "metadata": {
    "execution": {
     "iopub.execute_input": "2025-08-26T20:27:55.626605Z",
     "iopub.status.busy": "2025-08-26T20:27:55.626420Z",
     "iopub.status.idle": "2025-08-26T20:27:55.644043Z",
     "shell.execute_reply": "2025-08-26T20:27:55.643535Z"
    }
   },
   "outputs": [
    {
     "data": {
      "image/png": "[encoded data removed]",
      "text/latex": [
       "$\\displaystyle 0.160219938187493$"
      ],
      "text/plain": [
       "np.float64(0.16021993818749336)"
      ]
     },
     "execution_count": 9,
     "metadata": {},
     "output_type": "execute_result"
    }
   ],
   "source": [
    "1.96*(cdf_1['y'] - cdf_0['y']).std() / np.sqrt(len(df))"
   ]
  },
  {
   "cell_type": "markdown",
   "metadata": {},
   "source": [
    "Comparing to the estimate from OLS."
   ]
  },
  {
   "cell_type": "code",
   "execution_count": 10,
   "metadata": {
    "execution": {
     "iopub.execute_input": "2025-08-26T20:27:55.646239Z",
     "iopub.status.busy": "2025-08-26T20:27:55.645837Z",
     "iopub.status.idle": "2025-08-26T20:27:55.665520Z",
     "shell.execute_reply": "2025-08-26T20:27:55.664964Z"
    }
   },
   "outputs": [
    {
     "data": {
      "text/html": [
       "<table class=\"simpletable\">\n",
       "<caption>OLS Regression Results</caption>\n",
       "<tr>\n",
       "  <th>Dep. Variable:</th>            <td>y</td>        <th>  R-squared (uncentered):</th>      <td>   0.955</td> \n",
       "</tr>\n",
       "<tr>\n",
       "  <th>Model:</th>                   <td>OLS</td>       <th>  Adj. R-squared (uncentered):</th> <td>   0.954</td> \n",
       "</tr>\n",
       "<tr>\n",
       "  <th>Method:</th>             <td>Least Squares</td>  <th>  F-statistic:       </th>          <td>1.047e+04</td>\n",
       "</tr>\n",
       "<tr>\n",
       "  <th>Date:</th>             <td>Tue, 26 Aug 2025</td> <th>  Prob (F-statistic):</th>           <td>  0.00</td>  \n",
       "</tr>\n",
       "<tr>\n",
       "  <th>Time:</th>                 <td>20:27:55</td>     <th>  Log-Likelihood:    </th>          <td> -1375.7</td> \n",
       "</tr>\n",
       "<tr>\n",
       "  <th>No. Observations:</th>      <td>  1000</td>      <th>  AIC:               </th>          <td>   2755.</td> \n",
       "</tr>\n",
       "<tr>\n",
       "  <th>Df Residuals:</th>          <td>   998</td>      <th>  BIC:               </th>          <td>   2765.</td> \n",
       "</tr>\n",
       "<tr>\n",
       "  <th>Df Model:</th>              <td>     2</td>      <th>                     </th>              <td> </td>    \n",
       "</tr>\n",
       "<tr>\n",
       "  <th>Covariance Type:</th>      <td>nonrobust</td>    <th>                     </th>              <td> </td>    \n",
       "</tr>\n",
       "</table>\n",
       "<table class=\"simpletable\">\n",
       "<tr>\n",
       "   <td></td>     <th>coef</th>     <th>std err</th>      <th>t</th>      <th>P>|t|</th>  <th>[0.025</th>    <th>0.975]</th>  \n",
       "</tr>\n",
       "<tr>\n",
       "  <th>x1</th> <td>    1.5378</td> <td>    0.031</td> <td>   48.913</td> <td> 0.000</td> <td>    1.476</td> <td>    1.600</td>\n",
       "</tr>\n",
       "<tr>\n",
       "  <th>x2</th> <td>    5.0199</td> <td>    0.044</td> <td>  113.339</td> <td> 0.000</td> <td>    4.933</td> <td>    5.107</td>\n",
       "</tr>\n",
       "</table>\n",
       "<table class=\"simpletable\">\n",
       "<tr>\n",
       "  <th>Omnibus:</th>       <td> 3.734</td> <th>  Durbin-Watson:     </th> <td>   1.931</td>\n",
       "</tr>\n",
       "<tr>\n",
       "  <th>Prob(Omnibus):</th> <td> 0.155</td> <th>  Jarque-Bera (JB):  </th> <td>   3.814</td>\n",
       "</tr>\n",
       "<tr>\n",
       "  <th>Skew:</th>          <td>-0.092</td> <th>  Prob(JB):          </th> <td>   0.149</td>\n",
       "</tr>\n",
       "<tr>\n",
       "  <th>Kurtosis:</th>      <td> 3.240</td> <th>  Cond. No.          </th> <td>    1.62</td>\n",
       "</tr>\n",
       "</table><br/><br/>Notes:<br/>[1] R² is computed without centering (uncentered) since the model does not contain a constant.<br/>[2] Standard Errors assume that the covariance matrix of the errors is correctly specified."
      ],
      "text/latex": [
       "\\begin{center}\n",
       "\\begin{tabular}{lclc}\n",
       "\\toprule\n",
       "\\textbf{Dep. Variable:}    &        y         & \\textbf{  R-squared (uncentered):}      &     0.955   \\\\\n",
       "\\textbf{Model:}            &       OLS        & \\textbf{  Adj. R-squared (uncentered):} &     0.954   \\\\\n",
       "\\textbf{Method:}           &  Least Squares   & \\textbf{  F-statistic:       }          & 1.047e+04   \\\\\n",
       "\\textbf{Date:}             & Tue, 26 Aug 2025 & \\textbf{  Prob (F-statistic):}          &     0.00    \\\\\n",
       "\\textbf{Time:}             &     20:27:55     & \\textbf{  Log-Likelihood:    }          &   -1375.7   \\\\\n",
       "\\textbf{No. Observations:} &        1000      & \\textbf{  AIC:               }          &     2755.   \\\\\n",
       "\\textbf{Df Residuals:}     &         998      & \\textbf{  BIC:               }          &     2765.   \\\\\n",
       "\\textbf{Df Model:}         &           2      & \\textbf{                     }          &             \\\\\n",
       "\\textbf{Covariance Type:}  &    nonrobust     & \\textbf{                     }          &             \\\\\n",
       "\\bottomrule\n",
       "\\end{tabular}\n",
       "\\begin{tabular}{lcccccc}\n",
       "            & \\textbf{coef} & \\textbf{std err} & \\textbf{t} & \\textbf{P$> |$t$|$} & \\textbf{[0.025} & \\textbf{0.975]}  \\\\\n",
       "\\midrule\n",
       "\\textbf{x1} &       1.5378  &        0.031     &    48.913  &         0.000        &        1.476    &        1.600     \\\\\n",
       "\\textbf{x2} &       5.0199  &        0.044     &   113.339  &         0.000        &        4.933    &        5.107     \\\\\n",
       "\\bottomrule\n",
       "\\end{tabular}\n",
       "\\begin{tabular}{lclc}\n",
       "\\textbf{Omnibus:}       &  3.734 & \\textbf{  Durbin-Watson:     } &    1.931  \\\\\n",
       "\\textbf{Prob(Omnibus):} &  0.155 & \\textbf{  Jarque-Bera (JB):  } &    3.814  \\\\\n",
       "\\textbf{Skew:}          & -0.092 & \\textbf{  Prob(JB):          } &    0.149  \\\\\n",
       "\\textbf{Kurtosis:}      &  3.240 & \\textbf{  Cond. No.          } &     1.62  \\\\\n",
       "\\bottomrule\n",
       "\\end{tabular}\n",
       "%\\caption{OLS Regression Results}\n",
       "\\end{center}\n",
       "\n",
       "Notes: \\newline\n",
       " [1] R² is computed without centering (uncentered) since the model does not contain a constant. \\newline\n",
       " [2] Standard Errors assume that the covariance matrix of the errors is correctly specified."
      ],
      "text/plain": [
       "<class 'statsmodels.iolib.summary.Summary'>\n",
       "\"\"\"\n",
       "                                 OLS Regression Results                                \n",
       "=======================================================================================\n",
       "Dep. Variable:                      y   R-squared (uncentered):                   0.955\n",
       "Model:                            OLS   Adj. R-squared (uncentered):              0.954\n",
       "Method:                 Least Squares   F-statistic:                          1.047e+04\n",
       "Date:                Tue, 26 Aug 2025   Prob (F-statistic):                        0.00\n",
       "Time:                        20:27:55   Log-Likelihood:                         -1375.7\n",
       "No. Observations:                1000   AIC:                                      2755.\n",
       "Df Residuals:                     998   BIC:                                      2765.\n",
       "Df Model:                           2                                                  \n",
       "Covariance Type:            nonrobust                                                  \n",
       "==============================================================================\n",
       "                 coef    std err          t      P>|t|      [0.025      0.975]\n",
       "------------------------------------------------------------------------------\n",
       "x1             1.5378      0.031     48.913      0.000       1.476       1.600\n",
       "x2             5.0199      0.044    113.339      0.000       4.933       5.107\n",
       "==============================================================================\n",
       "Omnibus:                        3.734   Durbin-Watson:                   1.931\n",
       "Prob(Omnibus):                  0.155   Jarque-Bera (JB):                3.814\n",
       "Skew:                          -0.092   Prob(JB):                        0.149\n",
       "Kurtosis:                       3.240   Cond. No.                         1.62\n",
       "==============================================================================\n",
       "\n",
       "Notes:\n",
       "[1] R² is computed without centering (uncentered) since the model does not contain a constant.\n",
       "[2] Standard Errors assume that the covariance matrix of the errors is correctly specified.\n",
       "\"\"\""
      ]
     },
     "execution_count": 10,
     "metadata": {},
     "output_type": "execute_result"
    }
   ],
   "source": [
    "model = OLS(np.asarray(df[outcome]), np.asarray(df[[common_cause, treatment]], dtype=np.float64))\n",
    "result = model.fit()\n",
    "result.summary()"
   ]
  }
 ],
 "metadata": {
  "kernelspec": {
   "display_name": "Python 3 (ipykernel)",
   "language": "python",
   "name": "python3"
  },
  "language_info": {
   "codemirror_mode": {
    "name": "ipython",
    "version": 3
   },
   "file_extension": ".py",
   "mimetype": "text/x-python",
   "name": "python",
   "nbconvert_exporter": "python",
   "pygments_lexer": "ipython3",
   "version": "3.9.23"
  },
  "toc": {
   "base_numbering": 1,
   "nav_menu": {},
   "number_sections": false,
   "sideBar": true,
   "skip_h1_title": true,
   "title_cell": "Table of Contents",
   "title_sidebar": "Contents",
   "toc_cell": false,
   "toc_position": {},
   "toc_section_display": true,
   "toc_window_display": false
  }
 },
 "nbformat": 4,
 "nbformat_minor": 4
}
