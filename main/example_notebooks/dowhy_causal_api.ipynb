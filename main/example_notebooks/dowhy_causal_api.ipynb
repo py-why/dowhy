{
 "cells": [
  {
   "cell_type": "markdown",
   "metadata": {},
   "source": [
    "# Demo for the DoWhy causal API\n",
    "We show a simple example of adding a causal extension to any dataframe. "
   ]
  },
  {
   "cell_type": "code",
   "execution_count": 1,
   "metadata": {
    "execution": {
     "iopub.execute_input": "2025-07-12T13:31:28.428299Z",
     "iopub.status.busy": "2025-07-12T13:31:28.428103Z",
     "iopub.status.idle": "2025-07-12T13:31:30.075825Z",
     "shell.execute_reply": "2025-07-12T13:31:30.075078Z"
    }
   },
   "outputs": [],
   "source": [
    "import dowhy.datasets\n",
    "import dowhy.api\n",
    "from dowhy.graph import build_graph_from_str\n",
    "\n",
    "import numpy as np\n",
    "import pandas as pd\n",
    "\n",
    "from statsmodels.api import OLS"
   ]
  },
  {
   "cell_type": "code",
   "execution_count": 2,
   "metadata": {
    "execution": {
     "iopub.execute_input": "2025-07-12T13:31:30.078839Z",
     "iopub.status.busy": "2025-07-12T13:31:30.078177Z",
     "iopub.status.idle": "2025-07-12T13:31:30.126417Z",
     "shell.execute_reply": "2025-07-12T13:31:30.125768Z"
    }
   },
   "outputs": [
    {
     "data": {
      "text/html": [
       "<div>\n",
       "<style scoped>\n",
       "    .dataframe tbody tr th:only-of-type {\n",
       "        vertical-align: middle;\n",
       "    }\n",
       "\n",
       "    .dataframe tbody tr th {\n",
       "        vertical-align: top;\n",
       "    }\n",
       "\n",
       "    .dataframe thead th {\n",
       "        text-align: right;\n",
       "    }\n",
       "</style>\n",
       "<table border=\"1\" class=\"dataframe\">\n",
       "  <thead>\n",
       "    <tr style=\"text-align: right;\">\n",
       "      <th></th>\n",
       "      <th>W0</th>\n",
       "      <th>v0</th>\n",
       "      <th>y</th>\n",
       "    </tr>\n",
       "  </thead>\n",
       "  <tbody>\n",
       "    <tr>\n",
       "      <th>0</th>\n",
       "      <td>1.126207</td>\n",
       "      <td>True</td>\n",
       "      <td>5.708383</td>\n",
       "    </tr>\n",
       "    <tr>\n",
       "      <th>1</th>\n",
       "      <td>0.194662</td>\n",
       "      <td>True</td>\n",
       "      <td>4.458799</td>\n",
       "    </tr>\n",
       "    <tr>\n",
       "      <th>2</th>\n",
       "      <td>-0.890225</td>\n",
       "      <td>False</td>\n",
       "      <td>-0.587778</td>\n",
       "    </tr>\n",
       "    <tr>\n",
       "      <th>3</th>\n",
       "      <td>-1.193605</td>\n",
       "      <td>False</td>\n",
       "      <td>-2.972660</td>\n",
       "    </tr>\n",
       "    <tr>\n",
       "      <th>4</th>\n",
       "      <td>-1.124739</td>\n",
       "      <td>False</td>\n",
       "      <td>-2.484263</td>\n",
       "    </tr>\n",
       "    <tr>\n",
       "      <th>...</th>\n",
       "      <td>...</td>\n",
       "      <td>...</td>\n",
       "      <td>...</td>\n",
       "    </tr>\n",
       "    <tr>\n",
       "      <th>995</th>\n",
       "      <td>-1.058410</td>\n",
       "      <td>False</td>\n",
       "      <td>0.049183</td>\n",
       "    </tr>\n",
       "    <tr>\n",
       "      <th>996</th>\n",
       "      <td>1.191404</td>\n",
       "      <td>True</td>\n",
       "      <td>7.846379</td>\n",
       "    </tr>\n",
       "    <tr>\n",
       "      <th>997</th>\n",
       "      <td>-1.421523</td>\n",
       "      <td>False</td>\n",
       "      <td>-2.684433</td>\n",
       "    </tr>\n",
       "    <tr>\n",
       "      <th>998</th>\n",
       "      <td>-1.393301</td>\n",
       "      <td>False</td>\n",
       "      <td>-2.700220</td>\n",
       "    </tr>\n",
       "    <tr>\n",
       "      <th>999</th>\n",
       "      <td>1.004237</td>\n",
       "      <td>False</td>\n",
       "      <td>0.673900</td>\n",
       "    </tr>\n",
       "  </tbody>\n",
       "</table>\n",
       "<p>1000 rows × 3 columns</p>\n",
       "</div>"
      ],
      "text/plain": [
       "           W0     v0         y\n",
       "0    1.126207   True  5.708383\n",
       "1    0.194662   True  4.458799\n",
       "2   -0.890225  False -0.587778\n",
       "3   -1.193605  False -2.972660\n",
       "4   -1.124739  False -2.484263\n",
       "..        ...    ...       ...\n",
       "995 -1.058410  False  0.049183\n",
       "996  1.191404   True  7.846379\n",
       "997 -1.421523  False -2.684433\n",
       "998 -1.393301  False -2.700220\n",
       "999  1.004237  False  0.673900\n",
       "\n",
       "[1000 rows x 3 columns]"
      ]
     },
     "execution_count": 2,
     "metadata": {},
     "output_type": "execute_result"
    }
   ],
   "source": [
    "data = dowhy.datasets.linear_dataset(beta=5,\n",
    "        num_common_causes=1,\n",
    "        num_instruments = 0,\n",
    "        num_samples=1000,\n",
    "        treatment_is_binary=True)\n",
    "df = data['df']\n",
    "df['y'] = df['y'] + np.random.normal(size=len(df)) # Adding noise to data. Without noise, the variance in Y|X, Z is zero, and mcmc fails.\n",
    "nx_graph = build_graph_from_str(data[\"dot_graph\"])\n",
    "\n",
    "treatment= data[\"treatment_name\"][0]\n",
    "outcome = data[\"outcome_name\"][0]\n",
    "common_cause = data[\"common_causes_names\"][0]\n",
    "df"
   ]
  },
  {
   "cell_type": "code",
   "execution_count": 3,
   "metadata": {
    "execution": {
     "iopub.execute_input": "2025-07-12T13:31:30.128699Z",
     "iopub.status.busy": "2025-07-12T13:31:30.128229Z",
     "iopub.status.idle": "2025-07-12T13:31:30.302757Z",
     "shell.execute_reply": "2025-07-12T13:31:30.302112Z"
    },
    "scrolled": true
   },
   "outputs": [
    {
     "data": {
      "text/plain": [
       "<Axes: xlabel='v0'>"
      ]
     },
     "execution_count": 3,
     "metadata": {},
     "output_type": "execute_result"
    },
    {
     "data": {
      "image/png": "[encoded data removed]",
      "text/plain": [
       "<Figure size 640x480 with 1 Axes>"
      ]
     },
     "metadata": {},
     "output_type": "display_data"
    }
   ],
   "source": [
    "# data['df'] is just a regular pandas.DataFrame\n",
    "df.causal.do(x=treatment,\n",
    "             variable_types={treatment: 'b', outcome: 'c', common_cause: 'c'},\n",
    "             outcome=outcome,\n",
    "             common_causes=[common_cause],\n",
    "            ).groupby(treatment).mean().plot(y=outcome, kind='bar')"
   ]
  },
  {
   "cell_type": "code",
   "execution_count": 4,
   "metadata": {
    "execution": {
     "iopub.execute_input": "2025-07-12T13:31:30.306074Z",
     "iopub.status.busy": "2025-07-12T13:31:30.304907Z",
     "iopub.status.idle": "2025-07-12T13:31:30.518783Z",
     "shell.execute_reply": "2025-07-12T13:31:30.518227Z"
    }
   },
   "outputs": [
    {
     "data": {
      "text/plain": [
       "<Axes: xlabel='v0'>"
      ]
     },
     "execution_count": 4,
     "metadata": {},
     "output_type": "execute_result"
    },
    {
     "data": {
      "image/png": "[encoded data removed]",
      "text/plain": [
       "<Figure size 640x480 with 1 Axes>"
      ]
     },
     "metadata": {},
     "output_type": "display_data"
    }
   ],
   "source": [
    "df.causal.do(x={treatment: 1}, \n",
    "              variable_types={treatment:'b', outcome: 'c', common_cause: 'c'}, \n",
    "              outcome=outcome,\n",
    "              method='weighting', \n",
    "              common_causes=[common_cause]\n",
    "              ).groupby(treatment).mean().plot(y=outcome, kind='bar')"
   ]
  },
  {
   "cell_type": "code",
   "execution_count": 5,
   "metadata": {
    "execution": {
     "iopub.execute_input": "2025-07-12T13:31:30.521100Z",
     "iopub.status.busy": "2025-07-12T13:31:30.520700Z",
     "iopub.status.idle": "2025-07-12T13:31:30.541636Z",
     "shell.execute_reply": "2025-07-12T13:31:30.541127Z"
    }
   },
   "outputs": [],
   "source": [
    "cdf_1 = df.causal.do(x={treatment: 1}, \n",
    "              variable_types={treatment: 'b', outcome: 'c', common_cause: 'c'}, \n",
    "              outcome=outcome, \n",
    "              graph=nx_graph\n",
    "              )\n",
    "\n",
    "cdf_0 = df.causal.do(x={treatment: 0}, \n",
    "              variable_types={treatment: 'b', outcome: 'c', common_cause: 'c'}, \n",
    "              outcome=outcome, \n",
    "              graph=nx_graph\n",
    "              )\n"
   ]
  },
  {
   "cell_type": "code",
   "execution_count": 6,
   "metadata": {
    "execution": {
     "iopub.execute_input": "2025-07-12T13:31:30.543493Z",
     "iopub.status.busy": "2025-07-12T13:31:30.543279Z",
     "iopub.status.idle": "2025-07-12T13:31:30.552129Z",
     "shell.execute_reply": "2025-07-12T13:31:30.551496Z"
    },
    "scrolled": true
   },
   "outputs": [
    {
     "data": {
      "text/html": [
       "<div>\n",
       "<style scoped>\n",
       "    .dataframe tbody tr th:only-of-type {\n",
       "        vertical-align: middle;\n",
       "    }\n",
       "\n",
       "    .dataframe tbody tr th {\n",
       "        vertical-align: top;\n",
       "    }\n",
       "\n",
       "    .dataframe thead th {\n",
       "        text-align: right;\n",
       "    }\n",
       "</style>\n",
       "<table border=\"1\" class=\"dataframe\">\n",
       "  <thead>\n",
       "    <tr style=\"text-align: right;\">\n",
       "      <th></th>\n",
       "      <th>W0</th>\n",
       "      <th>v0</th>\n",
       "      <th>y</th>\n",
       "      <th>propensity_score</th>\n",
       "      <th>weight</th>\n",
       "    </tr>\n",
       "  </thead>\n",
       "  <tbody>\n",
       "    <tr>\n",
       "      <th>0</th>\n",
       "      <td>0.144154</td>\n",
       "      <td>False</td>\n",
       "      <td>1.576891</td>\n",
       "      <td>0.454240</td>\n",
       "      <td>2.201479</td>\n",
       "    </tr>\n",
       "    <tr>\n",
       "      <th>1</th>\n",
       "      <td>0.443734</td>\n",
       "      <td>False</td>\n",
       "      <td>1.150614</td>\n",
       "      <td>0.339762</td>\n",
       "      <td>2.943232</td>\n",
       "    </tr>\n",
       "    <tr>\n",
       "      <th>2</th>\n",
       "      <td>-1.421523</td>\n",
       "      <td>False</td>\n",
       "      <td>-2.684433</td>\n",
       "      <td>0.911269</td>\n",
       "      <td>1.097371</td>\n",
       "    </tr>\n",
       "    <tr>\n",
       "      <th>3</th>\n",
       "      <td>-1.031431</td>\n",
       "      <td>False</td>\n",
       "      <td>-1.651359</td>\n",
       "      <td>0.845947</td>\n",
       "      <td>1.182107</td>\n",
       "    </tr>\n",
       "    <tr>\n",
       "      <th>4</th>\n",
       "      <td>0.038231</td>\n",
       "      <td>False</td>\n",
       "      <td>1.018599</td>\n",
       "      <td>0.496611</td>\n",
       "      <td>2.013647</td>\n",
       "    </tr>\n",
       "    <tr>\n",
       "      <th>...</th>\n",
       "      <td>...</td>\n",
       "      <td>...</td>\n",
       "      <td>...</td>\n",
       "      <td>...</td>\n",
       "      <td>...</td>\n",
       "    </tr>\n",
       "    <tr>\n",
       "      <th>995</th>\n",
       "      <td>0.398076</td>\n",
       "      <td>False</td>\n",
       "      <td>1.211301</td>\n",
       "      <td>0.356388</td>\n",
       "      <td>2.805931</td>\n",
       "    </tr>\n",
       "    <tr>\n",
       "      <th>996</th>\n",
       "      <td>-1.579003</td>\n",
       "      <td>False</td>\n",
       "      <td>-2.328576</td>\n",
       "      <td>0.929692</td>\n",
       "      <td>1.075625</td>\n",
       "    </tr>\n",
       "    <tr>\n",
       "      <th>997</th>\n",
       "      <td>-0.999570</td>\n",
       "      <td>False</td>\n",
       "      <td>-1.315195</td>\n",
       "      <td>0.839165</td>\n",
       "      <td>1.191661</td>\n",
       "    </tr>\n",
       "    <tr>\n",
       "      <th>998</th>\n",
       "      <td>-0.644023</td>\n",
       "      <td>False</td>\n",
       "      <td>-1.046259</td>\n",
       "      <td>0.746760</td>\n",
       "      <td>1.339119</td>\n",
       "    </tr>\n",
       "    <tr>\n",
       "      <th>999</th>\n",
       "      <td>0.553199</td>\n",
       "      <td>False</td>\n",
       "      <td>1.844774</td>\n",
       "      <td>0.301527</td>\n",
       "      <td>3.316449</td>\n",
       "    </tr>\n",
       "  </tbody>\n",
       "</table>\n",
       "<p>1000 rows × 5 columns</p>\n",
       "</div>"
      ],
      "text/plain": [
       "           W0     v0         y  propensity_score    weight\n",
       "0    0.144154  False  1.576891          0.454240  2.201479\n",
       "1    0.443734  False  1.150614          0.339762  2.943232\n",
       "2   -1.421523  False -2.684433          0.911269  1.097371\n",
       "3   -1.031431  False -1.651359          0.845947  1.182107\n",
       "4    0.038231  False  1.018599          0.496611  2.013647\n",
       "..        ...    ...       ...               ...       ...\n",
       "995  0.398076  False  1.211301          0.356388  2.805931\n",
       "996 -1.579003  False -2.328576          0.929692  1.075625\n",
       "997 -0.999570  False -1.315195          0.839165  1.191661\n",
       "998 -0.644023  False -1.046259          0.746760  1.339119\n",
       "999  0.553199  False  1.844774          0.301527  3.316449\n",
       "\n",
       "[1000 rows x 5 columns]"
      ]
     },
     "execution_count": 6,
     "metadata": {},
     "output_type": "execute_result"
    }
   ],
   "source": [
    "cdf_0"
   ]
  },
  {
   "cell_type": "code",
   "execution_count": 7,
   "metadata": {
    "execution": {
     "iopub.execute_input": "2025-07-12T13:31:30.554096Z",
     "iopub.status.busy": "2025-07-12T13:31:30.553733Z",
     "iopub.status.idle": "2025-07-12T13:31:30.561991Z",
     "shell.execute_reply": "2025-07-12T13:31:30.561476Z"
    }
   },
   "outputs": [
    {
     "data": {
      "text/html": [
       "<div>\n",
       "<style scoped>\n",
       "    .dataframe tbody tr th:only-of-type {\n",
       "        vertical-align: middle;\n",
       "    }\n",
       "\n",
       "    .dataframe tbody tr th {\n",
       "        vertical-align: top;\n",
       "    }\n",
       "\n",
       "    .dataframe thead th {\n",
       "        text-align: right;\n",
       "    }\n",
       "</style>\n",
       "<table border=\"1\" class=\"dataframe\">\n",
       "  <thead>\n",
       "    <tr style=\"text-align: right;\">\n",
       "      <th></th>\n",
       "      <th>W0</th>\n",
       "      <th>v0</th>\n",
       "      <th>y</th>\n",
       "      <th>propensity_score</th>\n",
       "      <th>weight</th>\n",
       "    </tr>\n",
       "  </thead>\n",
       "  <tbody>\n",
       "    <tr>\n",
       "      <th>0</th>\n",
       "      <td>-0.951432</td>\n",
       "      <td>True</td>\n",
       "      <td>2.150048</td>\n",
       "      <td>0.171537</td>\n",
       "      <td>5.829638</td>\n",
       "    </tr>\n",
       "    <tr>\n",
       "      <th>1</th>\n",
       "      <td>-1.077715</td>\n",
       "      <td>True</td>\n",
       "      <td>2.477417</td>\n",
       "      <td>0.144619</td>\n",
       "      <td>6.914721</td>\n",
       "    </tr>\n",
       "    <tr>\n",
       "      <th>2</th>\n",
       "      <td>-1.124675</td>\n",
       "      <td>True</td>\n",
       "      <td>4.810409</td>\n",
       "      <td>0.135543</td>\n",
       "      <td>7.377723</td>\n",
       "    </tr>\n",
       "    <tr>\n",
       "      <th>3</th>\n",
       "      <td>-0.361349</td>\n",
       "      <td>True</td>\n",
       "      <td>3.975826</td>\n",
       "      <td>0.348024</td>\n",
       "      <td>2.873366</td>\n",
       "    </tr>\n",
       "    <tr>\n",
       "      <th>4</th>\n",
       "      <td>-1.441561</td>\n",
       "      <td>True</td>\n",
       "      <td>2.855051</td>\n",
       "      <td>0.086165</td>\n",
       "      <td>11.605650</td>\n",
       "    </tr>\n",
       "    <tr>\n",
       "      <th>...</th>\n",
       "      <td>...</td>\n",
       "      <td>...</td>\n",
       "      <td>...</td>\n",
       "      <td>...</td>\n",
       "      <td>...</td>\n",
       "    </tr>\n",
       "    <tr>\n",
       "      <th>995</th>\n",
       "      <td>0.181724</td>\n",
       "      <td>True</td>\n",
       "      <td>4.751500</td>\n",
       "      <td>0.560662</td>\n",
       "      <td>1.783606</td>\n",
       "    </tr>\n",
       "    <tr>\n",
       "      <th>996</th>\n",
       "      <td>-2.661338</td>\n",
       "      <td>True</td>\n",
       "      <td>-0.017964</td>\n",
       "      <td>0.013138</td>\n",
       "      <td>76.115531</td>\n",
       "    </tr>\n",
       "    <tr>\n",
       "      <th>997</th>\n",
       "      <td>-2.021829</td>\n",
       "      <td>True</td>\n",
       "      <td>3.169825</td>\n",
       "      <td>0.035824</td>\n",
       "      <td>27.914614</td>\n",
       "    </tr>\n",
       "    <tr>\n",
       "      <th>998</th>\n",
       "      <td>-0.674430</td>\n",
       "      <td>True</td>\n",
       "      <td>2.293919</td>\n",
       "      <td>0.244123</td>\n",
       "      <td>4.096293</td>\n",
       "    </tr>\n",
       "    <tr>\n",
       "      <th>999</th>\n",
       "      <td>1.056184</td>\n",
       "      <td>True</td>\n",
       "      <td>6.784077</td>\n",
       "      <td>0.838524</td>\n",
       "      <td>1.192572</td>\n",
       "    </tr>\n",
       "  </tbody>\n",
       "</table>\n",
       "<p>1000 rows × 5 columns</p>\n",
       "</div>"
      ],
      "text/plain": [
       "           W0    v0         y  propensity_score     weight\n",
       "0   -0.951432  True  2.150048          0.171537   5.829638\n",
       "1   -1.077715  True  2.477417          0.144619   6.914721\n",
       "2   -1.124675  True  4.810409          0.135543   7.377723\n",
       "3   -0.361349  True  3.975826          0.348024   2.873366\n",
       "4   -1.441561  True  2.855051          0.086165  11.605650\n",
       "..        ...   ...       ...               ...        ...\n",
       "995  0.181724  True  4.751500          0.560662   1.783606\n",
       "996 -2.661338  True -0.017964          0.013138  76.115531\n",
       "997 -2.021829  True  3.169825          0.035824  27.914614\n",
       "998 -0.674430  True  2.293919          0.244123   4.096293\n",
       "999  1.056184  True  6.784077          0.838524   1.192572\n",
       "\n",
       "[1000 rows x 5 columns]"
      ]
     },
     "execution_count": 7,
     "metadata": {},
     "output_type": "execute_result"
    }
   ],
   "source": [
    "cdf_1"
   ]
  },
  {
   "cell_type": "markdown",
   "metadata": {},
   "source": [
    "## Comparing the estimate to Linear Regression\n",
    "First, estimating the effect using the causal data frame, and the 95% confidence interval."
   ]
  },
  {
   "cell_type": "code",
   "execution_count": 8,
   "metadata": {
    "execution": {
     "iopub.execute_input": "2025-07-12T13:31:30.564090Z",
     "iopub.status.busy": "2025-07-12T13:31:30.563635Z",
     "iopub.status.idle": "2025-07-12T13:31:30.626811Z",
     "shell.execute_reply": "2025-07-12T13:31:30.626246Z"
    }
   },
   "outputs": [
    {
     "data": {
      "image/png": "[encoded data removed]",
      "text/latex": [
       "$\\displaystyle 4.79891533372168$"
      ],
      "text/plain": [
       "4.798915333721678"
      ]
     },
     "execution_count": 8,
     "metadata": {},
     "output_type": "execute_result"
    }
   ],
   "source": [
    "(cdf_1['y'] - cdf_0['y']).mean()"
   ]
  },
  {
   "cell_type": "code",
   "execution_count": 9,
   "metadata": {
    "execution": {
     "iopub.execute_input": "2025-07-12T13:31:30.628850Z",
     "iopub.status.busy": "2025-07-12T13:31:30.628377Z",
     "iopub.status.idle": "2025-07-12T13:31:30.646371Z",
     "shell.execute_reply": "2025-07-12T13:31:30.645855Z"
    }
   },
   "outputs": [
    {
     "data": {
      "image/png": "[encoded data removed]",
      "text/latex": [
       "$\\displaystyle 0.173632208394343$"
      ],
      "text/plain": [
       "0.17363220839434282"
      ]
     },
     "execution_count": 9,
     "metadata": {},
     "output_type": "execute_result"
    }
   ],
   "source": [
    "1.96*(cdf_1['y'] - cdf_0['y']).std() / np.sqrt(len(df))"
   ]
  },
  {
   "cell_type": "markdown",
   "metadata": {},
   "source": [
    "Comparing to the estimate from OLS."
   ]
  },
  {
   "cell_type": "code",
   "execution_count": 10,
   "metadata": {
    "execution": {
     "iopub.execute_input": "2025-07-12T13:31:30.648493Z",
     "iopub.status.busy": "2025-07-12T13:31:30.648015Z",
     "iopub.status.idle": "2025-07-12T13:31:30.667993Z",
     "shell.execute_reply": "2025-07-12T13:31:30.667466Z"
    }
   },
   "outputs": [
    {
     "data": {
      "text/html": [
       "<table class=\"simpletable\">\n",
       "<caption>OLS Regression Results</caption>\n",
       "<tr>\n",
       "  <th>Dep. Variable:</th>            <td>y</td>        <th>  R-squared (uncentered):</th>      <td>   0.932</td>\n",
       "</tr>\n",
       "<tr>\n",
       "  <th>Model:</th>                   <td>OLS</td>       <th>  Adj. R-squared (uncentered):</th> <td>   0.932</td>\n",
       "</tr>\n",
       "<tr>\n",
       "  <th>Method:</th>             <td>Least Squares</td>  <th>  F-statistic:       </th>          <td>   6887.</td>\n",
       "</tr>\n",
       "<tr>\n",
       "  <th>Date:</th>             <td>Sat, 12 Jul 2025</td> <th>  Prob (F-statistic):</th>           <td>  0.00</td> \n",
       "</tr>\n",
       "<tr>\n",
       "  <th>Time:</th>                 <td>13:31:30</td>     <th>  Log-Likelihood:    </th>          <td> -1394.1</td>\n",
       "</tr>\n",
       "<tr>\n",
       "  <th>No. Observations:</th>      <td>  1000</td>      <th>  AIC:               </th>          <td>   2792.</td>\n",
       "</tr>\n",
       "<tr>\n",
       "  <th>Df Residuals:</th>          <td>   998</td>      <th>  BIC:               </th>          <td>   2802.</td>\n",
       "</tr>\n",
       "<tr>\n",
       "  <th>Df Model:</th>              <td>     2</td>      <th>                     </th>              <td> </td>   \n",
       "</tr>\n",
       "<tr>\n",
       "  <th>Covariance Type:</th>      <td>nonrobust</td>    <th>                     </th>              <td> </td>   \n",
       "</tr>\n",
       "</table>\n",
       "<table class=\"simpletable\">\n",
       "<tr>\n",
       "   <td></td>     <th>coef</th>     <th>std err</th>      <th>t</th>      <th>P>|t|</th>  <th>[0.025</th>    <th>0.975]</th>  \n",
       "</tr>\n",
       "<tr>\n",
       "  <th>x1</th> <td>    1.6532</td> <td>    0.027</td> <td>   60.169</td> <td> 0.000</td> <td>    1.599</td> <td>    1.707</td>\n",
       "</tr>\n",
       "<tr>\n",
       "  <th>x2</th> <td>    4.9503</td> <td>    0.052</td> <td>   94.549</td> <td> 0.000</td> <td>    4.848</td> <td>    5.053</td>\n",
       "</tr>\n",
       "</table>\n",
       "<table class=\"simpletable\">\n",
       "<tr>\n",
       "  <th>Omnibus:</th>       <td> 1.025</td> <th>  Durbin-Watson:     </th> <td>   2.028</td>\n",
       "</tr>\n",
       "<tr>\n",
       "  <th>Prob(Omnibus):</th> <td> 0.599</td> <th>  Jarque-Bera (JB):  </th> <td>   1.055</td>\n",
       "</tr>\n",
       "<tr>\n",
       "  <th>Skew:</th>          <td>-0.004</td> <th>  Prob(JB):          </th> <td>   0.590</td>\n",
       "</tr>\n",
       "<tr>\n",
       "  <th>Kurtosis:</th>      <td> 2.841</td> <th>  Cond. No.          </th> <td>    1.92</td>\n",
       "</tr>\n",
       "</table><br/><br/>Notes:<br/>[1] R² is computed without centering (uncentered) since the model does not contain a constant.<br/>[2] Standard Errors assume that the covariance matrix of the errors is correctly specified."
      ],
      "text/latex": [
       "\\begin{center}\n",
       "\\begin{tabular}{lclc}\n",
       "\\toprule\n",
       "\\textbf{Dep. Variable:}    &        y         & \\textbf{  R-squared (uncentered):}      &     0.932   \\\\\n",
       "\\textbf{Model:}            &       OLS        & \\textbf{  Adj. R-squared (uncentered):} &     0.932   \\\\\n",
       "\\textbf{Method:}           &  Least Squares   & \\textbf{  F-statistic:       }          &     6887.   \\\\\n",
       "\\textbf{Date:}             & Sat, 12 Jul 2025 & \\textbf{  Prob (F-statistic):}          &     0.00    \\\\\n",
       "\\textbf{Time:}             &     13:31:30     & \\textbf{  Log-Likelihood:    }          &   -1394.1   \\\\\n",
       "\\textbf{No. Observations:} &        1000      & \\textbf{  AIC:               }          &     2792.   \\\\\n",
       "\\textbf{Df Residuals:}     &         998      & \\textbf{  BIC:               }          &     2802.   \\\\\n",
       "\\textbf{Df Model:}         &           2      & \\textbf{                     }          &             \\\\\n",
       "\\textbf{Covariance Type:}  &    nonrobust     & \\textbf{                     }          &             \\\\\n",
       "\\bottomrule\n",
       "\\end{tabular}\n",
       "\\begin{tabular}{lcccccc}\n",
       "            & \\textbf{coef} & \\textbf{std err} & \\textbf{t} & \\textbf{P$> |$t$|$} & \\textbf{[0.025} & \\textbf{0.975]}  \\\\\n",
       "\\midrule\n",
       "\\textbf{x1} &       1.6532  &        0.027     &    60.169  &         0.000        &        1.599    &        1.707     \\\\\n",
       "\\textbf{x2} &       4.9503  &        0.052     &    94.549  &         0.000        &        4.848    &        5.053     \\\\\n",
       "\\bottomrule\n",
       "\\end{tabular}\n",
       "\\begin{tabular}{lclc}\n",
       "\\textbf{Omnibus:}       &  1.025 & \\textbf{  Durbin-Watson:     } &    2.028  \\\\\n",
       "\\textbf{Prob(Omnibus):} &  0.599 & \\textbf{  Jarque-Bera (JB):  } &    1.055  \\\\\n",
       "\\textbf{Skew:}          & -0.004 & \\textbf{  Prob(JB):          } &    0.590  \\\\\n",
       "\\textbf{Kurtosis:}      &  2.841 & \\textbf{  Cond. No.          } &     1.92  \\\\\n",
       "\\bottomrule\n",
       "\\end{tabular}\n",
       "%\\caption{OLS Regression Results}\n",
       "\\end{center}\n",
       "\n",
       "Notes: \\newline\n",
       " [1] R² is computed without centering (uncentered) since the model does not contain a constant. \\newline\n",
       " [2] Standard Errors assume that the covariance matrix of the errors is correctly specified."
      ],
      "text/plain": [
       "<class 'statsmodels.iolib.summary.Summary'>\n",
       "\"\"\"\n",
       "                                 OLS Regression Results                                \n",
       "=======================================================================================\n",
       "Dep. Variable:                      y   R-squared (uncentered):                   0.932\n",
       "Model:                            OLS   Adj. R-squared (uncentered):              0.932\n",
       "Method:                 Least Squares   F-statistic:                              6887.\n",
       "Date:                Sat, 12 Jul 2025   Prob (F-statistic):                        0.00\n",
       "Time:                        13:31:30   Log-Likelihood:                         -1394.1\n",
       "No. Observations:                1000   AIC:                                      2792.\n",
       "Df Residuals:                     998   BIC:                                      2802.\n",
       "Df Model:                           2                                                  \n",
       "Covariance Type:            nonrobust                                                  \n",
       "==============================================================================\n",
       "                 coef    std err          t      P>|t|      [0.025      0.975]\n",
       "------------------------------------------------------------------------------\n",
       "x1             1.6532      0.027     60.169      0.000       1.599       1.707\n",
       "x2             4.9503      0.052     94.549      0.000       4.848       5.053\n",
       "==============================================================================\n",
       "Omnibus:                        1.025   Durbin-Watson:                   2.028\n",
       "Prob(Omnibus):                  0.599   Jarque-Bera (JB):                1.055\n",
       "Skew:                          -0.004   Prob(JB):                        0.590\n",
       "Kurtosis:                       2.841   Cond. No.                         1.92\n",
       "==============================================================================\n",
       "\n",
       "Notes:\n",
       "[1] R² is computed without centering (uncentered) since the model does not contain a constant.\n",
       "[2] Standard Errors assume that the covariance matrix of the errors is correctly specified.\n",
       "\"\"\""
      ]
     },
     "execution_count": 10,
     "metadata": {},
     "output_type": "execute_result"
    }
   ],
   "source": [
    "model = OLS(np.asarray(df[outcome]), np.asarray(df[[common_cause, treatment]], dtype=np.float64))\n",
    "result = model.fit()\n",
    "result.summary()"
   ]
  }
 ],
 "metadata": {
  "kernelspec": {
   "display_name": "Python 3 (ipykernel)",
   "language": "python",
   "name": "python3"
  },
  "language_info": {
   "codemirror_mode": {
    "name": "ipython",
    "version": 3
   },
   "file_extension": ".py",
   "mimetype": "text/x-python",
   "name": "python",
   "nbconvert_exporter": "python",
   "pygments_lexer": "ipython3",
   "version": "3.9.23"
  },
  "toc": {
   "base_numbering": 1,
   "nav_menu": {},
   "number_sections": false,
   "sideBar": true,
   "skip_h1_title": true,
   "title_cell": "Table of Contents",
   "title_sidebar": "Contents",
   "toc_cell": false,
   "toc_position": {},
   "toc_section_display": true,
   "toc_window_display": false
  }
 },
 "nbformat": 4,
 "nbformat_minor": 4
}
