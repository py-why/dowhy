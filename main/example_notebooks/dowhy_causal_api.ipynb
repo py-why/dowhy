{
 "cells": [
  {
   "cell_type": "markdown",
   "metadata": {},
   "source": [
    "# Demo for the DoWhy causal API\n",
    "We show a simple example of adding a causal extension to any dataframe. "
   ]
  },
  {
   "cell_type": "code",
   "execution_count": 1,
   "metadata": {
    "execution": {
     "iopub.execute_input": "2025-08-11T11:05:26.657946Z",
     "iopub.status.busy": "2025-08-11T11:05:26.657320Z",
     "iopub.status.idle": "2025-08-11T11:05:28.503551Z",
     "shell.execute_reply": "2025-08-11T11:05:28.502808Z"
    }
   },
   "outputs": [],
   "source": [
    "import dowhy.datasets\n",
    "import dowhy.api\n",
    "from dowhy.graph import build_graph_from_str\n",
    "\n",
    "import numpy as np\n",
    "import pandas as pd\n",
    "\n",
    "from statsmodels.api import OLS"
   ]
  },
  {
   "cell_type": "code",
   "execution_count": 2,
   "metadata": {
    "execution": {
     "iopub.execute_input": "2025-08-11T11:05:28.506481Z",
     "iopub.status.busy": "2025-08-11T11:05:28.505867Z",
     "iopub.status.idle": "2025-08-11T11:05:28.548430Z",
     "shell.execute_reply": "2025-08-11T11:05:28.547672Z"
    }
   },
   "outputs": [
    {
     "data": {
      "text/html": [
       "<div>\n",
       "<style scoped>\n",
       "    .dataframe tbody tr th:only-of-type {\n",
       "        vertical-align: middle;\n",
       "    }\n",
       "\n",
       "    .dataframe tbody tr th {\n",
       "        vertical-align: top;\n",
       "    }\n",
       "\n",
       "    .dataframe thead th {\n",
       "        text-align: right;\n",
       "    }\n",
       "</style>\n",
       "<table border=\"1\" class=\"dataframe\">\n",
       "  <thead>\n",
       "    <tr style=\"text-align: right;\">\n",
       "      <th></th>\n",
       "      <th>W0</th>\n",
       "      <th>v0</th>\n",
       "      <th>y</th>\n",
       "    </tr>\n",
       "  </thead>\n",
       "  <tbody>\n",
       "    <tr>\n",
       "      <th>0</th>\n",
       "      <td>-1.297527</td>\n",
       "      <td>False</td>\n",
       "      <td>-2.444230</td>\n",
       "    </tr>\n",
       "    <tr>\n",
       "      <th>1</th>\n",
       "      <td>-0.750903</td>\n",
       "      <td>True</td>\n",
       "      <td>4.586710</td>\n",
       "    </tr>\n",
       "    <tr>\n",
       "      <th>2</th>\n",
       "      <td>0.423814</td>\n",
       "      <td>True</td>\n",
       "      <td>4.597054</td>\n",
       "    </tr>\n",
       "    <tr>\n",
       "      <th>3</th>\n",
       "      <td>-0.492698</td>\n",
       "      <td>True</td>\n",
       "      <td>3.996149</td>\n",
       "    </tr>\n",
       "    <tr>\n",
       "      <th>4</th>\n",
       "      <td>-1.196889</td>\n",
       "      <td>False</td>\n",
       "      <td>-0.901873</td>\n",
       "    </tr>\n",
       "    <tr>\n",
       "      <th>...</th>\n",
       "      <td>...</td>\n",
       "      <td>...</td>\n",
       "      <td>...</td>\n",
       "    </tr>\n",
       "    <tr>\n",
       "      <th>995</th>\n",
       "      <td>-1.008442</td>\n",
       "      <td>True</td>\n",
       "      <td>4.409140</td>\n",
       "    </tr>\n",
       "    <tr>\n",
       "      <th>996</th>\n",
       "      <td>-0.418388</td>\n",
       "      <td>False</td>\n",
       "      <td>1.331345</td>\n",
       "    </tr>\n",
       "    <tr>\n",
       "      <th>997</th>\n",
       "      <td>-0.773559</td>\n",
       "      <td>True</td>\n",
       "      <td>4.927800</td>\n",
       "    </tr>\n",
       "    <tr>\n",
       "      <th>998</th>\n",
       "      <td>-0.630556</td>\n",
       "      <td>False</td>\n",
       "      <td>-1.122099</td>\n",
       "    </tr>\n",
       "    <tr>\n",
       "      <th>999</th>\n",
       "      <td>0.105905</td>\n",
       "      <td>False</td>\n",
       "      <td>0.811834</td>\n",
       "    </tr>\n",
       "  </tbody>\n",
       "</table>\n",
       "<p>1000 rows × 3 columns</p>\n",
       "</div>"
      ],
      "text/plain": [
       "           W0     v0         y\n",
       "0   -1.297527  False -2.444230\n",
       "1   -0.750903   True  4.586710\n",
       "2    0.423814   True  4.597054\n",
       "3   -0.492698   True  3.996149\n",
       "4   -1.196889  False -0.901873\n",
       "..        ...    ...       ...\n",
       "995 -1.008442   True  4.409140\n",
       "996 -0.418388  False  1.331345\n",
       "997 -0.773559   True  4.927800\n",
       "998 -0.630556  False -1.122099\n",
       "999  0.105905  False  0.811834\n",
       "\n",
       "[1000 rows x 3 columns]"
      ]
     },
     "execution_count": 2,
     "metadata": {},
     "output_type": "execute_result"
    }
   ],
   "source": [
    "data = dowhy.datasets.linear_dataset(beta=5,\n",
    "        num_common_causes=1,\n",
    "        num_instruments = 0,\n",
    "        num_samples=1000,\n",
    "        treatment_is_binary=True)\n",
    "df = data['df']\n",
    "df['y'] = df['y'] + np.random.normal(size=len(df)) # Adding noise to data. Without noise, the variance in Y|X, Z is zero, and mcmc fails.\n",
    "nx_graph = build_graph_from_str(data[\"dot_graph\"])\n",
    "\n",
    "treatment= data[\"treatment_name\"][0]\n",
    "outcome = data[\"outcome_name\"][0]\n",
    "common_cause = data[\"common_causes_names\"][0]\n",
    "df"
   ]
  },
  {
   "cell_type": "code",
   "execution_count": 3,
   "metadata": {
    "execution": {
     "iopub.execute_input": "2025-08-11T11:05:28.551060Z",
     "iopub.status.busy": "2025-08-11T11:05:28.550413Z",
     "iopub.status.idle": "2025-08-11T11:05:28.812631Z",
     "shell.execute_reply": "2025-08-11T11:05:28.811874Z"
    },
    "scrolled": true
   },
   "outputs": [
    {
     "data": {
      "text/plain": [
       "<Axes: xlabel='v0'>"
      ]
     },
     "execution_count": 3,
     "metadata": {},
     "output_type": "execute_result"
    },
    {
     "data": {
      "image/png": "[encoded data removed]",
      "text/plain": [
       "<Figure size 640x480 with 1 Axes>"
      ]
     },
     "metadata": {},
     "output_type": "display_data"
    }
   ],
   "source": [
    "# data['df'] is just a regular pandas.DataFrame\n",
    "df.causal.do(x=treatment,\n",
    "             variable_types={treatment: 'b', outcome: 'c', common_cause: 'c'},\n",
    "             outcome=outcome,\n",
    "             common_causes=[common_cause],\n",
    "            ).groupby(treatment).mean().plot(y=outcome, kind='bar')"
   ]
  },
  {
   "cell_type": "code",
   "execution_count": 4,
   "metadata": {
    "execution": {
     "iopub.execute_input": "2025-08-11T11:05:28.814950Z",
     "iopub.status.busy": "2025-08-11T11:05:28.814486Z",
     "iopub.status.idle": "2025-08-11T11:05:28.915736Z",
     "shell.execute_reply": "2025-08-11T11:05:28.915016Z"
    }
   },
   "outputs": [
    {
     "data": {
      "text/plain": [
       "<Axes: xlabel='v0'>"
      ]
     },
     "execution_count": 4,
     "metadata": {},
     "output_type": "execute_result"
    },
    {
     "data": {
      "image/png": "[encoded data removed]",
      "text/plain": [
       "<Figure size 640x480 with 1 Axes>"
      ]
     },
     "metadata": {},
     "output_type": "display_data"
    }
   ],
   "source": [
    "df.causal.do(x={treatment: 1}, \n",
    "              variable_types={treatment:'b', outcome: 'c', common_cause: 'c'}, \n",
    "              outcome=outcome,\n",
    "              method='weighting', \n",
    "              common_causes=[common_cause]\n",
    "              ).groupby(treatment).mean().plot(y=outcome, kind='bar')"
   ]
  },
  {
   "cell_type": "code",
   "execution_count": 5,
   "metadata": {
    "execution": {
     "iopub.execute_input": "2025-08-11T11:05:28.918309Z",
     "iopub.status.busy": "2025-08-11T11:05:28.917830Z",
     "iopub.status.idle": "2025-08-11T11:05:28.941540Z",
     "shell.execute_reply": "2025-08-11T11:05:28.940952Z"
    }
   },
   "outputs": [],
   "source": [
    "cdf_1 = df.causal.do(x={treatment: 1}, \n",
    "              variable_types={treatment: 'b', outcome: 'c', common_cause: 'c'}, \n",
    "              outcome=outcome, \n",
    "              graph=nx_graph\n",
    "              )\n",
    "\n",
    "cdf_0 = df.causal.do(x={treatment: 0}, \n",
    "              variable_types={treatment: 'b', outcome: 'c', common_cause: 'c'}, \n",
    "              outcome=outcome, \n",
    "              graph=nx_graph\n",
    "              )\n"
   ]
  },
  {
   "cell_type": "code",
   "execution_count": 6,
   "metadata": {
    "execution": {
     "iopub.execute_input": "2025-08-11T11:05:28.944050Z",
     "iopub.status.busy": "2025-08-11T11:05:28.943651Z",
     "iopub.status.idle": "2025-08-11T11:05:28.953628Z",
     "shell.execute_reply": "2025-08-11T11:05:28.952884Z"
    },
    "scrolled": true
   },
   "outputs": [
    {
     "data": {
      "text/html": [
       "<div>\n",
       "<style scoped>\n",
       "    .dataframe tbody tr th:only-of-type {\n",
       "        vertical-align: middle;\n",
       "    }\n",
       "\n",
       "    .dataframe tbody tr th {\n",
       "        vertical-align: top;\n",
       "    }\n",
       "\n",
       "    .dataframe thead th {\n",
       "        text-align: right;\n",
       "    }\n",
       "</style>\n",
       "<table border=\"1\" class=\"dataframe\">\n",
       "  <thead>\n",
       "    <tr style=\"text-align: right;\">\n",
       "      <th></th>\n",
       "      <th>W0</th>\n",
       "      <th>v0</th>\n",
       "      <th>y</th>\n",
       "      <th>propensity_score</th>\n",
       "      <th>weight</th>\n",
       "    </tr>\n",
       "  </thead>\n",
       "  <tbody>\n",
       "    <tr>\n",
       "      <th>0</th>\n",
       "      <td>-1.504645</td>\n",
       "      <td>False</td>\n",
       "      <td>-1.690800</td>\n",
       "      <td>0.881423</td>\n",
       "      <td>1.134529</td>\n",
       "    </tr>\n",
       "    <tr>\n",
       "      <th>1</th>\n",
       "      <td>-1.271635</td>\n",
       "      <td>False</td>\n",
       "      <td>-0.719883</td>\n",
       "      <td>0.844585</td>\n",
       "      <td>1.184014</td>\n",
       "    </tr>\n",
       "    <tr>\n",
       "      <th>2</th>\n",
       "      <td>-1.536436</td>\n",
       "      <td>False</td>\n",
       "      <td>-1.601381</td>\n",
       "      <td>0.885817</td>\n",
       "      <td>1.128901</td>\n",
       "    </tr>\n",
       "    <tr>\n",
       "      <th>3</th>\n",
       "      <td>-0.521900</td>\n",
       "      <td>False</td>\n",
       "      <td>0.575721</td>\n",
       "      <td>0.664831</td>\n",
       "      <td>1.504141</td>\n",
       "    </tr>\n",
       "    <tr>\n",
       "      <th>4</th>\n",
       "      <td>-0.473614</td>\n",
       "      <td>False</td>\n",
       "      <td>-1.010226</td>\n",
       "      <td>0.650216</td>\n",
       "      <td>1.537949</td>\n",
       "    </tr>\n",
       "    <tr>\n",
       "      <th>...</th>\n",
       "      <td>...</td>\n",
       "      <td>...</td>\n",
       "      <td>...</td>\n",
       "      <td>...</td>\n",
       "      <td>...</td>\n",
       "    </tr>\n",
       "    <tr>\n",
       "      <th>995</th>\n",
       "      <td>-1.851640</td>\n",
       "      <td>False</td>\n",
       "      <td>-1.504164</td>\n",
       "      <td>0.922186</td>\n",
       "      <td>1.084380</td>\n",
       "    </tr>\n",
       "    <tr>\n",
       "      <th>996</th>\n",
       "      <td>-1.108646</td>\n",
       "      <td>False</td>\n",
       "      <td>0.707090</td>\n",
       "      <td>0.813611</td>\n",
       "      <td>1.229089</td>\n",
       "    </tr>\n",
       "    <tr>\n",
       "      <th>997</th>\n",
       "      <td>-1.870935</td>\n",
       "      <td>False</td>\n",
       "      <td>-2.870493</td>\n",
       "      <td>0.924027</td>\n",
       "      <td>1.082219</td>\n",
       "    </tr>\n",
       "    <tr>\n",
       "      <th>998</th>\n",
       "      <td>-1.140591</td>\n",
       "      <td>False</td>\n",
       "      <td>0.611924</td>\n",
       "      <td>0.820036</td>\n",
       "      <td>1.219459</td>\n",
       "    </tr>\n",
       "    <tr>\n",
       "      <th>999</th>\n",
       "      <td>-0.544243</td>\n",
       "      <td>False</td>\n",
       "      <td>-0.518798</td>\n",
       "      <td>0.671491</td>\n",
       "      <td>1.489224</td>\n",
       "    </tr>\n",
       "  </tbody>\n",
       "</table>\n",
       "<p>1000 rows × 5 columns</p>\n",
       "</div>"
      ],
      "text/plain": [
       "           W0     v0         y  propensity_score    weight\n",
       "0   -1.504645  False -1.690800          0.881423  1.134529\n",
       "1   -1.271635  False -0.719883          0.844585  1.184014\n",
       "2   -1.536436  False -1.601381          0.885817  1.128901\n",
       "3   -0.521900  False  0.575721          0.664831  1.504141\n",
       "4   -0.473614  False -1.010226          0.650216  1.537949\n",
       "..        ...    ...       ...               ...       ...\n",
       "995 -1.851640  False -1.504164          0.922186  1.084380\n",
       "996 -1.108646  False  0.707090          0.813611  1.229089\n",
       "997 -1.870935  False -2.870493          0.924027  1.082219\n",
       "998 -1.140591  False  0.611924          0.820036  1.219459\n",
       "999 -0.544243  False -0.518798          0.671491  1.489224\n",
       "\n",
       "[1000 rows x 5 columns]"
      ]
     },
     "execution_count": 6,
     "metadata": {},
     "output_type": "execute_result"
    }
   ],
   "source": [
    "cdf_0"
   ]
  },
  {
   "cell_type": "code",
   "execution_count": 7,
   "metadata": {
    "execution": {
     "iopub.execute_input": "2025-08-11T11:05:28.955894Z",
     "iopub.status.busy": "2025-08-11T11:05:28.955457Z",
     "iopub.status.idle": "2025-08-11T11:05:28.965249Z",
     "shell.execute_reply": "2025-08-11T11:05:28.964632Z"
    }
   },
   "outputs": [
    {
     "data": {
      "text/html": [
       "<div>\n",
       "<style scoped>\n",
       "    .dataframe tbody tr th:only-of-type {\n",
       "        vertical-align: middle;\n",
       "    }\n",
       "\n",
       "    .dataframe tbody tr th {\n",
       "        vertical-align: top;\n",
       "    }\n",
       "\n",
       "    .dataframe thead th {\n",
       "        text-align: right;\n",
       "    }\n",
       "</style>\n",
       "<table border=\"1\" class=\"dataframe\">\n",
       "  <thead>\n",
       "    <tr style=\"text-align: right;\">\n",
       "      <th></th>\n",
       "      <th>W0</th>\n",
       "      <th>v0</th>\n",
       "      <th>y</th>\n",
       "      <th>propensity_score</th>\n",
       "      <th>weight</th>\n",
       "    </tr>\n",
       "  </thead>\n",
       "  <tbody>\n",
       "    <tr>\n",
       "      <th>0</th>\n",
       "      <td>-0.292275</td>\n",
       "      <td>True</td>\n",
       "      <td>4.049878</td>\n",
       "      <td>0.407038</td>\n",
       "      <td>2.456772</td>\n",
       "    </tr>\n",
       "    <tr>\n",
       "      <th>1</th>\n",
       "      <td>-1.833597</td>\n",
       "      <td>True</td>\n",
       "      <td>4.706013</td>\n",
       "      <td>0.079572</td>\n",
       "      <td>12.567210</td>\n",
       "    </tr>\n",
       "    <tr>\n",
       "      <th>2</th>\n",
       "      <td>-2.424888</td>\n",
       "      <td>True</td>\n",
       "      <td>4.041703</td>\n",
       "      <td>0.037578</td>\n",
       "      <td>26.611164</td>\n",
       "    </tr>\n",
       "    <tr>\n",
       "      <th>3</th>\n",
       "      <td>-1.285458</td>\n",
       "      <td>True</td>\n",
       "      <td>3.614333</td>\n",
       "      <td>0.152992</td>\n",
       "      <td>6.536308</td>\n",
       "    </tr>\n",
       "    <tr>\n",
       "      <th>4</th>\n",
       "      <td>0.053056</td>\n",
       "      <td>True</td>\n",
       "      <td>6.841924</td>\n",
       "      <td>0.521985</td>\n",
       "      <td>1.915765</td>\n",
       "    </tr>\n",
       "    <tr>\n",
       "      <th>...</th>\n",
       "      <td>...</td>\n",
       "      <td>...</td>\n",
       "      <td>...</td>\n",
       "      <td>...</td>\n",
       "      <td>...</td>\n",
       "    </tr>\n",
       "    <tr>\n",
       "      <th>995</th>\n",
       "      <td>-1.326290</td>\n",
       "      <td>True</td>\n",
       "      <td>1.728799</td>\n",
       "      <td>0.146013</td>\n",
       "      <td>6.848683</td>\n",
       "    </tr>\n",
       "    <tr>\n",
       "      <th>996</th>\n",
       "      <td>-1.630039</td>\n",
       "      <td>True</td>\n",
       "      <td>2.912754</td>\n",
       "      <td>0.102060</td>\n",
       "      <td>9.798120</td>\n",
       "    </tr>\n",
       "    <tr>\n",
       "      <th>997</th>\n",
       "      <td>-0.887897</td>\n",
       "      <td>True</td>\n",
       "      <td>4.014498</td>\n",
       "      <td>0.235610</td>\n",
       "      <td>4.244296</td>\n",
       "    </tr>\n",
       "    <tr>\n",
       "      <th>998</th>\n",
       "      <td>-0.546227</td>\n",
       "      <td>True</td>\n",
       "      <td>3.670496</td>\n",
       "      <td>0.327921</td>\n",
       "      <td>3.049514</td>\n",
       "    </tr>\n",
       "    <tr>\n",
       "      <th>999</th>\n",
       "      <td>-0.669044</td>\n",
       "      <td>True</td>\n",
       "      <td>5.264007</td>\n",
       "      <td>0.292618</td>\n",
       "      <td>3.417420</td>\n",
       "    </tr>\n",
       "  </tbody>\n",
       "</table>\n",
       "<p>1000 rows × 5 columns</p>\n",
       "</div>"
      ],
      "text/plain": [
       "           W0    v0         y  propensity_score     weight\n",
       "0   -0.292275  True  4.049878          0.407038   2.456772\n",
       "1   -1.833597  True  4.706013          0.079572  12.567210\n",
       "2   -2.424888  True  4.041703          0.037578  26.611164\n",
       "3   -1.285458  True  3.614333          0.152992   6.536308\n",
       "4    0.053056  True  6.841924          0.521985   1.915765\n",
       "..        ...   ...       ...               ...        ...\n",
       "995 -1.326290  True  1.728799          0.146013   6.848683\n",
       "996 -1.630039  True  2.912754          0.102060   9.798120\n",
       "997 -0.887897  True  4.014498          0.235610   4.244296\n",
       "998 -0.546227  True  3.670496          0.327921   3.049514\n",
       "999 -0.669044  True  5.264007          0.292618   3.417420\n",
       "\n",
       "[1000 rows x 5 columns]"
      ]
     },
     "execution_count": 7,
     "metadata": {},
     "output_type": "execute_result"
    }
   ],
   "source": [
    "cdf_1"
   ]
  },
  {
   "cell_type": "markdown",
   "metadata": {},
   "source": [
    "## Comparing the estimate to Linear Regression\n",
    "First, estimating the effect using the causal data frame, and the 95% confidence interval."
   ]
  },
  {
   "cell_type": "code",
   "execution_count": 8,
   "metadata": {
    "execution": {
     "iopub.execute_input": "2025-08-11T11:05:28.967651Z",
     "iopub.status.busy": "2025-08-11T11:05:28.967238Z",
     "iopub.status.idle": "2025-08-11T11:05:29.035657Z",
     "shell.execute_reply": "2025-08-11T11:05:29.034959Z"
    }
   },
   "outputs": [
    {
     "data": {
      "image/png": "[encoded data removed]",
      "text/latex": [
       "$\\displaystyle 5.12975076619075$"
      ],
      "text/plain": [
       "np.float64(5.12975076619075)"
      ]
     },
     "execution_count": 8,
     "metadata": {},
     "output_type": "execute_result"
    }
   ],
   "source": [
    "(cdf_1['y'] - cdf_0['y']).mean()"
   ]
  },
  {
   "cell_type": "code",
   "execution_count": 9,
   "metadata": {
    "execution": {
     "iopub.execute_input": "2025-08-11T11:05:29.037836Z",
     "iopub.status.busy": "2025-08-11T11:05:29.037601Z",
     "iopub.status.idle": "2025-08-11T11:05:29.057897Z",
     "shell.execute_reply": "2025-08-11T11:05:29.057242Z"
    }
   },
   "outputs": [
    {
     "data": {
      "image/png": "[encoded data removed]",
      "text/latex": [
       "$\\displaystyle 0.099627983505489$"
      ],
      "text/plain": [
       "np.float64(0.09962798350548899)"
      ]
     },
     "execution_count": 9,
     "metadata": {},
     "output_type": "execute_result"
    }
   ],
   "source": [
    "1.96*(cdf_1['y'] - cdf_0['y']).std() / np.sqrt(len(df))"
   ]
  },
  {
   "cell_type": "markdown",
   "metadata": {},
   "source": [
    "Comparing to the estimate from OLS."
   ]
  },
  {
   "cell_type": "code",
   "execution_count": 10,
   "metadata": {
    "execution": {
     "iopub.execute_input": "2025-08-11T11:05:29.060436Z",
     "iopub.status.busy": "2025-08-11T11:05:29.059869Z",
     "iopub.status.idle": "2025-08-11T11:05:29.082213Z",
     "shell.execute_reply": "2025-08-11T11:05:29.081462Z"
    }
   },
   "outputs": [
    {
     "data": {
      "text/html": [
       "<table class=\"simpletable\">\n",
       "<caption>OLS Regression Results</caption>\n",
       "<tr>\n",
       "  <th>Dep. Variable:</th>            <td>y</td>        <th>  R-squared (uncentered):</th>      <td>   0.895</td>\n",
       "</tr>\n",
       "<tr>\n",
       "  <th>Model:</th>                   <td>OLS</td>       <th>  Adj. R-squared (uncentered):</th> <td>   0.894</td>\n",
       "</tr>\n",
       "<tr>\n",
       "  <th>Method:</th>             <td>Least Squares</td>  <th>  F-statistic:       </th>          <td>   4238.</td>\n",
       "</tr>\n",
       "<tr>\n",
       "  <th>Date:</th>             <td>Mon, 11 Aug 2025</td> <th>  Prob (F-statistic):</th>           <td>  0.00</td> \n",
       "</tr>\n",
       "<tr>\n",
       "  <th>Time:</th>                 <td>11:05:29</td>     <th>  Log-Likelihood:    </th>          <td> -1420.5</td>\n",
       "</tr>\n",
       "<tr>\n",
       "  <th>No. Observations:</th>      <td>  1000</td>      <th>  AIC:               </th>          <td>   2845.</td>\n",
       "</tr>\n",
       "<tr>\n",
       "  <th>Df Residuals:</th>          <td>   998</td>      <th>  BIC:               </th>          <td>   2855.</td>\n",
       "</tr>\n",
       "<tr>\n",
       "  <th>Df Model:</th>              <td>     2</td>      <th>                     </th>              <td> </td>   \n",
       "</tr>\n",
       "<tr>\n",
       "  <th>Covariance Type:</th>      <td>nonrobust</td>    <th>                     </th>              <td> </td>   \n",
       "</tr>\n",
       "</table>\n",
       "<table class=\"simpletable\">\n",
       "<tr>\n",
       "   <td></td>     <th>coef</th>     <th>std err</th>      <th>t</th>      <th>P>|t|</th>  <th>[0.025</th>    <th>0.975]</th>  \n",
       "</tr>\n",
       "<tr>\n",
       "  <th>x1</th> <td>    0.5590</td> <td>    0.026</td> <td>   21.719</td> <td> 0.000</td> <td>    0.508</td> <td>    0.609</td>\n",
       "</tr>\n",
       "<tr>\n",
       "  <th>x2</th> <td>    5.0079</td> <td>    0.056</td> <td>   90.015</td> <td> 0.000</td> <td>    4.899</td> <td>    5.117</td>\n",
       "</tr>\n",
       "</table>\n",
       "<table class=\"simpletable\">\n",
       "<tr>\n",
       "  <th>Omnibus:</th>       <td> 5.525</td> <th>  Durbin-Watson:     </th> <td>   1.952</td>\n",
       "</tr>\n",
       "<tr>\n",
       "  <th>Prob(Omnibus):</th> <td> 0.063</td> <th>  Jarque-Bera (JB):  </th> <td>   5.699</td>\n",
       "</tr>\n",
       "<tr>\n",
       "  <th>Skew:</th>          <td> 0.131</td> <th>  Prob(JB):          </th> <td>  0.0579</td>\n",
       "</tr>\n",
       "<tr>\n",
       "  <th>Kurtosis:</th>      <td> 3.261</td> <th>  Cond. No.          </th> <td>    2.16</td>\n",
       "</tr>\n",
       "</table><br/><br/>Notes:<br/>[1] R² is computed without centering (uncentered) since the model does not contain a constant.<br/>[2] Standard Errors assume that the covariance matrix of the errors is correctly specified."
      ],
      "text/latex": [
       "\\begin{center}\n",
       "\\begin{tabular}{lclc}\n",
       "\\toprule\n",
       "\\textbf{Dep. Variable:}    &        y         & \\textbf{  R-squared (uncentered):}      &     0.895   \\\\\n",
       "\\textbf{Model:}            &       OLS        & \\textbf{  Adj. R-squared (uncentered):} &     0.894   \\\\\n",
       "\\textbf{Method:}           &  Least Squares   & \\textbf{  F-statistic:       }          &     4238.   \\\\\n",
       "\\textbf{Date:}             & Mon, 11 Aug 2025 & \\textbf{  Prob (F-statistic):}          &     0.00    \\\\\n",
       "\\textbf{Time:}             &     11:05:29     & \\textbf{  Log-Likelihood:    }          &   -1420.5   \\\\\n",
       "\\textbf{No. Observations:} &        1000      & \\textbf{  AIC:               }          &     2845.   \\\\\n",
       "\\textbf{Df Residuals:}     &         998      & \\textbf{  BIC:               }          &     2855.   \\\\\n",
       "\\textbf{Df Model:}         &           2      & \\textbf{                     }          &             \\\\\n",
       "\\textbf{Covariance Type:}  &    nonrobust     & \\textbf{                     }          &             \\\\\n",
       "\\bottomrule\n",
       "\\end{tabular}\n",
       "\\begin{tabular}{lcccccc}\n",
       "            & \\textbf{coef} & \\textbf{std err} & \\textbf{t} & \\textbf{P$> |$t$|$} & \\textbf{[0.025} & \\textbf{0.975]}  \\\\\n",
       "\\midrule\n",
       "\\textbf{x1} &       0.5590  &        0.026     &    21.719  &         0.000        &        0.508    &        0.609     \\\\\n",
       "\\textbf{x2} &       5.0079  &        0.056     &    90.015  &         0.000        &        4.899    &        5.117     \\\\\n",
       "\\bottomrule\n",
       "\\end{tabular}\n",
       "\\begin{tabular}{lclc}\n",
       "\\textbf{Omnibus:}       &  5.525 & \\textbf{  Durbin-Watson:     } &    1.952  \\\\\n",
       "\\textbf{Prob(Omnibus):} &  0.063 & \\textbf{  Jarque-Bera (JB):  } &    5.699  \\\\\n",
       "\\textbf{Skew:}          &  0.131 & \\textbf{  Prob(JB):          } &   0.0579  \\\\\n",
       "\\textbf{Kurtosis:}      &  3.261 & \\textbf{  Cond. No.          } &     2.16  \\\\\n",
       "\\bottomrule\n",
       "\\end{tabular}\n",
       "%\\caption{OLS Regression Results}\n",
       "\\end{center}\n",
       "\n",
       "Notes: \\newline\n",
       " [1] R² is computed without centering (uncentered) since the model does not contain a constant. \\newline\n",
       " [2] Standard Errors assume that the covariance matrix of the errors is correctly specified."
      ],
      "text/plain": [
       "<class 'statsmodels.iolib.summary.Summary'>\n",
       "\"\"\"\n",
       "                                 OLS Regression Results                                \n",
       "=======================================================================================\n",
       "Dep. Variable:                      y   R-squared (uncentered):                   0.895\n",
       "Model:                            OLS   Adj. R-squared (uncentered):              0.894\n",
       "Method:                 Least Squares   F-statistic:                              4238.\n",
       "Date:                Mon, 11 Aug 2025   Prob (F-statistic):                        0.00\n",
       "Time:                        11:05:29   Log-Likelihood:                         -1420.5\n",
       "No. Observations:                1000   AIC:                                      2845.\n",
       "Df Residuals:                     998   BIC:                                      2855.\n",
       "Df Model:                           2                                                  \n",
       "Covariance Type:            nonrobust                                                  \n",
       "==============================================================================\n",
       "                 coef    std err          t      P>|t|      [0.025      0.975]\n",
       "------------------------------------------------------------------------------\n",
       "x1             0.5590      0.026     21.719      0.000       0.508       0.609\n",
       "x2             5.0079      0.056     90.015      0.000       4.899       5.117\n",
       "==============================================================================\n",
       "Omnibus:                        5.525   Durbin-Watson:                   1.952\n",
       "Prob(Omnibus):                  0.063   Jarque-Bera (JB):                5.699\n",
       "Skew:                           0.131   Prob(JB):                       0.0579\n",
       "Kurtosis:                       3.261   Cond. No.                         2.16\n",
       "==============================================================================\n",
       "\n",
       "Notes:\n",
       "[1] R² is computed without centering (uncentered) since the model does not contain a constant.\n",
       "[2] Standard Errors assume that the covariance matrix of the errors is correctly specified.\n",
       "\"\"\""
      ]
     },
     "execution_count": 10,
     "metadata": {},
     "output_type": "execute_result"
    }
   ],
   "source": [
    "model = OLS(np.asarray(df[outcome]), np.asarray(df[[common_cause, treatment]], dtype=np.float64))\n",
    "result = model.fit()\n",
    "result.summary()"
   ]
  }
 ],
 "metadata": {
  "kernelspec": {
   "display_name": "Python 3 (ipykernel)",
   "language": "python",
   "name": "python3"
  },
  "language_info": {
   "codemirror_mode": {
    "name": "ipython",
    "version": 3
   },
   "file_extension": ".py",
   "mimetype": "text/x-python",
   "name": "python",
   "nbconvert_exporter": "python",
   "pygments_lexer": "ipython3",
   "version": "3.9.23"
  },
  "toc": {
   "base_numbering": 1,
   "nav_menu": {},
   "number_sections": false,
   "sideBar": true,
   "skip_h1_title": true,
   "title_cell": "Table of Contents",
   "title_sidebar": "Contents",
   "toc_cell": false,
   "toc_position": {},
   "toc_section_display": true,
   "toc_window_display": false
  }
 },
 "nbformat": 4,
 "nbformat_minor": 4
}
