{
 "cells": [
  {
   "cell_type": "markdown",
   "metadata": {},
   "source": [
    "# Demo for the DoWhy causal API\n",
    "We show a simple example of adding a causal extension to any dataframe. "
   ]
  },
  {
   "cell_type": "code",
   "execution_count": 1,
   "metadata": {
    "execution": {
     "iopub.execute_input": "2025-03-19T15:12:08.161316Z",
     "iopub.status.busy": "2025-03-19T15:12:08.161098Z",
     "iopub.status.idle": "2025-03-19T15:12:09.667431Z",
     "shell.execute_reply": "2025-03-19T15:12:09.666685Z"
    }
   },
   "outputs": [],
   "source": [
    "import dowhy.datasets\n",
    "import dowhy.api\n",
    "from dowhy.graph import build_graph_from_str\n",
    "\n",
    "import numpy as np\n",
    "import pandas as pd\n",
    "\n",
    "from statsmodels.api import OLS"
   ]
  },
  {
   "cell_type": "code",
   "execution_count": 2,
   "metadata": {
    "execution": {
     "iopub.execute_input": "2025-03-19T15:12:09.669846Z",
     "iopub.status.busy": "2025-03-19T15:12:09.669496Z",
     "iopub.status.idle": "2025-03-19T15:12:09.711654Z",
     "shell.execute_reply": "2025-03-19T15:12:09.711062Z"
    }
   },
   "outputs": [
    {
     "data": {
      "text/html": [
       "<div>\n",
       "<style scoped>\n",
       "    .dataframe tbody tr th:only-of-type {\n",
       "        vertical-align: middle;\n",
       "    }\n",
       "\n",
       "    .dataframe tbody tr th {\n",
       "        vertical-align: top;\n",
       "    }\n",
       "\n",
       "    .dataframe thead th {\n",
       "        text-align: right;\n",
       "    }\n",
       "</style>\n",
       "<table border=\"1\" class=\"dataframe\">\n",
       "  <thead>\n",
       "    <tr style=\"text-align: right;\">\n",
       "      <th></th>\n",
       "      <th>W0</th>\n",
       "      <th>v0</th>\n",
       "      <th>y</th>\n",
       "    </tr>\n",
       "  </thead>\n",
       "  <tbody>\n",
       "    <tr>\n",
       "      <th>0</th>\n",
       "      <td>-0.280381</td>\n",
       "      <td>True</td>\n",
       "      <td>4.984775</td>\n",
       "    </tr>\n",
       "    <tr>\n",
       "      <th>1</th>\n",
       "      <td>0.409547</td>\n",
       "      <td>False</td>\n",
       "      <td>1.256227</td>\n",
       "    </tr>\n",
       "    <tr>\n",
       "      <th>2</th>\n",
       "      <td>-0.067936</td>\n",
       "      <td>False</td>\n",
       "      <td>-0.429682</td>\n",
       "    </tr>\n",
       "    <tr>\n",
       "      <th>3</th>\n",
       "      <td>-0.305212</td>\n",
       "      <td>True</td>\n",
       "      <td>3.763655</td>\n",
       "    </tr>\n",
       "    <tr>\n",
       "      <th>4</th>\n",
       "      <td>0.676184</td>\n",
       "      <td>True</td>\n",
       "      <td>4.889975</td>\n",
       "    </tr>\n",
       "    <tr>\n",
       "      <th>...</th>\n",
       "      <td>...</td>\n",
       "      <td>...</td>\n",
       "      <td>...</td>\n",
       "    </tr>\n",
       "    <tr>\n",
       "      <th>995</th>\n",
       "      <td>-0.201678</td>\n",
       "      <td>False</td>\n",
       "      <td>0.124943</td>\n",
       "    </tr>\n",
       "    <tr>\n",
       "      <th>996</th>\n",
       "      <td>1.331673</td>\n",
       "      <td>True</td>\n",
       "      <td>4.464599</td>\n",
       "    </tr>\n",
       "    <tr>\n",
       "      <th>997</th>\n",
       "      <td>-0.084787</td>\n",
       "      <td>False</td>\n",
       "      <td>1.308536</td>\n",
       "    </tr>\n",
       "    <tr>\n",
       "      <th>998</th>\n",
       "      <td>2.121081</td>\n",
       "      <td>True</td>\n",
       "      <td>9.168982</td>\n",
       "    </tr>\n",
       "    <tr>\n",
       "      <th>999</th>\n",
       "      <td>1.504078</td>\n",
       "      <td>True</td>\n",
       "      <td>6.381662</td>\n",
       "    </tr>\n",
       "  </tbody>\n",
       "</table>\n",
       "<p>1000 rows × 3 columns</p>\n",
       "</div>"
      ],
      "text/plain": [
       "           W0     v0         y\n",
       "0   -0.280381   True  4.984775\n",
       "1    0.409547  False  1.256227\n",
       "2   -0.067936  False -0.429682\n",
       "3   -0.305212   True  3.763655\n",
       "4    0.676184   True  4.889975\n",
       "..        ...    ...       ...\n",
       "995 -0.201678  False  0.124943\n",
       "996  1.331673   True  4.464599\n",
       "997 -0.084787  False  1.308536\n",
       "998  2.121081   True  9.168982\n",
       "999  1.504078   True  6.381662\n",
       "\n",
       "[1000 rows x 3 columns]"
      ]
     },
     "execution_count": 2,
     "metadata": {},
     "output_type": "execute_result"
    }
   ],
   "source": [
    "data = dowhy.datasets.linear_dataset(beta=5,\n",
    "        num_common_causes=1,\n",
    "        num_instruments = 0,\n",
    "        num_samples=1000,\n",
    "        treatment_is_binary=True)\n",
    "df = data['df']\n",
    "df['y'] = df['y'] + np.random.normal(size=len(df)) # Adding noise to data. Without noise, the variance in Y|X, Z is zero, and mcmc fails.\n",
    "nx_graph = build_graph_from_str(data[\"dot_graph\"])\n",
    "\n",
    "treatment= data[\"treatment_name\"][0]\n",
    "outcome = data[\"outcome_name\"][0]\n",
    "common_cause = data[\"common_causes_names\"][0]\n",
    "df"
   ]
  },
  {
   "cell_type": "code",
   "execution_count": 3,
   "metadata": {
    "execution": {
     "iopub.execute_input": "2025-03-19T15:12:09.713684Z",
     "iopub.status.busy": "2025-03-19T15:12:09.713304Z",
     "iopub.status.idle": "2025-03-19T15:12:09.906248Z",
     "shell.execute_reply": "2025-03-19T15:12:09.905695Z"
    },
    "scrolled": true
   },
   "outputs": [
    {
     "data": {
      "text/plain": [
       "<Axes: xlabel='v0'>"
      ]
     },
     "execution_count": 3,
     "metadata": {},
     "output_type": "execute_result"
    },
    {
     "data": {
      "image/png": "[encoded data removed]",
      "text/plain": [
       "<Figure size 640x480 with 1 Axes>"
      ]
     },
     "metadata": {},
     "output_type": "display_data"
    }
   ],
   "source": [
    "# data['df'] is just a regular pandas.DataFrame\n",
    "df.causal.do(x=treatment,\n",
    "             variable_types={treatment: 'b', outcome: 'c', common_cause: 'c'},\n",
    "             outcome=outcome,\n",
    "             common_causes=[common_cause],\n",
    "            ).groupby(treatment).mean().plot(y=outcome, kind='bar')"
   ]
  },
  {
   "cell_type": "code",
   "execution_count": 4,
   "metadata": {
    "execution": {
     "iopub.execute_input": "2025-03-19T15:12:09.908077Z",
     "iopub.status.busy": "2025-03-19T15:12:09.907869Z",
     "iopub.status.idle": "2025-03-19T15:12:10.047970Z",
     "shell.execute_reply": "2025-03-19T15:12:10.047396Z"
    }
   },
   "outputs": [
    {
     "data": {
      "text/plain": [
       "<Axes: xlabel='v0'>"
      ]
     },
     "execution_count": 4,
     "metadata": {},
     "output_type": "execute_result"
    },
    {
     "data": {
      "image/png": "[encoded data removed]",
      "text/plain": [
       "<Figure size 640x480 with 1 Axes>"
      ]
     },
     "metadata": {},
     "output_type": "display_data"
    }
   ],
   "source": [
    "df.causal.do(x={treatment: 1}, \n",
    "              variable_types={treatment:'b', outcome: 'c', common_cause: 'c'}, \n",
    "              outcome=outcome,\n",
    "              method='weighting', \n",
    "              common_causes=[common_cause]\n",
    "              ).groupby(treatment).mean().plot(y=outcome, kind='bar')"
   ]
  },
  {
   "cell_type": "code",
   "execution_count": 5,
   "metadata": {
    "execution": {
     "iopub.execute_input": "2025-03-19T15:12:10.049914Z",
     "iopub.status.busy": "2025-03-19T15:12:10.049687Z",
     "iopub.status.idle": "2025-03-19T15:12:10.072624Z",
     "shell.execute_reply": "2025-03-19T15:12:10.071901Z"
    }
   },
   "outputs": [],
   "source": [
    "cdf_1 = df.causal.do(x={treatment: 1}, \n",
    "              variable_types={treatment: 'b', outcome: 'c', common_cause: 'c'}, \n",
    "              outcome=outcome, \n",
    "              graph=nx_graph\n",
    "              )\n",
    "\n",
    "cdf_0 = df.causal.do(x={treatment: 0}, \n",
    "              variable_types={treatment: 'b', outcome: 'c', common_cause: 'c'}, \n",
    "              outcome=outcome, \n",
    "              graph=nx_graph\n",
    "              )\n"
   ]
  },
  {
   "cell_type": "code",
   "execution_count": 6,
   "metadata": {
    "execution": {
     "iopub.execute_input": "2025-03-19T15:12:10.074995Z",
     "iopub.status.busy": "2025-03-19T15:12:10.074606Z",
     "iopub.status.idle": "2025-03-19T15:12:10.083780Z",
     "shell.execute_reply": "2025-03-19T15:12:10.083159Z"
    },
    "scrolled": true
   },
   "outputs": [
    {
     "data": {
      "text/html": [
       "<div>\n",
       "<style scoped>\n",
       "    .dataframe tbody tr th:only-of-type {\n",
       "        vertical-align: middle;\n",
       "    }\n",
       "\n",
       "    .dataframe tbody tr th {\n",
       "        vertical-align: top;\n",
       "    }\n",
       "\n",
       "    .dataframe thead th {\n",
       "        text-align: right;\n",
       "    }\n",
       "</style>\n",
       "<table border=\"1\" class=\"dataframe\">\n",
       "  <thead>\n",
       "    <tr style=\"text-align: right;\">\n",
       "      <th></th>\n",
       "      <th>W0</th>\n",
       "      <th>v0</th>\n",
       "      <th>y</th>\n",
       "      <th>propensity_score</th>\n",
       "      <th>weight</th>\n",
       "    </tr>\n",
       "  </thead>\n",
       "  <tbody>\n",
       "    <tr>\n",
       "      <th>0</th>\n",
       "      <td>-0.216353</td>\n",
       "      <td>False</td>\n",
       "      <td>0.747290</td>\n",
       "      <td>0.581794</td>\n",
       "      <td>1.718822</td>\n",
       "    </tr>\n",
       "    <tr>\n",
       "      <th>1</th>\n",
       "      <td>1.462521</td>\n",
       "      <td>False</td>\n",
       "      <td>0.142191</td>\n",
       "      <td>0.352434</td>\n",
       "      <td>2.837409</td>\n",
       "    </tr>\n",
       "    <tr>\n",
       "      <th>2</th>\n",
       "      <td>-0.202149</td>\n",
       "      <td>False</td>\n",
       "      <td>-0.448636</td>\n",
       "      <td>0.579861</td>\n",
       "      <td>1.724552</td>\n",
       "    </tr>\n",
       "    <tr>\n",
       "      <th>3</th>\n",
       "      <td>-0.511115</td>\n",
       "      <td>False</td>\n",
       "      <td>-0.961576</td>\n",
       "      <td>0.621264</td>\n",
       "      <td>1.609622</td>\n",
       "    </tr>\n",
       "    <tr>\n",
       "      <th>4</th>\n",
       "      <td>1.234835</td>\n",
       "      <td>False</td>\n",
       "      <td>2.054650</td>\n",
       "      <td>0.381997</td>\n",
       "      <td>2.617819</td>\n",
       "    </tr>\n",
       "    <tr>\n",
       "      <th>...</th>\n",
       "      <td>...</td>\n",
       "      <td>...</td>\n",
       "      <td>...</td>\n",
       "      <td>...</td>\n",
       "      <td>...</td>\n",
       "    </tr>\n",
       "    <tr>\n",
       "      <th>995</th>\n",
       "      <td>1.236211</td>\n",
       "      <td>False</td>\n",
       "      <td>1.417983</td>\n",
       "      <td>0.381816</td>\n",
       "      <td>2.619063</td>\n",
       "    </tr>\n",
       "    <tr>\n",
       "      <th>996</th>\n",
       "      <td>-0.019313</td>\n",
       "      <td>False</td>\n",
       "      <td>-0.296941</td>\n",
       "      <td>0.554778</td>\n",
       "      <td>1.802522</td>\n",
       "    </tr>\n",
       "    <tr>\n",
       "      <th>997</th>\n",
       "      <td>1.717577</td>\n",
       "      <td>False</td>\n",
       "      <td>0.107976</td>\n",
       "      <td>0.320618</td>\n",
       "      <td>3.118978</td>\n",
       "    </tr>\n",
       "    <tr>\n",
       "      <th>998</th>\n",
       "      <td>-0.625083</td>\n",
       "      <td>False</td>\n",
       "      <td>-1.497697</td>\n",
       "      <td>0.636134</td>\n",
       "      <td>1.571995</td>\n",
       "    </tr>\n",
       "    <tr>\n",
       "      <th>999</th>\n",
       "      <td>1.677605</td>\n",
       "      <td>False</td>\n",
       "      <td>0.680742</td>\n",
       "      <td>0.325504</td>\n",
       "      <td>3.072156</td>\n",
       "    </tr>\n",
       "  </tbody>\n",
       "</table>\n",
       "<p>1000 rows × 5 columns</p>\n",
       "</div>"
      ],
      "text/plain": [
       "           W0     v0         y  propensity_score    weight\n",
       "0   -0.216353  False  0.747290          0.581794  1.718822\n",
       "1    1.462521  False  0.142191          0.352434  2.837409\n",
       "2   -0.202149  False -0.448636          0.579861  1.724552\n",
       "3   -0.511115  False -0.961576          0.621264  1.609622\n",
       "4    1.234835  False  2.054650          0.381997  2.617819\n",
       "..        ...    ...       ...               ...       ...\n",
       "995  1.236211  False  1.417983          0.381816  2.619063\n",
       "996 -0.019313  False -0.296941          0.554778  1.802522\n",
       "997  1.717577  False  0.107976          0.320618  3.118978\n",
       "998 -0.625083  False -1.497697          0.636134  1.571995\n",
       "999  1.677605  False  0.680742          0.325504  3.072156\n",
       "\n",
       "[1000 rows x 5 columns]"
      ]
     },
     "execution_count": 6,
     "metadata": {},
     "output_type": "execute_result"
    }
   ],
   "source": [
    "cdf_0"
   ]
  },
  {
   "cell_type": "code",
   "execution_count": 7,
   "metadata": {
    "execution": {
     "iopub.execute_input": "2025-03-19T15:12:10.085780Z",
     "iopub.status.busy": "2025-03-19T15:12:10.085435Z",
     "iopub.status.idle": "2025-03-19T15:12:10.094496Z",
     "shell.execute_reply": "2025-03-19T15:12:10.093976Z"
    }
   },
   "outputs": [
    {
     "data": {
      "text/html": [
       "<div>\n",
       "<style scoped>\n",
       "    .dataframe tbody tr th:only-of-type {\n",
       "        vertical-align: middle;\n",
       "    }\n",
       "\n",
       "    .dataframe tbody tr th {\n",
       "        vertical-align: top;\n",
       "    }\n",
       "\n",
       "    .dataframe thead th {\n",
       "        text-align: right;\n",
       "    }\n",
       "</style>\n",
       "<table border=\"1\" class=\"dataframe\">\n",
       "  <thead>\n",
       "    <tr style=\"text-align: right;\">\n",
       "      <th></th>\n",
       "      <th>W0</th>\n",
       "      <th>v0</th>\n",
       "      <th>y</th>\n",
       "      <th>propensity_score</th>\n",
       "      <th>weight</th>\n",
       "    </tr>\n",
       "  </thead>\n",
       "  <tbody>\n",
       "    <tr>\n",
       "      <th>0</th>\n",
       "      <td>0.308973</td>\n",
       "      <td>True</td>\n",
       "      <td>5.026077</td>\n",
       "      <td>0.490880</td>\n",
       "      <td>2.037156</td>\n",
       "    </tr>\n",
       "    <tr>\n",
       "      <th>1</th>\n",
       "      <td>-0.186285</td>\n",
       "      <td>True</td>\n",
       "      <td>5.279055</td>\n",
       "      <td>0.422301</td>\n",
       "      <td>2.367979</td>\n",
       "    </tr>\n",
       "    <tr>\n",
       "      <th>2</th>\n",
       "      <td>0.167132</td>\n",
       "      <td>True</td>\n",
       "      <td>7.328632</td>\n",
       "      <td>0.471089</td>\n",
       "      <td>2.122741</td>\n",
       "    </tr>\n",
       "    <tr>\n",
       "      <th>3</th>\n",
       "      <td>2.319284</td>\n",
       "      <td>True</td>\n",
       "      <td>9.557565</td>\n",
       "      <td>0.747871</td>\n",
       "      <td>1.337129</td>\n",
       "    </tr>\n",
       "    <tr>\n",
       "      <th>4</th>\n",
       "      <td>1.253713</td>\n",
       "      <td>True</td>\n",
       "      <td>5.755199</td>\n",
       "      <td>0.620491</td>\n",
       "      <td>1.611628</td>\n",
       "    </tr>\n",
       "    <tr>\n",
       "      <th>...</th>\n",
       "      <td>...</td>\n",
       "      <td>...</td>\n",
       "      <td>...</td>\n",
       "      <td>...</td>\n",
       "      <td>...</td>\n",
       "    </tr>\n",
       "    <tr>\n",
       "      <th>995</th>\n",
       "      <td>2.987464</td>\n",
       "      <td>True</td>\n",
       "      <td>10.520455</td>\n",
       "      <td>0.811656</td>\n",
       "      <td>1.232049</td>\n",
       "    </tr>\n",
       "    <tr>\n",
       "      <th>996</th>\n",
       "      <td>2.302290</td>\n",
       "      <td>True</td>\n",
       "      <td>6.568960</td>\n",
       "      <td>0.746076</td>\n",
       "      <td>1.340346</td>\n",
       "    </tr>\n",
       "    <tr>\n",
       "      <th>997</th>\n",
       "      <td>-0.038793</td>\n",
       "      <td>True</td>\n",
       "      <td>2.908502</td>\n",
       "      <td>0.442534</td>\n",
       "      <td>2.259715</td>\n",
       "    </tr>\n",
       "    <tr>\n",
       "      <th>998</th>\n",
       "      <td>0.838221</td>\n",
       "      <td>True</td>\n",
       "      <td>4.981601</td>\n",
       "      <td>0.564481</td>\n",
       "      <td>1.771538</td>\n",
       "    </tr>\n",
       "    <tr>\n",
       "      <th>999</th>\n",
       "      <td>-0.199361</td>\n",
       "      <td>True</td>\n",
       "      <td>4.509404</td>\n",
       "      <td>0.420519</td>\n",
       "      <td>2.378015</td>\n",
       "    </tr>\n",
       "  </tbody>\n",
       "</table>\n",
       "<p>1000 rows × 5 columns</p>\n",
       "</div>"
      ],
      "text/plain": [
       "           W0    v0          y  propensity_score    weight\n",
       "0    0.308973  True   5.026077          0.490880  2.037156\n",
       "1   -0.186285  True   5.279055          0.422301  2.367979\n",
       "2    0.167132  True   7.328632          0.471089  2.122741\n",
       "3    2.319284  True   9.557565          0.747871  1.337129\n",
       "4    1.253713  True   5.755199          0.620491  1.611628\n",
       "..        ...   ...        ...               ...       ...\n",
       "995  2.987464  True  10.520455          0.811656  1.232049\n",
       "996  2.302290  True   6.568960          0.746076  1.340346\n",
       "997 -0.038793  True   2.908502          0.442534  2.259715\n",
       "998  0.838221  True   4.981601          0.564481  1.771538\n",
       "999 -0.199361  True   4.509404          0.420519  2.378015\n",
       "\n",
       "[1000 rows x 5 columns]"
      ]
     },
     "execution_count": 7,
     "metadata": {},
     "output_type": "execute_result"
    }
   ],
   "source": [
    "cdf_1"
   ]
  },
  {
   "cell_type": "markdown",
   "metadata": {},
   "source": [
    "## Comparing the estimate to Linear Regression\n",
    "First, estimating the effect using the causal data frame, and the 95% confidence interval."
   ]
  },
  {
   "cell_type": "code",
   "execution_count": 8,
   "metadata": {
    "execution": {
     "iopub.execute_input": "2025-03-19T15:12:10.096371Z",
     "iopub.status.busy": "2025-03-19T15:12:10.096161Z",
     "iopub.status.idle": "2025-03-19T15:12:10.143841Z",
     "shell.execute_reply": "2025-03-19T15:12:10.143252Z"
    }
   },
   "outputs": [
    {
     "data": {
      "image/png": "[encoded data removed]",
      "text/latex": [
       "$\\displaystyle 4.90927375468355$"
      ],
      "text/plain": [
       "4.909273754683548"
      ]
     },
     "execution_count": 8,
     "metadata": {},
     "output_type": "execute_result"
    }
   ],
   "source": [
    "(cdf_1['y'] - cdf_0['y']).mean()"
   ]
  },
  {
   "cell_type": "code",
   "execution_count": 9,
   "metadata": {
    "execution": {
     "iopub.execute_input": "2025-03-19T15:12:10.145832Z",
     "iopub.status.busy": "2025-03-19T15:12:10.145457Z",
     "iopub.status.idle": "2025-03-19T15:12:10.162117Z",
     "shell.execute_reply": "2025-03-19T15:12:10.161583Z"
    }
   },
   "outputs": [
    {
     "data": {
      "image/png": "[encoded data removed]",
      "text/latex": [
       "$\\displaystyle 0.127849670309907$"
      ],
      "text/plain": [
       "0.12784967030990727"
      ]
     },
     "execution_count": 9,
     "metadata": {},
     "output_type": "execute_result"
    }
   ],
   "source": [
    "1.96*(cdf_1['y'] - cdf_0['y']).std() / np.sqrt(len(df))"
   ]
  },
  {
   "cell_type": "markdown",
   "metadata": {},
   "source": [
    "Comparing to the estimate from OLS."
   ]
  },
  {
   "cell_type": "code",
   "execution_count": 10,
   "metadata": {
    "execution": {
     "iopub.execute_input": "2025-03-19T15:12:10.164286Z",
     "iopub.status.busy": "2025-03-19T15:12:10.163832Z",
     "iopub.status.idle": "2025-03-19T15:12:10.182088Z",
     "shell.execute_reply": "2025-03-19T15:12:10.181510Z"
    }
   },
   "outputs": [
    {
     "data": {
      "text/html": [
       "<table class=\"simpletable\">\n",
       "<caption>OLS Regression Results</caption>\n",
       "<tr>\n",
       "  <th>Dep. Variable:</th>            <td>y</td>        <th>  R-squared (uncentered):</th>      <td>   0.953</td> \n",
       "</tr>\n",
       "<tr>\n",
       "  <th>Model:</th>                   <td>OLS</td>       <th>  Adj. R-squared (uncentered):</th> <td>   0.953</td> \n",
       "</tr>\n",
       "<tr>\n",
       "  <th>Method:</th>             <td>Least Squares</td>  <th>  F-statistic:       </th>          <td>1.005e+04</td>\n",
       "</tr>\n",
       "<tr>\n",
       "  <th>Date:</th>             <td>Wed, 19 Mar 2025</td> <th>  Prob (F-statistic):</th>           <td>  0.00</td>  \n",
       "</tr>\n",
       "<tr>\n",
       "  <th>Time:</th>                 <td>15:12:10</td>     <th>  Log-Likelihood:    </th>          <td> -1421.8</td> \n",
       "</tr>\n",
       "<tr>\n",
       "  <th>No. Observations:</th>      <td>  1000</td>      <th>  AIC:               </th>          <td>   2848.</td> \n",
       "</tr>\n",
       "<tr>\n",
       "  <th>Df Residuals:</th>          <td>   998</td>      <th>  BIC:               </th>          <td>   2857.</td> \n",
       "</tr>\n",
       "<tr>\n",
       "  <th>Df Model:</th>              <td>     2</td>      <th>                     </th>              <td> </td>    \n",
       "</tr>\n",
       "<tr>\n",
       "  <th>Covariance Type:</th>      <td>nonrobust</td>    <th>                     </th>              <td> </td>    \n",
       "</tr>\n",
       "</table>\n",
       "<table class=\"simpletable\">\n",
       "<tr>\n",
       "   <td></td>     <th>coef</th>     <th>std err</th>      <th>t</th>      <th>P>|t|</th>  <th>[0.025</th>    <th>0.975]</th>  \n",
       "</tr>\n",
       "<tr>\n",
       "  <th>x1</th> <td>    1.0820</td> <td>    0.031</td> <td>   34.373</td> <td> 0.000</td> <td>    1.020</td> <td>    1.144</td>\n",
       "</tr>\n",
       "<tr>\n",
       "  <th>x2</th> <td>    4.9407</td> <td>    0.052</td> <td>   94.820</td> <td> 0.000</td> <td>    4.838</td> <td>    5.043</td>\n",
       "</tr>\n",
       "</table>\n",
       "<table class=\"simpletable\">\n",
       "<tr>\n",
       "  <th>Omnibus:</th>       <td> 0.684</td> <th>  Durbin-Watson:     </th> <td>   2.027</td>\n",
       "</tr>\n",
       "<tr>\n",
       "  <th>Prob(Omnibus):</th> <td> 0.710</td> <th>  Jarque-Bera (JB):  </th> <td>   0.765</td>\n",
       "</tr>\n",
       "<tr>\n",
       "  <th>Skew:</th>          <td>-0.028</td> <th>  Prob(JB):          </th> <td>   0.682</td>\n",
       "</tr>\n",
       "<tr>\n",
       "  <th>Kurtosis:</th>      <td> 2.877</td> <th>  Cond. No.          </th> <td>    2.29</td>\n",
       "</tr>\n",
       "</table><br/><br/>Notes:<br/>[1] R² is computed without centering (uncentered) since the model does not contain a constant.<br/>[2] Standard Errors assume that the covariance matrix of the errors is correctly specified."
      ],
      "text/latex": [
       "\\begin{center}\n",
       "\\begin{tabular}{lclc}\n",
       "\\toprule\n",
       "\\textbf{Dep. Variable:}    &        y         & \\textbf{  R-squared (uncentered):}      &     0.953   \\\\\n",
       "\\textbf{Model:}            &       OLS        & \\textbf{  Adj. R-squared (uncentered):} &     0.953   \\\\\n",
       "\\textbf{Method:}           &  Least Squares   & \\textbf{  F-statistic:       }          & 1.005e+04   \\\\\n",
       "\\textbf{Date:}             & Wed, 19 Mar 2025 & \\textbf{  Prob (F-statistic):}          &     0.00    \\\\\n",
       "\\textbf{Time:}             &     15:12:10     & \\textbf{  Log-Likelihood:    }          &   -1421.8   \\\\\n",
       "\\textbf{No. Observations:} &        1000      & \\textbf{  AIC:               }          &     2848.   \\\\\n",
       "\\textbf{Df Residuals:}     &         998      & \\textbf{  BIC:               }          &     2857.   \\\\\n",
       "\\textbf{Df Model:}         &           2      & \\textbf{                     }          &             \\\\\n",
       "\\textbf{Covariance Type:}  &    nonrobust     & \\textbf{                     }          &             \\\\\n",
       "\\bottomrule\n",
       "\\end{tabular}\n",
       "\\begin{tabular}{lcccccc}\n",
       "            & \\textbf{coef} & \\textbf{std err} & \\textbf{t} & \\textbf{P$> |$t$|$} & \\textbf{[0.025} & \\textbf{0.975]}  \\\\\n",
       "\\midrule\n",
       "\\textbf{x1} &       1.0820  &        0.031     &    34.373  &         0.000        &        1.020    &        1.144     \\\\\n",
       "\\textbf{x2} &       4.9407  &        0.052     &    94.820  &         0.000        &        4.838    &        5.043     \\\\\n",
       "\\bottomrule\n",
       "\\end{tabular}\n",
       "\\begin{tabular}{lclc}\n",
       "\\textbf{Omnibus:}       &  0.684 & \\textbf{  Durbin-Watson:     } &    2.027  \\\\\n",
       "\\textbf{Prob(Omnibus):} &  0.710 & \\textbf{  Jarque-Bera (JB):  } &    0.765  \\\\\n",
       "\\textbf{Skew:}          & -0.028 & \\textbf{  Prob(JB):          } &    0.682  \\\\\n",
       "\\textbf{Kurtosis:}      &  2.877 & \\textbf{  Cond. No.          } &     2.29  \\\\\n",
       "\\bottomrule\n",
       "\\end{tabular}\n",
       "%\\caption{OLS Regression Results}\n",
       "\\end{center}\n",
       "\n",
       "Notes: \\newline\n",
       " [1] R² is computed without centering (uncentered) since the model does not contain a constant. \\newline\n",
       " [2] Standard Errors assume that the covariance matrix of the errors is correctly specified."
      ],
      "text/plain": [
       "<class 'statsmodels.iolib.summary.Summary'>\n",
       "\"\"\"\n",
       "                                 OLS Regression Results                                \n",
       "=======================================================================================\n",
       "Dep. Variable:                      y   R-squared (uncentered):                   0.953\n",
       "Model:                            OLS   Adj. R-squared (uncentered):              0.953\n",
       "Method:                 Least Squares   F-statistic:                          1.005e+04\n",
       "Date:                Wed, 19 Mar 2025   Prob (F-statistic):                        0.00\n",
       "Time:                        15:12:10   Log-Likelihood:                         -1421.8\n",
       "No. Observations:                1000   AIC:                                      2848.\n",
       "Df Residuals:                     998   BIC:                                      2857.\n",
       "Df Model:                           2                                                  \n",
       "Covariance Type:            nonrobust                                                  \n",
       "==============================================================================\n",
       "                 coef    std err          t      P>|t|      [0.025      0.975]\n",
       "------------------------------------------------------------------------------\n",
       "x1             1.0820      0.031     34.373      0.000       1.020       1.144\n",
       "x2             4.9407      0.052     94.820      0.000       4.838       5.043\n",
       "==============================================================================\n",
       "Omnibus:                        0.684   Durbin-Watson:                   2.027\n",
       "Prob(Omnibus):                  0.710   Jarque-Bera (JB):                0.765\n",
       "Skew:                          -0.028   Prob(JB):                        0.682\n",
       "Kurtosis:                       2.877   Cond. No.                         2.29\n",
       "==============================================================================\n",
       "\n",
       "Notes:\n",
       "[1] R² is computed without centering (uncentered) since the model does not contain a constant.\n",
       "[2] Standard Errors assume that the covariance matrix of the errors is correctly specified.\n",
       "\"\"\""
      ]
     },
     "execution_count": 10,
     "metadata": {},
     "output_type": "execute_result"
    }
   ],
   "source": [
    "model = OLS(np.asarray(df[outcome]), np.asarray(df[[common_cause, treatment]], dtype=np.float64))\n",
    "result = model.fit()\n",
    "result.summary()"
   ]
  }
 ],
 "metadata": {
  "kernelspec": {
   "display_name": "Python 3 (ipykernel)",
   "language": "python",
   "name": "python3"
  },
  "language_info": {
   "codemirror_mode": {
    "name": "ipython",
    "version": 3
   },
   "file_extension": ".py",
   "mimetype": "text/x-python",
   "name": "python",
   "nbconvert_exporter": "python",
   "pygments_lexer": "ipython3",
   "version": "3.8.10"
  },
  "toc": {
   "base_numbering": 1,
   "nav_menu": {},
   "number_sections": false,
   "sideBar": true,
   "skip_h1_title": true,
   "title_cell": "Table of Contents",
   "title_sidebar": "Contents",
   "toc_cell": false,
   "toc_position": {},
   "toc_section_display": true,
   "toc_window_display": false
  }
 },
 "nbformat": 4,
 "nbformat_minor": 4
}
