{
 "cells": [
  {
   "cell_type": "markdown",
   "metadata": {},
   "source": [
    "# Demo for the DoWhy causal API\n",
    "We show a simple example of adding a causal extension to any dataframe. "
   ]
  },
  {
   "cell_type": "code",
   "execution_count": 1,
   "metadata": {
    "execution": {
     "iopub.execute_input": "2025-04-21T07:38:49.522129Z",
     "iopub.status.busy": "2025-04-21T07:38:49.521947Z",
     "iopub.status.idle": "2025-04-21T07:38:50.943921Z",
     "shell.execute_reply": "2025-04-21T07:38:50.943315Z"
    }
   },
   "outputs": [],
   "source": [
    "import dowhy.datasets\n",
    "import dowhy.api\n",
    "from dowhy.graph import build_graph_from_str\n",
    "\n",
    "import numpy as np\n",
    "import pandas as pd\n",
    "\n",
    "from statsmodels.api import OLS"
   ]
  },
  {
   "cell_type": "code",
   "execution_count": 2,
   "metadata": {
    "execution": {
     "iopub.execute_input": "2025-04-21T07:38:50.946284Z",
     "iopub.status.busy": "2025-04-21T07:38:50.945809Z",
     "iopub.status.idle": "2025-04-21T07:38:50.984251Z",
     "shell.execute_reply": "2025-04-21T07:38:50.983691Z"
    }
   },
   "outputs": [
    {
     "data": {
      "text/html": [
       "<div>\n",
       "<style scoped>\n",
       "    .dataframe tbody tr th:only-of-type {\n",
       "        vertical-align: middle;\n",
       "    }\n",
       "\n",
       "    .dataframe tbody tr th {\n",
       "        vertical-align: top;\n",
       "    }\n",
       "\n",
       "    .dataframe thead th {\n",
       "        text-align: right;\n",
       "    }\n",
       "</style>\n",
       "<table border=\"1\" class=\"dataframe\">\n",
       "  <thead>\n",
       "    <tr style=\"text-align: right;\">\n",
       "      <th></th>\n",
       "      <th>W0</th>\n",
       "      <th>v0</th>\n",
       "      <th>y</th>\n",
       "    </tr>\n",
       "  </thead>\n",
       "  <tbody>\n",
       "    <tr>\n",
       "      <th>0</th>\n",
       "      <td>-1.092232</td>\n",
       "      <td>False</td>\n",
       "      <td>-1.467122</td>\n",
       "    </tr>\n",
       "    <tr>\n",
       "      <th>1</th>\n",
       "      <td>-0.553488</td>\n",
       "      <td>True</td>\n",
       "      <td>5.092333</td>\n",
       "    </tr>\n",
       "    <tr>\n",
       "      <th>2</th>\n",
       "      <td>-2.721292</td>\n",
       "      <td>False</td>\n",
       "      <td>0.557821</td>\n",
       "    </tr>\n",
       "    <tr>\n",
       "      <th>3</th>\n",
       "      <td>-0.860433</td>\n",
       "      <td>False</td>\n",
       "      <td>-0.864048</td>\n",
       "    </tr>\n",
       "    <tr>\n",
       "      <th>4</th>\n",
       "      <td>-1.078330</td>\n",
       "      <td>True</td>\n",
       "      <td>3.316149</td>\n",
       "    </tr>\n",
       "    <tr>\n",
       "      <th>...</th>\n",
       "      <td>...</td>\n",
       "      <td>...</td>\n",
       "      <td>...</td>\n",
       "    </tr>\n",
       "    <tr>\n",
       "      <th>995</th>\n",
       "      <td>-1.934879</td>\n",
       "      <td>False</td>\n",
       "      <td>-0.464891</td>\n",
       "    </tr>\n",
       "    <tr>\n",
       "      <th>996</th>\n",
       "      <td>-0.240524</td>\n",
       "      <td>False</td>\n",
       "      <td>-0.196877</td>\n",
       "    </tr>\n",
       "    <tr>\n",
       "      <th>997</th>\n",
       "      <td>-1.365115</td>\n",
       "      <td>False</td>\n",
       "      <td>1.737968</td>\n",
       "    </tr>\n",
       "    <tr>\n",
       "      <th>998</th>\n",
       "      <td>-1.312072</td>\n",
       "      <td>False</td>\n",
       "      <td>-0.211613</td>\n",
       "    </tr>\n",
       "    <tr>\n",
       "      <th>999</th>\n",
       "      <td>-2.285569</td>\n",
       "      <td>False</td>\n",
       "      <td>-2.284761</td>\n",
       "    </tr>\n",
       "  </tbody>\n",
       "</table>\n",
       "<p>1000 rows × 3 columns</p>\n",
       "</div>"
      ],
      "text/plain": [
       "           W0     v0         y\n",
       "0   -1.092232  False -1.467122\n",
       "1   -0.553488   True  5.092333\n",
       "2   -2.721292  False  0.557821\n",
       "3   -0.860433  False -0.864048\n",
       "4   -1.078330   True  3.316149\n",
       "..        ...    ...       ...\n",
       "995 -1.934879  False -0.464891\n",
       "996 -0.240524  False -0.196877\n",
       "997 -1.365115  False  1.737968\n",
       "998 -1.312072  False -0.211613\n",
       "999 -2.285569  False -2.284761\n",
       "\n",
       "[1000 rows x 3 columns]"
      ]
     },
     "execution_count": 2,
     "metadata": {},
     "output_type": "execute_result"
    }
   ],
   "source": [
    "data = dowhy.datasets.linear_dataset(beta=5,\n",
    "        num_common_causes=1,\n",
    "        num_instruments = 0,\n",
    "        num_samples=1000,\n",
    "        treatment_is_binary=True)\n",
    "df = data['df']\n",
    "df['y'] = df['y'] + np.random.normal(size=len(df)) # Adding noise to data. Without noise, the variance in Y|X, Z is zero, and mcmc fails.\n",
    "nx_graph = build_graph_from_str(data[\"dot_graph\"])\n",
    "\n",
    "treatment= data[\"treatment_name\"][0]\n",
    "outcome = data[\"outcome_name\"][0]\n",
    "common_cause = data[\"common_causes_names\"][0]\n",
    "df"
   ]
  },
  {
   "cell_type": "code",
   "execution_count": 3,
   "metadata": {
    "execution": {
     "iopub.execute_input": "2025-04-21T07:38:50.986327Z",
     "iopub.status.busy": "2025-04-21T07:38:50.985856Z",
     "iopub.status.idle": "2025-04-21T07:38:51.164454Z",
     "shell.execute_reply": "2025-04-21T07:38:51.163836Z"
    },
    "scrolled": true
   },
   "outputs": [
    {
     "data": {
      "text/plain": [
       "<Axes: xlabel='v0'>"
      ]
     },
     "execution_count": 3,
     "metadata": {},
     "output_type": "execute_result"
    },
    {
     "data": {
      "image/png": "[encoded data removed]",
      "text/plain": [
       "<Figure size 640x480 with 1 Axes>"
      ]
     },
     "metadata": {},
     "output_type": "display_data"
    }
   ],
   "source": [
    "# data['df'] is just a regular pandas.DataFrame\n",
    "df.causal.do(x=treatment,\n",
    "             variable_types={treatment: 'b', outcome: 'c', common_cause: 'c'},\n",
    "             outcome=outcome,\n",
    "             common_causes=[common_cause],\n",
    "            ).groupby(treatment).mean().plot(y=outcome, kind='bar')"
   ]
  },
  {
   "cell_type": "code",
   "execution_count": 4,
   "metadata": {
    "execution": {
     "iopub.execute_input": "2025-04-21T07:38:51.166369Z",
     "iopub.status.busy": "2025-04-21T07:38:51.166152Z",
     "iopub.status.idle": "2025-04-21T07:38:51.279952Z",
     "shell.execute_reply": "2025-04-21T07:38:51.279324Z"
    }
   },
   "outputs": [
    {
     "data": {
      "text/plain": [
       "<Axes: xlabel='v0'>"
      ]
     },
     "execution_count": 4,
     "metadata": {},
     "output_type": "execute_result"
    },
    {
     "data": {
      "image/png": "[encoded data removed]",
      "text/plain": [
       "<Figure size 640x480 with 1 Axes>"
      ]
     },
     "metadata": {},
     "output_type": "display_data"
    }
   ],
   "source": [
    "df.causal.do(x={treatment: 1}, \n",
    "              variable_types={treatment:'b', outcome: 'c', common_cause: 'c'}, \n",
    "              outcome=outcome,\n",
    "              method='weighting', \n",
    "              common_causes=[common_cause]\n",
    "              ).groupby(treatment).mean().plot(y=outcome, kind='bar')"
   ]
  },
  {
   "cell_type": "code",
   "execution_count": 5,
   "metadata": {
    "execution": {
     "iopub.execute_input": "2025-04-21T07:38:51.281927Z",
     "iopub.status.busy": "2025-04-21T07:38:51.281734Z",
     "iopub.status.idle": "2025-04-21T07:38:51.303083Z",
     "shell.execute_reply": "2025-04-21T07:38:51.302479Z"
    }
   },
   "outputs": [],
   "source": [
    "cdf_1 = df.causal.do(x={treatment: 1}, \n",
    "              variable_types={treatment: 'b', outcome: 'c', common_cause: 'c'}, \n",
    "              outcome=outcome, \n",
    "              graph=nx_graph\n",
    "              )\n",
    "\n",
    "cdf_0 = df.causal.do(x={treatment: 0}, \n",
    "              variable_types={treatment: 'b', outcome: 'c', common_cause: 'c'}, \n",
    "              outcome=outcome, \n",
    "              graph=nx_graph\n",
    "              )\n"
   ]
  },
  {
   "cell_type": "code",
   "execution_count": 6,
   "metadata": {
    "execution": {
     "iopub.execute_input": "2025-04-21T07:38:51.304919Z",
     "iopub.status.busy": "2025-04-21T07:38:51.304734Z",
     "iopub.status.idle": "2025-04-21T07:38:51.313590Z",
     "shell.execute_reply": "2025-04-21T07:38:51.313001Z"
    },
    "scrolled": true
   },
   "outputs": [
    {
     "data": {
      "text/html": [
       "<div>\n",
       "<style scoped>\n",
       "    .dataframe tbody tr th:only-of-type {\n",
       "        vertical-align: middle;\n",
       "    }\n",
       "\n",
       "    .dataframe tbody tr th {\n",
       "        vertical-align: top;\n",
       "    }\n",
       "\n",
       "    .dataframe thead th {\n",
       "        text-align: right;\n",
       "    }\n",
       "</style>\n",
       "<table border=\"1\" class=\"dataframe\">\n",
       "  <thead>\n",
       "    <tr style=\"text-align: right;\">\n",
       "      <th></th>\n",
       "      <th>W0</th>\n",
       "      <th>v0</th>\n",
       "      <th>y</th>\n",
       "      <th>propensity_score</th>\n",
       "      <th>weight</th>\n",
       "    </tr>\n",
       "  </thead>\n",
       "  <tbody>\n",
       "    <tr>\n",
       "      <th>0</th>\n",
       "      <td>-0.762795</td>\n",
       "      <td>False</td>\n",
       "      <td>-1.106836</td>\n",
       "      <td>0.741823</td>\n",
       "      <td>1.348030</td>\n",
       "    </tr>\n",
       "    <tr>\n",
       "      <th>1</th>\n",
       "      <td>-0.639424</td>\n",
       "      <td>False</td>\n",
       "      <td>-1.569639</td>\n",
       "      <td>0.713176</td>\n",
       "      <td>1.402178</td>\n",
       "    </tr>\n",
       "    <tr>\n",
       "      <th>2</th>\n",
       "      <td>0.270371</td>\n",
       "      <td>False</td>\n",
       "      <td>0.446674</td>\n",
       "      <td>0.461197</td>\n",
       "      <td>2.168270</td>\n",
       "    </tr>\n",
       "    <tr>\n",
       "      <th>3</th>\n",
       "      <td>-1.889006</td>\n",
       "      <td>False</td>\n",
       "      <td>0.264200</td>\n",
       "      <td>0.914941</td>\n",
       "      <td>1.092967</td>\n",
       "    </tr>\n",
       "    <tr>\n",
       "      <th>4</th>\n",
       "      <td>-0.732039</td>\n",
       "      <td>False</td>\n",
       "      <td>0.578589</td>\n",
       "      <td>0.734859</td>\n",
       "      <td>1.360806</td>\n",
       "    </tr>\n",
       "    <tr>\n",
       "      <th>...</th>\n",
       "      <td>...</td>\n",
       "      <td>...</td>\n",
       "      <td>...</td>\n",
       "      <td>...</td>\n",
       "      <td>...</td>\n",
       "    </tr>\n",
       "    <tr>\n",
       "      <th>995</th>\n",
       "      <td>-2.200991</td>\n",
       "      <td>False</td>\n",
       "      <td>1.705738</td>\n",
       "      <td>0.939414</td>\n",
       "      <td>1.064493</td>\n",
       "    </tr>\n",
       "    <tr>\n",
       "      <th>996</th>\n",
       "      <td>0.338915</td>\n",
       "      <td>False</td>\n",
       "      <td>-0.224639</td>\n",
       "      <td>0.441305</td>\n",
       "      <td>2.266005</td>\n",
       "    </tr>\n",
       "    <tr>\n",
       "      <th>997</th>\n",
       "      <td>-0.556969</td>\n",
       "      <td>False</td>\n",
       "      <td>-0.198539</td>\n",
       "      <td>0.693007</td>\n",
       "      <td>1.442988</td>\n",
       "    </tr>\n",
       "    <tr>\n",
       "      <th>998</th>\n",
       "      <td>-1.732231</td>\n",
       "      <td>False</td>\n",
       "      <td>0.170568</td>\n",
       "      <td>0.899507</td>\n",
       "      <td>1.111720</td>\n",
       "    </tr>\n",
       "    <tr>\n",
       "      <th>999</th>\n",
       "      <td>-0.504828</td>\n",
       "      <td>False</td>\n",
       "      <td>-0.317645</td>\n",
       "      <td>0.679853</td>\n",
       "      <td>1.470905</td>\n",
       "    </tr>\n",
       "  </tbody>\n",
       "</table>\n",
       "<p>1000 rows × 5 columns</p>\n",
       "</div>"
      ],
      "text/plain": [
       "           W0     v0         y  propensity_score    weight\n",
       "0   -0.762795  False -1.106836          0.741823  1.348030\n",
       "1   -0.639424  False -1.569639          0.713176  1.402178\n",
       "2    0.270371  False  0.446674          0.461197  2.168270\n",
       "3   -1.889006  False  0.264200          0.914941  1.092967\n",
       "4   -0.732039  False  0.578589          0.734859  1.360806\n",
       "..        ...    ...       ...               ...       ...\n",
       "995 -2.200991  False  1.705738          0.939414  1.064493\n",
       "996  0.338915  False -0.224639          0.441305  2.266005\n",
       "997 -0.556969  False -0.198539          0.693007  1.442988\n",
       "998 -1.732231  False  0.170568          0.899507  1.111720\n",
       "999 -0.504828  False -0.317645          0.679853  1.470905\n",
       "\n",
       "[1000 rows x 5 columns]"
      ]
     },
     "execution_count": 6,
     "metadata": {},
     "output_type": "execute_result"
    }
   ],
   "source": [
    "cdf_0"
   ]
  },
  {
   "cell_type": "code",
   "execution_count": 7,
   "metadata": {
    "execution": {
     "iopub.execute_input": "2025-04-21T07:38:51.315527Z",
     "iopub.status.busy": "2025-04-21T07:38:51.315089Z",
     "iopub.status.idle": "2025-04-21T07:38:51.323577Z",
     "shell.execute_reply": "2025-04-21T07:38:51.323096Z"
    }
   },
   "outputs": [
    {
     "data": {
      "text/html": [
       "<div>\n",
       "<style scoped>\n",
       "    .dataframe tbody tr th:only-of-type {\n",
       "        vertical-align: middle;\n",
       "    }\n",
       "\n",
       "    .dataframe tbody tr th {\n",
       "        vertical-align: top;\n",
       "    }\n",
       "\n",
       "    .dataframe thead th {\n",
       "        text-align: right;\n",
       "    }\n",
       "</style>\n",
       "<table border=\"1\" class=\"dataframe\">\n",
       "  <thead>\n",
       "    <tr style=\"text-align: right;\">\n",
       "      <th></th>\n",
       "      <th>W0</th>\n",
       "      <th>v0</th>\n",
       "      <th>y</th>\n",
       "      <th>propensity_score</th>\n",
       "      <th>weight</th>\n",
       "    </tr>\n",
       "  </thead>\n",
       "  <tbody>\n",
       "    <tr>\n",
       "      <th>0</th>\n",
       "      <td>-0.687302</td>\n",
       "      <td>True</td>\n",
       "      <td>3.268349</td>\n",
       "      <td>0.275483</td>\n",
       "      <td>3.629985</td>\n",
       "    </tr>\n",
       "    <tr>\n",
       "      <th>1</th>\n",
       "      <td>-1.452541</td>\n",
       "      <td>True</td>\n",
       "      <td>5.436494</td>\n",
       "      <td>0.134246</td>\n",
       "      <td>7.449006</td>\n",
       "    </tr>\n",
       "    <tr>\n",
       "      <th>2</th>\n",
       "      <td>-0.978979</td>\n",
       "      <td>True</td>\n",
       "      <td>4.749862</td>\n",
       "      <td>0.212678</td>\n",
       "      <td>4.701941</td>\n",
       "    </tr>\n",
       "    <tr>\n",
       "      <th>3</th>\n",
       "      <td>-0.397370</td>\n",
       "      <td>True</td>\n",
       "      <td>5.544810</td>\n",
       "      <td>0.348158</td>\n",
       "      <td>2.872257</td>\n",
       "    </tr>\n",
       "    <tr>\n",
       "      <th>4</th>\n",
       "      <td>0.406560</td>\n",
       "      <td>True</td>\n",
       "      <td>5.071772</td>\n",
       "      <td>0.578143</td>\n",
       "      <td>1.729677</td>\n",
       "    </tr>\n",
       "    <tr>\n",
       "      <th>...</th>\n",
       "      <td>...</td>\n",
       "      <td>...</td>\n",
       "      <td>...</td>\n",
       "      <td>...</td>\n",
       "      <td>...</td>\n",
       "    </tr>\n",
       "    <tr>\n",
       "      <th>995</th>\n",
       "      <td>-0.943522</td>\n",
       "      <td>True</td>\n",
       "      <td>5.675177</td>\n",
       "      <td>0.219720</td>\n",
       "      <td>4.551243</td>\n",
       "    </tr>\n",
       "    <tr>\n",
       "      <th>996</th>\n",
       "      <td>-1.128276</td>\n",
       "      <td>True</td>\n",
       "      <td>6.212309</td>\n",
       "      <td>0.184846</td>\n",
       "      <td>5.409895</td>\n",
       "    </tr>\n",
       "    <tr>\n",
       "      <th>997</th>\n",
       "      <td>0.130132</td>\n",
       "      <td>True</td>\n",
       "      <td>6.075339</td>\n",
       "      <td>0.497787</td>\n",
       "      <td>2.008891</td>\n",
       "    </tr>\n",
       "    <tr>\n",
       "      <th>998</th>\n",
       "      <td>0.092802</td>\n",
       "      <td>True</td>\n",
       "      <td>4.321617</td>\n",
       "      <td>0.486851</td>\n",
       "      <td>2.054015</td>\n",
       "    </tr>\n",
       "    <tr>\n",
       "      <th>999</th>\n",
       "      <td>-0.357319</td>\n",
       "      <td>True</td>\n",
       "      <td>4.093820</td>\n",
       "      <td>0.358886</td>\n",
       "      <td>2.786397</td>\n",
       "    </tr>\n",
       "  </tbody>\n",
       "</table>\n",
       "<p>1000 rows × 5 columns</p>\n",
       "</div>"
      ],
      "text/plain": [
       "           W0    v0         y  propensity_score    weight\n",
       "0   -0.687302  True  3.268349          0.275483  3.629985\n",
       "1   -1.452541  True  5.436494          0.134246  7.449006\n",
       "2   -0.978979  True  4.749862          0.212678  4.701941\n",
       "3   -0.397370  True  5.544810          0.348158  2.872257\n",
       "4    0.406560  True  5.071772          0.578143  1.729677\n",
       "..        ...   ...       ...               ...       ...\n",
       "995 -0.943522  True  5.675177          0.219720  4.551243\n",
       "996 -1.128276  True  6.212309          0.184846  5.409895\n",
       "997  0.130132  True  6.075339          0.497787  2.008891\n",
       "998  0.092802  True  4.321617          0.486851  2.054015\n",
       "999 -0.357319  True  4.093820          0.358886  2.786397\n",
       "\n",
       "[1000 rows x 5 columns]"
      ]
     },
     "execution_count": 7,
     "metadata": {},
     "output_type": "execute_result"
    }
   ],
   "source": [
    "cdf_1"
   ]
  },
  {
   "cell_type": "markdown",
   "metadata": {},
   "source": [
    "## Comparing the estimate to Linear Regression\n",
    "First, estimating the effect using the causal data frame, and the 95% confidence interval."
   ]
  },
  {
   "cell_type": "code",
   "execution_count": 8,
   "metadata": {
    "execution": {
     "iopub.execute_input": "2025-04-21T07:38:51.325196Z",
     "iopub.status.busy": "2025-04-21T07:38:51.325018Z",
     "iopub.status.idle": "2025-04-21T07:38:51.370699Z",
     "shell.execute_reply": "2025-04-21T07:38:51.370230Z"
    }
   },
   "outputs": [
    {
     "data": {
      "image/png": "[encoded data removed]",
      "text/latex": [
       "$\\displaystyle 5.00588480884916$"
      ],
      "text/plain": [
       "5.005884808849159"
      ]
     },
     "execution_count": 8,
     "metadata": {},
     "output_type": "execute_result"
    }
   ],
   "source": [
    "(cdf_1['y'] - cdf_0['y']).mean()"
   ]
  },
  {
   "cell_type": "code",
   "execution_count": 9,
   "metadata": {
    "execution": {
     "iopub.execute_input": "2025-04-21T07:38:51.372353Z",
     "iopub.status.busy": "2025-04-21T07:38:51.372157Z",
     "iopub.status.idle": "2025-04-21T07:38:51.388353Z",
     "shell.execute_reply": "2025-04-21T07:38:51.387864Z"
    }
   },
   "outputs": [
    {
     "data": {
      "image/png": "[encoded data removed]",
      "text/latex": [
       "$\\displaystyle 0.0885944212046903$"
      ],
      "text/plain": [
       "0.08859442120469031"
      ]
     },
     "execution_count": 9,
     "metadata": {},
     "output_type": "execute_result"
    }
   ],
   "source": [
    "1.96*(cdf_1['y'] - cdf_0['y']).std() / np.sqrt(len(df))"
   ]
  },
  {
   "cell_type": "markdown",
   "metadata": {},
   "source": [
    "Comparing to the estimate from OLS."
   ]
  },
  {
   "cell_type": "code",
   "execution_count": 10,
   "metadata": {
    "execution": {
     "iopub.execute_input": "2025-04-21T07:38:51.390058Z",
     "iopub.status.busy": "2025-04-21T07:38:51.389878Z",
     "iopub.status.idle": "2025-04-21T07:38:51.487072Z",
     "shell.execute_reply": "2025-04-21T07:38:51.486451Z"
    }
   },
   "outputs": [
    {
     "data": {
      "text/html": [
       "<table class=\"simpletable\">\n",
       "<caption>OLS Regression Results</caption>\n",
       "<tr>\n",
       "  <th>Dep. Variable:</th>            <td>y</td>        <th>  R-squared (uncentered):</th>      <td>   0.906</td>\n",
       "</tr>\n",
       "<tr>\n",
       "  <th>Model:</th>                   <td>OLS</td>       <th>  Adj. R-squared (uncentered):</th> <td>   0.906</td>\n",
       "</tr>\n",
       "<tr>\n",
       "  <th>Method:</th>             <td>Least Squares</td>  <th>  F-statistic:       </th>          <td>   4820.</td>\n",
       "</tr>\n",
       "<tr>\n",
       "  <th>Date:</th>             <td>Mon, 21 Apr 2025</td> <th>  Prob (F-statistic):</th>           <td>  0.00</td> \n",
       "</tr>\n",
       "<tr>\n",
       "  <th>Time:</th>                 <td>07:38:51</td>     <th>  Log-Likelihood:    </th>          <td> -1406.3</td>\n",
       "</tr>\n",
       "<tr>\n",
       "  <th>No. Observations:</th>      <td>  1000</td>      <th>  AIC:               </th>          <td>   2817.</td>\n",
       "</tr>\n",
       "<tr>\n",
       "  <th>Df Residuals:</th>          <td>   998</td>      <th>  BIC:               </th>          <td>   2826.</td>\n",
       "</tr>\n",
       "<tr>\n",
       "  <th>Df Model:</th>              <td>     2</td>      <th>                     </th>              <td> </td>   \n",
       "</tr>\n",
       "<tr>\n",
       "  <th>Covariance Type:</th>      <td>nonrobust</td>    <th>                     </th>              <td> </td>   \n",
       "</tr>\n",
       "</table>\n",
       "<table class=\"simpletable\">\n",
       "<tr>\n",
       "   <td></td>     <th>coef</th>     <th>std err</th>      <th>t</th>      <th>P>|t|</th>  <th>[0.025</th>    <th>0.975]</th>  \n",
       "</tr>\n",
       "<tr>\n",
       "  <th>x1</th> <td>    0.0705</td> <td>    0.029</td> <td>    2.444</td> <td> 0.015</td> <td>    0.014</td> <td>    0.127</td>\n",
       "</tr>\n",
       "<tr>\n",
       "  <th>x2</th> <td>    4.9838</td> <td>    0.051</td> <td>   97.384</td> <td> 0.000</td> <td>    4.883</td> <td>    5.084</td>\n",
       "</tr>\n",
       "</table>\n",
       "<table class=\"simpletable\">\n",
       "<tr>\n",
       "  <th>Omnibus:</th>       <td> 2.579</td> <th>  Durbin-Watson:     </th> <td>   2.017</td>\n",
       "</tr>\n",
       "<tr>\n",
       "  <th>Prob(Omnibus):</th> <td> 0.275</td> <th>  Jarque-Bera (JB):  </th> <td>   2.490</td>\n",
       "</tr>\n",
       "<tr>\n",
       "  <th>Skew:</th>          <td> 0.075</td> <th>  Prob(JB):          </th> <td>   0.288</td>\n",
       "</tr>\n",
       "<tr>\n",
       "  <th>Kurtosis:</th>      <td> 2.808</td> <th>  Cond. No.          </th> <td>    1.79</td>\n",
       "</tr>\n",
       "</table><br/><br/>Notes:<br/>[1] R² is computed without centering (uncentered) since the model does not contain a constant.<br/>[2] Standard Errors assume that the covariance matrix of the errors is correctly specified."
      ],
      "text/latex": [
       "\\begin{center}\n",
       "\\begin{tabular}{lclc}\n",
       "\\toprule\n",
       "\\textbf{Dep. Variable:}    &        y         & \\textbf{  R-squared (uncentered):}      &     0.906   \\\\\n",
       "\\textbf{Model:}            &       OLS        & \\textbf{  Adj. R-squared (uncentered):} &     0.906   \\\\\n",
       "\\textbf{Method:}           &  Least Squares   & \\textbf{  F-statistic:       }          &     4820.   \\\\\n",
       "\\textbf{Date:}             & Mon, 21 Apr 2025 & \\textbf{  Prob (F-statistic):}          &     0.00    \\\\\n",
       "\\textbf{Time:}             &     07:38:51     & \\textbf{  Log-Likelihood:    }          &   -1406.3   \\\\\n",
       "\\textbf{No. Observations:} &        1000      & \\textbf{  AIC:               }          &     2817.   \\\\\n",
       "\\textbf{Df Residuals:}     &         998      & \\textbf{  BIC:               }          &     2826.   \\\\\n",
       "\\textbf{Df Model:}         &           2      & \\textbf{                     }          &             \\\\\n",
       "\\textbf{Covariance Type:}  &    nonrobust     & \\textbf{                     }          &             \\\\\n",
       "\\bottomrule\n",
       "\\end{tabular}\n",
       "\\begin{tabular}{lcccccc}\n",
       "            & \\textbf{coef} & \\textbf{std err} & \\textbf{t} & \\textbf{P$> |$t$|$} & \\textbf{[0.025} & \\textbf{0.975]}  \\\\\n",
       "\\midrule\n",
       "\\textbf{x1} &       0.0705  &        0.029     &     2.444  &         0.015        &        0.014    &        0.127     \\\\\n",
       "\\textbf{x2} &       4.9838  &        0.051     &    97.384  &         0.000        &        4.883    &        5.084     \\\\\n",
       "\\bottomrule\n",
       "\\end{tabular}\n",
       "\\begin{tabular}{lclc}\n",
       "\\textbf{Omnibus:}       &  2.579 & \\textbf{  Durbin-Watson:     } &    2.017  \\\\\n",
       "\\textbf{Prob(Omnibus):} &  0.275 & \\textbf{  Jarque-Bera (JB):  } &    2.490  \\\\\n",
       "\\textbf{Skew:}          &  0.075 & \\textbf{  Prob(JB):          } &    0.288  \\\\\n",
       "\\textbf{Kurtosis:}      &  2.808 & \\textbf{  Cond. No.          } &     1.79  \\\\\n",
       "\\bottomrule\n",
       "\\end{tabular}\n",
       "%\\caption{OLS Regression Results}\n",
       "\\end{center}\n",
       "\n",
       "Notes: \\newline\n",
       " [1] R² is computed without centering (uncentered) since the model does not contain a constant. \\newline\n",
       " [2] Standard Errors assume that the covariance matrix of the errors is correctly specified."
      ],
      "text/plain": [
       "<class 'statsmodels.iolib.summary.Summary'>\n",
       "\"\"\"\n",
       "                                 OLS Regression Results                                \n",
       "=======================================================================================\n",
       "Dep. Variable:                      y   R-squared (uncentered):                   0.906\n",
       "Model:                            OLS   Adj. R-squared (uncentered):              0.906\n",
       "Method:                 Least Squares   F-statistic:                              4820.\n",
       "Date:                Mon, 21 Apr 2025   Prob (F-statistic):                        0.00\n",
       "Time:                        07:38:51   Log-Likelihood:                         -1406.3\n",
       "No. Observations:                1000   AIC:                                      2817.\n",
       "Df Residuals:                     998   BIC:                                      2826.\n",
       "Df Model:                           2                                                  \n",
       "Covariance Type:            nonrobust                                                  \n",
       "==============================================================================\n",
       "                 coef    std err          t      P>|t|      [0.025      0.975]\n",
       "------------------------------------------------------------------------------\n",
       "x1             0.0705      0.029      2.444      0.015       0.014       0.127\n",
       "x2             4.9838      0.051     97.384      0.000       4.883       5.084\n",
       "==============================================================================\n",
       "Omnibus:                        2.579   Durbin-Watson:                   2.017\n",
       "Prob(Omnibus):                  0.275   Jarque-Bera (JB):                2.490\n",
       "Skew:                           0.075   Prob(JB):                        0.288\n",
       "Kurtosis:                       2.808   Cond. No.                         1.79\n",
       "==============================================================================\n",
       "\n",
       "Notes:\n",
       "[1] R² is computed without centering (uncentered) since the model does not contain a constant.\n",
       "[2] Standard Errors assume that the covariance matrix of the errors is correctly specified.\n",
       "\"\"\""
      ]
     },
     "execution_count": 10,
     "metadata": {},
     "output_type": "execute_result"
    }
   ],
   "source": [
    "model = OLS(np.asarray(df[outcome]), np.asarray(df[[common_cause, treatment]], dtype=np.float64))\n",
    "result = model.fit()\n",
    "result.summary()"
   ]
  }
 ],
 "metadata": {
  "kernelspec": {
   "display_name": "Python 3 (ipykernel)",
   "language": "python",
   "name": "python3"
  },
  "language_info": {
   "codemirror_mode": {
    "name": "ipython",
    "version": 3
   },
   "file_extension": ".py",
   "mimetype": "text/x-python",
   "name": "python",
   "nbconvert_exporter": "python",
   "pygments_lexer": "ipython3",
   "version": "3.8.10"
  },
  "toc": {
   "base_numbering": 1,
   "nav_menu": {},
   "number_sections": false,
   "sideBar": true,
   "skip_h1_title": true,
   "title_cell": "Table of Contents",
   "title_sidebar": "Contents",
   "toc_cell": false,
   "toc_position": {},
   "toc_section_display": true,
   "toc_window_display": false
  }
 },
 "nbformat": 4,
 "nbformat_minor": 4
}
