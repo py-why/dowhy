{
 "cells": [
  {
   "cell_type": "markdown",
   "metadata": {},
   "source": [
    "# Demo for the DoWhy causal API\n",
    "We show a simple example of adding a causal extension to any dataframe. "
   ]
  },
  {
   "cell_type": "code",
   "execution_count": 1,
   "metadata": {
    "execution": {
     "iopub.execute_input": "2025-04-05T08:55:54.306425Z",
     "iopub.status.busy": "2025-04-05T08:55:54.306218Z",
     "iopub.status.idle": "2025-04-05T08:55:55.832975Z",
     "shell.execute_reply": "2025-04-05T08:55:55.832330Z"
    }
   },
   "outputs": [],
   "source": [
    "import dowhy.datasets\n",
    "import dowhy.api\n",
    "from dowhy.graph import build_graph_from_str\n",
    "\n",
    "import numpy as np\n",
    "import pandas as pd\n",
    "\n",
    "from statsmodels.api import OLS"
   ]
  },
  {
   "cell_type": "code",
   "execution_count": 2,
   "metadata": {
    "execution": {
     "iopub.execute_input": "2025-04-05T08:55:55.835251Z",
     "iopub.status.busy": "2025-04-05T08:55:55.834936Z",
     "iopub.status.idle": "2025-04-05T08:55:55.875949Z",
     "shell.execute_reply": "2025-04-05T08:55:55.875395Z"
    }
   },
   "outputs": [
    {
     "data": {
      "text/html": [
       "<div>\n",
       "<style scoped>\n",
       "    .dataframe tbody tr th:only-of-type {\n",
       "        vertical-align: middle;\n",
       "    }\n",
       "\n",
       "    .dataframe tbody tr th {\n",
       "        vertical-align: top;\n",
       "    }\n",
       "\n",
       "    .dataframe thead th {\n",
       "        text-align: right;\n",
       "    }\n",
       "</style>\n",
       "<table border=\"1\" class=\"dataframe\">\n",
       "  <thead>\n",
       "    <tr style=\"text-align: right;\">\n",
       "      <th></th>\n",
       "      <th>W0</th>\n",
       "      <th>v0</th>\n",
       "      <th>y</th>\n",
       "    </tr>\n",
       "  </thead>\n",
       "  <tbody>\n",
       "    <tr>\n",
       "      <th>0</th>\n",
       "      <td>-0.811337</td>\n",
       "      <td>True</td>\n",
       "      <td>3.309030</td>\n",
       "    </tr>\n",
       "    <tr>\n",
       "      <th>1</th>\n",
       "      <td>-0.843788</td>\n",
       "      <td>True</td>\n",
       "      <td>1.696600</td>\n",
       "    </tr>\n",
       "    <tr>\n",
       "      <th>2</th>\n",
       "      <td>-0.105595</td>\n",
       "      <td>False</td>\n",
       "      <td>-1.178897</td>\n",
       "    </tr>\n",
       "    <tr>\n",
       "      <th>3</th>\n",
       "      <td>-1.413594</td>\n",
       "      <td>False</td>\n",
       "      <td>-3.104295</td>\n",
       "    </tr>\n",
       "    <tr>\n",
       "      <th>4</th>\n",
       "      <td>0.133226</td>\n",
       "      <td>True</td>\n",
       "      <td>5.475723</td>\n",
       "    </tr>\n",
       "    <tr>\n",
       "      <th>...</th>\n",
       "      <td>...</td>\n",
       "      <td>...</td>\n",
       "      <td>...</td>\n",
       "    </tr>\n",
       "    <tr>\n",
       "      <th>995</th>\n",
       "      <td>-0.201643</td>\n",
       "      <td>False</td>\n",
       "      <td>-1.487959</td>\n",
       "    </tr>\n",
       "    <tr>\n",
       "      <th>996</th>\n",
       "      <td>-0.449417</td>\n",
       "      <td>False</td>\n",
       "      <td>-2.353253</td>\n",
       "    </tr>\n",
       "    <tr>\n",
       "      <th>997</th>\n",
       "      <td>-0.286130</td>\n",
       "      <td>False</td>\n",
       "      <td>-0.682715</td>\n",
       "    </tr>\n",
       "    <tr>\n",
       "      <th>998</th>\n",
       "      <td>0.352646</td>\n",
       "      <td>True</td>\n",
       "      <td>3.729564</td>\n",
       "    </tr>\n",
       "    <tr>\n",
       "      <th>999</th>\n",
       "      <td>0.207459</td>\n",
       "      <td>True</td>\n",
       "      <td>7.208690</td>\n",
       "    </tr>\n",
       "  </tbody>\n",
       "</table>\n",
       "<p>1000 rows × 3 columns</p>\n",
       "</div>"
      ],
      "text/plain": [
       "           W0     v0         y\n",
       "0   -0.811337   True  3.309030\n",
       "1   -0.843788   True  1.696600\n",
       "2   -0.105595  False -1.178897\n",
       "3   -1.413594  False -3.104295\n",
       "4    0.133226   True  5.475723\n",
       "..        ...    ...       ...\n",
       "995 -0.201643  False -1.487959\n",
       "996 -0.449417  False -2.353253\n",
       "997 -0.286130  False -0.682715\n",
       "998  0.352646   True  3.729564\n",
       "999  0.207459   True  7.208690\n",
       "\n",
       "[1000 rows x 3 columns]"
      ]
     },
     "execution_count": 2,
     "metadata": {},
     "output_type": "execute_result"
    }
   ],
   "source": [
    "data = dowhy.datasets.linear_dataset(beta=5,\n",
    "        num_common_causes=1,\n",
    "        num_instruments = 0,\n",
    "        num_samples=1000,\n",
    "        treatment_is_binary=True)\n",
    "df = data['df']\n",
    "df['y'] = df['y'] + np.random.normal(size=len(df)) # Adding noise to data. Without noise, the variance in Y|X, Z is zero, and mcmc fails.\n",
    "nx_graph = build_graph_from_str(data[\"dot_graph\"])\n",
    "\n",
    "treatment= data[\"treatment_name\"][0]\n",
    "outcome = data[\"outcome_name\"][0]\n",
    "common_cause = data[\"common_causes_names\"][0]\n",
    "df"
   ]
  },
  {
   "cell_type": "code",
   "execution_count": 3,
   "metadata": {
    "execution": {
     "iopub.execute_input": "2025-04-05T08:55:55.877997Z",
     "iopub.status.busy": "2025-04-05T08:55:55.877627Z",
     "iopub.status.idle": "2025-04-05T08:55:56.034181Z",
     "shell.execute_reply": "2025-04-05T08:55:56.033455Z"
    },
    "scrolled": true
   },
   "outputs": [
    {
     "data": {
      "text/plain": [
       "<Axes: xlabel='v0'>"
      ]
     },
     "execution_count": 3,
     "metadata": {},
     "output_type": "execute_result"
    },
    {
     "data": {
      "image/png": "[encoded data removed]",
      "text/plain": [
       "<Figure size 640x480 with 1 Axes>"
      ]
     },
     "metadata": {},
     "output_type": "display_data"
    }
   ],
   "source": [
    "# data['df'] is just a regular pandas.DataFrame\n",
    "df.causal.do(x=treatment,\n",
    "             variable_types={treatment: 'b', outcome: 'c', common_cause: 'c'},\n",
    "             outcome=outcome,\n",
    "             common_causes=[common_cause],\n",
    "            ).groupby(treatment).mean().plot(y=outcome, kind='bar')"
   ]
  },
  {
   "cell_type": "code",
   "execution_count": 4,
   "metadata": {
    "execution": {
     "iopub.execute_input": "2025-04-05T08:55:56.036197Z",
     "iopub.status.busy": "2025-04-05T08:55:56.035992Z",
     "iopub.status.idle": "2025-04-05T08:55:56.144446Z",
     "shell.execute_reply": "2025-04-05T08:55:56.143729Z"
    }
   },
   "outputs": [
    {
     "data": {
      "text/plain": [
       "<Axes: xlabel='v0'>"
      ]
     },
     "execution_count": 4,
     "metadata": {},
     "output_type": "execute_result"
    },
    {
     "data": {
      "image/png": "[encoded data removed]",
      "text/plain": [
       "<Figure size 640x480 with 1 Axes>"
      ]
     },
     "metadata": {},
     "output_type": "display_data"
    }
   ],
   "source": [
    "df.causal.do(x={treatment: 1}, \n",
    "              variable_types={treatment:'b', outcome: 'c', common_cause: 'c'}, \n",
    "              outcome=outcome,\n",
    "              method='weighting', \n",
    "              common_causes=[common_cause]\n",
    "              ).groupby(treatment).mean().plot(y=outcome, kind='bar')"
   ]
  },
  {
   "cell_type": "code",
   "execution_count": 5,
   "metadata": {
    "execution": {
     "iopub.execute_input": "2025-04-05T08:55:56.146557Z",
     "iopub.status.busy": "2025-04-05T08:55:56.146333Z",
     "iopub.status.idle": "2025-04-05T08:55:56.169273Z",
     "shell.execute_reply": "2025-04-05T08:55:56.168588Z"
    }
   },
   "outputs": [],
   "source": [
    "cdf_1 = df.causal.do(x={treatment: 1}, \n",
    "              variable_types={treatment: 'b', outcome: 'c', common_cause: 'c'}, \n",
    "              outcome=outcome, \n",
    "              graph=nx_graph\n",
    "              )\n",
    "\n",
    "cdf_0 = df.causal.do(x={treatment: 0}, \n",
    "              variable_types={treatment: 'b', outcome: 'c', common_cause: 'c'}, \n",
    "              outcome=outcome, \n",
    "              graph=nx_graph\n",
    "              )\n"
   ]
  },
  {
   "cell_type": "code",
   "execution_count": 6,
   "metadata": {
    "execution": {
     "iopub.execute_input": "2025-04-05T08:55:56.171472Z",
     "iopub.status.busy": "2025-04-05T08:55:56.171252Z",
     "iopub.status.idle": "2025-04-05T08:55:56.180819Z",
     "shell.execute_reply": "2025-04-05T08:55:56.180285Z"
    },
    "scrolled": true
   },
   "outputs": [
    {
     "data": {
      "text/html": [
       "<div>\n",
       "<style scoped>\n",
       "    .dataframe tbody tr th:only-of-type {\n",
       "        vertical-align: middle;\n",
       "    }\n",
       "\n",
       "    .dataframe tbody tr th {\n",
       "        vertical-align: top;\n",
       "    }\n",
       "\n",
       "    .dataframe thead th {\n",
       "        text-align: right;\n",
       "    }\n",
       "</style>\n",
       "<table border=\"1\" class=\"dataframe\">\n",
       "  <thead>\n",
       "    <tr style=\"text-align: right;\">\n",
       "      <th></th>\n",
       "      <th>W0</th>\n",
       "      <th>v0</th>\n",
       "      <th>y</th>\n",
       "      <th>propensity_score</th>\n",
       "      <th>weight</th>\n",
       "    </tr>\n",
       "  </thead>\n",
       "  <tbody>\n",
       "    <tr>\n",
       "      <th>0</th>\n",
       "      <td>0.742606</td>\n",
       "      <td>False</td>\n",
       "      <td>1.655748</td>\n",
       "      <td>0.282163</td>\n",
       "      <td>3.544047</td>\n",
       "    </tr>\n",
       "    <tr>\n",
       "      <th>1</th>\n",
       "      <td>-2.936641</td>\n",
       "      <td>False</td>\n",
       "      <td>-5.053403</td>\n",
       "      <td>0.982783</td>\n",
       "      <td>1.017518</td>\n",
       "    </tr>\n",
       "    <tr>\n",
       "      <th>2</th>\n",
       "      <td>-0.442492</td>\n",
       "      <td>False</td>\n",
       "      <td>-1.341505</td>\n",
       "      <td>0.661450</td>\n",
       "      <td>1.511830</td>\n",
       "    </tr>\n",
       "    <tr>\n",
       "      <th>3</th>\n",
       "      <td>-2.134068</td>\n",
       "      <td>False</td>\n",
       "      <td>-4.199349</td>\n",
       "      <td>0.950667</td>\n",
       "      <td>1.051893</td>\n",
       "    </tr>\n",
       "    <tr>\n",
       "      <th>4</th>\n",
       "      <td>-1.168182</td>\n",
       "      <td>False</td>\n",
       "      <td>-1.723774</td>\n",
       "      <td>0.839117</td>\n",
       "      <td>1.191729</td>\n",
       "    </tr>\n",
       "    <tr>\n",
       "      <th>...</th>\n",
       "      <td>...</td>\n",
       "      <td>...</td>\n",
       "      <td>...</td>\n",
       "      <td>...</td>\n",
       "      <td>...</td>\n",
       "    </tr>\n",
       "    <tr>\n",
       "      <th>995</th>\n",
       "      <td>-0.941540</td>\n",
       "      <td>False</td>\n",
       "      <td>-2.448635</td>\n",
       "      <td>0.793312</td>\n",
       "      <td>1.260538</td>\n",
       "    </tr>\n",
       "    <tr>\n",
       "      <th>996</th>\n",
       "      <td>1.480361</td>\n",
       "      <td>False</td>\n",
       "      <td>3.497409</td>\n",
       "      <td>0.126531</td>\n",
       "      <td>7.903220</td>\n",
       "    </tr>\n",
       "    <tr>\n",
       "      <th>997</th>\n",
       "      <td>0.498983</td>\n",
       "      <td>False</td>\n",
       "      <td>0.977249</td>\n",
       "      <td>0.353402</td>\n",
       "      <td>2.829636</td>\n",
       "    </tr>\n",
       "    <tr>\n",
       "      <th>998</th>\n",
       "      <td>0.594622</td>\n",
       "      <td>False</td>\n",
       "      <td>0.341960</td>\n",
       "      <td>0.324422</td>\n",
       "      <td>3.082405</td>\n",
       "    </tr>\n",
       "    <tr>\n",
       "      <th>999</th>\n",
       "      <td>-0.422973</td>\n",
       "      <td>False</td>\n",
       "      <td>0.309941</td>\n",
       "      <td>0.655511</td>\n",
       "      <td>1.525528</td>\n",
       "    </tr>\n",
       "  </tbody>\n",
       "</table>\n",
       "<p>1000 rows × 5 columns</p>\n",
       "</div>"
      ],
      "text/plain": [
       "           W0     v0         y  propensity_score    weight\n",
       "0    0.742606  False  1.655748          0.282163  3.544047\n",
       "1   -2.936641  False -5.053403          0.982783  1.017518\n",
       "2   -0.442492  False -1.341505          0.661450  1.511830\n",
       "3   -2.134068  False -4.199349          0.950667  1.051893\n",
       "4   -1.168182  False -1.723774          0.839117  1.191729\n",
       "..        ...    ...       ...               ...       ...\n",
       "995 -0.941540  False -2.448635          0.793312  1.260538\n",
       "996  1.480361  False  3.497409          0.126531  7.903220\n",
       "997  0.498983  False  0.977249          0.353402  2.829636\n",
       "998  0.594622  False  0.341960          0.324422  3.082405\n",
       "999 -0.422973  False  0.309941          0.655511  1.525528\n",
       "\n",
       "[1000 rows x 5 columns]"
      ]
     },
     "execution_count": 6,
     "metadata": {},
     "output_type": "execute_result"
    }
   ],
   "source": [
    "cdf_0"
   ]
  },
  {
   "cell_type": "code",
   "execution_count": 7,
   "metadata": {
    "execution": {
     "iopub.execute_input": "2025-04-05T08:55:56.182695Z",
     "iopub.status.busy": "2025-04-05T08:55:56.182321Z",
     "iopub.status.idle": "2025-04-05T08:55:56.191487Z",
     "shell.execute_reply": "2025-04-05T08:55:56.190861Z"
    }
   },
   "outputs": [
    {
     "data": {
      "text/html": [
       "<div>\n",
       "<style scoped>\n",
       "    .dataframe tbody tr th:only-of-type {\n",
       "        vertical-align: middle;\n",
       "    }\n",
       "\n",
       "    .dataframe tbody tr th {\n",
       "        vertical-align: top;\n",
       "    }\n",
       "\n",
       "    .dataframe thead th {\n",
       "        text-align: right;\n",
       "    }\n",
       "</style>\n",
       "<table border=\"1\" class=\"dataframe\">\n",
       "  <thead>\n",
       "    <tr style=\"text-align: right;\">\n",
       "      <th></th>\n",
       "      <th>W0</th>\n",
       "      <th>v0</th>\n",
       "      <th>y</th>\n",
       "      <th>propensity_score</th>\n",
       "      <th>weight</th>\n",
       "    </tr>\n",
       "  </thead>\n",
       "  <tbody>\n",
       "    <tr>\n",
       "      <th>0</th>\n",
       "      <td>-0.978295</td>\n",
       "      <td>True</td>\n",
       "      <td>4.419827</td>\n",
       "      <td>0.198652</td>\n",
       "      <td>5.033927</td>\n",
       "    </tr>\n",
       "    <tr>\n",
       "      <th>1</th>\n",
       "      <td>-0.813569</td>\n",
       "      <td>True</td>\n",
       "      <td>3.224790</td>\n",
       "      <td>0.236520</td>\n",
       "      <td>4.227975</td>\n",
       "    </tr>\n",
       "    <tr>\n",
       "      <th>2</th>\n",
       "      <td>-0.157999</td>\n",
       "      <td>True</td>\n",
       "      <td>5.271409</td>\n",
       "      <td>0.429271</td>\n",
       "      <td>2.329528</td>\n",
       "    </tr>\n",
       "    <tr>\n",
       "      <th>3</th>\n",
       "      <td>-1.551343</td>\n",
       "      <td>True</td>\n",
       "      <td>3.305663</td>\n",
       "      <td>0.102467</td>\n",
       "      <td>9.759276</td>\n",
       "    </tr>\n",
       "    <tr>\n",
       "      <th>4</th>\n",
       "      <td>-0.495967</td>\n",
       "      <td>True</td>\n",
       "      <td>3.503855</td>\n",
       "      <td>0.322541</td>\n",
       "      <td>3.100379</td>\n",
       "    </tr>\n",
       "    <tr>\n",
       "      <th>...</th>\n",
       "      <td>...</td>\n",
       "      <td>...</td>\n",
       "      <td>...</td>\n",
       "      <td>...</td>\n",
       "      <td>...</td>\n",
       "    </tr>\n",
       "    <tr>\n",
       "      <th>995</th>\n",
       "      <td>-1.551343</td>\n",
       "      <td>True</td>\n",
       "      <td>3.305663</td>\n",
       "      <td>0.102467</td>\n",
       "      <td>9.759276</td>\n",
       "    </tr>\n",
       "    <tr>\n",
       "      <th>996</th>\n",
       "      <td>-1.942201</td>\n",
       "      <td>True</td>\n",
       "      <td>2.970223</td>\n",
       "      <td>0.063034</td>\n",
       "      <td>15.864412</td>\n",
       "    </tr>\n",
       "    <tr>\n",
       "      <th>997</th>\n",
       "      <td>0.919675</td>\n",
       "      <td>True</td>\n",
       "      <td>6.534821</td>\n",
       "      <td>0.763749</td>\n",
       "      <td>1.309331</td>\n",
       "    </tr>\n",
       "    <tr>\n",
       "      <th>998</th>\n",
       "      <td>-0.737544</td>\n",
       "      <td>True</td>\n",
       "      <td>3.157608</td>\n",
       "      <td>0.255595</td>\n",
       "      <td>3.912432</td>\n",
       "    </tr>\n",
       "    <tr>\n",
       "      <th>999</th>\n",
       "      <td>-0.029864</td>\n",
       "      <td>True</td>\n",
       "      <td>5.840204</td>\n",
       "      <td>0.472167</td>\n",
       "      <td>2.117897</td>\n",
       "    </tr>\n",
       "  </tbody>\n",
       "</table>\n",
       "<p>1000 rows × 5 columns</p>\n",
       "</div>"
      ],
      "text/plain": [
       "           W0    v0         y  propensity_score     weight\n",
       "0   -0.978295  True  4.419827          0.198652   5.033927\n",
       "1   -0.813569  True  3.224790          0.236520   4.227975\n",
       "2   -0.157999  True  5.271409          0.429271   2.329528\n",
       "3   -1.551343  True  3.305663          0.102467   9.759276\n",
       "4   -0.495967  True  3.503855          0.322541   3.100379\n",
       "..        ...   ...       ...               ...        ...\n",
       "995 -1.551343  True  3.305663          0.102467   9.759276\n",
       "996 -1.942201  True  2.970223          0.063034  15.864412\n",
       "997  0.919675  True  6.534821          0.763749   1.309331\n",
       "998 -0.737544  True  3.157608          0.255595   3.912432\n",
       "999 -0.029864  True  5.840204          0.472167   2.117897\n",
       "\n",
       "[1000 rows x 5 columns]"
      ]
     },
     "execution_count": 7,
     "metadata": {},
     "output_type": "execute_result"
    }
   ],
   "source": [
    "cdf_1"
   ]
  },
  {
   "cell_type": "markdown",
   "metadata": {},
   "source": [
    "## Comparing the estimate to Linear Regression\n",
    "First, estimating the effect using the causal data frame, and the 95% confidence interval."
   ]
  },
  {
   "cell_type": "code",
   "execution_count": 8,
   "metadata": {
    "execution": {
     "iopub.execute_input": "2025-04-05T08:55:56.193510Z",
     "iopub.status.busy": "2025-04-05T08:55:56.193102Z",
     "iopub.status.idle": "2025-04-05T08:55:56.241625Z",
     "shell.execute_reply": "2025-04-05T08:55:56.241066Z"
    }
   },
   "outputs": [
    {
     "data": {
      "image/png": "[encoded data removed]",
      "text/latex": [
       "$\\displaystyle 5.20651076167518$"
      ],
      "text/plain": [
       "5.206510761675177"
      ]
     },
     "execution_count": 8,
     "metadata": {},
     "output_type": "execute_result"
    }
   ],
   "source": [
    "(cdf_1['y'] - cdf_0['y']).mean()"
   ]
  },
  {
   "cell_type": "code",
   "execution_count": 9,
   "metadata": {
    "execution": {
     "iopub.execute_input": "2025-04-05T08:55:56.243770Z",
     "iopub.status.busy": "2025-04-05T08:55:56.243389Z",
     "iopub.status.idle": "2025-04-05T08:55:56.259993Z",
     "shell.execute_reply": "2025-04-05T08:55:56.259446Z"
    }
   },
   "outputs": [
    {
     "data": {
      "image/png": "[encoded data removed]",
      "text/latex": [
       "$\\displaystyle 0.160861685151455$"
      ],
      "text/plain": [
       "0.16086168515145466"
      ]
     },
     "execution_count": 9,
     "metadata": {},
     "output_type": "execute_result"
    }
   ],
   "source": [
    "1.96*(cdf_1['y'] - cdf_0['y']).std() / np.sqrt(len(df))"
   ]
  },
  {
   "cell_type": "markdown",
   "metadata": {},
   "source": [
    "Comparing to the estimate from OLS."
   ]
  },
  {
   "cell_type": "code",
   "execution_count": 10,
   "metadata": {
    "execution": {
     "iopub.execute_input": "2025-04-05T08:55:56.261954Z",
     "iopub.status.busy": "2025-04-05T08:55:56.261576Z",
     "iopub.status.idle": "2025-04-05T08:55:56.279039Z",
     "shell.execute_reply": "2025-04-05T08:55:56.278505Z"
    }
   },
   "outputs": [
    {
     "data": {
      "text/html": [
       "<table class=\"simpletable\">\n",
       "<caption>OLS Regression Results</caption>\n",
       "<tr>\n",
       "  <th>Dep. Variable:</th>            <td>y</td>        <th>  R-squared (uncentered):</th>      <td>   0.936</td>\n",
       "</tr>\n",
       "<tr>\n",
       "  <th>Model:</th>                   <td>OLS</td>       <th>  Adj. R-squared (uncentered):</th> <td>   0.936</td>\n",
       "</tr>\n",
       "<tr>\n",
       "  <th>Method:</th>             <td>Least Squares</td>  <th>  F-statistic:       </th>          <td>   7269.</td>\n",
       "</tr>\n",
       "<tr>\n",
       "  <th>Date:</th>             <td>Sat, 05 Apr 2025</td> <th>  Prob (F-statistic):</th>           <td>  0.00</td> \n",
       "</tr>\n",
       "<tr>\n",
       "  <th>Time:</th>                 <td>08:55:56</td>     <th>  Log-Likelihood:    </th>          <td> -1399.5</td>\n",
       "</tr>\n",
       "<tr>\n",
       "  <th>No. Observations:</th>      <td>  1000</td>      <th>  AIC:               </th>          <td>   2803.</td>\n",
       "</tr>\n",
       "<tr>\n",
       "  <th>Df Residuals:</th>          <td>   998</td>      <th>  BIC:               </th>          <td>   2813.</td>\n",
       "</tr>\n",
       "<tr>\n",
       "  <th>Df Model:</th>              <td>     2</td>      <th>                     </th>              <td> </td>   \n",
       "</tr>\n",
       "<tr>\n",
       "  <th>Covariance Type:</th>      <td>nonrobust</td>    <th>                     </th>              <td> </td>   \n",
       "</tr>\n",
       "</table>\n",
       "<table class=\"simpletable\">\n",
       "<tr>\n",
       "   <td></td>     <th>coef</th>     <th>std err</th>      <th>t</th>      <th>P>|t|</th>  <th>[0.025</th>    <th>0.975]</th>  \n",
       "</tr>\n",
       "<tr>\n",
       "  <th>x1</th> <td>    1.6426</td> <td>    0.030</td> <td>   55.175</td> <td> 0.000</td> <td>    1.584</td> <td>    1.701</td>\n",
       "</tr>\n",
       "<tr>\n",
       "  <th>x2</th> <td>    5.0276</td> <td>    0.050</td> <td>  100.217</td> <td> 0.000</td> <td>    4.929</td> <td>    5.126</td>\n",
       "</tr>\n",
       "</table>\n",
       "<table class=\"simpletable\">\n",
       "<tr>\n",
       "  <th>Omnibus:</th>       <td> 0.132</td> <th>  Durbin-Watson:     </th> <td>   2.047</td>\n",
       "</tr>\n",
       "<tr>\n",
       "  <th>Prob(Omnibus):</th> <td> 0.936</td> <th>  Jarque-Bera (JB):  </th> <td>   0.063</td>\n",
       "</tr>\n",
       "<tr>\n",
       "  <th>Skew:</th>          <td> 0.002</td> <th>  Prob(JB):          </th> <td>   0.969</td>\n",
       "</tr>\n",
       "<tr>\n",
       "  <th>Kurtosis:</th>      <td> 3.039</td> <th>  Cond. No.          </th> <td>    1.71</td>\n",
       "</tr>\n",
       "</table><br/><br/>Notes:<br/>[1] R² is computed without centering (uncentered) since the model does not contain a constant.<br/>[2] Standard Errors assume that the covariance matrix of the errors is correctly specified."
      ],
      "text/latex": [
       "\\begin{center}\n",
       "\\begin{tabular}{lclc}\n",
       "\\toprule\n",
       "\\textbf{Dep. Variable:}    &        y         & \\textbf{  R-squared (uncentered):}      &     0.936   \\\\\n",
       "\\textbf{Model:}            &       OLS        & \\textbf{  Adj. R-squared (uncentered):} &     0.936   \\\\\n",
       "\\textbf{Method:}           &  Least Squares   & \\textbf{  F-statistic:       }          &     7269.   \\\\\n",
       "\\textbf{Date:}             & Sat, 05 Apr 2025 & \\textbf{  Prob (F-statistic):}          &     0.00    \\\\\n",
       "\\textbf{Time:}             &     08:55:56     & \\textbf{  Log-Likelihood:    }          &   -1399.5   \\\\\n",
       "\\textbf{No. Observations:} &        1000      & \\textbf{  AIC:               }          &     2803.   \\\\\n",
       "\\textbf{Df Residuals:}     &         998      & \\textbf{  BIC:               }          &     2813.   \\\\\n",
       "\\textbf{Df Model:}         &           2      & \\textbf{                     }          &             \\\\\n",
       "\\textbf{Covariance Type:}  &    nonrobust     & \\textbf{                     }          &             \\\\\n",
       "\\bottomrule\n",
       "\\end{tabular}\n",
       "\\begin{tabular}{lcccccc}\n",
       "            & \\textbf{coef} & \\textbf{std err} & \\textbf{t} & \\textbf{P$> |$t$|$} & \\textbf{[0.025} & \\textbf{0.975]}  \\\\\n",
       "\\midrule\n",
       "\\textbf{x1} &       1.6426  &        0.030     &    55.175  &         0.000        &        1.584    &        1.701     \\\\\n",
       "\\textbf{x2} &       5.0276  &        0.050     &   100.217  &         0.000        &        4.929    &        5.126     \\\\\n",
       "\\bottomrule\n",
       "\\end{tabular}\n",
       "\\begin{tabular}{lclc}\n",
       "\\textbf{Omnibus:}       &  0.132 & \\textbf{  Durbin-Watson:     } &    2.047  \\\\\n",
       "\\textbf{Prob(Omnibus):} &  0.936 & \\textbf{  Jarque-Bera (JB):  } &    0.063  \\\\\n",
       "\\textbf{Skew:}          &  0.002 & \\textbf{  Prob(JB):          } &    0.969  \\\\\n",
       "\\textbf{Kurtosis:}      &  3.039 & \\textbf{  Cond. No.          } &     1.71  \\\\\n",
       "\\bottomrule\n",
       "\\end{tabular}\n",
       "%\\caption{OLS Regression Results}\n",
       "\\end{center}\n",
       "\n",
       "Notes: \\newline\n",
       " [1] R² is computed without centering (uncentered) since the model does not contain a constant. \\newline\n",
       " [2] Standard Errors assume that the covariance matrix of the errors is correctly specified."
      ],
      "text/plain": [
       "<class 'statsmodels.iolib.summary.Summary'>\n",
       "\"\"\"\n",
       "                                 OLS Regression Results                                \n",
       "=======================================================================================\n",
       "Dep. Variable:                      y   R-squared (uncentered):                   0.936\n",
       "Model:                            OLS   Adj. R-squared (uncentered):              0.936\n",
       "Method:                 Least Squares   F-statistic:                              7269.\n",
       "Date:                Sat, 05 Apr 2025   Prob (F-statistic):                        0.00\n",
       "Time:                        08:55:56   Log-Likelihood:                         -1399.5\n",
       "No. Observations:                1000   AIC:                                      2803.\n",
       "Df Residuals:                     998   BIC:                                      2813.\n",
       "Df Model:                           2                                                  \n",
       "Covariance Type:            nonrobust                                                  \n",
       "==============================================================================\n",
       "                 coef    std err          t      P>|t|      [0.025      0.975]\n",
       "------------------------------------------------------------------------------\n",
       "x1             1.6426      0.030     55.175      0.000       1.584       1.701\n",
       "x2             5.0276      0.050    100.217      0.000       4.929       5.126\n",
       "==============================================================================\n",
       "Omnibus:                        0.132   Durbin-Watson:                   2.047\n",
       "Prob(Omnibus):                  0.936   Jarque-Bera (JB):                0.063\n",
       "Skew:                           0.002   Prob(JB):                        0.969\n",
       "Kurtosis:                       3.039   Cond. No.                         1.71\n",
       "==============================================================================\n",
       "\n",
       "Notes:\n",
       "[1] R² is computed without centering (uncentered) since the model does not contain a constant.\n",
       "[2] Standard Errors assume that the covariance matrix of the errors is correctly specified.\n",
       "\"\"\""
      ]
     },
     "execution_count": 10,
     "metadata": {},
     "output_type": "execute_result"
    }
   ],
   "source": [
    "model = OLS(np.asarray(df[outcome]), np.asarray(df[[common_cause, treatment]], dtype=np.float64))\n",
    "result = model.fit()\n",
    "result.summary()"
   ]
  }
 ],
 "metadata": {
  "kernelspec": {
   "display_name": "Python 3 (ipykernel)",
   "language": "python",
   "name": "python3"
  },
  "language_info": {
   "codemirror_mode": {
    "name": "ipython",
    "version": 3
   },
   "file_extension": ".py",
   "mimetype": "text/x-python",
   "name": "python",
   "nbconvert_exporter": "python",
   "pygments_lexer": "ipython3",
   "version": "3.8.10"
  },
  "toc": {
   "base_numbering": 1,
   "nav_menu": {},
   "number_sections": false,
   "sideBar": true,
   "skip_h1_title": true,
   "title_cell": "Table of Contents",
   "title_sidebar": "Contents",
   "toc_cell": false,
   "toc_position": {},
   "toc_section_display": true,
   "toc_window_display": false
  }
 },
 "nbformat": 4,
 "nbformat_minor": 4
}
