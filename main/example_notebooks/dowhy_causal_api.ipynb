{
 "cells": [
  {
   "cell_type": "markdown",
   "metadata": {},
   "source": [
    "# Demo for the DoWhy causal API\n",
    "We show a simple example of adding a causal extension to any dataframe. "
   ]
  },
  {
   "cell_type": "code",
   "execution_count": 1,
   "metadata": {
    "execution": {
     "iopub.execute_input": "2025-10-25T10:34:31.819818Z",
     "iopub.status.busy": "2025-10-25T10:34:31.819614Z",
     "iopub.status.idle": "2025-10-25T10:34:33.521713Z",
     "shell.execute_reply": "2025-10-25T10:34:33.521028Z"
    }
   },
   "outputs": [],
   "source": [
    "import dowhy.datasets\n",
    "import dowhy.api\n",
    "from dowhy.graph import build_graph_from_str\n",
    "\n",
    "import numpy as np\n",
    "import pandas as pd\n",
    "\n",
    "from statsmodels.api import OLS"
   ]
  },
  {
   "cell_type": "code",
   "execution_count": 2,
   "metadata": {
    "execution": {
     "iopub.execute_input": "2025-10-25T10:34:33.524500Z",
     "iopub.status.busy": "2025-10-25T10:34:33.523873Z",
     "iopub.status.idle": "2025-10-25T10:34:33.563666Z",
     "shell.execute_reply": "2025-10-25T10:34:33.563025Z"
    }
   },
   "outputs": [
    {
     "data": {
      "text/html": [
       "<div>\n",
       "<style scoped>\n",
       "    .dataframe tbody tr th:only-of-type {\n",
       "        vertical-align: middle;\n",
       "    }\n",
       "\n",
       "    .dataframe tbody tr th {\n",
       "        vertical-align: top;\n",
       "    }\n",
       "\n",
       "    .dataframe thead th {\n",
       "        text-align: right;\n",
       "    }\n",
       "</style>\n",
       "<table border=\"1\" class=\"dataframe\">\n",
       "  <thead>\n",
       "    <tr style=\"text-align: right;\">\n",
       "      <th></th>\n",
       "      <th>W0</th>\n",
       "      <th>v0</th>\n",
       "      <th>y</th>\n",
       "    </tr>\n",
       "  </thead>\n",
       "  <tbody>\n",
       "    <tr>\n",
       "      <th>0</th>\n",
       "      <td>-0.468420</td>\n",
       "      <td>True</td>\n",
       "      <td>4.560174</td>\n",
       "    </tr>\n",
       "    <tr>\n",
       "      <th>1</th>\n",
       "      <td>2.134544</td>\n",
       "      <td>True</td>\n",
       "      <td>8.471678</td>\n",
       "    </tr>\n",
       "    <tr>\n",
       "      <th>2</th>\n",
       "      <td>1.160889</td>\n",
       "      <td>True</td>\n",
       "      <td>5.650805</td>\n",
       "    </tr>\n",
       "    <tr>\n",
       "      <th>3</th>\n",
       "      <td>-1.028594</td>\n",
       "      <td>False</td>\n",
       "      <td>-0.382374</td>\n",
       "    </tr>\n",
       "    <tr>\n",
       "      <th>4</th>\n",
       "      <td>-1.503616</td>\n",
       "      <td>False</td>\n",
       "      <td>-1.383070</td>\n",
       "    </tr>\n",
       "    <tr>\n",
       "      <th>...</th>\n",
       "      <td>...</td>\n",
       "      <td>...</td>\n",
       "      <td>...</td>\n",
       "    </tr>\n",
       "    <tr>\n",
       "      <th>995</th>\n",
       "      <td>0.951941</td>\n",
       "      <td>False</td>\n",
       "      <td>2.129876</td>\n",
       "    </tr>\n",
       "    <tr>\n",
       "      <th>996</th>\n",
       "      <td>0.059147</td>\n",
       "      <td>False</td>\n",
       "      <td>-1.416509</td>\n",
       "    </tr>\n",
       "    <tr>\n",
       "      <th>997</th>\n",
       "      <td>-0.087535</td>\n",
       "      <td>False</td>\n",
       "      <td>-1.353154</td>\n",
       "    </tr>\n",
       "    <tr>\n",
       "      <th>998</th>\n",
       "      <td>0.443769</td>\n",
       "      <td>True</td>\n",
       "      <td>5.991447</td>\n",
       "    </tr>\n",
       "    <tr>\n",
       "      <th>999</th>\n",
       "      <td>3.245628</td>\n",
       "      <td>True</td>\n",
       "      <td>10.985140</td>\n",
       "    </tr>\n",
       "  </tbody>\n",
       "</table>\n",
       "<p>1000 rows × 3 columns</p>\n",
       "</div>"
      ],
      "text/plain": [
       "           W0     v0          y\n",
       "0   -0.468420   True   4.560174\n",
       "1    2.134544   True   8.471678\n",
       "2    1.160889   True   5.650805\n",
       "3   -1.028594  False  -0.382374\n",
       "4   -1.503616  False  -1.383070\n",
       "..        ...    ...        ...\n",
       "995  0.951941  False   2.129876\n",
       "996  0.059147  False  -1.416509\n",
       "997 -0.087535  False  -1.353154\n",
       "998  0.443769   True   5.991447\n",
       "999  3.245628   True  10.985140\n",
       "\n",
       "[1000 rows x 3 columns]"
      ]
     },
     "execution_count": 2,
     "metadata": {},
     "output_type": "execute_result"
    }
   ],
   "source": [
    "data = dowhy.datasets.linear_dataset(beta=5,\n",
    "        num_common_causes=1,\n",
    "        num_instruments = 0,\n",
    "        num_samples=1000,\n",
    "        treatment_is_binary=True)\n",
    "df = data['df']\n",
    "df['y'] = df['y'] + np.random.normal(size=len(df)) # Adding noise to data. Without noise, the variance in Y|X, Z is zero, and mcmc fails.\n",
    "nx_graph = build_graph_from_str(data[\"dot_graph\"])\n",
    "\n",
    "treatment= data[\"treatment_name\"][0]\n",
    "outcome = data[\"outcome_name\"][0]\n",
    "common_cause = data[\"common_causes_names\"][0]\n",
    "df"
   ]
  },
  {
   "cell_type": "code",
   "execution_count": 3,
   "metadata": {
    "execution": {
     "iopub.execute_input": "2025-10-25T10:34:33.565502Z",
     "iopub.status.busy": "2025-10-25T10:34:33.565304Z",
     "iopub.status.idle": "2025-10-25T10:34:33.805350Z",
     "shell.execute_reply": "2025-10-25T10:34:33.804725Z"
    },
    "scrolled": true
   },
   "outputs": [
    {
     "data": {
      "text/plain": [
       "<Axes: xlabel='v0'>"
      ]
     },
     "execution_count": 3,
     "metadata": {},
     "output_type": "execute_result"
    },
    {
     "data": {
      "image/png": "[encoded data removed]",
      "text/plain": [
       "<Figure size 640x480 with 1 Axes>"
      ]
     },
     "metadata": {},
     "output_type": "display_data"
    }
   ],
   "source": [
    "# data['df'] is just a regular pandas.DataFrame\n",
    "df.causal.do(x=treatment,\n",
    "             variable_types={treatment: 'b', outcome: 'c', common_cause: 'c'},\n",
    "             outcome=outcome,\n",
    "             common_causes=[common_cause],\n",
    "            ).groupby(treatment).mean().plot(y=outcome, kind='bar')"
   ]
  },
  {
   "cell_type": "code",
   "execution_count": 4,
   "metadata": {
    "execution": {
     "iopub.execute_input": "2025-10-25T10:34:33.807701Z",
     "iopub.status.busy": "2025-10-25T10:34:33.807265Z",
     "iopub.status.idle": "2025-10-25T10:34:33.900302Z",
     "shell.execute_reply": "2025-10-25T10:34:33.899607Z"
    }
   },
   "outputs": [
    {
     "data": {
      "text/plain": [
       "<Axes: xlabel='v0'>"
      ]
     },
     "execution_count": 4,
     "metadata": {},
     "output_type": "execute_result"
    },
    {
     "data": {
      "image/png": "[encoded data removed]",
      "text/plain": [
       "<Figure size 640x480 with 1 Axes>"
      ]
     },
     "metadata": {},
     "output_type": "display_data"
    }
   ],
   "source": [
    "df.causal.do(x={treatment: 1}, \n",
    "              variable_types={treatment:'b', outcome: 'c', common_cause: 'c'}, \n",
    "              outcome=outcome,\n",
    "              method='weighting', \n",
    "              common_causes=[common_cause]\n",
    "              ).groupby(treatment).mean().plot(y=outcome, kind='bar')"
   ]
  },
  {
   "cell_type": "code",
   "execution_count": 5,
   "metadata": {
    "execution": {
     "iopub.execute_input": "2025-10-25T10:34:33.902316Z",
     "iopub.status.busy": "2025-10-25T10:34:33.902108Z",
     "iopub.status.idle": "2025-10-25T10:34:33.924163Z",
     "shell.execute_reply": "2025-10-25T10:34:33.923461Z"
    }
   },
   "outputs": [],
   "source": [
    "cdf_1 = df.causal.do(x={treatment: 1}, \n",
    "              variable_types={treatment: 'b', outcome: 'c', common_cause: 'c'}, \n",
    "              outcome=outcome, \n",
    "              graph=nx_graph\n",
    "              )\n",
    "\n",
    "cdf_0 = df.causal.do(x={treatment: 0}, \n",
    "              variable_types={treatment: 'b', outcome: 'c', common_cause: 'c'}, \n",
    "              outcome=outcome, \n",
    "              graph=nx_graph\n",
    "              )\n"
   ]
  },
  {
   "cell_type": "code",
   "execution_count": 6,
   "metadata": {
    "execution": {
     "iopub.execute_input": "2025-10-25T10:34:33.926532Z",
     "iopub.status.busy": "2025-10-25T10:34:33.926016Z",
     "iopub.status.idle": "2025-10-25T10:34:33.934562Z",
     "shell.execute_reply": "2025-10-25T10:34:33.934053Z"
    },
    "scrolled": true
   },
   "outputs": [
    {
     "data": {
      "text/html": [
       "<div>\n",
       "<style scoped>\n",
       "    .dataframe tbody tr th:only-of-type {\n",
       "        vertical-align: middle;\n",
       "    }\n",
       "\n",
       "    .dataframe tbody tr th {\n",
       "        vertical-align: top;\n",
       "    }\n",
       "\n",
       "    .dataframe thead th {\n",
       "        text-align: right;\n",
       "    }\n",
       "</style>\n",
       "<table border=\"1\" class=\"dataframe\">\n",
       "  <thead>\n",
       "    <tr style=\"text-align: right;\">\n",
       "      <th></th>\n",
       "      <th>W0</th>\n",
       "      <th>v0</th>\n",
       "      <th>y</th>\n",
       "      <th>propensity_score</th>\n",
       "      <th>weight</th>\n",
       "    </tr>\n",
       "  </thead>\n",
       "  <tbody>\n",
       "    <tr>\n",
       "      <th>0</th>\n",
       "      <td>0.610092</td>\n",
       "      <td>False</td>\n",
       "      <td>0.309065</td>\n",
       "      <td>0.342115</td>\n",
       "      <td>2.922994</td>\n",
       "    </tr>\n",
       "    <tr>\n",
       "      <th>1</th>\n",
       "      <td>1.489051</td>\n",
       "      <td>False</td>\n",
       "      <td>3.618047</td>\n",
       "      <td>0.159232</td>\n",
       "      <td>6.280152</td>\n",
       "    </tr>\n",
       "    <tr>\n",
       "      <th>2</th>\n",
       "      <td>0.656348</td>\n",
       "      <td>False</td>\n",
       "      <td>-1.752405</td>\n",
       "      <td>0.330254</td>\n",
       "      <td>3.027976</td>\n",
       "    </tr>\n",
       "    <tr>\n",
       "      <th>3</th>\n",
       "      <td>1.383535</td>\n",
       "      <td>False</td>\n",
       "      <td>2.649717</td>\n",
       "      <td>0.176143</td>\n",
       "      <td>5.677194</td>\n",
       "    </tr>\n",
       "    <tr>\n",
       "      <th>4</th>\n",
       "      <td>-0.604523</td>\n",
       "      <td>False</td>\n",
       "      <td>-1.050428</td>\n",
       "      <td>0.677414</td>\n",
       "      <td>1.476201</td>\n",
       "    </tr>\n",
       "    <tr>\n",
       "      <th>...</th>\n",
       "      <td>...</td>\n",
       "      <td>...</td>\n",
       "      <td>...</td>\n",
       "      <td>...</td>\n",
       "      <td>...</td>\n",
       "    </tr>\n",
       "    <tr>\n",
       "      <th>995</th>\n",
       "      <td>0.092883</td>\n",
       "      <td>False</td>\n",
       "      <td>0.176367</td>\n",
       "      <td>0.485124</td>\n",
       "      <td>2.061330</td>\n",
       "    </tr>\n",
       "    <tr>\n",
       "      <th>996</th>\n",
       "      <td>0.340035</td>\n",
       "      <td>False</td>\n",
       "      <td>0.246631</td>\n",
       "      <td>0.414949</td>\n",
       "      <td>2.409933</td>\n",
       "    </tr>\n",
       "    <tr>\n",
       "      <th>997</th>\n",
       "      <td>-0.365550</td>\n",
       "      <td>False</td>\n",
       "      <td>-0.366216</td>\n",
       "      <td>0.614743</td>\n",
       "      <td>1.626696</td>\n",
       "    </tr>\n",
       "    <tr>\n",
       "      <th>998</th>\n",
       "      <td>0.776515</td>\n",
       "      <td>False</td>\n",
       "      <td>2.665602</td>\n",
       "      <td>0.300455</td>\n",
       "      <td>3.328283</td>\n",
       "    </tr>\n",
       "    <tr>\n",
       "      <th>999</th>\n",
       "      <td>0.204859</td>\n",
       "      <td>False</td>\n",
       "      <td>-0.456218</td>\n",
       "      <td>0.453088</td>\n",
       "      <td>2.207077</td>\n",
       "    </tr>\n",
       "  </tbody>\n",
       "</table>\n",
       "<p>1000 rows × 5 columns</p>\n",
       "</div>"
      ],
      "text/plain": [
       "           W0     v0         y  propensity_score    weight\n",
       "0    0.610092  False  0.309065          0.342115  2.922994\n",
       "1    1.489051  False  3.618047          0.159232  6.280152\n",
       "2    0.656348  False -1.752405          0.330254  3.027976\n",
       "3    1.383535  False  2.649717          0.176143  5.677194\n",
       "4   -0.604523  False -1.050428          0.677414  1.476201\n",
       "..        ...    ...       ...               ...       ...\n",
       "995  0.092883  False  0.176367          0.485124  2.061330\n",
       "996  0.340035  False  0.246631          0.414949  2.409933\n",
       "997 -0.365550  False -0.366216          0.614743  1.626696\n",
       "998  0.776515  False  2.665602          0.300455  3.328283\n",
       "999  0.204859  False -0.456218          0.453088  2.207077\n",
       "\n",
       "[1000 rows x 5 columns]"
      ]
     },
     "execution_count": 6,
     "metadata": {},
     "output_type": "execute_result"
    }
   ],
   "source": [
    "cdf_0"
   ]
  },
  {
   "cell_type": "code",
   "execution_count": 7,
   "metadata": {
    "execution": {
     "iopub.execute_input": "2025-10-25T10:34:33.936492Z",
     "iopub.status.busy": "2025-10-25T10:34:33.936288Z",
     "iopub.status.idle": "2025-10-25T10:34:33.945135Z",
     "shell.execute_reply": "2025-10-25T10:34:33.944567Z"
    }
   },
   "outputs": [
    {
     "data": {
      "text/html": [
       "<div>\n",
       "<style scoped>\n",
       "    .dataframe tbody tr th:only-of-type {\n",
       "        vertical-align: middle;\n",
       "    }\n",
       "\n",
       "    .dataframe tbody tr th {\n",
       "        vertical-align: top;\n",
       "    }\n",
       "\n",
       "    .dataframe thead th {\n",
       "        text-align: right;\n",
       "    }\n",
       "</style>\n",
       "<table border=\"1\" class=\"dataframe\">\n",
       "  <thead>\n",
       "    <tr style=\"text-align: right;\">\n",
       "      <th></th>\n",
       "      <th>W0</th>\n",
       "      <th>v0</th>\n",
       "      <th>y</th>\n",
       "      <th>propensity_score</th>\n",
       "      <th>weight</th>\n",
       "    </tr>\n",
       "  </thead>\n",
       "  <tbody>\n",
       "    <tr>\n",
       "      <th>0</th>\n",
       "      <td>0.800830</td>\n",
       "      <td>True</td>\n",
       "      <td>4.291487</td>\n",
       "      <td>0.705385</td>\n",
       "      <td>1.417666</td>\n",
       "    </tr>\n",
       "    <tr>\n",
       "      <th>1</th>\n",
       "      <td>-1.659878</td>\n",
       "      <td>True</td>\n",
       "      <td>0.447393</td>\n",
       "      <td>0.124042</td>\n",
       "      <td>8.061758</td>\n",
       "    </tr>\n",
       "    <tr>\n",
       "      <th>2</th>\n",
       "      <td>1.151194</td>\n",
       "      <td>True</td>\n",
       "      <td>5.969224</td>\n",
       "      <td>0.781717</td>\n",
       "      <td>1.279236</td>\n",
       "    </tr>\n",
       "    <tr>\n",
       "      <th>3</th>\n",
       "      <td>-0.114654</td>\n",
       "      <td>True</td>\n",
       "      <td>5.189836</td>\n",
       "      <td>0.455376</td>\n",
       "      <td>2.195988</td>\n",
       "    </tr>\n",
       "    <tr>\n",
       "      <th>4</th>\n",
       "      <td>-0.784207</td>\n",
       "      <td>True</td>\n",
       "      <td>3.282446</td>\n",
       "      <td>0.279206</td>\n",
       "      <td>3.581579</td>\n",
       "    </tr>\n",
       "    <tr>\n",
       "      <th>...</th>\n",
       "      <td>...</td>\n",
       "      <td>...</td>\n",
       "      <td>...</td>\n",
       "      <td>...</td>\n",
       "      <td>...</td>\n",
       "    </tr>\n",
       "    <tr>\n",
       "      <th>995</th>\n",
       "      <td>-0.430642</td>\n",
       "      <td>True</td>\n",
       "      <td>4.472772</td>\n",
       "      <td>0.367700</td>\n",
       "      <td>2.719606</td>\n",
       "    </tr>\n",
       "    <tr>\n",
       "      <th>996</th>\n",
       "      <td>-0.883674</td>\n",
       "      <td>True</td>\n",
       "      <td>3.784112</td>\n",
       "      <td>0.256793</td>\n",
       "      <td>3.894191</td>\n",
       "    </tr>\n",
       "    <tr>\n",
       "      <th>997</th>\n",
       "      <td>1.130201</td>\n",
       "      <td>True</td>\n",
       "      <td>6.885487</td>\n",
       "      <td>0.777572</td>\n",
       "      <td>1.286054</td>\n",
       "    </tr>\n",
       "    <tr>\n",
       "      <th>998</th>\n",
       "      <td>0.429377</td>\n",
       "      <td>True</td>\n",
       "      <td>5.257801</td>\n",
       "      <td>0.609738</td>\n",
       "      <td>1.640049</td>\n",
       "    </tr>\n",
       "    <tr>\n",
       "      <th>999</th>\n",
       "      <td>0.063699</td>\n",
       "      <td>True</td>\n",
       "      <td>7.345994</td>\n",
       "      <td>0.506496</td>\n",
       "      <td>1.974350</td>\n",
       "    </tr>\n",
       "  </tbody>\n",
       "</table>\n",
       "<p>1000 rows × 5 columns</p>\n",
       "</div>"
      ],
      "text/plain": [
       "           W0    v0         y  propensity_score    weight\n",
       "0    0.800830  True  4.291487          0.705385  1.417666\n",
       "1   -1.659878  True  0.447393          0.124042  8.061758\n",
       "2    1.151194  True  5.969224          0.781717  1.279236\n",
       "3   -0.114654  True  5.189836          0.455376  2.195988\n",
       "4   -0.784207  True  3.282446          0.279206  3.581579\n",
       "..        ...   ...       ...               ...       ...\n",
       "995 -0.430642  True  4.472772          0.367700  2.719606\n",
       "996 -0.883674  True  3.784112          0.256793  3.894191\n",
       "997  1.130201  True  6.885487          0.777572  1.286054\n",
       "998  0.429377  True  5.257801          0.609738  1.640049\n",
       "999  0.063699  True  7.345994          0.506496  1.974350\n",
       "\n",
       "[1000 rows x 5 columns]"
      ]
     },
     "execution_count": 7,
     "metadata": {},
     "output_type": "execute_result"
    }
   ],
   "source": [
    "cdf_1"
   ]
  },
  {
   "cell_type": "markdown",
   "metadata": {},
   "source": [
    "## Comparing the estimate to Linear Regression\n",
    "First, estimating the effect using the causal data frame, and the 95% confidence interval."
   ]
  },
  {
   "cell_type": "code",
   "execution_count": 8,
   "metadata": {
    "execution": {
     "iopub.execute_input": "2025-10-25T10:34:33.946989Z",
     "iopub.status.busy": "2025-10-25T10:34:33.946783Z",
     "iopub.status.idle": "2025-10-25T10:34:34.010741Z",
     "shell.execute_reply": "2025-10-25T10:34:34.010205Z"
    }
   },
   "outputs": [
    {
     "data": {
      "image/png": "[encoded data removed]",
      "text/latex": [
       "$\\displaystyle 5.15560157561419$"
      ],
      "text/plain": [
       "np.float64(5.1556015756141855)"
      ]
     },
     "execution_count": 8,
     "metadata": {},
     "output_type": "execute_result"
    }
   ],
   "source": [
    "(cdf_1['y'] - cdf_0['y']).mean()"
   ]
  },
  {
   "cell_type": "code",
   "execution_count": 9,
   "metadata": {
    "execution": {
     "iopub.execute_input": "2025-10-25T10:34:34.012700Z",
     "iopub.status.busy": "2025-10-25T10:34:34.012504Z",
     "iopub.status.idle": "2025-10-25T10:34:34.030175Z",
     "shell.execute_reply": "2025-10-25T10:34:34.029588Z"
    }
   },
   "outputs": [
    {
     "data": {
      "image/png": "[encoded data removed]",
      "text/latex": [
       "$\\displaystyle 0.171043888512071$"
      ],
      "text/plain": [
       "np.float64(0.1710438885120709)"
      ]
     },
     "execution_count": 9,
     "metadata": {},
     "output_type": "execute_result"
    }
   ],
   "source": [
    "1.96*(cdf_1['y'] - cdf_0['y']).std() / np.sqrt(len(df))"
   ]
  },
  {
   "cell_type": "markdown",
   "metadata": {},
   "source": [
    "Comparing to the estimate from OLS."
   ]
  },
  {
   "cell_type": "code",
   "execution_count": 10,
   "metadata": {
    "execution": {
     "iopub.execute_input": "2025-10-25T10:34:34.032035Z",
     "iopub.status.busy": "2025-10-25T10:34:34.031818Z",
     "iopub.status.idle": "2025-10-25T10:34:34.052125Z",
     "shell.execute_reply": "2025-10-25T10:34:34.051457Z"
    }
   },
   "outputs": [
    {
     "data": {
      "text/html": [
       "<table class=\"simpletable\">\n",
       "<caption>OLS Regression Results</caption>\n",
       "<tr>\n",
       "  <th>Dep. Variable:</th>            <td>y</td>        <th>  R-squared (uncentered):</th>      <td>   0.948</td>\n",
       "</tr>\n",
       "<tr>\n",
       "  <th>Model:</th>                   <td>OLS</td>       <th>  Adj. R-squared (uncentered):</th> <td>   0.948</td>\n",
       "</tr>\n",
       "<tr>\n",
       "  <th>Method:</th>             <td>Least Squares</td>  <th>  F-statistic:       </th>          <td>   9189.</td>\n",
       "</tr>\n",
       "<tr>\n",
       "  <th>Date:</th>             <td>Sat, 25 Oct 2025</td> <th>  Prob (F-statistic):</th>           <td>  0.00</td> \n",
       "</tr>\n",
       "<tr>\n",
       "  <th>Time:</th>                 <td>10:34:34</td>     <th>  Log-Likelihood:    </th>          <td> -1434.1</td>\n",
       "</tr>\n",
       "<tr>\n",
       "  <th>No. Observations:</th>      <td>  1000</td>      <th>  AIC:               </th>          <td>   2872.</td>\n",
       "</tr>\n",
       "<tr>\n",
       "  <th>Df Residuals:</th>          <td>   998</td>      <th>  BIC:               </th>          <td>   2882.</td>\n",
       "</tr>\n",
       "<tr>\n",
       "  <th>Df Model:</th>              <td>     2</td>      <th>                     </th>              <td> </td>   \n",
       "</tr>\n",
       "<tr>\n",
       "  <th>Covariance Type:</th>      <td>nonrobust</td>    <th>                     </th>              <td> </td>   \n",
       "</tr>\n",
       "</table>\n",
       "<table class=\"simpletable\">\n",
       "<tr>\n",
       "   <td></td>     <th>coef</th>     <th>std err</th>      <th>t</th>      <th>P>|t|</th>  <th>[0.025</th>    <th>0.975]</th>  \n",
       "</tr>\n",
       "<tr>\n",
       "  <th>x1</th> <td>    1.6990</td> <td>    0.035</td> <td>   48.737</td> <td> 0.000</td> <td>    1.631</td> <td>    1.767</td>\n",
       "</tr>\n",
       "<tr>\n",
       "  <th>x2</th> <td>    5.0145</td> <td>    0.048</td> <td>  103.487</td> <td> 0.000</td> <td>    4.919</td> <td>    5.110</td>\n",
       "</tr>\n",
       "</table>\n",
       "<table class=\"simpletable\">\n",
       "<tr>\n",
       "  <th>Omnibus:</th>       <td> 1.694</td> <th>  Durbin-Watson:     </th> <td>   2.070</td>\n",
       "</tr>\n",
       "<tr>\n",
       "  <th>Prob(Omnibus):</th> <td> 0.429</td> <th>  Jarque-Bera (JB):  </th> <td>   1.703</td>\n",
       "</tr>\n",
       "<tr>\n",
       "  <th>Skew:</th>          <td>-0.100</td> <th>  Prob(JB):          </th> <td>   0.427</td>\n",
       "</tr>\n",
       "<tr>\n",
       "  <th>Kurtosis:</th>      <td> 2.974</td> <th>  Cond. No.          </th> <td>    1.61</td>\n",
       "</tr>\n",
       "</table><br/><br/>Notes:<br/>[1] R² is computed without centering (uncentered) since the model does not contain a constant.<br/>[2] Standard Errors assume that the covariance matrix of the errors is correctly specified."
      ],
      "text/latex": [
       "\\begin{center}\n",
       "\\begin{tabular}{lclc}\n",
       "\\toprule\n",
       "\\textbf{Dep. Variable:}    &        y         & \\textbf{  R-squared (uncentered):}      &     0.948   \\\\\n",
       "\\textbf{Model:}            &       OLS        & \\textbf{  Adj. R-squared (uncentered):} &     0.948   \\\\\n",
       "\\textbf{Method:}           &  Least Squares   & \\textbf{  F-statistic:       }          &     9189.   \\\\\n",
       "\\textbf{Date:}             & Sat, 25 Oct 2025 & \\textbf{  Prob (F-statistic):}          &     0.00    \\\\\n",
       "\\textbf{Time:}             &     10:34:34     & \\textbf{  Log-Likelihood:    }          &   -1434.1   \\\\\n",
       "\\textbf{No. Observations:} &        1000      & \\textbf{  AIC:               }          &     2872.   \\\\\n",
       "\\textbf{Df Residuals:}     &         998      & \\textbf{  BIC:               }          &     2882.   \\\\\n",
       "\\textbf{Df Model:}         &           2      & \\textbf{                     }          &             \\\\\n",
       "\\textbf{Covariance Type:}  &    nonrobust     & \\textbf{                     }          &             \\\\\n",
       "\\bottomrule\n",
       "\\end{tabular}\n",
       "\\begin{tabular}{lcccccc}\n",
       "            & \\textbf{coef} & \\textbf{std err} & \\textbf{t} & \\textbf{P$> |$t$|$} & \\textbf{[0.025} & \\textbf{0.975]}  \\\\\n",
       "\\midrule\n",
       "\\textbf{x1} &       1.6990  &        0.035     &    48.737  &         0.000        &        1.631    &        1.767     \\\\\n",
       "\\textbf{x2} &       5.0145  &        0.048     &   103.487  &         0.000        &        4.919    &        5.110     \\\\\n",
       "\\bottomrule\n",
       "\\end{tabular}\n",
       "\\begin{tabular}{lclc}\n",
       "\\textbf{Omnibus:}       &  1.694 & \\textbf{  Durbin-Watson:     } &    2.070  \\\\\n",
       "\\textbf{Prob(Omnibus):} &  0.429 & \\textbf{  Jarque-Bera (JB):  } &    1.703  \\\\\n",
       "\\textbf{Skew:}          & -0.100 & \\textbf{  Prob(JB):          } &    0.427  \\\\\n",
       "\\textbf{Kurtosis:}      &  2.974 & \\textbf{  Cond. No.          } &     1.61  \\\\\n",
       "\\bottomrule\n",
       "\\end{tabular}\n",
       "%\\caption{OLS Regression Results}\n",
       "\\end{center}\n",
       "\n",
       "Notes: \\newline\n",
       " [1] R² is computed without centering (uncentered) since the model does not contain a constant. \\newline\n",
       " [2] Standard Errors assume that the covariance matrix of the errors is correctly specified."
      ],
      "text/plain": [
       "<class 'statsmodels.iolib.summary.Summary'>\n",
       "\"\"\"\n",
       "                                 OLS Regression Results                                \n",
       "=======================================================================================\n",
       "Dep. Variable:                      y   R-squared (uncentered):                   0.948\n",
       "Model:                            OLS   Adj. R-squared (uncentered):              0.948\n",
       "Method:                 Least Squares   F-statistic:                              9189.\n",
       "Date:                Sat, 25 Oct 2025   Prob (F-statistic):                        0.00\n",
       "Time:                        10:34:34   Log-Likelihood:                         -1434.1\n",
       "No. Observations:                1000   AIC:                                      2872.\n",
       "Df Residuals:                     998   BIC:                                      2882.\n",
       "Df Model:                           2                                                  \n",
       "Covariance Type:            nonrobust                                                  \n",
       "==============================================================================\n",
       "                 coef    std err          t      P>|t|      [0.025      0.975]\n",
       "------------------------------------------------------------------------------\n",
       "x1             1.6990      0.035     48.737      0.000       1.631       1.767\n",
       "x2             5.0145      0.048    103.487      0.000       4.919       5.110\n",
       "==============================================================================\n",
       "Omnibus:                        1.694   Durbin-Watson:                   2.070\n",
       "Prob(Omnibus):                  0.429   Jarque-Bera (JB):                1.703\n",
       "Skew:                          -0.100   Prob(JB):                        0.427\n",
       "Kurtosis:                       2.974   Cond. No.                         1.61\n",
       "==============================================================================\n",
       "\n",
       "Notes:\n",
       "[1] R² is computed without centering (uncentered) since the model does not contain a constant.\n",
       "[2] Standard Errors assume that the covariance matrix of the errors is correctly specified.\n",
       "\"\"\""
      ]
     },
     "execution_count": 10,
     "metadata": {},
     "output_type": "execute_result"
    }
   ],
   "source": [
    "model = OLS(np.asarray(df[outcome]), np.asarray(df[[common_cause, treatment]], dtype=np.float64))\n",
    "result = model.fit()\n",
    "result.summary()"
   ]
  }
 ],
 "metadata": {
  "kernelspec": {
   "display_name": "Python 3 (ipykernel)",
   "language": "python",
   "name": "python3"
  },
  "language_info": {
   "codemirror_mode": {
    "name": "ipython",
    "version": 3
   },
   "file_extension": ".py",
   "mimetype": "text/x-python",
   "name": "python",
   "nbconvert_exporter": "python",
   "pygments_lexer": "ipython3",
   "version": "3.9.23"
  },
  "toc": {
   "base_numbering": 1,
   "nav_menu": {},
   "number_sections": false,
   "sideBar": true,
   "skip_h1_title": true,
   "title_cell": "Table of Contents",
   "title_sidebar": "Contents",
   "toc_cell": false,
   "toc_position": {},
   "toc_section_display": true,
   "toc_window_display": false
  }
 },
 "nbformat": 4,
 "nbformat_minor": 4
}
