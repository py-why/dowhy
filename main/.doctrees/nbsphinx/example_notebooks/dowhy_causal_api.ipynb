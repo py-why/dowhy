{
 "cells": [
  {
   "cell_type": "markdown",
   "metadata": {},
   "source": [
    "# Demo for the DoWhy causal API\n",
    "We show a simple example of adding a causal extension to any dataframe. "
   ]
  },
  {
   "cell_type": "code",
   "execution_count": 1,
   "metadata": {
    "execution": {
     "iopub.execute_input": "2025-10-27T20:47:15.521123Z",
     "iopub.status.busy": "2025-10-27T20:47:15.520899Z",
     "iopub.status.idle": "2025-10-27T20:47:17.223239Z",
     "shell.execute_reply": "2025-10-27T20:47:17.222561Z"
    }
   },
   "outputs": [],
   "source": [
    "import dowhy.datasets\n",
    "import dowhy.api\n",
    "from dowhy.graph import build_graph_from_str\n",
    "\n",
    "import numpy as np\n",
    "import pandas as pd\n",
    "\n",
    "from statsmodels.api import OLS"
   ]
  },
  {
   "cell_type": "code",
   "execution_count": 2,
   "metadata": {
    "execution": {
     "iopub.execute_input": "2025-10-27T20:47:17.225670Z",
     "iopub.status.busy": "2025-10-27T20:47:17.225325Z",
     "iopub.status.idle": "2025-10-27T20:47:17.274174Z",
     "shell.execute_reply": "2025-10-27T20:47:17.273520Z"
    }
   },
   "outputs": [
    {
     "data": {
      "text/html": [
       "<div>\n",
       "<style scoped>\n",
       "    .dataframe tbody tr th:only-of-type {\n",
       "        vertical-align: middle;\n",
       "    }\n",
       "\n",
       "    .dataframe tbody tr th {\n",
       "        vertical-align: top;\n",
       "    }\n",
       "\n",
       "    .dataframe thead th {\n",
       "        text-align: right;\n",
       "    }\n",
       "</style>\n",
       "<table border=\"1\" class=\"dataframe\">\n",
       "  <thead>\n",
       "    <tr style=\"text-align: right;\">\n",
       "      <th></th>\n",
       "      <th>W0</th>\n",
       "      <th>v0</th>\n",
       "      <th>y</th>\n",
       "    </tr>\n",
       "  </thead>\n",
       "  <tbody>\n",
       "    <tr>\n",
       "      <th>0</th>\n",
       "      <td>2.320834</td>\n",
       "      <td>True</td>\n",
       "      <td>9.387020</td>\n",
       "    </tr>\n",
       "    <tr>\n",
       "      <th>1</th>\n",
       "      <td>0.630983</td>\n",
       "      <td>True</td>\n",
       "      <td>5.141012</td>\n",
       "    </tr>\n",
       "    <tr>\n",
       "      <th>2</th>\n",
       "      <td>0.787696</td>\n",
       "      <td>True</td>\n",
       "      <td>6.482143</td>\n",
       "    </tr>\n",
       "    <tr>\n",
       "      <th>3</th>\n",
       "      <td>0.313930</td>\n",
       "      <td>True</td>\n",
       "      <td>3.755315</td>\n",
       "    </tr>\n",
       "    <tr>\n",
       "      <th>4</th>\n",
       "      <td>-0.825402</td>\n",
       "      <td>False</td>\n",
       "      <td>-1.123015</td>\n",
       "    </tr>\n",
       "    <tr>\n",
       "      <th>...</th>\n",
       "      <td>...</td>\n",
       "      <td>...</td>\n",
       "      <td>...</td>\n",
       "    </tr>\n",
       "    <tr>\n",
       "      <th>995</th>\n",
       "      <td>1.691128</td>\n",
       "      <td>False</td>\n",
       "      <td>2.784874</td>\n",
       "    </tr>\n",
       "    <tr>\n",
       "      <th>996</th>\n",
       "      <td>1.718268</td>\n",
       "      <td>True</td>\n",
       "      <td>6.549160</td>\n",
       "    </tr>\n",
       "    <tr>\n",
       "      <th>997</th>\n",
       "      <td>0.990501</td>\n",
       "      <td>False</td>\n",
       "      <td>0.895541</td>\n",
       "    </tr>\n",
       "    <tr>\n",
       "      <th>998</th>\n",
       "      <td>0.782459</td>\n",
       "      <td>False</td>\n",
       "      <td>1.923253</td>\n",
       "    </tr>\n",
       "    <tr>\n",
       "      <th>999</th>\n",
       "      <td>-0.285581</td>\n",
       "      <td>True</td>\n",
       "      <td>3.141352</td>\n",
       "    </tr>\n",
       "  </tbody>\n",
       "</table>\n",
       "<p>1000 rows × 3 columns</p>\n",
       "</div>"
      ],
      "text/plain": [
       "           W0     v0         y\n",
       "0    2.320834   True  9.387020\n",
       "1    0.630983   True  5.141012\n",
       "2    0.787696   True  6.482143\n",
       "3    0.313930   True  3.755315\n",
       "4   -0.825402  False -1.123015\n",
       "..        ...    ...       ...\n",
       "995  1.691128  False  2.784874\n",
       "996  1.718268   True  6.549160\n",
       "997  0.990501  False  0.895541\n",
       "998  0.782459  False  1.923253\n",
       "999 -0.285581   True  3.141352\n",
       "\n",
       "[1000 rows x 3 columns]"
      ]
     },
     "execution_count": 2,
     "metadata": {},
     "output_type": "execute_result"
    }
   ],
   "source": [
    "data = dowhy.datasets.linear_dataset(beta=5,\n",
    "        num_common_causes=1,\n",
    "        num_instruments = 0,\n",
    "        num_samples=1000,\n",
    "        treatment_is_binary=True)\n",
    "df = data['df']\n",
    "df['y'] = df['y'] + np.random.normal(size=len(df)) # Adding noise to data. Without noise, the variance in Y|X, Z is zero, and mcmc fails.\n",
    "nx_graph = build_graph_from_str(data[\"dot_graph\"])\n",
    "\n",
    "treatment= data[\"treatment_name\"][0]\n",
    "outcome = data[\"outcome_name\"][0]\n",
    "common_cause = data[\"common_causes_names\"][0]\n",
    "df"
   ]
  },
  {
   "cell_type": "code",
   "execution_count": 3,
   "metadata": {
    "execution": {
     "iopub.execute_input": "2025-10-27T20:47:17.276446Z",
     "iopub.status.busy": "2025-10-27T20:47:17.276080Z",
     "iopub.status.idle": "2025-10-27T20:47:17.510033Z",
     "shell.execute_reply": "2025-10-27T20:47:17.509337Z"
    },
    "scrolled": true
   },
   "outputs": [
    {
     "data": {
      "text/plain": [
       "<Axes: xlabel='v0'>"
      ]
     },
     "execution_count": 3,
     "metadata": {},
     "output_type": "execute_result"
    },
    {
     "data": {
      "image/png": "[encoded data removed]",
      "text/plain": [
       "<Figure size 640x480 with 1 Axes>"
      ]
     },
     "metadata": {},
     "output_type": "display_data"
    }
   ],
   "source": [
    "# data['df'] is just a regular pandas.DataFrame\n",
    "df.causal.do(x=treatment,\n",
    "             variable_types={treatment: 'b', outcome: 'c', common_cause: 'c'},\n",
    "             outcome=outcome,\n",
    "             common_causes=[common_cause],\n",
    "            ).groupby(treatment).mean().plot(y=outcome, kind='bar')"
   ]
  },
  {
   "cell_type": "code",
   "execution_count": 4,
   "metadata": {
    "execution": {
     "iopub.execute_input": "2025-10-27T20:47:17.512398Z",
     "iopub.status.busy": "2025-10-27T20:47:17.512023Z",
     "iopub.status.idle": "2025-10-27T20:47:17.607506Z",
     "shell.execute_reply": "2025-10-27T20:47:17.606855Z"
    }
   },
   "outputs": [
    {
     "data": {
      "text/plain": [
       "<Axes: xlabel='v0'>"
      ]
     },
     "execution_count": 4,
     "metadata": {},
     "output_type": "execute_result"
    },
    {
     "data": {
      "image/png": "[encoded data removed]",
      "text/plain": [
       "<Figure size 640x480 with 1 Axes>"
      ]
     },
     "metadata": {},
     "output_type": "display_data"
    }
   ],
   "source": [
    "df.causal.do(x={treatment: 1}, \n",
    "              variable_types={treatment:'b', outcome: 'c', common_cause: 'c'}, \n",
    "              outcome=outcome,\n",
    "              method='weighting', \n",
    "              common_causes=[common_cause]\n",
    "              ).groupby(treatment).mean().plot(y=outcome, kind='bar')"
   ]
  },
  {
   "cell_type": "code",
   "execution_count": 5,
   "metadata": {
    "execution": {
     "iopub.execute_input": "2025-10-27T20:47:17.609916Z",
     "iopub.status.busy": "2025-10-27T20:47:17.609232Z",
     "iopub.status.idle": "2025-10-27T20:47:17.630557Z",
     "shell.execute_reply": "2025-10-27T20:47:17.630025Z"
    }
   },
   "outputs": [],
   "source": [
    "cdf_1 = df.causal.do(x={treatment: 1}, \n",
    "              variable_types={treatment: 'b', outcome: 'c', common_cause: 'c'}, \n",
    "              outcome=outcome, \n",
    "              graph=nx_graph\n",
    "              )\n",
    "\n",
    "cdf_0 = df.causal.do(x={treatment: 0}, \n",
    "              variable_types={treatment: 'b', outcome: 'c', common_cause: 'c'}, \n",
    "              outcome=outcome, \n",
    "              graph=nx_graph\n",
    "              )\n"
   ]
  },
  {
   "cell_type": "code",
   "execution_count": 6,
   "metadata": {
    "execution": {
     "iopub.execute_input": "2025-10-27T20:47:17.632530Z",
     "iopub.status.busy": "2025-10-27T20:47:17.632148Z",
     "iopub.status.idle": "2025-10-27T20:47:17.640782Z",
     "shell.execute_reply": "2025-10-27T20:47:17.640150Z"
    },
    "scrolled": true
   },
   "outputs": [
    {
     "data": {
      "text/html": [
       "<div>\n",
       "<style scoped>\n",
       "    .dataframe tbody tr th:only-of-type {\n",
       "        vertical-align: middle;\n",
       "    }\n",
       "\n",
       "    .dataframe tbody tr th {\n",
       "        vertical-align: top;\n",
       "    }\n",
       "\n",
       "    .dataframe thead th {\n",
       "        text-align: right;\n",
       "    }\n",
       "</style>\n",
       "<table border=\"1\" class=\"dataframe\">\n",
       "  <thead>\n",
       "    <tr style=\"text-align: right;\">\n",
       "      <th></th>\n",
       "      <th>W0</th>\n",
       "      <th>v0</th>\n",
       "      <th>y</th>\n",
       "      <th>propensity_score</th>\n",
       "      <th>weight</th>\n",
       "    </tr>\n",
       "  </thead>\n",
       "  <tbody>\n",
       "    <tr>\n",
       "      <th>0</th>\n",
       "      <td>0.967933</td>\n",
       "      <td>False</td>\n",
       "      <td>2.374093</td>\n",
       "      <td>0.265922</td>\n",
       "      <td>3.760506</td>\n",
       "    </tr>\n",
       "    <tr>\n",
       "      <th>1</th>\n",
       "      <td>0.123584</td>\n",
       "      <td>False</td>\n",
       "      <td>0.240748</td>\n",
       "      <td>0.471160</td>\n",
       "      <td>2.122422</td>\n",
       "    </tr>\n",
       "    <tr>\n",
       "      <th>2</th>\n",
       "      <td>-0.662530</td>\n",
       "      <td>False</td>\n",
       "      <td>-0.985252</td>\n",
       "      <td>0.673129</td>\n",
       "      <td>1.485600</td>\n",
       "    </tr>\n",
       "    <tr>\n",
       "      <th>3</th>\n",
       "      <td>0.124534</td>\n",
       "      <td>False</td>\n",
       "      <td>-0.041452</td>\n",
       "      <td>0.470908</td>\n",
       "      <td>2.123559</td>\n",
       "    </tr>\n",
       "    <tr>\n",
       "      <th>4</th>\n",
       "      <td>0.244441</td>\n",
       "      <td>False</td>\n",
       "      <td>1.177962</td>\n",
       "      <td>0.439227</td>\n",
       "      <td>2.276729</td>\n",
       "    </tr>\n",
       "    <tr>\n",
       "      <th>...</th>\n",
       "      <td>...</td>\n",
       "      <td>...</td>\n",
       "      <td>...</td>\n",
       "      <td>...</td>\n",
       "      <td>...</td>\n",
       "    </tr>\n",
       "    <tr>\n",
       "      <th>995</th>\n",
       "      <td>-0.264735</td>\n",
       "      <td>False</td>\n",
       "      <td>0.020883</td>\n",
       "      <td>0.574049</td>\n",
       "      <td>1.742012</td>\n",
       "    </tr>\n",
       "    <tr>\n",
       "      <th>996</th>\n",
       "      <td>1.989762</td>\n",
       "      <td>False</td>\n",
       "      <td>4.073871</td>\n",
       "      <td>0.108660</td>\n",
       "      <td>9.203018</td>\n",
       "    </tr>\n",
       "    <tr>\n",
       "      <th>997</th>\n",
       "      <td>1.312464</td>\n",
       "      <td>False</td>\n",
       "      <td>1.212648</td>\n",
       "      <td>0.200588</td>\n",
       "      <td>4.985339</td>\n",
       "    </tr>\n",
       "    <tr>\n",
       "      <th>998</th>\n",
       "      <td>0.940295</td>\n",
       "      <td>False</td>\n",
       "      <td>0.354984</td>\n",
       "      <td>0.271711</td>\n",
       "      <td>3.680375</td>\n",
       "    </tr>\n",
       "    <tr>\n",
       "      <th>999</th>\n",
       "      <td>0.435202</td>\n",
       "      <td>False</td>\n",
       "      <td>0.900523</td>\n",
       "      <td>0.389927</td>\n",
       "      <td>2.564581</td>\n",
       "    </tr>\n",
       "  </tbody>\n",
       "</table>\n",
       "<p>1000 rows × 5 columns</p>\n",
       "</div>"
      ],
      "text/plain": [
       "           W0     v0         y  propensity_score    weight\n",
       "0    0.967933  False  2.374093          0.265922  3.760506\n",
       "1    0.123584  False  0.240748          0.471160  2.122422\n",
       "2   -0.662530  False -0.985252          0.673129  1.485600\n",
       "3    0.124534  False -0.041452          0.470908  2.123559\n",
       "4    0.244441  False  1.177962          0.439227  2.276729\n",
       "..        ...    ...       ...               ...       ...\n",
       "995 -0.264735  False  0.020883          0.574049  1.742012\n",
       "996  1.989762  False  4.073871          0.108660  9.203018\n",
       "997  1.312464  False  1.212648          0.200588  4.985339\n",
       "998  0.940295  False  0.354984          0.271711  3.680375\n",
       "999  0.435202  False  0.900523          0.389927  2.564581\n",
       "\n",
       "[1000 rows x 5 columns]"
      ]
     },
     "execution_count": 6,
     "metadata": {},
     "output_type": "execute_result"
    }
   ],
   "source": [
    "cdf_0"
   ]
  },
  {
   "cell_type": "code",
   "execution_count": 7,
   "metadata": {
    "execution": {
     "iopub.execute_input": "2025-10-27T20:47:17.642809Z",
     "iopub.status.busy": "2025-10-27T20:47:17.642416Z",
     "iopub.status.idle": "2025-10-27T20:47:17.650762Z",
     "shell.execute_reply": "2025-10-27T20:47:17.650115Z"
    }
   },
   "outputs": [
    {
     "data": {
      "text/html": [
       "<div>\n",
       "<style scoped>\n",
       "    .dataframe tbody tr th:only-of-type {\n",
       "        vertical-align: middle;\n",
       "    }\n",
       "\n",
       "    .dataframe tbody tr th {\n",
       "        vertical-align: top;\n",
       "    }\n",
       "\n",
       "    .dataframe thead th {\n",
       "        text-align: right;\n",
       "    }\n",
       "</style>\n",
       "<table border=\"1\" class=\"dataframe\">\n",
       "  <thead>\n",
       "    <tr style=\"text-align: right;\">\n",
       "      <th></th>\n",
       "      <th>W0</th>\n",
       "      <th>v0</th>\n",
       "      <th>y</th>\n",
       "      <th>propensity_score</th>\n",
       "      <th>weight</th>\n",
       "    </tr>\n",
       "  </thead>\n",
       "  <tbody>\n",
       "    <tr>\n",
       "      <th>0</th>\n",
       "      <td>1.451394</td>\n",
       "      <td>True</td>\n",
       "      <td>9.171554</td>\n",
       "      <td>0.822108</td>\n",
       "      <td>1.216385</td>\n",
       "    </tr>\n",
       "    <tr>\n",
       "      <th>1</th>\n",
       "      <td>1.518636</td>\n",
       "      <td>True</td>\n",
       "      <td>7.735094</td>\n",
       "      <td>0.832349</td>\n",
       "      <td>1.201419</td>\n",
       "    </tr>\n",
       "    <tr>\n",
       "      <th>2</th>\n",
       "      <td>1.342122</td>\n",
       "      <td>True</td>\n",
       "      <td>6.768357</td>\n",
       "      <td>0.804433</td>\n",
       "      <td>1.243112</td>\n",
       "    </tr>\n",
       "    <tr>\n",
       "      <th>3</th>\n",
       "      <td>0.953463</td>\n",
       "      <td>True</td>\n",
       "      <td>6.552904</td>\n",
       "      <td>0.731057</td>\n",
       "      <td>1.367883</td>\n",
       "    </tr>\n",
       "    <tr>\n",
       "      <th>4</th>\n",
       "      <td>1.124401</td>\n",
       "      <td>True</td>\n",
       "      <td>8.224632</td>\n",
       "      <td>0.765340</td>\n",
       "      <td>1.306609</td>\n",
       "    </tr>\n",
       "    <tr>\n",
       "      <th>...</th>\n",
       "      <td>...</td>\n",
       "      <td>...</td>\n",
       "      <td>...</td>\n",
       "      <td>...</td>\n",
       "      <td>...</td>\n",
       "    </tr>\n",
       "    <tr>\n",
       "      <th>995</th>\n",
       "      <td>0.939374</td>\n",
       "      <td>True</td>\n",
       "      <td>7.883053</td>\n",
       "      <td>0.728094</td>\n",
       "      <td>1.373448</td>\n",
       "    </tr>\n",
       "    <tr>\n",
       "      <th>996</th>\n",
       "      <td>0.386453</td>\n",
       "      <td>True</td>\n",
       "      <td>6.776307</td>\n",
       "      <td>0.597645</td>\n",
       "      <td>1.673235</td>\n",
       "    </tr>\n",
       "    <tr>\n",
       "      <th>997</th>\n",
       "      <td>0.481538</td>\n",
       "      <td>True</td>\n",
       "      <td>5.672825</td>\n",
       "      <td>0.621755</td>\n",
       "      <td>1.608351</td>\n",
       "    </tr>\n",
       "    <tr>\n",
       "      <th>998</th>\n",
       "      <td>0.807014</td>\n",
       "      <td>True</td>\n",
       "      <td>7.131737</td>\n",
       "      <td>0.699287</td>\n",
       "      <td>1.430029</td>\n",
       "    </tr>\n",
       "    <tr>\n",
       "      <th>999</th>\n",
       "      <td>1.251438</td>\n",
       "      <td>True</td>\n",
       "      <td>7.961020</td>\n",
       "      <td>0.788779</td>\n",
       "      <td>1.267782</td>\n",
       "    </tr>\n",
       "  </tbody>\n",
       "</table>\n",
       "<p>1000 rows × 5 columns</p>\n",
       "</div>"
      ],
      "text/plain": [
       "           W0    v0         y  propensity_score    weight\n",
       "0    1.451394  True  9.171554          0.822108  1.216385\n",
       "1    1.518636  True  7.735094          0.832349  1.201419\n",
       "2    1.342122  True  6.768357          0.804433  1.243112\n",
       "3    0.953463  True  6.552904          0.731057  1.367883\n",
       "4    1.124401  True  8.224632          0.765340  1.306609\n",
       "..        ...   ...       ...               ...       ...\n",
       "995  0.939374  True  7.883053          0.728094  1.373448\n",
       "996  0.386453  True  6.776307          0.597645  1.673235\n",
       "997  0.481538  True  5.672825          0.621755  1.608351\n",
       "998  0.807014  True  7.131737          0.699287  1.430029\n",
       "999  1.251438  True  7.961020          0.788779  1.267782\n",
       "\n",
       "[1000 rows x 5 columns]"
      ]
     },
     "execution_count": 7,
     "metadata": {},
     "output_type": "execute_result"
    }
   ],
   "source": [
    "cdf_1"
   ]
  },
  {
   "cell_type": "markdown",
   "metadata": {},
   "source": [
    "## Comparing the estimate to Linear Regression\n",
    "First, estimating the effect using the causal data frame, and the 95% confidence interval."
   ]
  },
  {
   "cell_type": "code",
   "execution_count": 8,
   "metadata": {
    "execution": {
     "iopub.execute_input": "2025-10-27T20:47:17.652937Z",
     "iopub.status.busy": "2025-10-27T20:47:17.652462Z",
     "iopub.status.idle": "2025-10-27T20:47:17.715185Z",
     "shell.execute_reply": "2025-10-27T20:47:17.714507Z"
    }
   },
   "outputs": [
    {
     "data": {
      "image/png": "[encoded data removed]",
      "text/latex": [
       "$\\displaystyle 5.1211115795239$"
      ],
      "text/plain": [
       "np.float64(5.121111579523896)"
      ]
     },
     "execution_count": 8,
     "metadata": {},
     "output_type": "execute_result"
    }
   ],
   "source": [
    "(cdf_1['y'] - cdf_0['y']).mean()"
   ]
  },
  {
   "cell_type": "code",
   "execution_count": 9,
   "metadata": {
    "execution": {
     "iopub.execute_input": "2025-10-27T20:47:17.717202Z",
     "iopub.status.busy": "2025-10-27T20:47:17.716846Z",
     "iopub.status.idle": "2025-10-27T20:47:17.734357Z",
     "shell.execute_reply": "2025-10-27T20:47:17.733699Z"
    }
   },
   "outputs": [
    {
     "data": {
      "image/png": "[encoded data removed]",
      "text/latex": [
       "$\\displaystyle 0.165782409766654$"
      ],
      "text/plain": [
       "np.float64(0.1657824097666539)"
      ]
     },
     "execution_count": 9,
     "metadata": {},
     "output_type": "execute_result"
    }
   ],
   "source": [
    "1.96*(cdf_1['y'] - cdf_0['y']).std() / np.sqrt(len(df))"
   ]
  },
  {
   "cell_type": "markdown",
   "metadata": {},
   "source": [
    "Comparing to the estimate from OLS."
   ]
  },
  {
   "cell_type": "code",
   "execution_count": 10,
   "metadata": {
    "execution": {
     "iopub.execute_input": "2025-10-27T20:47:17.736273Z",
     "iopub.status.busy": "2025-10-27T20:47:17.736093Z",
     "iopub.status.idle": "2025-10-27T20:47:17.756027Z",
     "shell.execute_reply": "2025-10-27T20:47:17.755383Z"
    }
   },
   "outputs": [
    {
     "data": {
      "text/html": [
       "<table class=\"simpletable\">\n",
       "<caption>OLS Regression Results</caption>\n",
       "<tr>\n",
       "  <th>Dep. Variable:</th>            <td>y</td>        <th>  R-squared (uncentered):</th>      <td>   0.966</td> \n",
       "</tr>\n",
       "<tr>\n",
       "  <th>Model:</th>                   <td>OLS</td>       <th>  Adj. R-squared (uncentered):</th> <td>   0.966</td> \n",
       "</tr>\n",
       "<tr>\n",
       "  <th>Method:</th>             <td>Least Squares</td>  <th>  F-statistic:       </th>          <td>1.407e+04</td>\n",
       "</tr>\n",
       "<tr>\n",
       "  <th>Date:</th>             <td>Mon, 27 Oct 2025</td> <th>  Prob (F-statistic):</th>           <td>  0.00</td>  \n",
       "</tr>\n",
       "<tr>\n",
       "  <th>Time:</th>                 <td>20:47:17</td>     <th>  Log-Likelihood:    </th>          <td> -1408.1</td> \n",
       "</tr>\n",
       "<tr>\n",
       "  <th>No. Observations:</th>      <td>  1000</td>      <th>  AIC:               </th>          <td>   2820.</td> \n",
       "</tr>\n",
       "<tr>\n",
       "  <th>Df Residuals:</th>          <td>   998</td>      <th>  BIC:               </th>          <td>   2830.</td> \n",
       "</tr>\n",
       "<tr>\n",
       "  <th>Df Model:</th>              <td>     2</td>      <th>                     </th>              <td> </td>    \n",
       "</tr>\n",
       "<tr>\n",
       "  <th>Covariance Type:</th>      <td>nonrobust</td>    <th>                     </th>              <td> </td>    \n",
       "</tr>\n",
       "</table>\n",
       "<table class=\"simpletable\">\n",
       "<tr>\n",
       "   <td></td>     <th>coef</th>     <th>std err</th>      <th>t</th>      <th>P>|t|</th>  <th>[0.025</th>    <th>0.975]</th>  \n",
       "</tr>\n",
       "<tr>\n",
       "  <th>x1</th> <td>    1.6716</td> <td>    0.035</td> <td>   48.176</td> <td> 0.000</td> <td>    1.604</td> <td>    1.740</td>\n",
       "</tr>\n",
       "<tr>\n",
       "  <th>x2</th> <td>    5.0080</td> <td>    0.050</td> <td>   99.886</td> <td> 0.000</td> <td>    4.910</td> <td>    5.106</td>\n",
       "</tr>\n",
       "</table>\n",
       "<table class=\"simpletable\">\n",
       "<tr>\n",
       "  <th>Omnibus:</th>       <td> 0.431</td> <th>  Durbin-Watson:     </th> <td>   2.034</td>\n",
       "</tr>\n",
       "<tr>\n",
       "  <th>Prob(Omnibus):</th> <td> 0.806</td> <th>  Jarque-Bera (JB):  </th> <td>   0.313</td>\n",
       "</tr>\n",
       "<tr>\n",
       "  <th>Skew:</th>          <td>-0.001</td> <th>  Prob(JB):          </th> <td>   0.855</td>\n",
       "</tr>\n",
       "<tr>\n",
       "  <th>Kurtosis:</th>      <td> 3.087</td> <th>  Cond. No.          </th> <td>    2.22</td>\n",
       "</tr>\n",
       "</table><br/><br/>Notes:<br/>[1] R² is computed without centering (uncentered) since the model does not contain a constant.<br/>[2] Standard Errors assume that the covariance matrix of the errors is correctly specified."
      ],
      "text/latex": [
       "\\begin{center}\n",
       "\\begin{tabular}{lclc}\n",
       "\\toprule\n",
       "\\textbf{Dep. Variable:}    &        y         & \\textbf{  R-squared (uncentered):}      &     0.966   \\\\\n",
       "\\textbf{Model:}            &       OLS        & \\textbf{  Adj. R-squared (uncentered):} &     0.966   \\\\\n",
       "\\textbf{Method:}           &  Least Squares   & \\textbf{  F-statistic:       }          & 1.407e+04   \\\\\n",
       "\\textbf{Date:}             & Mon, 27 Oct 2025 & \\textbf{  Prob (F-statistic):}          &     0.00    \\\\\n",
       "\\textbf{Time:}             &     20:47:17     & \\textbf{  Log-Likelihood:    }          &   -1408.1   \\\\\n",
       "\\textbf{No. Observations:} &        1000      & \\textbf{  AIC:               }          &     2820.   \\\\\n",
       "\\textbf{Df Residuals:}     &         998      & \\textbf{  BIC:               }          &     2830.   \\\\\n",
       "\\textbf{Df Model:}         &           2      & \\textbf{                     }          &             \\\\\n",
       "\\textbf{Covariance Type:}  &    nonrobust     & \\textbf{                     }          &             \\\\\n",
       "\\bottomrule\n",
       "\\end{tabular}\n",
       "\\begin{tabular}{lcccccc}\n",
       "            & \\textbf{coef} & \\textbf{std err} & \\textbf{t} & \\textbf{P$> |$t$|$} & \\textbf{[0.025} & \\textbf{0.975]}  \\\\\n",
       "\\midrule\n",
       "\\textbf{x1} &       1.6716  &        0.035     &    48.176  &         0.000        &        1.604    &        1.740     \\\\\n",
       "\\textbf{x2} &       5.0080  &        0.050     &    99.886  &         0.000        &        4.910    &        5.106     \\\\\n",
       "\\bottomrule\n",
       "\\end{tabular}\n",
       "\\begin{tabular}{lclc}\n",
       "\\textbf{Omnibus:}       &  0.431 & \\textbf{  Durbin-Watson:     } &    2.034  \\\\\n",
       "\\textbf{Prob(Omnibus):} &  0.806 & \\textbf{  Jarque-Bera (JB):  } &    0.313  \\\\\n",
       "\\textbf{Skew:}          & -0.001 & \\textbf{  Prob(JB):          } &    0.855  \\\\\n",
       "\\textbf{Kurtosis:}      &  3.087 & \\textbf{  Cond. No.          } &     2.22  \\\\\n",
       "\\bottomrule\n",
       "\\end{tabular}\n",
       "%\\caption{OLS Regression Results}\n",
       "\\end{center}\n",
       "\n",
       "Notes: \\newline\n",
       " [1] R² is computed without centering (uncentered) since the model does not contain a constant. \\newline\n",
       " [2] Standard Errors assume that the covariance matrix of the errors is correctly specified."
      ],
      "text/plain": [
       "<class 'statsmodels.iolib.summary.Summary'>\n",
       "\"\"\"\n",
       "                                 OLS Regression Results                                \n",
       "=======================================================================================\n",
       "Dep. Variable:                      y   R-squared (uncentered):                   0.966\n",
       "Model:                            OLS   Adj. R-squared (uncentered):              0.966\n",
       "Method:                 Least Squares   F-statistic:                          1.407e+04\n",
       "Date:                Mon, 27 Oct 2025   Prob (F-statistic):                        0.00\n",
       "Time:                        20:47:17   Log-Likelihood:                         -1408.1\n",
       "No. Observations:                1000   AIC:                                      2820.\n",
       "Df Residuals:                     998   BIC:                                      2830.\n",
       "Df Model:                           2                                                  \n",
       "Covariance Type:            nonrobust                                                  \n",
       "==============================================================================\n",
       "                 coef    std err          t      P>|t|      [0.025      0.975]\n",
       "------------------------------------------------------------------------------\n",
       "x1             1.6716      0.035     48.176      0.000       1.604       1.740\n",
       "x2             5.0080      0.050     99.886      0.000       4.910       5.106\n",
       "==============================================================================\n",
       "Omnibus:                        0.431   Durbin-Watson:                   2.034\n",
       "Prob(Omnibus):                  0.806   Jarque-Bera (JB):                0.313\n",
       "Skew:                          -0.001   Prob(JB):                        0.855\n",
       "Kurtosis:                       3.087   Cond. No.                         2.22\n",
       "==============================================================================\n",
       "\n",
       "Notes:\n",
       "[1] R² is computed without centering (uncentered) since the model does not contain a constant.\n",
       "[2] Standard Errors assume that the covariance matrix of the errors is correctly specified.\n",
       "\"\"\""
      ]
     },
     "execution_count": 10,
     "metadata": {},
     "output_type": "execute_result"
    }
   ],
   "source": [
    "model = OLS(np.asarray(df[outcome]), np.asarray(df[[common_cause, treatment]], dtype=np.float64))\n",
    "result = model.fit()\n",
    "result.summary()"
   ]
  }
 ],
 "metadata": {
  "kernelspec": {
   "display_name": "Python 3 (ipykernel)",
   "language": "python",
   "name": "python3"
  },
  "language_info": {
   "codemirror_mode": {
    "name": "ipython",
    "version": 3
   },
   "file_extension": ".py",
   "mimetype": "text/x-python",
   "name": "python",
   "nbconvert_exporter": "python",
   "pygments_lexer": "ipython3",
   "version": "3.9.23"
  },
  "toc": {
   "base_numbering": 1,
   "nav_menu": {},
   "number_sections": false,
   "sideBar": true,
   "skip_h1_title": true,
   "title_cell": "Table of Contents",
   "title_sidebar": "Contents",
   "toc_cell": false,
   "toc_position": {},
   "toc_section_display": true,
   "toc_window_display": false
  }
 },
 "nbformat": 4,
 "nbformat_minor": 4
}
