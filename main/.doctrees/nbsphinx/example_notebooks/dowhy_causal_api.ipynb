{
 "cells": [
  {
   "cell_type": "markdown",
   "metadata": {},
   "source": [
    "# Demo for the DoWhy causal API\n",
    "We show a simple example of adding a causal extension to any dataframe. "
   ]
  },
  {
   "cell_type": "code",
   "execution_count": 1,
   "metadata": {
    "execution": {
     "iopub.execute_input": "2025-10-28T05:44:51.295956Z",
     "iopub.status.busy": "2025-10-28T05:44:51.295759Z",
     "iopub.status.idle": "2025-10-28T05:44:53.123041Z",
     "shell.execute_reply": "2025-10-28T05:44:53.122286Z"
    }
   },
   "outputs": [],
   "source": [
    "import dowhy.datasets\n",
    "import dowhy.api\n",
    "from dowhy.graph import build_graph_from_str\n",
    "\n",
    "import numpy as np\n",
    "import pandas as pd\n",
    "\n",
    "from statsmodels.api import OLS"
   ]
  },
  {
   "cell_type": "code",
   "execution_count": 2,
   "metadata": {
    "execution": {
     "iopub.execute_input": "2025-10-28T05:44:53.125756Z",
     "iopub.status.busy": "2025-10-28T05:44:53.125384Z",
     "iopub.status.idle": "2025-10-28T05:44:53.167794Z",
     "shell.execute_reply": "2025-10-28T05:44:53.167046Z"
    }
   },
   "outputs": [
    {
     "data": {
      "text/html": [
       "<div>\n",
       "<style scoped>\n",
       "    .dataframe tbody tr th:only-of-type {\n",
       "        vertical-align: middle;\n",
       "    }\n",
       "\n",
       "    .dataframe tbody tr th {\n",
       "        vertical-align: top;\n",
       "    }\n",
       "\n",
       "    .dataframe thead th {\n",
       "        text-align: right;\n",
       "    }\n",
       "</style>\n",
       "<table border=\"1\" class=\"dataframe\">\n",
       "  <thead>\n",
       "    <tr style=\"text-align: right;\">\n",
       "      <th></th>\n",
       "      <th>W0</th>\n",
       "      <th>v0</th>\n",
       "      <th>y</th>\n",
       "    </tr>\n",
       "  </thead>\n",
       "  <tbody>\n",
       "    <tr>\n",
       "      <th>0</th>\n",
       "      <td>0.560300</td>\n",
       "      <td>True</td>\n",
       "      <td>4.779165</td>\n",
       "    </tr>\n",
       "    <tr>\n",
       "      <th>1</th>\n",
       "      <td>-1.237910</td>\n",
       "      <td>False</td>\n",
       "      <td>-0.485195</td>\n",
       "    </tr>\n",
       "    <tr>\n",
       "      <th>2</th>\n",
       "      <td>-1.809642</td>\n",
       "      <td>False</td>\n",
       "      <td>-0.796393</td>\n",
       "    </tr>\n",
       "    <tr>\n",
       "      <th>3</th>\n",
       "      <td>-2.480514</td>\n",
       "      <td>False</td>\n",
       "      <td>0.529577</td>\n",
       "    </tr>\n",
       "    <tr>\n",
       "      <th>4</th>\n",
       "      <td>-0.593813</td>\n",
       "      <td>False</td>\n",
       "      <td>-2.753180</td>\n",
       "    </tr>\n",
       "    <tr>\n",
       "      <th>...</th>\n",
       "      <td>...</td>\n",
       "      <td>...</td>\n",
       "      <td>...</td>\n",
       "    </tr>\n",
       "    <tr>\n",
       "      <th>995</th>\n",
       "      <td>1.244544</td>\n",
       "      <td>True</td>\n",
       "      <td>5.381513</td>\n",
       "    </tr>\n",
       "    <tr>\n",
       "      <th>996</th>\n",
       "      <td>-0.969686</td>\n",
       "      <td>True</td>\n",
       "      <td>3.604713</td>\n",
       "    </tr>\n",
       "    <tr>\n",
       "      <th>997</th>\n",
       "      <td>-2.873670</td>\n",
       "      <td>False</td>\n",
       "      <td>-1.735903</td>\n",
       "    </tr>\n",
       "    <tr>\n",
       "      <th>998</th>\n",
       "      <td>-0.368460</td>\n",
       "      <td>False</td>\n",
       "      <td>-0.544818</td>\n",
       "    </tr>\n",
       "    <tr>\n",
       "      <th>999</th>\n",
       "      <td>0.360833</td>\n",
       "      <td>False</td>\n",
       "      <td>-0.251526</td>\n",
       "    </tr>\n",
       "  </tbody>\n",
       "</table>\n",
       "<p>1000 rows × 3 columns</p>\n",
       "</div>"
      ],
      "text/plain": [
       "           W0     v0         y\n",
       "0    0.560300   True  4.779165\n",
       "1   -1.237910  False -0.485195\n",
       "2   -1.809642  False -0.796393\n",
       "3   -2.480514  False  0.529577\n",
       "4   -0.593813  False -2.753180\n",
       "..        ...    ...       ...\n",
       "995  1.244544   True  5.381513\n",
       "996 -0.969686   True  3.604713\n",
       "997 -2.873670  False -1.735903\n",
       "998 -0.368460  False -0.544818\n",
       "999  0.360833  False -0.251526\n",
       "\n",
       "[1000 rows x 3 columns]"
      ]
     },
     "execution_count": 2,
     "metadata": {},
     "output_type": "execute_result"
    }
   ],
   "source": [
    "data = dowhy.datasets.linear_dataset(beta=5,\n",
    "        num_common_causes=1,\n",
    "        num_instruments = 0,\n",
    "        num_samples=1000,\n",
    "        treatment_is_binary=True)\n",
    "df = data['df']\n",
    "df['y'] = df['y'] + np.random.normal(size=len(df)) # Adding noise to data. Without noise, the variance in Y|X, Z is zero, and mcmc fails.\n",
    "nx_graph = build_graph_from_str(data[\"dot_graph\"])\n",
    "\n",
    "treatment= data[\"treatment_name\"][0]\n",
    "outcome = data[\"outcome_name\"][0]\n",
    "common_cause = data[\"common_causes_names\"][0]\n",
    "df"
   ]
  },
  {
   "cell_type": "code",
   "execution_count": 3,
   "metadata": {
    "execution": {
     "iopub.execute_input": "2025-10-28T05:44:53.170258Z",
     "iopub.status.busy": "2025-10-28T05:44:53.169655Z",
     "iopub.status.idle": "2025-10-28T05:44:53.424886Z",
     "shell.execute_reply": "2025-10-28T05:44:53.424287Z"
    },
    "scrolled": true
   },
   "outputs": [
    {
     "data": {
      "text/plain": [
       "<Axes: xlabel='v0'>"
      ]
     },
     "execution_count": 3,
     "metadata": {},
     "output_type": "execute_result"
    },
    {
     "data": {
      "image/png": "[encoded data removed]",
      "text/plain": [
       "<Figure size 640x480 with 1 Axes>"
      ]
     },
     "metadata": {},
     "output_type": "display_data"
    }
   ],
   "source": [
    "# data['df'] is just a regular pandas.DataFrame\n",
    "df.causal.do(x=treatment,\n",
    "             variable_types={treatment: 'b', outcome: 'c', common_cause: 'c'},\n",
    "             outcome=outcome,\n",
    "             common_causes=[common_cause],\n",
    "            ).groupby(treatment).mean().plot(y=outcome, kind='bar')"
   ]
  },
  {
   "cell_type": "code",
   "execution_count": 4,
   "metadata": {
    "execution": {
     "iopub.execute_input": "2025-10-28T05:44:53.426969Z",
     "iopub.status.busy": "2025-10-28T05:44:53.426745Z",
     "iopub.status.idle": "2025-10-28T05:44:53.520697Z",
     "shell.execute_reply": "2025-10-28T05:44:53.520092Z"
    }
   },
   "outputs": [
    {
     "data": {
      "text/plain": [
       "<Axes: xlabel='v0'>"
      ]
     },
     "execution_count": 4,
     "metadata": {},
     "output_type": "execute_result"
    },
    {
     "data": {
      "image/png": "[encoded data removed]",
      "text/plain": [
       "<Figure size 640x480 with 1 Axes>"
      ]
     },
     "metadata": {},
     "output_type": "display_data"
    }
   ],
   "source": [
    "df.causal.do(x={treatment: 1}, \n",
    "              variable_types={treatment:'b', outcome: 'c', common_cause: 'c'}, \n",
    "              outcome=outcome,\n",
    "              method='weighting', \n",
    "              common_causes=[common_cause]\n",
    "              ).groupby(treatment).mean().plot(y=outcome, kind='bar')"
   ]
  },
  {
   "cell_type": "code",
   "execution_count": 5,
   "metadata": {
    "execution": {
     "iopub.execute_input": "2025-10-28T05:44:53.522634Z",
     "iopub.status.busy": "2025-10-28T05:44:53.522430Z",
     "iopub.status.idle": "2025-10-28T05:44:53.544514Z",
     "shell.execute_reply": "2025-10-28T05:44:53.543945Z"
    }
   },
   "outputs": [],
   "source": [
    "cdf_1 = df.causal.do(x={treatment: 1}, \n",
    "              variable_types={treatment: 'b', outcome: 'c', common_cause: 'c'}, \n",
    "              outcome=outcome, \n",
    "              graph=nx_graph\n",
    "              )\n",
    "\n",
    "cdf_0 = df.causal.do(x={treatment: 0}, \n",
    "              variable_types={treatment: 'b', outcome: 'c', common_cause: 'c'}, \n",
    "              outcome=outcome, \n",
    "              graph=nx_graph\n",
    "              )\n"
   ]
  },
  {
   "cell_type": "code",
   "execution_count": 6,
   "metadata": {
    "execution": {
     "iopub.execute_input": "2025-10-28T05:44:53.546841Z",
     "iopub.status.busy": "2025-10-28T05:44:53.546314Z",
     "iopub.status.idle": "2025-10-28T05:44:53.555478Z",
     "shell.execute_reply": "2025-10-28T05:44:53.554879Z"
    },
    "scrolled": true
   },
   "outputs": [
    {
     "data": {
      "text/html": [
       "<div>\n",
       "<style scoped>\n",
       "    .dataframe tbody tr th:only-of-type {\n",
       "        vertical-align: middle;\n",
       "    }\n",
       "\n",
       "    .dataframe tbody tr th {\n",
       "        vertical-align: top;\n",
       "    }\n",
       "\n",
       "    .dataframe thead th {\n",
       "        text-align: right;\n",
       "    }\n",
       "</style>\n",
       "<table border=\"1\" class=\"dataframe\">\n",
       "  <thead>\n",
       "    <tr style=\"text-align: right;\">\n",
       "      <th></th>\n",
       "      <th>W0</th>\n",
       "      <th>v0</th>\n",
       "      <th>y</th>\n",
       "      <th>propensity_score</th>\n",
       "      <th>weight</th>\n",
       "    </tr>\n",
       "  </thead>\n",
       "  <tbody>\n",
       "    <tr>\n",
       "      <th>0</th>\n",
       "      <td>-1.488223</td>\n",
       "      <td>False</td>\n",
       "      <td>-1.828713</td>\n",
       "      <td>0.916979</td>\n",
       "      <td>1.090538</td>\n",
       "    </tr>\n",
       "    <tr>\n",
       "      <th>1</th>\n",
       "      <td>0.112953</td>\n",
       "      <td>False</td>\n",
       "      <td>-0.671178</td>\n",
       "      <td>0.454670</td>\n",
       "      <td>2.199398</td>\n",
       "    </tr>\n",
       "    <tr>\n",
       "      <th>2</th>\n",
       "      <td>-0.429714</td>\n",
       "      <td>False</td>\n",
       "      <td>0.898786</td>\n",
       "      <td>0.666829</td>\n",
       "      <td>1.499634</td>\n",
       "    </tr>\n",
       "    <tr>\n",
       "      <th>3</th>\n",
       "      <td>-0.088602</td>\n",
       "      <td>False</td>\n",
       "      <td>-0.646487</td>\n",
       "      <td>0.535796</td>\n",
       "      <td>1.866383</td>\n",
       "    </tr>\n",
       "    <tr>\n",
       "      <th>4</th>\n",
       "      <td>0.291816</td>\n",
       "      <td>False</td>\n",
       "      <td>0.187732</td>\n",
       "      <td>0.384510</td>\n",
       "      <td>2.600714</td>\n",
       "    </tr>\n",
       "    <tr>\n",
       "      <th>...</th>\n",
       "      <td>...</td>\n",
       "      <td>...</td>\n",
       "      <td>...</td>\n",
       "      <td>...</td>\n",
       "      <td>...</td>\n",
       "    </tr>\n",
       "    <tr>\n",
       "      <th>995</th>\n",
       "      <td>-2.533603</td>\n",
       "      <td>False</td>\n",
       "      <td>-3.021821</td>\n",
       "      <td>0.983519</td>\n",
       "      <td>1.016757</td>\n",
       "    </tr>\n",
       "    <tr>\n",
       "      <th>996</th>\n",
       "      <td>-1.426028</td>\n",
       "      <td>False</td>\n",
       "      <td>-1.901157</td>\n",
       "      <td>0.909012</td>\n",
       "      <td>1.100096</td>\n",
       "    </tr>\n",
       "    <tr>\n",
       "      <th>997</th>\n",
       "      <td>-0.348504</td>\n",
       "      <td>False</td>\n",
       "      <td>0.005934</td>\n",
       "      <td>0.637107</td>\n",
       "      <td>1.569594</td>\n",
       "    </tr>\n",
       "    <tr>\n",
       "      <th>998</th>\n",
       "      <td>-2.241211</td>\n",
       "      <td>False</td>\n",
       "      <td>0.898483</td>\n",
       "      <td>0.973842</td>\n",
       "      <td>1.026861</td>\n",
       "    </tr>\n",
       "    <tr>\n",
       "      <th>999</th>\n",
       "      <td>-0.544893</td>\n",
       "      <td>False</td>\n",
       "      <td>-0.537296</td>\n",
       "      <td>0.706769</td>\n",
       "      <td>1.414889</td>\n",
       "    </tr>\n",
       "  </tbody>\n",
       "</table>\n",
       "<p>1000 rows × 5 columns</p>\n",
       "</div>"
      ],
      "text/plain": [
       "           W0     v0         y  propensity_score    weight\n",
       "0   -1.488223  False -1.828713          0.916979  1.090538\n",
       "1    0.112953  False -0.671178          0.454670  2.199398\n",
       "2   -0.429714  False  0.898786          0.666829  1.499634\n",
       "3   -0.088602  False -0.646487          0.535796  1.866383\n",
       "4    0.291816  False  0.187732          0.384510  2.600714\n",
       "..        ...    ...       ...               ...       ...\n",
       "995 -2.533603  False -3.021821          0.983519  1.016757\n",
       "996 -1.426028  False -1.901157          0.909012  1.100096\n",
       "997 -0.348504  False  0.005934          0.637107  1.569594\n",
       "998 -2.241211  False  0.898483          0.973842  1.026861\n",
       "999 -0.544893  False -0.537296          0.706769  1.414889\n",
       "\n",
       "[1000 rows x 5 columns]"
      ]
     },
     "execution_count": 6,
     "metadata": {},
     "output_type": "execute_result"
    }
   ],
   "source": [
    "cdf_0"
   ]
  },
  {
   "cell_type": "code",
   "execution_count": 7,
   "metadata": {
    "execution": {
     "iopub.execute_input": "2025-10-28T05:44:53.557387Z",
     "iopub.status.busy": "2025-10-28T05:44:53.557183Z",
     "iopub.status.idle": "2025-10-28T05:44:53.565939Z",
     "shell.execute_reply": "2025-10-28T05:44:53.565309Z"
    }
   },
   "outputs": [
    {
     "data": {
      "text/html": [
       "<div>\n",
       "<style scoped>\n",
       "    .dataframe tbody tr th:only-of-type {\n",
       "        vertical-align: middle;\n",
       "    }\n",
       "\n",
       "    .dataframe tbody tr th {\n",
       "        vertical-align: top;\n",
       "    }\n",
       "\n",
       "    .dataframe thead th {\n",
       "        text-align: right;\n",
       "    }\n",
       "</style>\n",
       "<table border=\"1\" class=\"dataframe\">\n",
       "  <thead>\n",
       "    <tr style=\"text-align: right;\">\n",
       "      <th></th>\n",
       "      <th>W0</th>\n",
       "      <th>v0</th>\n",
       "      <th>y</th>\n",
       "      <th>propensity_score</th>\n",
       "      <th>weight</th>\n",
       "    </tr>\n",
       "  </thead>\n",
       "  <tbody>\n",
       "    <tr>\n",
       "      <th>0</th>\n",
       "      <td>-0.768827</td>\n",
       "      <td>True</td>\n",
       "      <td>5.184682</td>\n",
       "      <td>0.224244</td>\n",
       "      <td>4.459431</td>\n",
       "    </tr>\n",
       "    <tr>\n",
       "      <th>1</th>\n",
       "      <td>0.027036</td>\n",
       "      <td>True</td>\n",
       "      <td>5.839323</td>\n",
       "      <td>0.510792</td>\n",
       "      <td>1.957743</td>\n",
       "    </tr>\n",
       "    <tr>\n",
       "      <th>2</th>\n",
       "      <td>0.939621</td>\n",
       "      <td>True</td>\n",
       "      <td>7.304068</td>\n",
       "      <td>0.819921</td>\n",
       "      <td>1.219630</td>\n",
       "    </tr>\n",
       "    <tr>\n",
       "      <th>3</th>\n",
       "      <td>0.343768</td>\n",
       "      <td>True</td>\n",
       "      <td>4.945160</td>\n",
       "      <td>0.635129</td>\n",
       "      <td>1.574483</td>\n",
       "    </tr>\n",
       "    <tr>\n",
       "      <th>4</th>\n",
       "      <td>-1.455279</td>\n",
       "      <td>True</td>\n",
       "      <td>4.464900</td>\n",
       "      <td>0.087159</td>\n",
       "      <td>11.473281</td>\n",
       "    </tr>\n",
       "    <tr>\n",
       "      <th>...</th>\n",
       "      <td>...</td>\n",
       "      <td>...</td>\n",
       "      <td>...</td>\n",
       "      <td>...</td>\n",
       "      <td>...</td>\n",
       "    </tr>\n",
       "    <tr>\n",
       "      <th>995</th>\n",
       "      <td>0.427481</td>\n",
       "      <td>True</td>\n",
       "      <td>6.294475</td>\n",
       "      <td>0.665827</td>\n",
       "      <td>1.501891</td>\n",
       "    </tr>\n",
       "    <tr>\n",
       "      <th>996</th>\n",
       "      <td>-0.056583</td>\n",
       "      <td>True</td>\n",
       "      <td>4.584881</td>\n",
       "      <td>0.477076</td>\n",
       "      <td>2.096102</td>\n",
       "    </tr>\n",
       "    <tr>\n",
       "      <th>997</th>\n",
       "      <td>-0.980441</td>\n",
       "      <td>True</td>\n",
       "      <td>3.750785</td>\n",
       "      <td>0.170430</td>\n",
       "      <td>5.867520</td>\n",
       "    </tr>\n",
       "    <tr>\n",
       "      <th>998</th>\n",
       "      <td>-2.032568</td>\n",
       "      <td>True</td>\n",
       "      <td>3.498436</td>\n",
       "      <td>0.036250</td>\n",
       "      <td>27.586331</td>\n",
       "    </tr>\n",
       "    <tr>\n",
       "      <th>999</th>\n",
       "      <td>-1.245036</td>\n",
       "      <td>True</td>\n",
       "      <td>3.923219</td>\n",
       "      <td>0.118203</td>\n",
       "      <td>8.460036</td>\n",
       "    </tr>\n",
       "  </tbody>\n",
       "</table>\n",
       "<p>1000 rows × 5 columns</p>\n",
       "</div>"
      ],
      "text/plain": [
       "           W0    v0         y  propensity_score     weight\n",
       "0   -0.768827  True  5.184682          0.224244   4.459431\n",
       "1    0.027036  True  5.839323          0.510792   1.957743\n",
       "2    0.939621  True  7.304068          0.819921   1.219630\n",
       "3    0.343768  True  4.945160          0.635129   1.574483\n",
       "4   -1.455279  True  4.464900          0.087159  11.473281\n",
       "..        ...   ...       ...               ...        ...\n",
       "995  0.427481  True  6.294475          0.665827   1.501891\n",
       "996 -0.056583  True  4.584881          0.477076   2.096102\n",
       "997 -0.980441  True  3.750785          0.170430   5.867520\n",
       "998 -2.032568  True  3.498436          0.036250  27.586331\n",
       "999 -1.245036  True  3.923219          0.118203   8.460036\n",
       "\n",
       "[1000 rows x 5 columns]"
      ]
     },
     "execution_count": 7,
     "metadata": {},
     "output_type": "execute_result"
    }
   ],
   "source": [
    "cdf_1"
   ]
  },
  {
   "cell_type": "markdown",
   "metadata": {},
   "source": [
    "## Comparing the estimate to Linear Regression\n",
    "First, estimating the effect using the causal data frame, and the 95% confidence interval."
   ]
  },
  {
   "cell_type": "code",
   "execution_count": 8,
   "metadata": {
    "execution": {
     "iopub.execute_input": "2025-10-28T05:44:53.567936Z",
     "iopub.status.busy": "2025-10-28T05:44:53.567736Z",
     "iopub.status.idle": "2025-10-28T05:44:53.634137Z",
     "shell.execute_reply": "2025-10-28T05:44:53.633380Z"
    }
   },
   "outputs": [
    {
     "data": {
      "image/png": "[encoded data removed]",
      "text/latex": [
       "$\\displaystyle 5.01466544064226$"
      ],
      "text/plain": [
       "np.float64(5.014665440642259)"
      ]
     },
     "execution_count": 8,
     "metadata": {},
     "output_type": "execute_result"
    }
   ],
   "source": [
    "(cdf_1['y'] - cdf_0['y']).mean()"
   ]
  },
  {
   "cell_type": "code",
   "execution_count": 9,
   "metadata": {
    "execution": {
     "iopub.execute_input": "2025-10-28T05:44:53.636529Z",
     "iopub.status.busy": "2025-10-28T05:44:53.636290Z",
     "iopub.status.idle": "2025-10-28T05:44:53.656597Z",
     "shell.execute_reply": "2025-10-28T05:44:53.655934Z"
    }
   },
   "outputs": [
    {
     "data": {
      "image/png": "[encoded data removed]",
      "text/latex": [
       "$\\displaystyle 0.0890328509244132$"
      ],
      "text/plain": [
       "np.float64(0.08903285092441318)"
      ]
     },
     "execution_count": 9,
     "metadata": {},
     "output_type": "execute_result"
    }
   ],
   "source": [
    "1.96*(cdf_1['y'] - cdf_0['y']).std() / np.sqrt(len(df))"
   ]
  },
  {
   "cell_type": "markdown",
   "metadata": {},
   "source": [
    "Comparing to the estimate from OLS."
   ]
  },
  {
   "cell_type": "code",
   "execution_count": 10,
   "metadata": {
    "execution": {
     "iopub.execute_input": "2025-10-28T05:44:53.658805Z",
     "iopub.status.busy": "2025-10-28T05:44:53.658475Z",
     "iopub.status.idle": "2025-10-28T05:44:53.679673Z",
     "shell.execute_reply": "2025-10-28T05:44:53.678980Z"
    }
   },
   "outputs": [
    {
     "data": {
      "text/html": [
       "<table class=\"simpletable\">\n",
       "<caption>OLS Regression Results</caption>\n",
       "<tr>\n",
       "  <th>Dep. Variable:</th>            <td>y</td>        <th>  R-squared (uncentered):</th>      <td>   0.897</td>\n",
       "</tr>\n",
       "<tr>\n",
       "  <th>Model:</th>                   <td>OLS</td>       <th>  Adj. R-squared (uncentered):</th> <td>   0.897</td>\n",
       "</tr>\n",
       "<tr>\n",
       "  <th>Method:</th>             <td>Least Squares</td>  <th>  F-statistic:       </th>          <td>   4365.</td>\n",
       "</tr>\n",
       "<tr>\n",
       "  <th>Date:</th>             <td>Tue, 28 Oct 2025</td> <th>  Prob (F-statistic):</th>           <td>  0.00</td> \n",
       "</tr>\n",
       "<tr>\n",
       "  <th>Time:</th>                 <td>05:44:53</td>     <th>  Log-Likelihood:    </th>          <td> -1428.9</td>\n",
       "</tr>\n",
       "<tr>\n",
       "  <th>No. Observations:</th>      <td>  1000</td>      <th>  AIC:               </th>          <td>   2862.</td>\n",
       "</tr>\n",
       "<tr>\n",
       "  <th>Df Residuals:</th>          <td>   998</td>      <th>  BIC:               </th>          <td>   2872.</td>\n",
       "</tr>\n",
       "<tr>\n",
       "  <th>Df Model:</th>              <td>     2</td>      <th>                     </th>              <td> </td>   \n",
       "</tr>\n",
       "<tr>\n",
       "  <th>Covariance Type:</th>      <td>nonrobust</td>    <th>                     </th>              <td> </td>   \n",
       "</tr>\n",
       "</table>\n",
       "<table class=\"simpletable\">\n",
       "<tr>\n",
       "   <td></td>     <th>coef</th>     <th>std err</th>      <th>t</th>      <th>P>|t|</th>  <th>[0.025</th>    <th>0.975]</th>  \n",
       "</tr>\n",
       "<tr>\n",
       "  <th>x1</th> <td>    0.2391</td> <td>    0.027</td> <td>    8.809</td> <td> 0.000</td> <td>    0.186</td> <td>    0.292</td>\n",
       "</tr>\n",
       "<tr>\n",
       "  <th>x2</th> <td>    5.0522</td> <td>    0.055</td> <td>   91.955</td> <td> 0.000</td> <td>    4.944</td> <td>    5.160</td>\n",
       "</tr>\n",
       "</table>\n",
       "<table class=\"simpletable\">\n",
       "<tr>\n",
       "  <th>Omnibus:</th>       <td> 0.197</td> <th>  Durbin-Watson:     </th> <td>   2.058</td>\n",
       "</tr>\n",
       "<tr>\n",
       "  <th>Prob(Omnibus):</th> <td> 0.906</td> <th>  Jarque-Bera (JB):  </th> <td>   0.186</td>\n",
       "</tr>\n",
       "<tr>\n",
       "  <th>Skew:</th>          <td>-0.033</td> <th>  Prob(JB):          </th> <td>   0.911</td>\n",
       "</tr>\n",
       "<tr>\n",
       "  <th>Kurtosis:</th>      <td> 2.997</td> <th>  Cond. No.          </th> <td>    2.04</td>\n",
       "</tr>\n",
       "</table><br/><br/>Notes:<br/>[1] R² is computed without centering (uncentered) since the model does not contain a constant.<br/>[2] Standard Errors assume that the covariance matrix of the errors is correctly specified."
      ],
      "text/latex": [
       "\\begin{center}\n",
       "\\begin{tabular}{lclc}\n",
       "\\toprule\n",
       "\\textbf{Dep. Variable:}    &        y         & \\textbf{  R-squared (uncentered):}      &     0.897   \\\\\n",
       "\\textbf{Model:}            &       OLS        & \\textbf{  Adj. R-squared (uncentered):} &     0.897   \\\\\n",
       "\\textbf{Method:}           &  Least Squares   & \\textbf{  F-statistic:       }          &     4365.   \\\\\n",
       "\\textbf{Date:}             & Tue, 28 Oct 2025 & \\textbf{  Prob (F-statistic):}          &     0.00    \\\\\n",
       "\\textbf{Time:}             &     05:44:53     & \\textbf{  Log-Likelihood:    }          &   -1428.9   \\\\\n",
       "\\textbf{No. Observations:} &        1000      & \\textbf{  AIC:               }          &     2862.   \\\\\n",
       "\\textbf{Df Residuals:}     &         998      & \\textbf{  BIC:               }          &     2872.   \\\\\n",
       "\\textbf{Df Model:}         &           2      & \\textbf{                     }          &             \\\\\n",
       "\\textbf{Covariance Type:}  &    nonrobust     & \\textbf{                     }          &             \\\\\n",
       "\\bottomrule\n",
       "\\end{tabular}\n",
       "\\begin{tabular}{lcccccc}\n",
       "            & \\textbf{coef} & \\textbf{std err} & \\textbf{t} & \\textbf{P$> |$t$|$} & \\textbf{[0.025} & \\textbf{0.975]}  \\\\\n",
       "\\midrule\n",
       "\\textbf{x1} &       0.2391  &        0.027     &     8.809  &         0.000        &        0.186    &        0.292     \\\\\n",
       "\\textbf{x2} &       5.0522  &        0.055     &    91.955  &         0.000        &        4.944    &        5.160     \\\\\n",
       "\\bottomrule\n",
       "\\end{tabular}\n",
       "\\begin{tabular}{lclc}\n",
       "\\textbf{Omnibus:}       &  0.197 & \\textbf{  Durbin-Watson:     } &    2.058  \\\\\n",
       "\\textbf{Prob(Omnibus):} &  0.906 & \\textbf{  Jarque-Bera (JB):  } &    0.186  \\\\\n",
       "\\textbf{Skew:}          & -0.033 & \\textbf{  Prob(JB):          } &    0.911  \\\\\n",
       "\\textbf{Kurtosis:}      &  2.997 & \\textbf{  Cond. No.          } &     2.04  \\\\\n",
       "\\bottomrule\n",
       "\\end{tabular}\n",
       "%\\caption{OLS Regression Results}\n",
       "\\end{center}\n",
       "\n",
       "Notes: \\newline\n",
       " [1] R² is computed without centering (uncentered) since the model does not contain a constant. \\newline\n",
       " [2] Standard Errors assume that the covariance matrix of the errors is correctly specified."
      ],
      "text/plain": [
       "<class 'statsmodels.iolib.summary.Summary'>\n",
       "\"\"\"\n",
       "                                 OLS Regression Results                                \n",
       "=======================================================================================\n",
       "Dep. Variable:                      y   R-squared (uncentered):                   0.897\n",
       "Model:                            OLS   Adj. R-squared (uncentered):              0.897\n",
       "Method:                 Least Squares   F-statistic:                              4365.\n",
       "Date:                Tue, 28 Oct 2025   Prob (F-statistic):                        0.00\n",
       "Time:                        05:44:53   Log-Likelihood:                         -1428.9\n",
       "No. Observations:                1000   AIC:                                      2862.\n",
       "Df Residuals:                     998   BIC:                                      2872.\n",
       "Df Model:                           2                                                  \n",
       "Covariance Type:            nonrobust                                                  \n",
       "==============================================================================\n",
       "                 coef    std err          t      P>|t|      [0.025      0.975]\n",
       "------------------------------------------------------------------------------\n",
       "x1             0.2391      0.027      8.809      0.000       0.186       0.292\n",
       "x2             5.0522      0.055     91.955      0.000       4.944       5.160\n",
       "==============================================================================\n",
       "Omnibus:                        0.197   Durbin-Watson:                   2.058\n",
       "Prob(Omnibus):                  0.906   Jarque-Bera (JB):                0.186\n",
       "Skew:                          -0.033   Prob(JB):                        0.911\n",
       "Kurtosis:                       2.997   Cond. No.                         2.04\n",
       "==============================================================================\n",
       "\n",
       "Notes:\n",
       "[1] R² is computed without centering (uncentered) since the model does not contain a constant.\n",
       "[2] Standard Errors assume that the covariance matrix of the errors is correctly specified.\n",
       "\"\"\""
      ]
     },
     "execution_count": 10,
     "metadata": {},
     "output_type": "execute_result"
    }
   ],
   "source": [
    "model = OLS(np.asarray(df[outcome]), np.asarray(df[[common_cause, treatment]], dtype=np.float64))\n",
    "result = model.fit()\n",
    "result.summary()"
   ]
  }
 ],
 "metadata": {
  "kernelspec": {
   "display_name": "Python 3 (ipykernel)",
   "language": "python",
   "name": "python3"
  },
  "language_info": {
   "codemirror_mode": {
    "name": "ipython",
    "version": 3
   },
   "file_extension": ".py",
   "mimetype": "text/x-python",
   "name": "python",
   "nbconvert_exporter": "python",
   "pygments_lexer": "ipython3",
   "version": "3.9.23"
  },
  "toc": {
   "base_numbering": 1,
   "nav_menu": {},
   "number_sections": false,
   "sideBar": true,
   "skip_h1_title": true,
   "title_cell": "Table of Contents",
   "title_sidebar": "Contents",
   "toc_cell": false,
   "toc_position": {},
   "toc_section_display": true,
   "toc_window_display": false
  }
 },
 "nbformat": 4,
 "nbformat_minor": 4
}
