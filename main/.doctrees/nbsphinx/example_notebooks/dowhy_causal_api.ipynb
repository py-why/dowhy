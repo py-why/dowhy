{
 "cells": [
  {
   "cell_type": "markdown",
   "metadata": {},
   "source": [
    "# Demo for the DoWhy causal API\n",
    "We show a simple example of adding a causal extension to any dataframe. "
   ]
  },
  {
   "cell_type": "code",
   "execution_count": 1,
   "metadata": {
    "execution": {
     "iopub.execute_input": "2025-10-25T10:37:38.197235Z",
     "iopub.status.busy": "2025-10-25T10:37:38.197035Z",
     "iopub.status.idle": "2025-10-25T10:37:39.938465Z",
     "shell.execute_reply": "2025-10-25T10:37:39.937684Z"
    }
   },
   "outputs": [],
   "source": [
    "import dowhy.datasets\n",
    "import dowhy.api\n",
    "from dowhy.graph import build_graph_from_str\n",
    "\n",
    "import numpy as np\n",
    "import pandas as pd\n",
    "\n",
    "from statsmodels.api import OLS"
   ]
  },
  {
   "cell_type": "code",
   "execution_count": 2,
   "metadata": {
    "execution": {
     "iopub.execute_input": "2025-10-25T10:37:39.941205Z",
     "iopub.status.busy": "2025-10-25T10:37:39.940843Z",
     "iopub.status.idle": "2025-10-25T10:37:39.988777Z",
     "shell.execute_reply": "2025-10-25T10:37:39.988066Z"
    }
   },
   "outputs": [
    {
     "data": {
      "text/html": [
       "<div>\n",
       "<style scoped>\n",
       "    .dataframe tbody tr th:only-of-type {\n",
       "        vertical-align: middle;\n",
       "    }\n",
       "\n",
       "    .dataframe tbody tr th {\n",
       "        vertical-align: top;\n",
       "    }\n",
       "\n",
       "    .dataframe thead th {\n",
       "        text-align: right;\n",
       "    }\n",
       "</style>\n",
       "<table border=\"1\" class=\"dataframe\">\n",
       "  <thead>\n",
       "    <tr style=\"text-align: right;\">\n",
       "      <th></th>\n",
       "      <th>W0</th>\n",
       "      <th>v0</th>\n",
       "      <th>y</th>\n",
       "    </tr>\n",
       "  </thead>\n",
       "  <tbody>\n",
       "    <tr>\n",
       "      <th>0</th>\n",
       "      <td>-1.288074</td>\n",
       "      <td>False</td>\n",
       "      <td>-1.505101</td>\n",
       "    </tr>\n",
       "    <tr>\n",
       "      <th>1</th>\n",
       "      <td>1.399769</td>\n",
       "      <td>True</td>\n",
       "      <td>6.614980</td>\n",
       "    </tr>\n",
       "    <tr>\n",
       "      <th>2</th>\n",
       "      <td>-2.364733</td>\n",
       "      <td>False</td>\n",
       "      <td>-5.510568</td>\n",
       "    </tr>\n",
       "    <tr>\n",
       "      <th>3</th>\n",
       "      <td>-0.610740</td>\n",
       "      <td>True</td>\n",
       "      <td>3.625543</td>\n",
       "    </tr>\n",
       "    <tr>\n",
       "      <th>4</th>\n",
       "      <td>1.750041</td>\n",
       "      <td>True</td>\n",
       "      <td>9.141330</td>\n",
       "    </tr>\n",
       "    <tr>\n",
       "      <th>...</th>\n",
       "      <td>...</td>\n",
       "      <td>...</td>\n",
       "      <td>...</td>\n",
       "    </tr>\n",
       "    <tr>\n",
       "      <th>995</th>\n",
       "      <td>-0.339059</td>\n",
       "      <td>True</td>\n",
       "      <td>4.494325</td>\n",
       "    </tr>\n",
       "    <tr>\n",
       "      <th>996</th>\n",
       "      <td>-0.715713</td>\n",
       "      <td>False</td>\n",
       "      <td>-0.237187</td>\n",
       "    </tr>\n",
       "    <tr>\n",
       "      <th>997</th>\n",
       "      <td>-0.095932</td>\n",
       "      <td>True</td>\n",
       "      <td>6.306718</td>\n",
       "    </tr>\n",
       "    <tr>\n",
       "      <th>998</th>\n",
       "      <td>-1.069905</td>\n",
       "      <td>False</td>\n",
       "      <td>-1.964224</td>\n",
       "    </tr>\n",
       "    <tr>\n",
       "      <th>999</th>\n",
       "      <td>0.182409</td>\n",
       "      <td>True</td>\n",
       "      <td>5.386846</td>\n",
       "    </tr>\n",
       "  </tbody>\n",
       "</table>\n",
       "<p>1000 rows × 3 columns</p>\n",
       "</div>"
      ],
      "text/plain": [
       "           W0     v0         y\n",
       "0   -1.288074  False -1.505101\n",
       "1    1.399769   True  6.614980\n",
       "2   -2.364733  False -5.510568\n",
       "3   -0.610740   True  3.625543\n",
       "4    1.750041   True  9.141330\n",
       "..        ...    ...       ...\n",
       "995 -0.339059   True  4.494325\n",
       "996 -0.715713  False -0.237187\n",
       "997 -0.095932   True  6.306718\n",
       "998 -1.069905  False -1.964224\n",
       "999  0.182409   True  5.386846\n",
       "\n",
       "[1000 rows x 3 columns]"
      ]
     },
     "execution_count": 2,
     "metadata": {},
     "output_type": "execute_result"
    }
   ],
   "source": [
    "data = dowhy.datasets.linear_dataset(beta=5,\n",
    "        num_common_causes=1,\n",
    "        num_instruments = 0,\n",
    "        num_samples=1000,\n",
    "        treatment_is_binary=True)\n",
    "df = data['df']\n",
    "df['y'] = df['y'] + np.random.normal(size=len(df)) # Adding noise to data. Without noise, the variance in Y|X, Z is zero, and mcmc fails.\n",
    "nx_graph = build_graph_from_str(data[\"dot_graph\"])\n",
    "\n",
    "treatment= data[\"treatment_name\"][0]\n",
    "outcome = data[\"outcome_name\"][0]\n",
    "common_cause = data[\"common_causes_names\"][0]\n",
    "df"
   ]
  },
  {
   "cell_type": "code",
   "execution_count": 3,
   "metadata": {
    "execution": {
     "iopub.execute_input": "2025-10-25T10:37:39.991123Z",
     "iopub.status.busy": "2025-10-25T10:37:39.990714Z",
     "iopub.status.idle": "2025-10-25T10:37:40.239648Z",
     "shell.execute_reply": "2025-10-25T10:37:40.238911Z"
    },
    "scrolled": true
   },
   "outputs": [
    {
     "data": {
      "text/plain": [
       "<Axes: xlabel='v0'>"
      ]
     },
     "execution_count": 3,
     "metadata": {},
     "output_type": "execute_result"
    },
    {
     "data": {
      "image/png": "[encoded data removed]",
      "text/plain": [
       "<Figure size 640x480 with 1 Axes>"
      ]
     },
     "metadata": {},
     "output_type": "display_data"
    }
   ],
   "source": [
    "# data['df'] is just a regular pandas.DataFrame\n",
    "df.causal.do(x=treatment,\n",
    "             variable_types={treatment: 'b', outcome: 'c', common_cause: 'c'},\n",
    "             outcome=outcome,\n",
    "             common_causes=[common_cause],\n",
    "            ).groupby(treatment).mean().plot(y=outcome, kind='bar')"
   ]
  },
  {
   "cell_type": "code",
   "execution_count": 4,
   "metadata": {
    "execution": {
     "iopub.execute_input": "2025-10-25T10:37:40.242035Z",
     "iopub.status.busy": "2025-10-25T10:37:40.241619Z",
     "iopub.status.idle": "2025-10-25T10:37:40.343863Z",
     "shell.execute_reply": "2025-10-25T10:37:40.343243Z"
    }
   },
   "outputs": [
    {
     "data": {
      "text/plain": [
       "<Axes: xlabel='v0'>"
      ]
     },
     "execution_count": 4,
     "metadata": {},
     "output_type": "execute_result"
    },
    {
     "data": {
      "image/png": "[encoded data removed]",
      "text/plain": [
       "<Figure size 640x480 with 1 Axes>"
      ]
     },
     "metadata": {},
     "output_type": "display_data"
    }
   ],
   "source": [
    "df.causal.do(x={treatment: 1}, \n",
    "              variable_types={treatment:'b', outcome: 'c', common_cause: 'c'}, \n",
    "              outcome=outcome,\n",
    "              method='weighting', \n",
    "              common_causes=[common_cause]\n",
    "              ).groupby(treatment).mean().plot(y=outcome, kind='bar')"
   ]
  },
  {
   "cell_type": "code",
   "execution_count": 5,
   "metadata": {
    "execution": {
     "iopub.execute_input": "2025-10-25T10:37:40.346200Z",
     "iopub.status.busy": "2025-10-25T10:37:40.345762Z",
     "iopub.status.idle": "2025-10-25T10:37:40.369824Z",
     "shell.execute_reply": "2025-10-25T10:37:40.369069Z"
    }
   },
   "outputs": [],
   "source": [
    "cdf_1 = df.causal.do(x={treatment: 1}, \n",
    "              variable_types={treatment: 'b', outcome: 'c', common_cause: 'c'}, \n",
    "              outcome=outcome, \n",
    "              graph=nx_graph\n",
    "              )\n",
    "\n",
    "cdf_0 = df.causal.do(x={treatment: 0}, \n",
    "              variable_types={treatment: 'b', outcome: 'c', common_cause: 'c'}, \n",
    "              outcome=outcome, \n",
    "              graph=nx_graph\n",
    "              )\n"
   ]
  },
  {
   "cell_type": "code",
   "execution_count": 6,
   "metadata": {
    "execution": {
     "iopub.execute_input": "2025-10-25T10:37:40.372233Z",
     "iopub.status.busy": "2025-10-25T10:37:40.371885Z",
     "iopub.status.idle": "2025-10-25T10:37:40.381206Z",
     "shell.execute_reply": "2025-10-25T10:37:40.380519Z"
    },
    "scrolled": true
   },
   "outputs": [
    {
     "data": {
      "text/html": [
       "<div>\n",
       "<style scoped>\n",
       "    .dataframe tbody tr th:only-of-type {\n",
       "        vertical-align: middle;\n",
       "    }\n",
       "\n",
       "    .dataframe tbody tr th {\n",
       "        vertical-align: top;\n",
       "    }\n",
       "\n",
       "    .dataframe thead th {\n",
       "        text-align: right;\n",
       "    }\n",
       "</style>\n",
       "<table border=\"1\" class=\"dataframe\">\n",
       "  <thead>\n",
       "    <tr style=\"text-align: right;\">\n",
       "      <th></th>\n",
       "      <th>W0</th>\n",
       "      <th>v0</th>\n",
       "      <th>y</th>\n",
       "      <th>propensity_score</th>\n",
       "      <th>weight</th>\n",
       "    </tr>\n",
       "  </thead>\n",
       "  <tbody>\n",
       "    <tr>\n",
       "      <th>0</th>\n",
       "      <td>-0.482072</td>\n",
       "      <td>False</td>\n",
       "      <td>-0.908054</td>\n",
       "      <td>0.729927</td>\n",
       "      <td>1.370001</td>\n",
       "    </tr>\n",
       "    <tr>\n",
       "      <th>1</th>\n",
       "      <td>0.013015</td>\n",
       "      <td>False</td>\n",
       "      <td>-0.730309</td>\n",
       "      <td>0.487222</td>\n",
       "      <td>2.052451</td>\n",
       "    </tr>\n",
       "    <tr>\n",
       "      <th>2</th>\n",
       "      <td>-1.278818</td>\n",
       "      <td>False</td>\n",
       "      <td>-4.620868</td>\n",
       "      <td>0.935630</td>\n",
       "      <td>1.068799</td>\n",
       "    </tr>\n",
       "    <tr>\n",
       "      <th>3</th>\n",
       "      <td>0.594899</td>\n",
       "      <td>False</td>\n",
       "      <td>-0.671086</td>\n",
       "      <td>0.217590</td>\n",
       "      <td>4.595789</td>\n",
       "    </tr>\n",
       "    <tr>\n",
       "      <th>4</th>\n",
       "      <td>0.237068</td>\n",
       "      <td>False</td>\n",
       "      <td>0.698818</td>\n",
       "      <td>0.371869</td>\n",
       "      <td>2.689119</td>\n",
       "    </tr>\n",
       "    <tr>\n",
       "      <th>...</th>\n",
       "      <td>...</td>\n",
       "      <td>...</td>\n",
       "      <td>...</td>\n",
       "      <td>...</td>\n",
       "      <td>...</td>\n",
       "    </tr>\n",
       "    <tr>\n",
       "      <th>995</th>\n",
       "      <td>-0.465994</td>\n",
       "      <td>False</td>\n",
       "      <td>-0.516214</td>\n",
       "      <td>0.723182</td>\n",
       "      <td>1.382777</td>\n",
       "    </tr>\n",
       "    <tr>\n",
       "      <th>996</th>\n",
       "      <td>0.039560</td>\n",
       "      <td>False</td>\n",
       "      <td>0.259734</td>\n",
       "      <td>0.473233</td>\n",
       "      <td>2.113124</td>\n",
       "    </tr>\n",
       "    <tr>\n",
       "      <th>997</th>\n",
       "      <td>-0.391814</td>\n",
       "      <td>False</td>\n",
       "      <td>-0.027024</td>\n",
       "      <td>0.690759</td>\n",
       "      <td>1.447682</td>\n",
       "    </tr>\n",
       "    <tr>\n",
       "      <th>998</th>\n",
       "      <td>0.222715</td>\n",
       "      <td>False</td>\n",
       "      <td>-0.712358</td>\n",
       "      <td>0.378975</td>\n",
       "      <td>2.638696</td>\n",
       "    </tr>\n",
       "    <tr>\n",
       "      <th>999</th>\n",
       "      <td>-0.490768</td>\n",
       "      <td>False</td>\n",
       "      <td>-0.191590</td>\n",
       "      <td>0.733531</td>\n",
       "      <td>1.363268</td>\n",
       "    </tr>\n",
       "  </tbody>\n",
       "</table>\n",
       "<p>1000 rows × 5 columns</p>\n",
       "</div>"
      ],
      "text/plain": [
       "           W0     v0         y  propensity_score    weight\n",
       "0   -0.482072  False -0.908054          0.729927  1.370001\n",
       "1    0.013015  False -0.730309          0.487222  2.052451\n",
       "2   -1.278818  False -4.620868          0.935630  1.068799\n",
       "3    0.594899  False -0.671086          0.217590  4.595789\n",
       "4    0.237068  False  0.698818          0.371869  2.689119\n",
       "..        ...    ...       ...               ...       ...\n",
       "995 -0.465994  False -0.516214          0.723182  1.382777\n",
       "996  0.039560  False  0.259734          0.473233  2.113124\n",
       "997 -0.391814  False -0.027024          0.690759  1.447682\n",
       "998  0.222715  False -0.712358          0.378975  2.638696\n",
       "999 -0.490768  False -0.191590          0.733531  1.363268\n",
       "\n",
       "[1000 rows x 5 columns]"
      ]
     },
     "execution_count": 6,
     "metadata": {},
     "output_type": "execute_result"
    }
   ],
   "source": [
    "cdf_0"
   ]
  },
  {
   "cell_type": "code",
   "execution_count": 7,
   "metadata": {
    "execution": {
     "iopub.execute_input": "2025-10-25T10:37:40.383312Z",
     "iopub.status.busy": "2025-10-25T10:37:40.382933Z",
     "iopub.status.idle": "2025-10-25T10:37:40.391524Z",
     "shell.execute_reply": "2025-10-25T10:37:40.390947Z"
    }
   },
   "outputs": [
    {
     "data": {
      "text/html": [
       "<div>\n",
       "<style scoped>\n",
       "    .dataframe tbody tr th:only-of-type {\n",
       "        vertical-align: middle;\n",
       "    }\n",
       "\n",
       "    .dataframe tbody tr th {\n",
       "        vertical-align: top;\n",
       "    }\n",
       "\n",
       "    .dataframe thead th {\n",
       "        text-align: right;\n",
       "    }\n",
       "</style>\n",
       "<table border=\"1\" class=\"dataframe\">\n",
       "  <thead>\n",
       "    <tr style=\"text-align: right;\">\n",
       "      <th></th>\n",
       "      <th>W0</th>\n",
       "      <th>v0</th>\n",
       "      <th>y</th>\n",
       "      <th>propensity_score</th>\n",
       "      <th>weight</th>\n",
       "    </tr>\n",
       "  </thead>\n",
       "  <tbody>\n",
       "    <tr>\n",
       "      <th>0</th>\n",
       "      <td>-2.419088</td>\n",
       "      <td>True</td>\n",
       "      <td>-0.008668</td>\n",
       "      <td>0.006155</td>\n",
       "      <td>162.457794</td>\n",
       "    </tr>\n",
       "    <tr>\n",
       "      <th>1</th>\n",
       "      <td>0.335399</td>\n",
       "      <td>True</td>\n",
       "      <td>5.470800</td>\n",
       "      <td>0.675207</td>\n",
       "      <td>1.481027</td>\n",
       "    </tr>\n",
       "    <tr>\n",
       "      <th>2</th>\n",
       "      <td>-2.018438</td>\n",
       "      <td>True</td>\n",
       "      <td>0.715955</td>\n",
       "      <td>0.014227</td>\n",
       "      <td>70.288234</td>\n",
       "    </tr>\n",
       "    <tr>\n",
       "      <th>3</th>\n",
       "      <td>-2.018438</td>\n",
       "      <td>True</td>\n",
       "      <td>0.715955</td>\n",
       "      <td>0.014227</td>\n",
       "      <td>70.288234</td>\n",
       "    </tr>\n",
       "    <tr>\n",
       "      <th>4</th>\n",
       "      <td>0.603205</td>\n",
       "      <td>True</td>\n",
       "      <td>5.724675</td>\n",
       "      <td>0.785381</td>\n",
       "      <td>1.273268</td>\n",
       "    </tr>\n",
       "    <tr>\n",
       "      <th>...</th>\n",
       "      <td>...</td>\n",
       "      <td>...</td>\n",
       "      <td>...</td>\n",
       "      <td>...</td>\n",
       "      <td>...</td>\n",
       "    </tr>\n",
       "    <tr>\n",
       "      <th>995</th>\n",
       "      <td>-0.634181</td>\n",
       "      <td>True</td>\n",
       "      <td>4.161598</td>\n",
       "      <td>0.211580</td>\n",
       "      <td>4.726348</td>\n",
       "    </tr>\n",
       "    <tr>\n",
       "      <th>996</th>\n",
       "      <td>-0.150626</td>\n",
       "      <td>True</td>\n",
       "      <td>6.103703</td>\n",
       "      <td>0.426925</td>\n",
       "      <td>2.342329</td>\n",
       "    </tr>\n",
       "    <tr>\n",
       "      <th>997</th>\n",
       "      <td>-2.018438</td>\n",
       "      <td>True</td>\n",
       "      <td>0.715955</td>\n",
       "      <td>0.014227</td>\n",
       "      <td>70.288234</td>\n",
       "    </tr>\n",
       "    <tr>\n",
       "      <th>998</th>\n",
       "      <td>-0.949045</td>\n",
       "      <td>True</td>\n",
       "      <td>2.714001</td>\n",
       "      <td>0.121291</td>\n",
       "      <td>8.244635</td>\n",
       "    </tr>\n",
       "    <tr>\n",
       "      <th>999</th>\n",
       "      <td>0.788483</td>\n",
       "      <td>True</td>\n",
       "      <td>7.963830</td>\n",
       "      <td>0.844029</td>\n",
       "      <td>1.184794</td>\n",
       "    </tr>\n",
       "  </tbody>\n",
       "</table>\n",
       "<p>1000 rows × 5 columns</p>\n",
       "</div>"
      ],
      "text/plain": [
       "           W0    v0         y  propensity_score      weight\n",
       "0   -2.419088  True -0.008668          0.006155  162.457794\n",
       "1    0.335399  True  5.470800          0.675207    1.481027\n",
       "2   -2.018438  True  0.715955          0.014227   70.288234\n",
       "3   -2.018438  True  0.715955          0.014227   70.288234\n",
       "4    0.603205  True  5.724675          0.785381    1.273268\n",
       "..        ...   ...       ...               ...         ...\n",
       "995 -0.634181  True  4.161598          0.211580    4.726348\n",
       "996 -0.150626  True  6.103703          0.426925    2.342329\n",
       "997 -2.018438  True  0.715955          0.014227   70.288234\n",
       "998 -0.949045  True  2.714001          0.121291    8.244635\n",
       "999  0.788483  True  7.963830          0.844029    1.184794\n",
       "\n",
       "[1000 rows x 5 columns]"
      ]
     },
     "execution_count": 7,
     "metadata": {},
     "output_type": "execute_result"
    }
   ],
   "source": [
    "cdf_1"
   ]
  },
  {
   "cell_type": "markdown",
   "metadata": {},
   "source": [
    "## Comparing the estimate to Linear Regression\n",
    "First, estimating the effect using the causal data frame, and the 95% confidence interval."
   ]
  },
  {
   "cell_type": "code",
   "execution_count": 8,
   "metadata": {
    "execution": {
     "iopub.execute_input": "2025-10-25T10:37:40.393630Z",
     "iopub.status.busy": "2025-10-25T10:37:40.393241Z",
     "iopub.status.idle": "2025-10-25T10:37:40.458112Z",
     "shell.execute_reply": "2025-10-25T10:37:40.457435Z"
    }
   },
   "outputs": [
    {
     "data": {
      "image/png": "[encoded data removed]",
      "text/latex": [
       "$\\displaystyle 4.79555821376593$"
      ],
      "text/plain": [
       "np.float64(4.7955582137659345)"
      ]
     },
     "execution_count": 8,
     "metadata": {},
     "output_type": "execute_result"
    }
   ],
   "source": [
    "(cdf_1['y'] - cdf_0['y']).mean()"
   ]
  },
  {
   "cell_type": "code",
   "execution_count": 9,
   "metadata": {
    "execution": {
     "iopub.execute_input": "2025-10-25T10:37:40.460404Z",
     "iopub.status.busy": "2025-10-25T10:37:40.460007Z",
     "iopub.status.idle": "2025-10-25T10:37:40.478455Z",
     "shell.execute_reply": "2025-10-25T10:37:40.477779Z"
    }
   },
   "outputs": [
    {
     "data": {
      "image/png": "[encoded data removed]",
      "text/latex": [
       "$\\displaystyle 0.203445142740958$"
      ],
      "text/plain": [
       "np.float64(0.20344514274095793)"
      ]
     },
     "execution_count": 9,
     "metadata": {},
     "output_type": "execute_result"
    }
   ],
   "source": [
    "1.96*(cdf_1['y'] - cdf_0['y']).std() / np.sqrt(len(df))"
   ]
  },
  {
   "cell_type": "markdown",
   "metadata": {},
   "source": [
    "Comparing to the estimate from OLS."
   ]
  },
  {
   "cell_type": "code",
   "execution_count": 10,
   "metadata": {
    "execution": {
     "iopub.execute_input": "2025-10-25T10:37:40.480784Z",
     "iopub.status.busy": "2025-10-25T10:37:40.480411Z",
     "iopub.status.idle": "2025-10-25T10:37:40.501697Z",
     "shell.execute_reply": "2025-10-25T10:37:40.501014Z"
    }
   },
   "outputs": [
    {
     "data": {
      "text/html": [
       "<table class=\"simpletable\">\n",
       "<caption>OLS Regression Results</caption>\n",
       "<tr>\n",
       "  <th>Dep. Variable:</th>            <td>y</td>        <th>  R-squared (uncentered):</th>      <td>   0.943</td>\n",
       "</tr>\n",
       "<tr>\n",
       "  <th>Model:</th>                   <td>OLS</td>       <th>  Adj. R-squared (uncentered):</th> <td>   0.943</td>\n",
       "</tr>\n",
       "<tr>\n",
       "  <th>Method:</th>             <td>Least Squares</td>  <th>  F-statistic:       </th>          <td>   8283.</td>\n",
       "</tr>\n",
       "<tr>\n",
       "  <th>Date:</th>             <td>Sat, 25 Oct 2025</td> <th>  Prob (F-statistic):</th>           <td>  0.00</td> \n",
       "</tr>\n",
       "<tr>\n",
       "  <th>Time:</th>                 <td>10:37:40</td>     <th>  Log-Likelihood:    </th>          <td> -1393.8</td>\n",
       "</tr>\n",
       "<tr>\n",
       "  <th>No. Observations:</th>      <td>  1000</td>      <th>  AIC:               </th>          <td>   2792.</td>\n",
       "</tr>\n",
       "<tr>\n",
       "  <th>Df Residuals:</th>          <td>   998</td>      <th>  BIC:               </th>          <td>   2801.</td>\n",
       "</tr>\n",
       "<tr>\n",
       "  <th>Df Model:</th>              <td>     2</td>      <th>                     </th>              <td> </td>   \n",
       "</tr>\n",
       "<tr>\n",
       "  <th>Covariance Type:</th>      <td>nonrobust</td>    <th>                     </th>              <td> </td>   \n",
       "</tr>\n",
       "</table>\n",
       "<table class=\"simpletable\">\n",
       "<tr>\n",
       "   <td></td>     <th>coef</th>     <th>std err</th>      <th>t</th>      <th>P>|t|</th>  <th>[0.025</th>    <th>0.975]</th>  \n",
       "</tr>\n",
       "<tr>\n",
       "  <th>x1</th> <td>    2.0553</td> <td>    0.025</td> <td>   83.644</td> <td> 0.000</td> <td>    2.007</td> <td>    2.104</td>\n",
       "</tr>\n",
       "<tr>\n",
       "  <th>x2</th> <td>    4.9876</td> <td>    0.056</td> <td>   88.282</td> <td> 0.000</td> <td>    4.877</td> <td>    5.098</td>\n",
       "</tr>\n",
       "</table>\n",
       "<table class=\"simpletable\">\n",
       "<tr>\n",
       "  <th>Omnibus:</th>       <td> 0.924</td> <th>  Durbin-Watson:     </th> <td>   1.942</td>\n",
       "</tr>\n",
       "<tr>\n",
       "  <th>Prob(Omnibus):</th> <td> 0.630</td> <th>  Jarque-Bera (JB):  </th> <td>   0.969</td>\n",
       "</tr>\n",
       "<tr>\n",
       "  <th>Skew:</th>          <td> 0.072</td> <th>  Prob(JB):          </th> <td>   0.616</td>\n",
       "</tr>\n",
       "<tr>\n",
       "  <th>Kurtosis:</th>      <td> 2.950</td> <th>  Cond. No.          </th> <td>    2.32</td>\n",
       "</tr>\n",
       "</table><br/><br/>Notes:<br/>[1] R² is computed without centering (uncentered) since the model does not contain a constant.<br/>[2] Standard Errors assume that the covariance matrix of the errors is correctly specified."
      ],
      "text/latex": [
       "\\begin{center}\n",
       "\\begin{tabular}{lclc}\n",
       "\\toprule\n",
       "\\textbf{Dep. Variable:}    &        y         & \\textbf{  R-squared (uncentered):}      &     0.943   \\\\\n",
       "\\textbf{Model:}            &       OLS        & \\textbf{  Adj. R-squared (uncentered):} &     0.943   \\\\\n",
       "\\textbf{Method:}           &  Least Squares   & \\textbf{  F-statistic:       }          &     8283.   \\\\\n",
       "\\textbf{Date:}             & Sat, 25 Oct 2025 & \\textbf{  Prob (F-statistic):}          &     0.00    \\\\\n",
       "\\textbf{Time:}             &     10:37:40     & \\textbf{  Log-Likelihood:    }          &   -1393.8   \\\\\n",
       "\\textbf{No. Observations:} &        1000      & \\textbf{  AIC:               }          &     2792.   \\\\\n",
       "\\textbf{Df Residuals:}     &         998      & \\textbf{  BIC:               }          &     2801.   \\\\\n",
       "\\textbf{Df Model:}         &           2      & \\textbf{                     }          &             \\\\\n",
       "\\textbf{Covariance Type:}  &    nonrobust     & \\textbf{                     }          &             \\\\\n",
       "\\bottomrule\n",
       "\\end{tabular}\n",
       "\\begin{tabular}{lcccccc}\n",
       "            & \\textbf{coef} & \\textbf{std err} & \\textbf{t} & \\textbf{P$> |$t$|$} & \\textbf{[0.025} & \\textbf{0.975]}  \\\\\n",
       "\\midrule\n",
       "\\textbf{x1} &       2.0553  &        0.025     &    83.644  &         0.000        &        2.007    &        2.104     \\\\\n",
       "\\textbf{x2} &       4.9876  &        0.056     &    88.282  &         0.000        &        4.877    &        5.098     \\\\\n",
       "\\bottomrule\n",
       "\\end{tabular}\n",
       "\\begin{tabular}{lclc}\n",
       "\\textbf{Omnibus:}       &  0.924 & \\textbf{  Durbin-Watson:     } &    1.942  \\\\\n",
       "\\textbf{Prob(Omnibus):} &  0.630 & \\textbf{  Jarque-Bera (JB):  } &    0.969  \\\\\n",
       "\\textbf{Skew:}          &  0.072 & \\textbf{  Prob(JB):          } &    0.616  \\\\\n",
       "\\textbf{Kurtosis:}      &  2.950 & \\textbf{  Cond. No.          } &     2.32  \\\\\n",
       "\\bottomrule\n",
       "\\end{tabular}\n",
       "%\\caption{OLS Regression Results}\n",
       "\\end{center}\n",
       "\n",
       "Notes: \\newline\n",
       " [1] R² is computed without centering (uncentered) since the model does not contain a constant. \\newline\n",
       " [2] Standard Errors assume that the covariance matrix of the errors is correctly specified."
      ],
      "text/plain": [
       "<class 'statsmodels.iolib.summary.Summary'>\n",
       "\"\"\"\n",
       "                                 OLS Regression Results                                \n",
       "=======================================================================================\n",
       "Dep. Variable:                      y   R-squared (uncentered):                   0.943\n",
       "Model:                            OLS   Adj. R-squared (uncentered):              0.943\n",
       "Method:                 Least Squares   F-statistic:                              8283.\n",
       "Date:                Sat, 25 Oct 2025   Prob (F-statistic):                        0.00\n",
       "Time:                        10:37:40   Log-Likelihood:                         -1393.8\n",
       "No. Observations:                1000   AIC:                                      2792.\n",
       "Df Residuals:                     998   BIC:                                      2801.\n",
       "Df Model:                           2                                                  \n",
       "Covariance Type:            nonrobust                                                  \n",
       "==============================================================================\n",
       "                 coef    std err          t      P>|t|      [0.025      0.975]\n",
       "------------------------------------------------------------------------------\n",
       "x1             2.0553      0.025     83.644      0.000       2.007       2.104\n",
       "x2             4.9876      0.056     88.282      0.000       4.877       5.098\n",
       "==============================================================================\n",
       "Omnibus:                        0.924   Durbin-Watson:                   1.942\n",
       "Prob(Omnibus):                  0.630   Jarque-Bera (JB):                0.969\n",
       "Skew:                           0.072   Prob(JB):                        0.616\n",
       "Kurtosis:                       2.950   Cond. No.                         2.32\n",
       "==============================================================================\n",
       "\n",
       "Notes:\n",
       "[1] R² is computed without centering (uncentered) since the model does not contain a constant.\n",
       "[2] Standard Errors assume that the covariance matrix of the errors is correctly specified.\n",
       "\"\"\""
      ]
     },
     "execution_count": 10,
     "metadata": {},
     "output_type": "execute_result"
    }
   ],
   "source": [
    "model = OLS(np.asarray(df[outcome]), np.asarray(df[[common_cause, treatment]], dtype=np.float64))\n",
    "result = model.fit()\n",
    "result.summary()"
   ]
  }
 ],
 "metadata": {
  "kernelspec": {
   "display_name": "Python 3 (ipykernel)",
   "language": "python",
   "name": "python3"
  },
  "language_info": {
   "codemirror_mode": {
    "name": "ipython",
    "version": 3
   },
   "file_extension": ".py",
   "mimetype": "text/x-python",
   "name": "python",
   "nbconvert_exporter": "python",
   "pygments_lexer": "ipython3",
   "version": "3.9.23"
  },
  "toc": {
   "base_numbering": 1,
   "nav_menu": {},
   "number_sections": false,
   "sideBar": true,
   "skip_h1_title": true,
   "title_cell": "Table of Contents",
   "title_sidebar": "Contents",
   "toc_cell": false,
   "toc_position": {},
   "toc_section_display": true,
   "toc_window_display": false
  }
 },
 "nbformat": 4,
 "nbformat_minor": 4
}
