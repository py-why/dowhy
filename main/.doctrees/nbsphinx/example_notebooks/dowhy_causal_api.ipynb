{
 "cells": [
  {
   "cell_type": "markdown",
   "metadata": {},
   "source": [
    "# Demo for the DoWhy causal API\n",
    "We show a simple example of adding a causal extension to any dataframe. "
   ]
  },
  {
   "cell_type": "code",
   "execution_count": 1,
   "metadata": {
    "execution": {
     "iopub.execute_input": "2025-08-08T19:51:22.210395Z",
     "iopub.status.busy": "2025-08-08T19:51:22.210198Z",
     "iopub.status.idle": "2025-08-08T19:51:23.899991Z",
     "shell.execute_reply": "2025-08-08T19:51:23.899158Z"
    }
   },
   "outputs": [],
   "source": [
    "import dowhy.datasets\n",
    "import dowhy.api\n",
    "from dowhy.graph import build_graph_from_str\n",
    "\n",
    "import numpy as np\n",
    "import pandas as pd\n",
    "\n",
    "from statsmodels.api import OLS"
   ]
  },
  {
   "cell_type": "code",
   "execution_count": 2,
   "metadata": {
    "execution": {
     "iopub.execute_input": "2025-08-08T19:51:23.902663Z",
     "iopub.status.busy": "2025-08-08T19:51:23.902320Z",
     "iopub.status.idle": "2025-08-08T19:51:23.948769Z",
     "shell.execute_reply": "2025-08-08T19:51:23.948202Z"
    }
   },
   "outputs": [
    {
     "data": {
      "text/html": [
       "<div>\n",
       "<style scoped>\n",
       "    .dataframe tbody tr th:only-of-type {\n",
       "        vertical-align: middle;\n",
       "    }\n",
       "\n",
       "    .dataframe tbody tr th {\n",
       "        vertical-align: top;\n",
       "    }\n",
       "\n",
       "    .dataframe thead th {\n",
       "        text-align: right;\n",
       "    }\n",
       "</style>\n",
       "<table border=\"1\" class=\"dataframe\">\n",
       "  <thead>\n",
       "    <tr style=\"text-align: right;\">\n",
       "      <th></th>\n",
       "      <th>W0</th>\n",
       "      <th>v0</th>\n",
       "      <th>y</th>\n",
       "    </tr>\n",
       "  </thead>\n",
       "  <tbody>\n",
       "    <tr>\n",
       "      <th>0</th>\n",
       "      <td>2.327554</td>\n",
       "      <td>True</td>\n",
       "      <td>7.295338</td>\n",
       "    </tr>\n",
       "    <tr>\n",
       "      <th>1</th>\n",
       "      <td>0.300997</td>\n",
       "      <td>True</td>\n",
       "      <td>4.985168</td>\n",
       "    </tr>\n",
       "    <tr>\n",
       "      <th>2</th>\n",
       "      <td>1.597787</td>\n",
       "      <td>True</td>\n",
       "      <td>8.775421</td>\n",
       "    </tr>\n",
       "    <tr>\n",
       "      <th>3</th>\n",
       "      <td>-1.058256</td>\n",
       "      <td>False</td>\n",
       "      <td>-1.614466</td>\n",
       "    </tr>\n",
       "    <tr>\n",
       "      <th>4</th>\n",
       "      <td>-1.270350</td>\n",
       "      <td>False</td>\n",
       "      <td>-1.858618</td>\n",
       "    </tr>\n",
       "    <tr>\n",
       "      <th>...</th>\n",
       "      <td>...</td>\n",
       "      <td>...</td>\n",
       "      <td>...</td>\n",
       "    </tr>\n",
       "    <tr>\n",
       "      <th>995</th>\n",
       "      <td>1.221505</td>\n",
       "      <td>True</td>\n",
       "      <td>6.613928</td>\n",
       "    </tr>\n",
       "    <tr>\n",
       "      <th>996</th>\n",
       "      <td>0.884511</td>\n",
       "      <td>False</td>\n",
       "      <td>0.929254</td>\n",
       "    </tr>\n",
       "    <tr>\n",
       "      <th>997</th>\n",
       "      <td>1.672671</td>\n",
       "      <td>True</td>\n",
       "      <td>7.049152</td>\n",
       "    </tr>\n",
       "    <tr>\n",
       "      <th>998</th>\n",
       "      <td>0.123448</td>\n",
       "      <td>True</td>\n",
       "      <td>4.409866</td>\n",
       "    </tr>\n",
       "    <tr>\n",
       "      <th>999</th>\n",
       "      <td>0.017847</td>\n",
       "      <td>True</td>\n",
       "      <td>4.415933</td>\n",
       "    </tr>\n",
       "  </tbody>\n",
       "</table>\n",
       "<p>1000 rows × 3 columns</p>\n",
       "</div>"
      ],
      "text/plain": [
       "           W0     v0         y\n",
       "0    2.327554   True  7.295338\n",
       "1    0.300997   True  4.985168\n",
       "2    1.597787   True  8.775421\n",
       "3   -1.058256  False -1.614466\n",
       "4   -1.270350  False -1.858618\n",
       "..        ...    ...       ...\n",
       "995  1.221505   True  6.613928\n",
       "996  0.884511  False  0.929254\n",
       "997  1.672671   True  7.049152\n",
       "998  0.123448   True  4.409866\n",
       "999  0.017847   True  4.415933\n",
       "\n",
       "[1000 rows x 3 columns]"
      ]
     },
     "execution_count": 2,
     "metadata": {},
     "output_type": "execute_result"
    }
   ],
   "source": [
    "data = dowhy.datasets.linear_dataset(beta=5,\n",
    "        num_common_causes=1,\n",
    "        num_instruments = 0,\n",
    "        num_samples=1000,\n",
    "        treatment_is_binary=True)\n",
    "df = data['df']\n",
    "df['y'] = df['y'] + np.random.normal(size=len(df)) # Adding noise to data. Without noise, the variance in Y|X, Z is zero, and mcmc fails.\n",
    "nx_graph = build_graph_from_str(data[\"dot_graph\"])\n",
    "\n",
    "treatment= data[\"treatment_name\"][0]\n",
    "outcome = data[\"outcome_name\"][0]\n",
    "common_cause = data[\"common_causes_names\"][0]\n",
    "df"
   ]
  },
  {
   "cell_type": "code",
   "execution_count": 3,
   "metadata": {
    "execution": {
     "iopub.execute_input": "2025-08-08T19:51:23.950713Z",
     "iopub.status.busy": "2025-08-08T19:51:23.950515Z",
     "iopub.status.idle": "2025-08-08T19:51:24.189293Z",
     "shell.execute_reply": "2025-08-08T19:51:24.188549Z"
    },
    "scrolled": true
   },
   "outputs": [
    {
     "data": {
      "text/plain": [
       "<Axes: xlabel='v0'>"
      ]
     },
     "execution_count": 3,
     "metadata": {},
     "output_type": "execute_result"
    },
    {
     "data": {
      "image/png": "[encoded data removed]",
      "text/plain": [
       "<Figure size 640x480 with 1 Axes>"
      ]
     },
     "metadata": {},
     "output_type": "display_data"
    }
   ],
   "source": [
    "# data['df'] is just a regular pandas.DataFrame\n",
    "df.causal.do(x=treatment,\n",
    "             variable_types={treatment: 'b', outcome: 'c', common_cause: 'c'},\n",
    "             outcome=outcome,\n",
    "             common_causes=[common_cause],\n",
    "            ).groupby(treatment).mean().plot(y=outcome, kind='bar')"
   ]
  },
  {
   "cell_type": "code",
   "execution_count": 4,
   "metadata": {
    "execution": {
     "iopub.execute_input": "2025-08-08T19:51:24.191348Z",
     "iopub.status.busy": "2025-08-08T19:51:24.191122Z",
     "iopub.status.idle": "2025-08-08T19:51:24.283561Z",
     "shell.execute_reply": "2025-08-08T19:51:24.282997Z"
    }
   },
   "outputs": [
    {
     "data": {
      "text/plain": [
       "<Axes: xlabel='v0'>"
      ]
     },
     "execution_count": 4,
     "metadata": {},
     "output_type": "execute_result"
    },
    {
     "data": {
      "image/png": "[encoded data removed]",
      "text/plain": [
       "<Figure size 640x480 with 1 Axes>"
      ]
     },
     "metadata": {},
     "output_type": "display_data"
    }
   ],
   "source": [
    "df.causal.do(x={treatment: 1}, \n",
    "              variable_types={treatment:'b', outcome: 'c', common_cause: 'c'}, \n",
    "              outcome=outcome,\n",
    "              method='weighting', \n",
    "              common_causes=[common_cause]\n",
    "              ).groupby(treatment).mean().plot(y=outcome, kind='bar')"
   ]
  },
  {
   "cell_type": "code",
   "execution_count": 5,
   "metadata": {
    "execution": {
     "iopub.execute_input": "2025-08-08T19:51:24.285577Z",
     "iopub.status.busy": "2025-08-08T19:51:24.285387Z",
     "iopub.status.idle": "2025-08-08T19:51:24.307107Z",
     "shell.execute_reply": "2025-08-08T19:51:24.306410Z"
    }
   },
   "outputs": [],
   "source": [
    "cdf_1 = df.causal.do(x={treatment: 1}, \n",
    "              variable_types={treatment: 'b', outcome: 'c', common_cause: 'c'}, \n",
    "              outcome=outcome, \n",
    "              graph=nx_graph\n",
    "              )\n",
    "\n",
    "cdf_0 = df.causal.do(x={treatment: 0}, \n",
    "              variable_types={treatment: 'b', outcome: 'c', common_cause: 'c'}, \n",
    "              outcome=outcome, \n",
    "              graph=nx_graph\n",
    "              )\n"
   ]
  },
  {
   "cell_type": "code",
   "execution_count": 6,
   "metadata": {
    "execution": {
     "iopub.execute_input": "2025-08-08T19:51:24.309286Z",
     "iopub.status.busy": "2025-08-08T19:51:24.308917Z",
     "iopub.status.idle": "2025-08-08T19:51:24.317412Z",
     "shell.execute_reply": "2025-08-08T19:51:24.316891Z"
    },
    "scrolled": true
   },
   "outputs": [
    {
     "data": {
      "text/html": [
       "<div>\n",
       "<style scoped>\n",
       "    .dataframe tbody tr th:only-of-type {\n",
       "        vertical-align: middle;\n",
       "    }\n",
       "\n",
       "    .dataframe tbody tr th {\n",
       "        vertical-align: top;\n",
       "    }\n",
       "\n",
       "    .dataframe thead th {\n",
       "        text-align: right;\n",
       "    }\n",
       "</style>\n",
       "<table border=\"1\" class=\"dataframe\">\n",
       "  <thead>\n",
       "    <tr style=\"text-align: right;\">\n",
       "      <th></th>\n",
       "      <th>W0</th>\n",
       "      <th>v0</th>\n",
       "      <th>y</th>\n",
       "      <th>propensity_score</th>\n",
       "      <th>weight</th>\n",
       "    </tr>\n",
       "  </thead>\n",
       "  <tbody>\n",
       "    <tr>\n",
       "      <th>0</th>\n",
       "      <td>-0.813217</td>\n",
       "      <td>False</td>\n",
       "      <td>-0.733449</td>\n",
       "      <td>0.775372</td>\n",
       "      <td>1.289703</td>\n",
       "    </tr>\n",
       "    <tr>\n",
       "      <th>1</th>\n",
       "      <td>0.400255</td>\n",
       "      <td>False</td>\n",
       "      <td>-0.526615</td>\n",
       "      <td>0.314212</td>\n",
       "      <td>3.182562</td>\n",
       "    </tr>\n",
       "    <tr>\n",
       "      <th>2</th>\n",
       "      <td>-1.338246</td>\n",
       "      <td>False</td>\n",
       "      <td>0.487254</td>\n",
       "      <td>0.892124</td>\n",
       "      <td>1.120920</td>\n",
       "    </tr>\n",
       "    <tr>\n",
       "      <th>3</th>\n",
       "      <td>1.274076</td>\n",
       "      <td>False</td>\n",
       "      <td>2.733615</td>\n",
       "      <td>0.096680</td>\n",
       "      <td>10.343376</td>\n",
       "    </tr>\n",
       "    <tr>\n",
       "      <th>4</th>\n",
       "      <td>-0.546134</td>\n",
       "      <td>False</td>\n",
       "      <td>-0.556465</td>\n",
       "      <td>0.688782</td>\n",
       "      <td>1.451838</td>\n",
       "    </tr>\n",
       "    <tr>\n",
       "      <th>...</th>\n",
       "      <td>...</td>\n",
       "      <td>...</td>\n",
       "      <td>...</td>\n",
       "      <td>...</td>\n",
       "      <td>...</td>\n",
       "    </tr>\n",
       "    <tr>\n",
       "      <th>995</th>\n",
       "      <td>0.867020</td>\n",
       "      <td>False</td>\n",
       "      <td>-0.875594</td>\n",
       "      <td>0.174039</td>\n",
       "      <td>5.745831</td>\n",
       "    </tr>\n",
       "    <tr>\n",
       "      <th>996</th>\n",
       "      <td>-2.015217</td>\n",
       "      <td>False</td>\n",
       "      <td>-2.386520</td>\n",
       "      <td>0.962283</td>\n",
       "      <td>1.039195</td>\n",
       "    </tr>\n",
       "    <tr>\n",
       "      <th>997</th>\n",
       "      <td>0.159934</td>\n",
       "      <td>False</td>\n",
       "      <td>-0.794646</td>\n",
       "      <td>0.405989</td>\n",
       "      <td>2.463120</td>\n",
       "    </tr>\n",
       "    <tr>\n",
       "      <th>998</th>\n",
       "      <td>-1.155762</td>\n",
       "      <td>False</td>\n",
       "      <td>-0.013463</td>\n",
       "      <td>0.859234</td>\n",
       "      <td>1.163827</td>\n",
       "    </tr>\n",
       "    <tr>\n",
       "      <th>999</th>\n",
       "      <td>1.862656</td>\n",
       "      <td>False</td>\n",
       "      <td>1.032961</td>\n",
       "      <td>0.038637</td>\n",
       "      <td>25.882219</td>\n",
       "    </tr>\n",
       "  </tbody>\n",
       "</table>\n",
       "<p>1000 rows × 5 columns</p>\n",
       "</div>"
      ],
      "text/plain": [
       "           W0     v0         y  propensity_score     weight\n",
       "0   -0.813217  False -0.733449          0.775372   1.289703\n",
       "1    0.400255  False -0.526615          0.314212   3.182562\n",
       "2   -1.338246  False  0.487254          0.892124   1.120920\n",
       "3    1.274076  False  2.733615          0.096680  10.343376\n",
       "4   -0.546134  False -0.556465          0.688782   1.451838\n",
       "..        ...    ...       ...               ...        ...\n",
       "995  0.867020  False -0.875594          0.174039   5.745831\n",
       "996 -2.015217  False -2.386520          0.962283   1.039195\n",
       "997  0.159934  False -0.794646          0.405989   2.463120\n",
       "998 -1.155762  False -0.013463          0.859234   1.163827\n",
       "999  1.862656  False  1.032961          0.038637  25.882219\n",
       "\n",
       "[1000 rows x 5 columns]"
      ]
     },
     "execution_count": 6,
     "metadata": {},
     "output_type": "execute_result"
    }
   ],
   "source": [
    "cdf_0"
   ]
  },
  {
   "cell_type": "code",
   "execution_count": 7,
   "metadata": {
    "execution": {
     "iopub.execute_input": "2025-08-08T19:51:24.319181Z",
     "iopub.status.busy": "2025-08-08T19:51:24.318986Z",
     "iopub.status.idle": "2025-08-08T19:51:24.327534Z",
     "shell.execute_reply": "2025-08-08T19:51:24.327018Z"
    }
   },
   "outputs": [
    {
     "data": {
      "text/html": [
       "<div>\n",
       "<style scoped>\n",
       "    .dataframe tbody tr th:only-of-type {\n",
       "        vertical-align: middle;\n",
       "    }\n",
       "\n",
       "    .dataframe tbody tr th {\n",
       "        vertical-align: top;\n",
       "    }\n",
       "\n",
       "    .dataframe thead th {\n",
       "        text-align: right;\n",
       "    }\n",
       "</style>\n",
       "<table border=\"1\" class=\"dataframe\">\n",
       "  <thead>\n",
       "    <tr style=\"text-align: right;\">\n",
       "      <th></th>\n",
       "      <th>W0</th>\n",
       "      <th>v0</th>\n",
       "      <th>y</th>\n",
       "      <th>propensity_score</th>\n",
       "      <th>weight</th>\n",
       "    </tr>\n",
       "  </thead>\n",
       "  <tbody>\n",
       "    <tr>\n",
       "      <th>0</th>\n",
       "      <td>-0.075055</td>\n",
       "      <td>True</td>\n",
       "      <td>4.289411</td>\n",
       "      <td>0.497379</td>\n",
       "      <td>2.010541</td>\n",
       "    </tr>\n",
       "    <tr>\n",
       "      <th>1</th>\n",
       "      <td>0.482648</td>\n",
       "      <td>True</td>\n",
       "      <td>6.135437</td>\n",
       "      <td>0.714556</td>\n",
       "      <td>1.399471</td>\n",
       "    </tr>\n",
       "    <tr>\n",
       "      <th>2</th>\n",
       "      <td>0.679806</td>\n",
       "      <td>True</td>\n",
       "      <td>6.360557</td>\n",
       "      <td>0.776557</td>\n",
       "      <td>1.287735</td>\n",
       "    </tr>\n",
       "    <tr>\n",
       "      <th>3</th>\n",
       "      <td>-1.390593</td>\n",
       "      <td>True</td>\n",
       "      <td>4.304158</td>\n",
       "      <td>0.099774</td>\n",
       "      <td>10.022638</td>\n",
       "    </tr>\n",
       "    <tr>\n",
       "      <th>4</th>\n",
       "      <td>2.120116</td>\n",
       "      <td>True</td>\n",
       "      <td>6.464159</td>\n",
       "      <td>0.974484</td>\n",
       "      <td>1.026184</td>\n",
       "    </tr>\n",
       "    <tr>\n",
       "      <th>...</th>\n",
       "      <td>...</td>\n",
       "      <td>...</td>\n",
       "      <td>...</td>\n",
       "      <td>...</td>\n",
       "      <td>...</td>\n",
       "    </tr>\n",
       "    <tr>\n",
       "      <th>995</th>\n",
       "      <td>0.695076</td>\n",
       "      <td>True</td>\n",
       "      <td>6.215404</td>\n",
       "      <td>0.780936</td>\n",
       "      <td>1.280515</td>\n",
       "    </tr>\n",
       "    <tr>\n",
       "      <th>996</th>\n",
       "      <td>-0.145245</td>\n",
       "      <td>True</td>\n",
       "      <td>5.125035</td>\n",
       "      <td>0.468220</td>\n",
       "      <td>2.135750</td>\n",
       "    </tr>\n",
       "    <tr>\n",
       "      <th>997</th>\n",
       "      <td>-0.354777</td>\n",
       "      <td>True</td>\n",
       "      <td>5.664891</td>\n",
       "      <td>0.383201</td>\n",
       "      <td>2.609599</td>\n",
       "    </tr>\n",
       "    <tr>\n",
       "      <th>998</th>\n",
       "      <td>-1.363767</td>\n",
       "      <td>True</td>\n",
       "      <td>5.156324</td>\n",
       "      <td>0.103856</td>\n",
       "      <td>9.628715</td>\n",
       "    </tr>\n",
       "    <tr>\n",
       "      <th>999</th>\n",
       "      <td>0.152089</td>\n",
       "      <td>True</td>\n",
       "      <td>6.981877</td>\n",
       "      <td>0.590858</td>\n",
       "      <td>1.692453</td>\n",
       "    </tr>\n",
       "  </tbody>\n",
       "</table>\n",
       "<p>1000 rows × 5 columns</p>\n",
       "</div>"
      ],
      "text/plain": [
       "           W0    v0         y  propensity_score     weight\n",
       "0   -0.075055  True  4.289411          0.497379   2.010541\n",
       "1    0.482648  True  6.135437          0.714556   1.399471\n",
       "2    0.679806  True  6.360557          0.776557   1.287735\n",
       "3   -1.390593  True  4.304158          0.099774  10.022638\n",
       "4    2.120116  True  6.464159          0.974484   1.026184\n",
       "..        ...   ...       ...               ...        ...\n",
       "995  0.695076  True  6.215404          0.780936   1.280515\n",
       "996 -0.145245  True  5.125035          0.468220   2.135750\n",
       "997 -0.354777  True  5.664891          0.383201   2.609599\n",
       "998 -1.363767  True  5.156324          0.103856   9.628715\n",
       "999  0.152089  True  6.981877          0.590858   1.692453\n",
       "\n",
       "[1000 rows x 5 columns]"
      ]
     },
     "execution_count": 7,
     "metadata": {},
     "output_type": "execute_result"
    }
   ],
   "source": [
    "cdf_1"
   ]
  },
  {
   "cell_type": "markdown",
   "metadata": {},
   "source": [
    "## Comparing the estimate to Linear Regression\n",
    "First, estimating the effect using the causal data frame, and the 95% confidence interval."
   ]
  },
  {
   "cell_type": "code",
   "execution_count": 8,
   "metadata": {
    "execution": {
     "iopub.execute_input": "2025-08-08T19:51:24.329417Z",
     "iopub.status.busy": "2025-08-08T19:51:24.329216Z",
     "iopub.status.idle": "2025-08-08T19:51:24.392733Z",
     "shell.execute_reply": "2025-08-08T19:51:24.392188Z"
    }
   },
   "outputs": [
    {
     "data": {
      "image/png": "[encoded data removed]",
      "text/latex": [
       "$\\displaystyle 5.13474550003718$"
      ],
      "text/plain": [
       "np.float64(5.134745500037177)"
      ]
     },
     "execution_count": 8,
     "metadata": {},
     "output_type": "execute_result"
    }
   ],
   "source": [
    "(cdf_1['y'] - cdf_0['y']).mean()"
   ]
  },
  {
   "cell_type": "code",
   "execution_count": 9,
   "metadata": {
    "execution": {
     "iopub.execute_input": "2025-08-08T19:51:24.394571Z",
     "iopub.status.busy": "2025-08-08T19:51:24.394372Z",
     "iopub.status.idle": "2025-08-08T19:51:24.412001Z",
     "shell.execute_reply": "2025-08-08T19:51:24.411333Z"
    }
   },
   "outputs": [
    {
     "data": {
      "image/png": "[encoded data removed]",
      "text/latex": [
       "$\\displaystyle 0.114340818638392$"
      ],
      "text/plain": [
       "np.float64(0.11434081863839247)"
      ]
     },
     "execution_count": 9,
     "metadata": {},
     "output_type": "execute_result"
    }
   ],
   "source": [
    "1.96*(cdf_1['y'] - cdf_0['y']).std() / np.sqrt(len(df))"
   ]
  },
  {
   "cell_type": "markdown",
   "metadata": {},
   "source": [
    "Comparing to the estimate from OLS."
   ]
  },
  {
   "cell_type": "code",
   "execution_count": 10,
   "metadata": {
    "execution": {
     "iopub.execute_input": "2025-08-08T19:51:24.413946Z",
     "iopub.status.busy": "2025-08-08T19:51:24.413626Z",
     "iopub.status.idle": "2025-08-08T19:51:24.433151Z",
     "shell.execute_reply": "2025-08-08T19:51:24.432618Z"
    }
   },
   "outputs": [
    {
     "data": {
      "text/html": [
       "<table class=\"simpletable\">\n",
       "<caption>OLS Regression Results</caption>\n",
       "<tr>\n",
       "  <th>Dep. Variable:</th>            <td>y</td>        <th>  R-squared (uncentered):</th>      <td>   0.957</td> \n",
       "</tr>\n",
       "<tr>\n",
       "  <th>Model:</th>                   <td>OLS</td>       <th>  Adj. R-squared (uncentered):</th> <td>   0.957</td> \n",
       "</tr>\n",
       "<tr>\n",
       "  <th>Method:</th>             <td>Least Squares</td>  <th>  F-statistic:       </th>          <td>1.114e+04</td>\n",
       "</tr>\n",
       "<tr>\n",
       "  <th>Date:</th>             <td>Fri, 08 Aug 2025</td> <th>  Prob (F-statistic):</th>           <td>  0.00</td>  \n",
       "</tr>\n",
       "<tr>\n",
       "  <th>Time:</th>                 <td>19:51:24</td>     <th>  Log-Likelihood:    </th>          <td> -1427.2</td> \n",
       "</tr>\n",
       "<tr>\n",
       "  <th>No. Observations:</th>      <td>  1000</td>      <th>  AIC:               </th>          <td>   2858.</td> \n",
       "</tr>\n",
       "<tr>\n",
       "  <th>Df Residuals:</th>          <td>   998</td>      <th>  BIC:               </th>          <td>   2868.</td> \n",
       "</tr>\n",
       "<tr>\n",
       "  <th>Df Model:</th>              <td>     2</td>      <th>                     </th>              <td> </td>    \n",
       "</tr>\n",
       "<tr>\n",
       "  <th>Covariance Type:</th>      <td>nonrobust</td>    <th>                     </th>              <td> </td>    \n",
       "</tr>\n",
       "</table>\n",
       "<table class=\"simpletable\">\n",
       "<tr>\n",
       "   <td></td>     <th>coef</th>     <th>std err</th>      <th>t</th>      <th>P>|t|</th>  <th>[0.025</th>    <th>0.975]</th>  \n",
       "</tr>\n",
       "<tr>\n",
       "  <th>x1</th> <td>    0.9146</td> <td>    0.037</td> <td>   24.728</td> <td> 0.000</td> <td>    0.842</td> <td>    0.987</td>\n",
       "</tr>\n",
       "<tr>\n",
       "  <th>x2</th> <td>    5.0594</td> <td>    0.051</td> <td>   99.450</td> <td> 0.000</td> <td>    4.960</td> <td>    5.159</td>\n",
       "</tr>\n",
       "</table>\n",
       "<table class=\"simpletable\">\n",
       "<tr>\n",
       "  <th>Omnibus:</th>       <td> 2.193</td> <th>  Durbin-Watson:     </th> <td>   1.997</td>\n",
       "</tr>\n",
       "<tr>\n",
       "  <th>Prob(Omnibus):</th> <td> 0.334</td> <th>  Jarque-Bera (JB):  </th> <td>   2.080</td>\n",
       "</tr>\n",
       "<tr>\n",
       "  <th>Skew:</th>          <td> 0.051</td> <th>  Prob(JB):          </th> <td>   0.353</td>\n",
       "</tr>\n",
       "<tr>\n",
       "  <th>Kurtosis:</th>      <td> 2.801</td> <th>  Cond. No.          </th> <td>    2.25</td>\n",
       "</tr>\n",
       "</table><br/><br/>Notes:<br/>[1] R² is computed without centering (uncentered) since the model does not contain a constant.<br/>[2] Standard Errors assume that the covariance matrix of the errors is correctly specified."
      ],
      "text/latex": [
       "\\begin{center}\n",
       "\\begin{tabular}{lclc}\n",
       "\\toprule\n",
       "\\textbf{Dep. Variable:}    &        y         & \\textbf{  R-squared (uncentered):}      &     0.957   \\\\\n",
       "\\textbf{Model:}            &       OLS        & \\textbf{  Adj. R-squared (uncentered):} &     0.957   \\\\\n",
       "\\textbf{Method:}           &  Least Squares   & \\textbf{  F-statistic:       }          & 1.114e+04   \\\\\n",
       "\\textbf{Date:}             & Fri, 08 Aug 2025 & \\textbf{  Prob (F-statistic):}          &     0.00    \\\\\n",
       "\\textbf{Time:}             &     19:51:24     & \\textbf{  Log-Likelihood:    }          &   -1427.2   \\\\\n",
       "\\textbf{No. Observations:} &        1000      & \\textbf{  AIC:               }          &     2858.   \\\\\n",
       "\\textbf{Df Residuals:}     &         998      & \\textbf{  BIC:               }          &     2868.   \\\\\n",
       "\\textbf{Df Model:}         &           2      & \\textbf{                     }          &             \\\\\n",
       "\\textbf{Covariance Type:}  &    nonrobust     & \\textbf{                     }          &             \\\\\n",
       "\\bottomrule\n",
       "\\end{tabular}\n",
       "\\begin{tabular}{lcccccc}\n",
       "            & \\textbf{coef} & \\textbf{std err} & \\textbf{t} & \\textbf{P$> |$t$|$} & \\textbf{[0.025} & \\textbf{0.975]}  \\\\\n",
       "\\midrule\n",
       "\\textbf{x1} &       0.9146  &        0.037     &    24.728  &         0.000        &        0.842    &        0.987     \\\\\n",
       "\\textbf{x2} &       5.0594  &        0.051     &    99.450  &         0.000        &        4.960    &        5.159     \\\\\n",
       "\\bottomrule\n",
       "\\end{tabular}\n",
       "\\begin{tabular}{lclc}\n",
       "\\textbf{Omnibus:}       &  2.193 & \\textbf{  Durbin-Watson:     } &    1.997  \\\\\n",
       "\\textbf{Prob(Omnibus):} &  0.334 & \\textbf{  Jarque-Bera (JB):  } &    2.080  \\\\\n",
       "\\textbf{Skew:}          &  0.051 & \\textbf{  Prob(JB):          } &    0.353  \\\\\n",
       "\\textbf{Kurtosis:}      &  2.801 & \\textbf{  Cond. No.          } &     2.25  \\\\\n",
       "\\bottomrule\n",
       "\\end{tabular}\n",
       "%\\caption{OLS Regression Results}\n",
       "\\end{center}\n",
       "\n",
       "Notes: \\newline\n",
       " [1] R² is computed without centering (uncentered) since the model does not contain a constant. \\newline\n",
       " [2] Standard Errors assume that the covariance matrix of the errors is correctly specified."
      ],
      "text/plain": [
       "<class 'statsmodels.iolib.summary.Summary'>\n",
       "\"\"\"\n",
       "                                 OLS Regression Results                                \n",
       "=======================================================================================\n",
       "Dep. Variable:                      y   R-squared (uncentered):                   0.957\n",
       "Model:                            OLS   Adj. R-squared (uncentered):              0.957\n",
       "Method:                 Least Squares   F-statistic:                          1.114e+04\n",
       "Date:                Fri, 08 Aug 2025   Prob (F-statistic):                        0.00\n",
       "Time:                        19:51:24   Log-Likelihood:                         -1427.2\n",
       "No. Observations:                1000   AIC:                                      2858.\n",
       "Df Residuals:                     998   BIC:                                      2868.\n",
       "Df Model:                           2                                                  \n",
       "Covariance Type:            nonrobust                                                  \n",
       "==============================================================================\n",
       "                 coef    std err          t      P>|t|      [0.025      0.975]\n",
       "------------------------------------------------------------------------------\n",
       "x1             0.9146      0.037     24.728      0.000       0.842       0.987\n",
       "x2             5.0594      0.051     99.450      0.000       4.960       5.159\n",
       "==============================================================================\n",
       "Omnibus:                        2.193   Durbin-Watson:                   1.997\n",
       "Prob(Omnibus):                  0.334   Jarque-Bera (JB):                2.080\n",
       "Skew:                           0.051   Prob(JB):                        0.353\n",
       "Kurtosis:                       2.801   Cond. No.                         2.25\n",
       "==============================================================================\n",
       "\n",
       "Notes:\n",
       "[1] R² is computed without centering (uncentered) since the model does not contain a constant.\n",
       "[2] Standard Errors assume that the covariance matrix of the errors is correctly specified.\n",
       "\"\"\""
      ]
     },
     "execution_count": 10,
     "metadata": {},
     "output_type": "execute_result"
    }
   ],
   "source": [
    "model = OLS(np.asarray(df[outcome]), np.asarray(df[[common_cause, treatment]], dtype=np.float64))\n",
    "result = model.fit()\n",
    "result.summary()"
   ]
  }
 ],
 "metadata": {
  "kernelspec": {
   "display_name": "Python 3 (ipykernel)",
   "language": "python",
   "name": "python3"
  },
  "language_info": {
   "codemirror_mode": {
    "name": "ipython",
    "version": 3
   },
   "file_extension": ".py",
   "mimetype": "text/x-python",
   "name": "python",
   "nbconvert_exporter": "python",
   "pygments_lexer": "ipython3",
   "version": "3.9.23"
  },
  "toc": {
   "base_numbering": 1,
   "nav_menu": {},
   "number_sections": false,
   "sideBar": true,
   "skip_h1_title": true,
   "title_cell": "Table of Contents",
   "title_sidebar": "Contents",
   "toc_cell": false,
   "toc_position": {},
   "toc_section_display": true,
   "toc_window_display": false
  }
 },
 "nbformat": 4,
 "nbformat_minor": 4
}
