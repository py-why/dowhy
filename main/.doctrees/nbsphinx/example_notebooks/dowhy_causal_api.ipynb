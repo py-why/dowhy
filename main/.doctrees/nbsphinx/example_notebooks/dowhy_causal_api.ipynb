{
 "cells": [
  {
   "cell_type": "markdown",
   "metadata": {},
   "source": [
    "# Demo for the DoWhy causal API\n",
    "We show a simple example of adding a causal extension to any dataframe. "
   ]
  },
  {
   "cell_type": "code",
   "execution_count": 1,
   "metadata": {
    "execution": {
     "iopub.execute_input": "2025-07-24T08:02:12.902616Z",
     "iopub.status.busy": "2025-07-24T08:02:12.902416Z",
     "iopub.status.idle": "2025-07-24T08:02:14.635772Z",
     "shell.execute_reply": "2025-07-24T08:02:14.634965Z"
    }
   },
   "outputs": [],
   "source": [
    "import dowhy.datasets\n",
    "import dowhy.api\n",
    "from dowhy.graph import build_graph_from_str\n",
    "\n",
    "import numpy as np\n",
    "import pandas as pd\n",
    "\n",
    "from statsmodels.api import OLS"
   ]
  },
  {
   "cell_type": "code",
   "execution_count": 2,
   "metadata": {
    "execution": {
     "iopub.execute_input": "2025-07-24T08:02:14.638518Z",
     "iopub.status.busy": "2025-07-24T08:02:14.637963Z",
     "iopub.status.idle": "2025-07-24T08:02:14.701584Z",
     "shell.execute_reply": "2025-07-24T08:02:14.701012Z"
    }
   },
   "outputs": [
    {
     "data": {
      "text/html": [
       "<div>\n",
       "<style scoped>\n",
       "    .dataframe tbody tr th:only-of-type {\n",
       "        vertical-align: middle;\n",
       "    }\n",
       "\n",
       "    .dataframe tbody tr th {\n",
       "        vertical-align: top;\n",
       "    }\n",
       "\n",
       "    .dataframe thead th {\n",
       "        text-align: right;\n",
       "    }\n",
       "</style>\n",
       "<table border=\"1\" class=\"dataframe\">\n",
       "  <thead>\n",
       "    <tr style=\"text-align: right;\">\n",
       "      <th></th>\n",
       "      <th>W0</th>\n",
       "      <th>v0</th>\n",
       "      <th>y</th>\n",
       "    </tr>\n",
       "  </thead>\n",
       "  <tbody>\n",
       "    <tr>\n",
       "      <th>0</th>\n",
       "      <td>-2.090512</td>\n",
       "      <td>False</td>\n",
       "      <td>-1.067480</td>\n",
       "    </tr>\n",
       "    <tr>\n",
       "      <th>1</th>\n",
       "      <td>-2.359753</td>\n",
       "      <td>False</td>\n",
       "      <td>-1.391967</td>\n",
       "    </tr>\n",
       "    <tr>\n",
       "      <th>2</th>\n",
       "      <td>-1.113612</td>\n",
       "      <td>False</td>\n",
       "      <td>-1.833544</td>\n",
       "    </tr>\n",
       "    <tr>\n",
       "      <th>3</th>\n",
       "      <td>-0.213552</td>\n",
       "      <td>True</td>\n",
       "      <td>5.109589</td>\n",
       "    </tr>\n",
       "    <tr>\n",
       "      <th>4</th>\n",
       "      <td>0.161978</td>\n",
       "      <td>True</td>\n",
       "      <td>5.295897</td>\n",
       "    </tr>\n",
       "    <tr>\n",
       "      <th>...</th>\n",
       "      <td>...</td>\n",
       "      <td>...</td>\n",
       "      <td>...</td>\n",
       "    </tr>\n",
       "    <tr>\n",
       "      <th>995</th>\n",
       "      <td>0.099020</td>\n",
       "      <td>False</td>\n",
       "      <td>-0.406061</td>\n",
       "    </tr>\n",
       "    <tr>\n",
       "      <th>996</th>\n",
       "      <td>0.729739</td>\n",
       "      <td>True</td>\n",
       "      <td>6.516901</td>\n",
       "    </tr>\n",
       "    <tr>\n",
       "      <th>997</th>\n",
       "      <td>-0.469214</td>\n",
       "      <td>False</td>\n",
       "      <td>-0.960461</td>\n",
       "    </tr>\n",
       "    <tr>\n",
       "      <th>998</th>\n",
       "      <td>-1.554427</td>\n",
       "      <td>False</td>\n",
       "      <td>0.007999</td>\n",
       "    </tr>\n",
       "    <tr>\n",
       "      <th>999</th>\n",
       "      <td>-1.342886</td>\n",
       "      <td>False</td>\n",
       "      <td>-3.162254</td>\n",
       "    </tr>\n",
       "  </tbody>\n",
       "</table>\n",
       "<p>1000 rows × 3 columns</p>\n",
       "</div>"
      ],
      "text/plain": [
       "           W0     v0         y\n",
       "0   -2.090512  False -1.067480\n",
       "1   -2.359753  False -1.391967\n",
       "2   -1.113612  False -1.833544\n",
       "3   -0.213552   True  5.109589\n",
       "4    0.161978   True  5.295897\n",
       "..        ...    ...       ...\n",
       "995  0.099020  False -0.406061\n",
       "996  0.729739   True  6.516901\n",
       "997 -0.469214  False -0.960461\n",
       "998 -1.554427  False  0.007999\n",
       "999 -1.342886  False -3.162254\n",
       "\n",
       "[1000 rows x 3 columns]"
      ]
     },
     "execution_count": 2,
     "metadata": {},
     "output_type": "execute_result"
    }
   ],
   "source": [
    "data = dowhy.datasets.linear_dataset(beta=5,\n",
    "        num_common_causes=1,\n",
    "        num_instruments = 0,\n",
    "        num_samples=1000,\n",
    "        treatment_is_binary=True)\n",
    "df = data['df']\n",
    "df['y'] = df['y'] + np.random.normal(size=len(df)) # Adding noise to data. Without noise, the variance in Y|X, Z is zero, and mcmc fails.\n",
    "nx_graph = build_graph_from_str(data[\"dot_graph\"])\n",
    "\n",
    "treatment= data[\"treatment_name\"][0]\n",
    "outcome = data[\"outcome_name\"][0]\n",
    "common_cause = data[\"common_causes_names\"][0]\n",
    "df"
   ]
  },
  {
   "cell_type": "code",
   "execution_count": 3,
   "metadata": {
    "execution": {
     "iopub.execute_input": "2025-07-24T08:02:14.703736Z",
     "iopub.status.busy": "2025-07-24T08:02:14.703363Z",
     "iopub.status.idle": "2025-07-24T08:02:14.941455Z",
     "shell.execute_reply": "2025-07-24T08:02:14.940756Z"
    },
    "scrolled": true
   },
   "outputs": [
    {
     "data": {
      "text/plain": [
       "<Axes: xlabel='v0'>"
      ]
     },
     "execution_count": 3,
     "metadata": {},
     "output_type": "execute_result"
    },
    {
     "data": {
      "image/png": "[encoded data removed]",
      "text/plain": [
       "<Figure size 640x480 with 1 Axes>"
      ]
     },
     "metadata": {},
     "output_type": "display_data"
    }
   ],
   "source": [
    "# data['df'] is just a regular pandas.DataFrame\n",
    "df.causal.do(x=treatment,\n",
    "             variable_types={treatment: 'b', outcome: 'c', common_cause: 'c'},\n",
    "             outcome=outcome,\n",
    "             common_causes=[common_cause],\n",
    "            ).groupby(treatment).mean().plot(y=outcome, kind='bar')"
   ]
  },
  {
   "cell_type": "code",
   "execution_count": 4,
   "metadata": {
    "execution": {
     "iopub.execute_input": "2025-07-24T08:02:14.943612Z",
     "iopub.status.busy": "2025-07-24T08:02:14.943234Z",
     "iopub.status.idle": "2025-07-24T08:02:15.033192Z",
     "shell.execute_reply": "2025-07-24T08:02:15.032488Z"
    }
   },
   "outputs": [
    {
     "data": {
      "text/plain": [
       "<Axes: xlabel='v0'>"
      ]
     },
     "execution_count": 4,
     "metadata": {},
     "output_type": "execute_result"
    },
    {
     "data": {
      "image/png": "[encoded data removed]",
      "text/plain": [
       "<Figure size 640x480 with 1 Axes>"
      ]
     },
     "metadata": {},
     "output_type": "display_data"
    }
   ],
   "source": [
    "df.causal.do(x={treatment: 1}, \n",
    "              variable_types={treatment:'b', outcome: 'c', common_cause: 'c'}, \n",
    "              outcome=outcome,\n",
    "              method='weighting', \n",
    "              common_causes=[common_cause]\n",
    "              ).groupby(treatment).mean().plot(y=outcome, kind='bar')"
   ]
  },
  {
   "cell_type": "code",
   "execution_count": 5,
   "metadata": {
    "execution": {
     "iopub.execute_input": "2025-07-24T08:02:15.035496Z",
     "iopub.status.busy": "2025-07-24T08:02:15.035096Z",
     "iopub.status.idle": "2025-07-24T08:02:15.056895Z",
     "shell.execute_reply": "2025-07-24T08:02:15.056370Z"
    }
   },
   "outputs": [],
   "source": [
    "cdf_1 = df.causal.do(x={treatment: 1}, \n",
    "              variable_types={treatment: 'b', outcome: 'c', common_cause: 'c'}, \n",
    "              outcome=outcome, \n",
    "              graph=nx_graph\n",
    "              )\n",
    "\n",
    "cdf_0 = df.causal.do(x={treatment: 0}, \n",
    "              variable_types={treatment: 'b', outcome: 'c', common_cause: 'c'}, \n",
    "              outcome=outcome, \n",
    "              graph=nx_graph\n",
    "              )\n"
   ]
  },
  {
   "cell_type": "code",
   "execution_count": 6,
   "metadata": {
    "execution": {
     "iopub.execute_input": "2025-07-24T08:02:15.058933Z",
     "iopub.status.busy": "2025-07-24T08:02:15.058527Z",
     "iopub.status.idle": "2025-07-24T08:02:15.067231Z",
     "shell.execute_reply": "2025-07-24T08:02:15.066680Z"
    },
    "scrolled": true
   },
   "outputs": [
    {
     "data": {
      "text/html": [
       "<div>\n",
       "<style scoped>\n",
       "    .dataframe tbody tr th:only-of-type {\n",
       "        vertical-align: middle;\n",
       "    }\n",
       "\n",
       "    .dataframe tbody tr th {\n",
       "        vertical-align: top;\n",
       "    }\n",
       "\n",
       "    .dataframe thead th {\n",
       "        text-align: right;\n",
       "    }\n",
       "</style>\n",
       "<table border=\"1\" class=\"dataframe\">\n",
       "  <thead>\n",
       "    <tr style=\"text-align: right;\">\n",
       "      <th></th>\n",
       "      <th>W0</th>\n",
       "      <th>v0</th>\n",
       "      <th>y</th>\n",
       "      <th>propensity_score</th>\n",
       "      <th>weight</th>\n",
       "    </tr>\n",
       "  </thead>\n",
       "  <tbody>\n",
       "    <tr>\n",
       "      <th>0</th>\n",
       "      <td>-2.191180</td>\n",
       "      <td>False</td>\n",
       "      <td>-1.537256</td>\n",
       "      <td>0.969043</td>\n",
       "      <td>1.031946</td>\n",
       "    </tr>\n",
       "    <tr>\n",
       "      <th>1</th>\n",
       "      <td>-0.981642</td>\n",
       "      <td>False</td>\n",
       "      <td>-0.835002</td>\n",
       "      <td>0.818323</td>\n",
       "      <td>1.222012</td>\n",
       "    </tr>\n",
       "    <tr>\n",
       "      <th>2</th>\n",
       "      <td>0.856927</td>\n",
       "      <td>False</td>\n",
       "      <td>0.535554</td>\n",
       "      <td>0.191256</td>\n",
       "      <td>5.228592</td>\n",
       "    </tr>\n",
       "    <tr>\n",
       "      <th>3</th>\n",
       "      <td>-2.730193</td>\n",
       "      <td>False</td>\n",
       "      <td>-4.239011</td>\n",
       "      <td>0.986714</td>\n",
       "      <td>1.013465</td>\n",
       "    </tr>\n",
       "    <tr>\n",
       "      <th>4</th>\n",
       "      <td>-1.547382</td>\n",
       "      <td>False</td>\n",
       "      <td>-0.898235</td>\n",
       "      <td>0.917723</td>\n",
       "      <td>1.089653</td>\n",
       "    </tr>\n",
       "    <tr>\n",
       "      <th>...</th>\n",
       "      <td>...</td>\n",
       "      <td>...</td>\n",
       "      <td>...</td>\n",
       "      <td>...</td>\n",
       "      <td>...</td>\n",
       "    </tr>\n",
       "    <tr>\n",
       "      <th>995</th>\n",
       "      <td>-1.530290</td>\n",
       "      <td>False</td>\n",
       "      <td>-2.684343</td>\n",
       "      <td>0.915631</td>\n",
       "      <td>1.092143</td>\n",
       "    </tr>\n",
       "    <tr>\n",
       "      <th>996</th>\n",
       "      <td>-0.912892</td>\n",
       "      <td>False</td>\n",
       "      <td>-0.317634</td>\n",
       "      <td>0.801363</td>\n",
       "      <td>1.247875</td>\n",
       "    </tr>\n",
       "    <tr>\n",
       "      <th>997</th>\n",
       "      <td>1.201569</td>\n",
       "      <td>False</td>\n",
       "      <td>1.794796</td>\n",
       "      <td>0.119806</td>\n",
       "      <td>8.346815</td>\n",
       "    </tr>\n",
       "    <tr>\n",
       "      <th>998</th>\n",
       "      <td>-3.546461</td>\n",
       "      <td>False</td>\n",
       "      <td>-3.131815</td>\n",
       "      <td>0.996374</td>\n",
       "      <td>1.003639</td>\n",
       "    </tr>\n",
       "    <tr>\n",
       "      <th>999</th>\n",
       "      <td>-0.139115</td>\n",
       "      <td>False</td>\n",
       "      <td>0.927372</td>\n",
       "      <td>0.538575</td>\n",
       "      <td>1.856752</td>\n",
       "    </tr>\n",
       "  </tbody>\n",
       "</table>\n",
       "<p>1000 rows × 5 columns</p>\n",
       "</div>"
      ],
      "text/plain": [
       "           W0     v0         y  propensity_score    weight\n",
       "0   -2.191180  False -1.537256          0.969043  1.031946\n",
       "1   -0.981642  False -0.835002          0.818323  1.222012\n",
       "2    0.856927  False  0.535554          0.191256  5.228592\n",
       "3   -2.730193  False -4.239011          0.986714  1.013465\n",
       "4   -1.547382  False -0.898235          0.917723  1.089653\n",
       "..        ...    ...       ...               ...       ...\n",
       "995 -1.530290  False -2.684343          0.915631  1.092143\n",
       "996 -0.912892  False -0.317634          0.801363  1.247875\n",
       "997  1.201569  False  1.794796          0.119806  8.346815\n",
       "998 -3.546461  False -3.131815          0.996374  1.003639\n",
       "999 -0.139115  False  0.927372          0.538575  1.856752\n",
       "\n",
       "[1000 rows x 5 columns]"
      ]
     },
     "execution_count": 6,
     "metadata": {},
     "output_type": "execute_result"
    }
   ],
   "source": [
    "cdf_0"
   ]
  },
  {
   "cell_type": "code",
   "execution_count": 7,
   "metadata": {
    "execution": {
     "iopub.execute_input": "2025-07-24T08:02:15.069290Z",
     "iopub.status.busy": "2025-07-24T08:02:15.068923Z",
     "iopub.status.idle": "2025-07-24T08:02:15.077233Z",
     "shell.execute_reply": "2025-07-24T08:02:15.076692Z"
    }
   },
   "outputs": [
    {
     "data": {
      "text/html": [
       "<div>\n",
       "<style scoped>\n",
       "    .dataframe tbody tr th:only-of-type {\n",
       "        vertical-align: middle;\n",
       "    }\n",
       "\n",
       "    .dataframe tbody tr th {\n",
       "        vertical-align: top;\n",
       "    }\n",
       "\n",
       "    .dataframe thead th {\n",
       "        text-align: right;\n",
       "    }\n",
       "</style>\n",
       "<table border=\"1\" class=\"dataframe\">\n",
       "  <thead>\n",
       "    <tr style=\"text-align: right;\">\n",
       "      <th></th>\n",
       "      <th>W0</th>\n",
       "      <th>v0</th>\n",
       "      <th>y</th>\n",
       "      <th>propensity_score</th>\n",
       "      <th>weight</th>\n",
       "    </tr>\n",
       "  </thead>\n",
       "  <tbody>\n",
       "    <tr>\n",
       "      <th>0</th>\n",
       "      <td>-0.441209</td>\n",
       "      <td>True</td>\n",
       "      <td>5.575899</td>\n",
       "      <td>0.345515</td>\n",
       "      <td>2.894227</td>\n",
       "    </tr>\n",
       "    <tr>\n",
       "      <th>1</th>\n",
       "      <td>0.202394</td>\n",
       "      <td>True</td>\n",
       "      <td>5.092432</td>\n",
       "      <td>0.596949</td>\n",
       "      <td>1.675184</td>\n",
       "    </tr>\n",
       "    <tr>\n",
       "      <th>2</th>\n",
       "      <td>-0.503640</td>\n",
       "      <td>True</td>\n",
       "      <td>6.603457</td>\n",
       "      <td>0.323250</td>\n",
       "      <td>3.093579</td>\n",
       "    </tr>\n",
       "    <tr>\n",
       "      <th>3</th>\n",
       "      <td>-2.363473</td>\n",
       "      <td>True</td>\n",
       "      <td>1.869387</td>\n",
       "      <td>0.023664</td>\n",
       "      <td>42.258344</td>\n",
       "    </tr>\n",
       "    <tr>\n",
       "      <th>4</th>\n",
       "      <td>-0.722973</td>\n",
       "      <td>True</td>\n",
       "      <td>3.687679</td>\n",
       "      <td>0.251538</td>\n",
       "      <td>3.975546</td>\n",
       "    </tr>\n",
       "    <tr>\n",
       "      <th>...</th>\n",
       "      <td>...</td>\n",
       "      <td>...</td>\n",
       "      <td>...</td>\n",
       "      <td>...</td>\n",
       "      <td>...</td>\n",
       "    </tr>\n",
       "    <tr>\n",
       "      <th>995</th>\n",
       "      <td>-2.363473</td>\n",
       "      <td>True</td>\n",
       "      <td>1.869387</td>\n",
       "      <td>0.023664</td>\n",
       "      <td>42.258344</td>\n",
       "    </tr>\n",
       "    <tr>\n",
       "      <th>996</th>\n",
       "      <td>-0.836584</td>\n",
       "      <td>True</td>\n",
       "      <td>4.419168</td>\n",
       "      <td>0.218825</td>\n",
       "      <td>4.569856</td>\n",
       "    </tr>\n",
       "    <tr>\n",
       "      <th>997</th>\n",
       "      <td>1.478116</td>\n",
       "      <td>True</td>\n",
       "      <td>5.582937</td>\n",
       "      <td>0.919644</td>\n",
       "      <td>1.087377</td>\n",
       "    </tr>\n",
       "    <tr>\n",
       "      <th>998</th>\n",
       "      <td>1.899662</td>\n",
       "      <td>True</td>\n",
       "      <td>7.670540</td>\n",
       "      <td>0.957433</td>\n",
       "      <td>1.044459</td>\n",
       "    </tr>\n",
       "    <tr>\n",
       "      <th>999</th>\n",
       "      <td>-0.908535</td>\n",
       "      <td>True</td>\n",
       "      <td>1.985208</td>\n",
       "      <td>0.199751</td>\n",
       "      <td>5.006224</td>\n",
       "    </tr>\n",
       "  </tbody>\n",
       "</table>\n",
       "<p>1000 rows × 5 columns</p>\n",
       "</div>"
      ],
      "text/plain": [
       "           W0    v0         y  propensity_score     weight\n",
       "0   -0.441209  True  5.575899          0.345515   2.894227\n",
       "1    0.202394  True  5.092432          0.596949   1.675184\n",
       "2   -0.503640  True  6.603457          0.323250   3.093579\n",
       "3   -2.363473  True  1.869387          0.023664  42.258344\n",
       "4   -0.722973  True  3.687679          0.251538   3.975546\n",
       "..        ...   ...       ...               ...        ...\n",
       "995 -2.363473  True  1.869387          0.023664  42.258344\n",
       "996 -0.836584  True  4.419168          0.218825   4.569856\n",
       "997  1.478116  True  5.582937          0.919644   1.087377\n",
       "998  1.899662  True  7.670540          0.957433   1.044459\n",
       "999 -0.908535  True  1.985208          0.199751   5.006224\n",
       "\n",
       "[1000 rows x 5 columns]"
      ]
     },
     "execution_count": 7,
     "metadata": {},
     "output_type": "execute_result"
    }
   ],
   "source": [
    "cdf_1"
   ]
  },
  {
   "cell_type": "markdown",
   "metadata": {},
   "source": [
    "## Comparing the estimate to Linear Regression\n",
    "First, estimating the effect using the causal data frame, and the 95% confidence interval."
   ]
  },
  {
   "cell_type": "code",
   "execution_count": 8,
   "metadata": {
    "execution": {
     "iopub.execute_input": "2025-07-24T08:02:15.079024Z",
     "iopub.status.busy": "2025-07-24T08:02:15.078831Z",
     "iopub.status.idle": "2025-07-24T08:02:15.143895Z",
     "shell.execute_reply": "2025-07-24T08:02:15.143295Z"
    }
   },
   "outputs": [
    {
     "data": {
      "image/png": "[encoded data removed]",
      "text/latex": [
       "$\\displaystyle 5.16160132397988$"
      ],
      "text/plain": [
       "np.float64(5.161601323979884)"
      ]
     },
     "execution_count": 8,
     "metadata": {},
     "output_type": "execute_result"
    }
   ],
   "source": [
    "(cdf_1['y'] - cdf_0['y']).mean()"
   ]
  },
  {
   "cell_type": "code",
   "execution_count": 9,
   "metadata": {
    "execution": {
     "iopub.execute_input": "2025-07-24T08:02:15.146051Z",
     "iopub.status.busy": "2025-07-24T08:02:15.145659Z",
     "iopub.status.idle": "2025-07-24T08:02:15.164429Z",
     "shell.execute_reply": "2025-07-24T08:02:15.163740Z"
    }
   },
   "outputs": [
    {
     "data": {
      "image/png": "[encoded data removed]",
      "text/latex": [
       "$\\displaystyle 0.128963813573137$"
      ],
      "text/plain": [
       "np.float64(0.12896381357313677)"
      ]
     },
     "execution_count": 9,
     "metadata": {},
     "output_type": "execute_result"
    }
   ],
   "source": [
    "1.96*(cdf_1['y'] - cdf_0['y']).std() / np.sqrt(len(df))"
   ]
  },
  {
   "cell_type": "markdown",
   "metadata": {},
   "source": [
    "Comparing to the estimate from OLS."
   ]
  },
  {
   "cell_type": "code",
   "execution_count": 10,
   "metadata": {
    "execution": {
     "iopub.execute_input": "2025-07-24T08:02:15.166675Z",
     "iopub.status.busy": "2025-07-24T08:02:15.166283Z",
     "iopub.status.idle": "2025-07-24T08:02:15.186994Z",
     "shell.execute_reply": "2025-07-24T08:02:15.186432Z"
    }
   },
   "outputs": [
    {
     "data": {
      "text/html": [
       "<table class=\"simpletable\">\n",
       "<caption>OLS Regression Results</caption>\n",
       "<tr>\n",
       "  <th>Dep. Variable:</th>            <td>y</td>        <th>  R-squared (uncentered):</th>      <td>   0.899</td>\n",
       "</tr>\n",
       "<tr>\n",
       "  <th>Model:</th>                   <td>OLS</td>       <th>  Adj. R-squared (uncentered):</th> <td>   0.899</td>\n",
       "</tr>\n",
       "<tr>\n",
       "  <th>Method:</th>             <td>Least Squares</td>  <th>  F-statistic:       </th>          <td>   4440.</td>\n",
       "</tr>\n",
       "<tr>\n",
       "  <th>Date:</th>             <td>Thu, 24 Jul 2025</td> <th>  Prob (F-statistic):</th>           <td>  0.00</td> \n",
       "</tr>\n",
       "<tr>\n",
       "  <th>Time:</th>                 <td>08:02:15</td>     <th>  Log-Likelihood:    </th>          <td> -1447.5</td>\n",
       "</tr>\n",
       "<tr>\n",
       "  <th>No. Observations:</th>      <td>  1000</td>      <th>  AIC:               </th>          <td>   2899.</td>\n",
       "</tr>\n",
       "<tr>\n",
       "  <th>Df Residuals:</th>          <td>   998</td>      <th>  BIC:               </th>          <td>   2909.</td>\n",
       "</tr>\n",
       "<tr>\n",
       "  <th>Df Model:</th>              <td>     2</td>      <th>                     </th>              <td> </td>   \n",
       "</tr>\n",
       "<tr>\n",
       "  <th>Covariance Type:</th>      <td>nonrobust</td>    <th>                     </th>              <td> </td>   \n",
       "</tr>\n",
       "</table>\n",
       "<table class=\"simpletable\">\n",
       "<tr>\n",
       "   <td></td>     <th>coef</th>     <th>std err</th>      <th>t</th>      <th>P>|t|</th>  <th>[0.025</th>    <th>0.975]</th>  \n",
       "</tr>\n",
       "<tr>\n",
       "  <th>x1</th> <td>    1.1583</td> <td>    0.026</td> <td>   45.081</td> <td> 0.000</td> <td>    1.108</td> <td>    1.209</td>\n",
       "</tr>\n",
       "<tr>\n",
       "  <th>x2</th> <td>    4.9857</td> <td>    0.060</td> <td>   83.549</td> <td> 0.000</td> <td>    4.869</td> <td>    5.103</td>\n",
       "</tr>\n",
       "</table>\n",
       "<table class=\"simpletable\">\n",
       "<tr>\n",
       "  <th>Omnibus:</th>       <td> 3.556</td> <th>  Durbin-Watson:     </th> <td>   1.922</td>\n",
       "</tr>\n",
       "<tr>\n",
       "  <th>Prob(Omnibus):</th> <td> 0.169</td> <th>  Jarque-Bera (JB):  </th> <td>   4.061</td>\n",
       "</tr>\n",
       "<tr>\n",
       "  <th>Skew:</th>          <td> 0.000</td> <th>  Prob(JB):          </th> <td>   0.131</td>\n",
       "</tr>\n",
       "<tr>\n",
       "  <th>Kurtosis:</th>      <td> 3.312</td> <th>  Cond. No.          </th> <td>    2.32</td>\n",
       "</tr>\n",
       "</table><br/><br/>Notes:<br/>[1] R² is computed without centering (uncentered) since the model does not contain a constant.<br/>[2] Standard Errors assume that the covariance matrix of the errors is correctly specified."
      ],
      "text/latex": [
       "\\begin{center}\n",
       "\\begin{tabular}{lclc}\n",
       "\\toprule\n",
       "\\textbf{Dep. Variable:}    &        y         & \\textbf{  R-squared (uncentered):}      &     0.899   \\\\\n",
       "\\textbf{Model:}            &       OLS        & \\textbf{  Adj. R-squared (uncentered):} &     0.899   \\\\\n",
       "\\textbf{Method:}           &  Least Squares   & \\textbf{  F-statistic:       }          &     4440.   \\\\\n",
       "\\textbf{Date:}             & Thu, 24 Jul 2025 & \\textbf{  Prob (F-statistic):}          &     0.00    \\\\\n",
       "\\textbf{Time:}             &     08:02:15     & \\textbf{  Log-Likelihood:    }          &   -1447.5   \\\\\n",
       "\\textbf{No. Observations:} &        1000      & \\textbf{  AIC:               }          &     2899.   \\\\\n",
       "\\textbf{Df Residuals:}     &         998      & \\textbf{  BIC:               }          &     2909.   \\\\\n",
       "\\textbf{Df Model:}         &           2      & \\textbf{                     }          &             \\\\\n",
       "\\textbf{Covariance Type:}  &    nonrobust     & \\textbf{                     }          &             \\\\\n",
       "\\bottomrule\n",
       "\\end{tabular}\n",
       "\\begin{tabular}{lcccccc}\n",
       "            & \\textbf{coef} & \\textbf{std err} & \\textbf{t} & \\textbf{P$> |$t$|$} & \\textbf{[0.025} & \\textbf{0.975]}  \\\\\n",
       "\\midrule\n",
       "\\textbf{x1} &       1.1583  &        0.026     &    45.081  &         0.000        &        1.108    &        1.209     \\\\\n",
       "\\textbf{x2} &       4.9857  &        0.060     &    83.549  &         0.000        &        4.869    &        5.103     \\\\\n",
       "\\bottomrule\n",
       "\\end{tabular}\n",
       "\\begin{tabular}{lclc}\n",
       "\\textbf{Omnibus:}       &  3.556 & \\textbf{  Durbin-Watson:     } &    1.922  \\\\\n",
       "\\textbf{Prob(Omnibus):} &  0.169 & \\textbf{  Jarque-Bera (JB):  } &    4.061  \\\\\n",
       "\\textbf{Skew:}          &  0.000 & \\textbf{  Prob(JB):          } &    0.131  \\\\\n",
       "\\textbf{Kurtosis:}      &  3.312 & \\textbf{  Cond. No.          } &     2.32  \\\\\n",
       "\\bottomrule\n",
       "\\end{tabular}\n",
       "%\\caption{OLS Regression Results}\n",
       "\\end{center}\n",
       "\n",
       "Notes: \\newline\n",
       " [1] R² is computed without centering (uncentered) since the model does not contain a constant. \\newline\n",
       " [2] Standard Errors assume that the covariance matrix of the errors is correctly specified."
      ],
      "text/plain": [
       "<class 'statsmodels.iolib.summary.Summary'>\n",
       "\"\"\"\n",
       "                                 OLS Regression Results                                \n",
       "=======================================================================================\n",
       "Dep. Variable:                      y   R-squared (uncentered):                   0.899\n",
       "Model:                            OLS   Adj. R-squared (uncentered):              0.899\n",
       "Method:                 Least Squares   F-statistic:                              4440.\n",
       "Date:                Thu, 24 Jul 2025   Prob (F-statistic):                        0.00\n",
       "Time:                        08:02:15   Log-Likelihood:                         -1447.5\n",
       "No. Observations:                1000   AIC:                                      2899.\n",
       "Df Residuals:                     998   BIC:                                      2909.\n",
       "Df Model:                           2                                                  \n",
       "Covariance Type:            nonrobust                                                  \n",
       "==============================================================================\n",
       "                 coef    std err          t      P>|t|      [0.025      0.975]\n",
       "------------------------------------------------------------------------------\n",
       "x1             1.1583      0.026     45.081      0.000       1.108       1.209\n",
       "x2             4.9857      0.060     83.549      0.000       4.869       5.103\n",
       "==============================================================================\n",
       "Omnibus:                        3.556   Durbin-Watson:                   1.922\n",
       "Prob(Omnibus):                  0.169   Jarque-Bera (JB):                4.061\n",
       "Skew:                           0.000   Prob(JB):                        0.131\n",
       "Kurtosis:                       3.312   Cond. No.                         2.32\n",
       "==============================================================================\n",
       "\n",
       "Notes:\n",
       "[1] R² is computed without centering (uncentered) since the model does not contain a constant.\n",
       "[2] Standard Errors assume that the covariance matrix of the errors is correctly specified.\n",
       "\"\"\""
      ]
     },
     "execution_count": 10,
     "metadata": {},
     "output_type": "execute_result"
    }
   ],
   "source": [
    "model = OLS(np.asarray(df[outcome]), np.asarray(df[[common_cause, treatment]], dtype=np.float64))\n",
    "result = model.fit()\n",
    "result.summary()"
   ]
  }
 ],
 "metadata": {
  "kernelspec": {
   "display_name": "Python 3 (ipykernel)",
   "language": "python",
   "name": "python3"
  },
  "language_info": {
   "codemirror_mode": {
    "name": "ipython",
    "version": 3
   },
   "file_extension": ".py",
   "mimetype": "text/x-python",
   "name": "python",
   "nbconvert_exporter": "python",
   "pygments_lexer": "ipython3",
   "version": "3.9.23"
  },
  "toc": {
   "base_numbering": 1,
   "nav_menu": {},
   "number_sections": false,
   "sideBar": true,
   "skip_h1_title": true,
   "title_cell": "Table of Contents",
   "title_sidebar": "Contents",
   "toc_cell": false,
   "toc_position": {},
   "toc_section_display": true,
   "toc_window_display": false
  }
 },
 "nbformat": 4,
 "nbformat_minor": 4
}
