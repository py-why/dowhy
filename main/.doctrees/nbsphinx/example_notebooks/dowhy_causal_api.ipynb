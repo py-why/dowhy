{
 "cells": [
  {
   "cell_type": "markdown",
   "metadata": {},
   "source": [
    "# Demo for the DoWhy causal API\n",
    "We show a simple example of adding a causal extension to any dataframe. "
   ]
  },
  {
   "cell_type": "code",
   "execution_count": 1,
   "metadata": {
    "execution": {
     "iopub.execute_input": "2025-06-09T16:38:11.323961Z",
     "iopub.status.busy": "2025-06-09T16:38:11.323755Z",
     "iopub.status.idle": "2025-06-09T16:38:12.756317Z",
     "shell.execute_reply": "2025-06-09T16:38:12.755706Z"
    }
   },
   "outputs": [],
   "source": [
    "import dowhy.datasets\n",
    "import dowhy.api\n",
    "from dowhy.graph import build_graph_from_str\n",
    "\n",
    "import numpy as np\n",
    "import pandas as pd\n",
    "\n",
    "from statsmodels.api import OLS"
   ]
  },
  {
   "cell_type": "code",
   "execution_count": 2,
   "metadata": {
    "execution": {
     "iopub.execute_input": "2025-06-09T16:38:12.758682Z",
     "iopub.status.busy": "2025-06-09T16:38:12.758327Z",
     "iopub.status.idle": "2025-06-09T16:38:12.795154Z",
     "shell.execute_reply": "2025-06-09T16:38:12.794605Z"
    }
   },
   "outputs": [
    {
     "data": {
      "text/html": [
       "<div>\n",
       "<style scoped>\n",
       "    .dataframe tbody tr th:only-of-type {\n",
       "        vertical-align: middle;\n",
       "    }\n",
       "\n",
       "    .dataframe tbody tr th {\n",
       "        vertical-align: top;\n",
       "    }\n",
       "\n",
       "    .dataframe thead th {\n",
       "        text-align: right;\n",
       "    }\n",
       "</style>\n",
       "<table border=\"1\" class=\"dataframe\">\n",
       "  <thead>\n",
       "    <tr style=\"text-align: right;\">\n",
       "      <th></th>\n",
       "      <th>W0</th>\n",
       "      <th>v0</th>\n",
       "      <th>y</th>\n",
       "    </tr>\n",
       "  </thead>\n",
       "  <tbody>\n",
       "    <tr>\n",
       "      <th>0</th>\n",
       "      <td>0.785062</td>\n",
       "      <td>False</td>\n",
       "      <td>-1.236677</td>\n",
       "    </tr>\n",
       "    <tr>\n",
       "      <th>1</th>\n",
       "      <td>-1.574046</td>\n",
       "      <td>False</td>\n",
       "      <td>-1.917252</td>\n",
       "    </tr>\n",
       "    <tr>\n",
       "      <th>2</th>\n",
       "      <td>1.528382</td>\n",
       "      <td>True</td>\n",
       "      <td>5.802282</td>\n",
       "    </tr>\n",
       "    <tr>\n",
       "      <th>3</th>\n",
       "      <td>0.395196</td>\n",
       "      <td>True</td>\n",
       "      <td>6.070205</td>\n",
       "    </tr>\n",
       "    <tr>\n",
       "      <th>4</th>\n",
       "      <td>0.613484</td>\n",
       "      <td>True</td>\n",
       "      <td>5.988008</td>\n",
       "    </tr>\n",
       "    <tr>\n",
       "      <th>...</th>\n",
       "      <td>...</td>\n",
       "      <td>...</td>\n",
       "      <td>...</td>\n",
       "    </tr>\n",
       "    <tr>\n",
       "      <th>995</th>\n",
       "      <td>1.246889</td>\n",
       "      <td>True</td>\n",
       "      <td>3.999096</td>\n",
       "    </tr>\n",
       "    <tr>\n",
       "      <th>996</th>\n",
       "      <td>0.339738</td>\n",
       "      <td>True</td>\n",
       "      <td>5.404317</td>\n",
       "    </tr>\n",
       "    <tr>\n",
       "      <th>997</th>\n",
       "      <td>2.548132</td>\n",
       "      <td>True</td>\n",
       "      <td>8.077662</td>\n",
       "    </tr>\n",
       "    <tr>\n",
       "      <th>998</th>\n",
       "      <td>0.314423</td>\n",
       "      <td>True</td>\n",
       "      <td>4.519325</td>\n",
       "    </tr>\n",
       "    <tr>\n",
       "      <th>999</th>\n",
       "      <td>0.853484</td>\n",
       "      <td>False</td>\n",
       "      <td>-0.373609</td>\n",
       "    </tr>\n",
       "  </tbody>\n",
       "</table>\n",
       "<p>1000 rows × 3 columns</p>\n",
       "</div>"
      ],
      "text/plain": [
       "           W0     v0         y\n",
       "0    0.785062  False -1.236677\n",
       "1   -1.574046  False -1.917252\n",
       "2    1.528382   True  5.802282\n",
       "3    0.395196   True  6.070205\n",
       "4    0.613484   True  5.988008\n",
       "..        ...    ...       ...\n",
       "995  1.246889   True  3.999096\n",
       "996  0.339738   True  5.404317\n",
       "997  2.548132   True  8.077662\n",
       "998  0.314423   True  4.519325\n",
       "999  0.853484  False -0.373609\n",
       "\n",
       "[1000 rows x 3 columns]"
      ]
     },
     "execution_count": 2,
     "metadata": {},
     "output_type": "execute_result"
    }
   ],
   "source": [
    "data = dowhy.datasets.linear_dataset(beta=5,\n",
    "        num_common_causes=1,\n",
    "        num_instruments = 0,\n",
    "        num_samples=1000,\n",
    "        treatment_is_binary=True)\n",
    "df = data['df']\n",
    "df['y'] = df['y'] + np.random.normal(size=len(df)) # Adding noise to data. Without noise, the variance in Y|X, Z is zero, and mcmc fails.\n",
    "nx_graph = build_graph_from_str(data[\"dot_graph\"])\n",
    "\n",
    "treatment= data[\"treatment_name\"][0]\n",
    "outcome = data[\"outcome_name\"][0]\n",
    "common_cause = data[\"common_causes_names\"][0]\n",
    "df"
   ]
  },
  {
   "cell_type": "code",
   "execution_count": 3,
   "metadata": {
    "execution": {
     "iopub.execute_input": "2025-06-09T16:38:12.796972Z",
     "iopub.status.busy": "2025-06-09T16:38:12.796758Z",
     "iopub.status.idle": "2025-06-09T16:38:12.952156Z",
     "shell.execute_reply": "2025-06-09T16:38:12.951468Z"
    },
    "scrolled": true
   },
   "outputs": [
    {
     "data": {
      "text/plain": [
       "<Axes: xlabel='v0'>"
      ]
     },
     "execution_count": 3,
     "metadata": {},
     "output_type": "execute_result"
    },
    {
     "data": {
      "image/png": "[encoded data removed]",
      "text/plain": [
       "<Figure size 640x480 with 1 Axes>"
      ]
     },
     "metadata": {},
     "output_type": "display_data"
    }
   ],
   "source": [
    "# data['df'] is just a regular pandas.DataFrame\n",
    "df.causal.do(x=treatment,\n",
    "             variable_types={treatment: 'b', outcome: 'c', common_cause: 'c'},\n",
    "             outcome=outcome,\n",
    "             common_causes=[common_cause],\n",
    "            ).groupby(treatment).mean().plot(y=outcome, kind='bar')"
   ]
  },
  {
   "cell_type": "code",
   "execution_count": 4,
   "metadata": {
    "execution": {
     "iopub.execute_input": "2025-06-09T16:38:12.954234Z",
     "iopub.status.busy": "2025-06-09T16:38:12.954037Z",
     "iopub.status.idle": "2025-06-09T16:38:13.062701Z",
     "shell.execute_reply": "2025-06-09T16:38:13.062079Z"
    }
   },
   "outputs": [
    {
     "data": {
      "text/plain": [
       "<Axes: xlabel='v0'>"
      ]
     },
     "execution_count": 4,
     "metadata": {},
     "output_type": "execute_result"
    },
    {
     "data": {
      "image/png": "[encoded data removed]",
      "text/plain": [
       "<Figure size 640x480 with 1 Axes>"
      ]
     },
     "metadata": {},
     "output_type": "display_data"
    }
   ],
   "source": [
    "df.causal.do(x={treatment: 1}, \n",
    "              variable_types={treatment:'b', outcome: 'c', common_cause: 'c'}, \n",
    "              outcome=outcome,\n",
    "              method='weighting', \n",
    "              common_causes=[common_cause]\n",
    "              ).groupby(treatment).mean().plot(y=outcome, kind='bar')"
   ]
  },
  {
   "cell_type": "code",
   "execution_count": 5,
   "metadata": {
    "execution": {
     "iopub.execute_input": "2025-06-09T16:38:13.064652Z",
     "iopub.status.busy": "2025-06-09T16:38:13.064452Z",
     "iopub.status.idle": "2025-06-09T16:38:13.085274Z",
     "shell.execute_reply": "2025-06-09T16:38:13.084670Z"
    }
   },
   "outputs": [],
   "source": [
    "cdf_1 = df.causal.do(x={treatment: 1}, \n",
    "              variable_types={treatment: 'b', outcome: 'c', common_cause: 'c'}, \n",
    "              outcome=outcome, \n",
    "              graph=nx_graph\n",
    "              )\n",
    "\n",
    "cdf_0 = df.causal.do(x={treatment: 0}, \n",
    "              variable_types={treatment: 'b', outcome: 'c', common_cause: 'c'}, \n",
    "              outcome=outcome, \n",
    "              graph=nx_graph\n",
    "              )\n"
   ]
  },
  {
   "cell_type": "code",
   "execution_count": 6,
   "metadata": {
    "execution": {
     "iopub.execute_input": "2025-06-09T16:38:13.087126Z",
     "iopub.status.busy": "2025-06-09T16:38:13.086940Z",
     "iopub.status.idle": "2025-06-09T16:38:13.095738Z",
     "shell.execute_reply": "2025-06-09T16:38:13.095313Z"
    },
    "scrolled": true
   },
   "outputs": [
    {
     "data": {
      "text/html": [
       "<div>\n",
       "<style scoped>\n",
       "    .dataframe tbody tr th:only-of-type {\n",
       "        vertical-align: middle;\n",
       "    }\n",
       "\n",
       "    .dataframe tbody tr th {\n",
       "        vertical-align: top;\n",
       "    }\n",
       "\n",
       "    .dataframe thead th {\n",
       "        text-align: right;\n",
       "    }\n",
       "</style>\n",
       "<table border=\"1\" class=\"dataframe\">\n",
       "  <thead>\n",
       "    <tr style=\"text-align: right;\">\n",
       "      <th></th>\n",
       "      <th>W0</th>\n",
       "      <th>v0</th>\n",
       "      <th>y</th>\n",
       "      <th>propensity_score</th>\n",
       "      <th>weight</th>\n",
       "    </tr>\n",
       "  </thead>\n",
       "  <tbody>\n",
       "    <tr>\n",
       "      <th>0</th>\n",
       "      <td>1.252717</td>\n",
       "      <td>False</td>\n",
       "      <td>1.747716</td>\n",
       "      <td>0.036419</td>\n",
       "      <td>27.458182</td>\n",
       "    </tr>\n",
       "    <tr>\n",
       "      <th>1</th>\n",
       "      <td>1.402296</td>\n",
       "      <td>False</td>\n",
       "      <td>1.225915</td>\n",
       "      <td>0.025504</td>\n",
       "      <td>39.209914</td>\n",
       "    </tr>\n",
       "    <tr>\n",
       "      <th>2</th>\n",
       "      <td>0.279380</td>\n",
       "      <td>False</td>\n",
       "      <td>0.800666</td>\n",
       "      <td>0.292352</td>\n",
       "      <td>3.420535</td>\n",
       "    </tr>\n",
       "    <tr>\n",
       "      <th>3</th>\n",
       "      <td>0.818901</td>\n",
       "      <td>False</td>\n",
       "      <td>-0.535488</td>\n",
       "      <td>0.098888</td>\n",
       "      <td>10.112431</td>\n",
       "    </tr>\n",
       "    <tr>\n",
       "      <th>4</th>\n",
       "      <td>0.961814</td>\n",
       "      <td>False</td>\n",
       "      <td>0.985590</td>\n",
       "      <td>0.071705</td>\n",
       "      <td>13.946063</td>\n",
       "    </tr>\n",
       "    <tr>\n",
       "      <th>...</th>\n",
       "      <td>...</td>\n",
       "      <td>...</td>\n",
       "      <td>...</td>\n",
       "      <td>...</td>\n",
       "      <td>...</td>\n",
       "    </tr>\n",
       "    <tr>\n",
       "      <th>995</th>\n",
       "      <td>-0.359420</td>\n",
       "      <td>False</td>\n",
       "      <td>-0.292875</td>\n",
       "      <td>0.664988</td>\n",
       "      <td>1.503786</td>\n",
       "    </tr>\n",
       "    <tr>\n",
       "      <th>996</th>\n",
       "      <td>-0.190684</td>\n",
       "      <td>False</td>\n",
       "      <td>-0.135580</td>\n",
       "      <td>0.567339</td>\n",
       "      <td>1.762614</td>\n",
       "    </tr>\n",
       "    <tr>\n",
       "      <th>997</th>\n",
       "      <td>0.853484</td>\n",
       "      <td>False</td>\n",
       "      <td>-0.373609</td>\n",
       "      <td>0.091570</td>\n",
       "      <td>10.920611</td>\n",
       "    </tr>\n",
       "    <tr>\n",
       "      <th>998</th>\n",
       "      <td>0.317222</td>\n",
       "      <td>False</td>\n",
       "      <td>1.237710</td>\n",
       "      <td>0.273494</td>\n",
       "      <td>3.656391</td>\n",
       "    </tr>\n",
       "    <tr>\n",
       "      <th>999</th>\n",
       "      <td>-0.131139</td>\n",
       "      <td>False</td>\n",
       "      <td>1.255361</td>\n",
       "      <td>0.531133</td>\n",
       "      <td>1.882767</td>\n",
       "    </tr>\n",
       "  </tbody>\n",
       "</table>\n",
       "<p>1000 rows × 5 columns</p>\n",
       "</div>"
      ],
      "text/plain": [
       "           W0     v0         y  propensity_score     weight\n",
       "0    1.252717  False  1.747716          0.036419  27.458182\n",
       "1    1.402296  False  1.225915          0.025504  39.209914\n",
       "2    0.279380  False  0.800666          0.292352   3.420535\n",
       "3    0.818901  False -0.535488          0.098888  10.112431\n",
       "4    0.961814  False  0.985590          0.071705  13.946063\n",
       "..        ...    ...       ...               ...        ...\n",
       "995 -0.359420  False -0.292875          0.664988   1.503786\n",
       "996 -0.190684  False -0.135580          0.567339   1.762614\n",
       "997  0.853484  False -0.373609          0.091570  10.920611\n",
       "998  0.317222  False  1.237710          0.273494   3.656391\n",
       "999 -0.131139  False  1.255361          0.531133   1.882767\n",
       "\n",
       "[1000 rows x 5 columns]"
      ]
     },
     "execution_count": 6,
     "metadata": {},
     "output_type": "execute_result"
    }
   ],
   "source": [
    "cdf_0"
   ]
  },
  {
   "cell_type": "code",
   "execution_count": 7,
   "metadata": {
    "execution": {
     "iopub.execute_input": "2025-06-09T16:38:13.097434Z",
     "iopub.status.busy": "2025-06-09T16:38:13.097248Z",
     "iopub.status.idle": "2025-06-09T16:38:13.106268Z",
     "shell.execute_reply": "2025-06-09T16:38:13.105657Z"
    }
   },
   "outputs": [
    {
     "data": {
      "text/html": [
       "<div>\n",
       "<style scoped>\n",
       "    .dataframe tbody tr th:only-of-type {\n",
       "        vertical-align: middle;\n",
       "    }\n",
       "\n",
       "    .dataframe tbody tr th {\n",
       "        vertical-align: top;\n",
       "    }\n",
       "\n",
       "    .dataframe thead th {\n",
       "        text-align: right;\n",
       "    }\n",
       "</style>\n",
       "<table border=\"1\" class=\"dataframe\">\n",
       "  <thead>\n",
       "    <tr style=\"text-align: right;\">\n",
       "      <th></th>\n",
       "      <th>W0</th>\n",
       "      <th>v0</th>\n",
       "      <th>y</th>\n",
       "      <th>propensity_score</th>\n",
       "      <th>weight</th>\n",
       "    </tr>\n",
       "  </thead>\n",
       "  <tbody>\n",
       "    <tr>\n",
       "      <th>0</th>\n",
       "      <td>0.202116</td>\n",
       "      <td>True</td>\n",
       "      <td>4.203112</td>\n",
       "      <td>0.666888</td>\n",
       "      <td>1.499503</td>\n",
       "    </tr>\n",
       "    <tr>\n",
       "      <th>1</th>\n",
       "      <td>-0.748466</td>\n",
       "      <td>True</td>\n",
       "      <td>3.293356</td>\n",
       "      <td>0.162258</td>\n",
       "      <td>6.163039</td>\n",
       "    </tr>\n",
       "    <tr>\n",
       "      <th>2</th>\n",
       "      <td>-0.017074</td>\n",
       "      <td>True</td>\n",
       "      <td>5.148445</td>\n",
       "      <td>0.538815</td>\n",
       "      <td>1.855924</td>\n",
       "    </tr>\n",
       "    <tr>\n",
       "      <th>3</th>\n",
       "      <td>0.284791</td>\n",
       "      <td>True</td>\n",
       "      <td>6.081736</td>\n",
       "      <td>0.710391</td>\n",
       "      <td>1.407676</td>\n",
       "    </tr>\n",
       "    <tr>\n",
       "      <th>4</th>\n",
       "      <td>0.960532</td>\n",
       "      <td>True</td>\n",
       "      <td>5.546058</td>\n",
       "      <td>0.928085</td>\n",
       "      <td>1.077487</td>\n",
       "    </tr>\n",
       "    <tr>\n",
       "      <th>...</th>\n",
       "      <td>...</td>\n",
       "      <td>...</td>\n",
       "      <td>...</td>\n",
       "      <td>...</td>\n",
       "      <td>...</td>\n",
       "    </tr>\n",
       "    <tr>\n",
       "      <th>995</th>\n",
       "      <td>1.030747</td>\n",
       "      <td>True</td>\n",
       "      <td>5.791906</td>\n",
       "      <td>0.938783</td>\n",
       "      <td>1.065209</td>\n",
       "    </tr>\n",
       "    <tr>\n",
       "      <th>996</th>\n",
       "      <td>1.539835</td>\n",
       "      <td>True</td>\n",
       "      <td>6.798056</td>\n",
       "      <td>0.981676</td>\n",
       "      <td>1.018666</td>\n",
       "    </tr>\n",
       "    <tr>\n",
       "      <th>997</th>\n",
       "      <td>3.268864</td>\n",
       "      <td>True</td>\n",
       "      <td>8.304323</td>\n",
       "      <td>0.999733</td>\n",
       "      <td>1.000267</td>\n",
       "    </tr>\n",
       "    <tr>\n",
       "      <th>998</th>\n",
       "      <td>1.939459</td>\n",
       "      <td>True</td>\n",
       "      <td>7.374078</td>\n",
       "      <td>0.993056</td>\n",
       "      <td>1.006992</td>\n",
       "    </tr>\n",
       "    <tr>\n",
       "      <th>999</th>\n",
       "      <td>-0.059995</td>\n",
       "      <td>True</td>\n",
       "      <td>5.927821</td>\n",
       "      <td>0.512525</td>\n",
       "      <td>1.951124</td>\n",
       "    </tr>\n",
       "  </tbody>\n",
       "</table>\n",
       "<p>1000 rows × 5 columns</p>\n",
       "</div>"
      ],
      "text/plain": [
       "           W0    v0         y  propensity_score    weight\n",
       "0    0.202116  True  4.203112          0.666888  1.499503\n",
       "1   -0.748466  True  3.293356          0.162258  6.163039\n",
       "2   -0.017074  True  5.148445          0.538815  1.855924\n",
       "3    0.284791  True  6.081736          0.710391  1.407676\n",
       "4    0.960532  True  5.546058          0.928085  1.077487\n",
       "..        ...   ...       ...               ...       ...\n",
       "995  1.030747  True  5.791906          0.938783  1.065209\n",
       "996  1.539835  True  6.798056          0.981676  1.018666\n",
       "997  3.268864  True  8.304323          0.999733  1.000267\n",
       "998  1.939459  True  7.374078          0.993056  1.006992\n",
       "999 -0.059995  True  5.927821          0.512525  1.951124\n",
       "\n",
       "[1000 rows x 5 columns]"
      ]
     },
     "execution_count": 7,
     "metadata": {},
     "output_type": "execute_result"
    }
   ],
   "source": [
    "cdf_1"
   ]
  },
  {
   "cell_type": "markdown",
   "metadata": {},
   "source": [
    "## Comparing the estimate to Linear Regression\n",
    "First, estimating the effect using the causal data frame, and the 95% confidence interval."
   ]
  },
  {
   "cell_type": "code",
   "execution_count": 8,
   "metadata": {
    "execution": {
     "iopub.execute_input": "2025-06-09T16:38:13.108236Z",
     "iopub.status.busy": "2025-06-09T16:38:13.107898Z",
     "iopub.status.idle": "2025-06-09T16:38:13.154866Z",
     "shell.execute_reply": "2025-06-09T16:38:13.154236Z"
    }
   },
   "outputs": [
    {
     "data": {
      "image/png": "[encoded data removed]",
      "text/latex": [
       "$\\displaystyle 5.06537022161859$"
      ],
      "text/plain": [
       "5.065370221618592"
      ]
     },
     "execution_count": 8,
     "metadata": {},
     "output_type": "execute_result"
    }
   ],
   "source": [
    "(cdf_1['y'] - cdf_0['y']).mean()"
   ]
  },
  {
   "cell_type": "code",
   "execution_count": 9,
   "metadata": {
    "execution": {
     "iopub.execute_input": "2025-06-09T16:38:13.156668Z",
     "iopub.status.busy": "2025-06-09T16:38:13.156317Z",
     "iopub.status.idle": "2025-06-09T16:38:13.171972Z",
     "shell.execute_reply": "2025-06-09T16:38:13.171443Z"
    }
   },
   "outputs": [
    {
     "data": {
      "image/png": "[encoded data removed]",
      "text/latex": [
       "$\\displaystyle 0.106338763063292$"
      ],
      "text/plain": [
       "0.10633876306329161"
      ]
     },
     "execution_count": 9,
     "metadata": {},
     "output_type": "execute_result"
    }
   ],
   "source": [
    "1.96*(cdf_1['y'] - cdf_0['y']).std() / np.sqrt(len(df))"
   ]
  },
  {
   "cell_type": "markdown",
   "metadata": {},
   "source": [
    "Comparing to the estimate from OLS."
   ]
  },
  {
   "cell_type": "code",
   "execution_count": 10,
   "metadata": {
    "execution": {
     "iopub.execute_input": "2025-06-09T16:38:13.173759Z",
     "iopub.status.busy": "2025-06-09T16:38:13.173408Z",
     "iopub.status.idle": "2025-06-09T16:38:13.189978Z",
     "shell.execute_reply": "2025-06-09T16:38:13.189349Z"
    }
   },
   "outputs": [
    {
     "data": {
      "text/html": [
       "<table class=\"simpletable\">\n",
       "<caption>OLS Regression Results</caption>\n",
       "<tr>\n",
       "  <th>Dep. Variable:</th>            <td>y</td>        <th>  R-squared (uncentered):</th>      <td>   0.962</td> \n",
       "</tr>\n",
       "<tr>\n",
       "  <th>Model:</th>                   <td>OLS</td>       <th>  Adj. R-squared (uncentered):</th> <td>   0.962</td> \n",
       "</tr>\n",
       "<tr>\n",
       "  <th>Method:</th>             <td>Least Squares</td>  <th>  F-statistic:       </th>          <td>1.252e+04</td>\n",
       "</tr>\n",
       "<tr>\n",
       "  <th>Date:</th>             <td>Mon, 09 Jun 2025</td> <th>  Prob (F-statistic):</th>           <td>  0.00</td>  \n",
       "</tr>\n",
       "<tr>\n",
       "  <th>Time:</th>                 <td>16:38:13</td>     <th>  Log-Likelihood:    </th>          <td> -1401.7</td> \n",
       "</tr>\n",
       "<tr>\n",
       "  <th>No. Observations:</th>      <td>  1000</td>      <th>  AIC:               </th>          <td>   2807.</td> \n",
       "</tr>\n",
       "<tr>\n",
       "  <th>Df Residuals:</th>          <td>   998</td>      <th>  BIC:               </th>          <td>   2817.</td> \n",
       "</tr>\n",
       "<tr>\n",
       "  <th>Df Model:</th>              <td>     2</td>      <th>                     </th>              <td> </td>    \n",
       "</tr>\n",
       "<tr>\n",
       "  <th>Covariance Type:</th>      <td>nonrobust</td>    <th>                     </th>              <td> </td>    \n",
       "</tr>\n",
       "</table>\n",
       "<table class=\"simpletable\">\n",
       "<tr>\n",
       "   <td></td>     <th>coef</th>     <th>std err</th>      <th>t</th>      <th>P>|t|</th>  <th>[0.025</th>    <th>0.975]</th>  \n",
       "</tr>\n",
       "<tr>\n",
       "  <th>x1</th> <td>    0.7650</td> <td>    0.038</td> <td>   20.122</td> <td> 0.000</td> <td>    0.690</td> <td>    0.840</td>\n",
       "</tr>\n",
       "<tr>\n",
       "  <th>x2</th> <td>    5.0256</td> <td>    0.053</td> <td>   94.569</td> <td> 0.000</td> <td>    4.921</td> <td>    5.130</td>\n",
       "</tr>\n",
       "</table>\n",
       "<table class=\"simpletable\">\n",
       "<tr>\n",
       "  <th>Omnibus:</th>       <td> 3.406</td> <th>  Durbin-Watson:     </th> <td>   1.986</td>\n",
       "</tr>\n",
       "<tr>\n",
       "  <th>Prob(Omnibus):</th> <td> 0.182</td> <th>  Jarque-Bera (JB):  </th> <td>   3.566</td>\n",
       "</tr>\n",
       "<tr>\n",
       "  <th>Skew:</th>          <td> 0.070</td> <th>  Prob(JB):          </th> <td>   0.168</td>\n",
       "</tr>\n",
       "<tr>\n",
       "  <th>Kurtosis:</th>      <td> 3.257</td> <th>  Cond. No.          </th> <td>    2.67</td>\n",
       "</tr>\n",
       "</table><br/><br/>Notes:<br/>[1] R² is computed without centering (uncentered) since the model does not contain a constant.<br/>[2] Standard Errors assume that the covariance matrix of the errors is correctly specified."
      ],
      "text/latex": [
       "\\begin{center}\n",
       "\\begin{tabular}{lclc}\n",
       "\\toprule\n",
       "\\textbf{Dep. Variable:}    &        y         & \\textbf{  R-squared (uncentered):}      &     0.962   \\\\\n",
       "\\textbf{Model:}            &       OLS        & \\textbf{  Adj. R-squared (uncentered):} &     0.962   \\\\\n",
       "\\textbf{Method:}           &  Least Squares   & \\textbf{  F-statistic:       }          & 1.252e+04   \\\\\n",
       "\\textbf{Date:}             & Mon, 09 Jun 2025 & \\textbf{  Prob (F-statistic):}          &     0.00    \\\\\n",
       "\\textbf{Time:}             &     16:38:13     & \\textbf{  Log-Likelihood:    }          &   -1401.7   \\\\\n",
       "\\textbf{No. Observations:} &        1000      & \\textbf{  AIC:               }          &     2807.   \\\\\n",
       "\\textbf{Df Residuals:}     &         998      & \\textbf{  BIC:               }          &     2817.   \\\\\n",
       "\\textbf{Df Model:}         &           2      & \\textbf{                     }          &             \\\\\n",
       "\\textbf{Covariance Type:}  &    nonrobust     & \\textbf{                     }          &             \\\\\n",
       "\\bottomrule\n",
       "\\end{tabular}\n",
       "\\begin{tabular}{lcccccc}\n",
       "            & \\textbf{coef} & \\textbf{std err} & \\textbf{t} & \\textbf{P$> |$t$|$} & \\textbf{[0.025} & \\textbf{0.975]}  \\\\\n",
       "\\midrule\n",
       "\\textbf{x1} &       0.7650  &        0.038     &    20.122  &         0.000        &        0.690    &        0.840     \\\\\n",
       "\\textbf{x2} &       5.0256  &        0.053     &    94.569  &         0.000        &        4.921    &        5.130     \\\\\n",
       "\\bottomrule\n",
       "\\end{tabular}\n",
       "\\begin{tabular}{lclc}\n",
       "\\textbf{Omnibus:}       &  3.406 & \\textbf{  Durbin-Watson:     } &    1.986  \\\\\n",
       "\\textbf{Prob(Omnibus):} &  0.182 & \\textbf{  Jarque-Bera (JB):  } &    3.566  \\\\\n",
       "\\textbf{Skew:}          &  0.070 & \\textbf{  Prob(JB):          } &    0.168  \\\\\n",
       "\\textbf{Kurtosis:}      &  3.257 & \\textbf{  Cond. No.          } &     2.67  \\\\\n",
       "\\bottomrule\n",
       "\\end{tabular}\n",
       "%\\caption{OLS Regression Results}\n",
       "\\end{center}\n",
       "\n",
       "Notes: \\newline\n",
       " [1] R² is computed without centering (uncentered) since the model does not contain a constant. \\newline\n",
       " [2] Standard Errors assume that the covariance matrix of the errors is correctly specified."
      ],
      "text/plain": [
       "<class 'statsmodels.iolib.summary.Summary'>\n",
       "\"\"\"\n",
       "                                 OLS Regression Results                                \n",
       "=======================================================================================\n",
       "Dep. Variable:                      y   R-squared (uncentered):                   0.962\n",
       "Model:                            OLS   Adj. R-squared (uncentered):              0.962\n",
       "Method:                 Least Squares   F-statistic:                          1.252e+04\n",
       "Date:                Mon, 09 Jun 2025   Prob (F-statistic):                        0.00\n",
       "Time:                        16:38:13   Log-Likelihood:                         -1401.7\n",
       "No. Observations:                1000   AIC:                                      2807.\n",
       "Df Residuals:                     998   BIC:                                      2817.\n",
       "Df Model:                           2                                                  \n",
       "Covariance Type:            nonrobust                                                  \n",
       "==============================================================================\n",
       "                 coef    std err          t      P>|t|      [0.025      0.975]\n",
       "------------------------------------------------------------------------------\n",
       "x1             0.7650      0.038     20.122      0.000       0.690       0.840\n",
       "x2             5.0256      0.053     94.569      0.000       4.921       5.130\n",
       "==============================================================================\n",
       "Omnibus:                        3.406   Durbin-Watson:                   1.986\n",
       "Prob(Omnibus):                  0.182   Jarque-Bera (JB):                3.566\n",
       "Skew:                           0.070   Prob(JB):                        0.168\n",
       "Kurtosis:                       3.257   Cond. No.                         2.67\n",
       "==============================================================================\n",
       "\n",
       "Notes:\n",
       "[1] R² is computed without centering (uncentered) since the model does not contain a constant.\n",
       "[2] Standard Errors assume that the covariance matrix of the errors is correctly specified.\n",
       "\"\"\""
      ]
     },
     "execution_count": 10,
     "metadata": {},
     "output_type": "execute_result"
    }
   ],
   "source": [
    "model = OLS(np.asarray(df[outcome]), np.asarray(df[[common_cause, treatment]], dtype=np.float64))\n",
    "result = model.fit()\n",
    "result.summary()"
   ]
  }
 ],
 "metadata": {
  "kernelspec": {
   "display_name": "Python 3 (ipykernel)",
   "language": "python",
   "name": "python3"
  },
  "language_info": {
   "codemirror_mode": {
    "name": "ipython",
    "version": 3
   },
   "file_extension": ".py",
   "mimetype": "text/x-python",
   "name": "python",
   "nbconvert_exporter": "python",
   "pygments_lexer": "ipython3",
   "version": "3.8.10"
  },
  "toc": {
   "base_numbering": 1,
   "nav_menu": {},
   "number_sections": false,
   "sideBar": true,
   "skip_h1_title": true,
   "title_cell": "Table of Contents",
   "title_sidebar": "Contents",
   "toc_cell": false,
   "toc_position": {},
   "toc_section_display": true,
   "toc_window_display": false
  }
 },
 "nbformat": 4,
 "nbformat_minor": 4
}
