{
 "cells": [
  {
   "cell_type": "markdown",
   "metadata": {},
   "source": [
    "# Demo for the DoWhy causal API\n",
    "We show a simple example of adding a causal extension to any dataframe. "
   ]
  },
  {
   "cell_type": "code",
   "execution_count": 1,
   "metadata": {
    "execution": {
     "iopub.execute_input": "2025-06-10T16:55:57.018613Z",
     "iopub.status.busy": "2025-06-10T16:55:57.018419Z",
     "iopub.status.idle": "2025-06-10T16:55:58.489628Z",
     "shell.execute_reply": "2025-06-10T16:55:58.489020Z"
    }
   },
   "outputs": [],
   "source": [
    "import dowhy.datasets\n",
    "import dowhy.api\n",
    "from dowhy.graph import build_graph_from_str\n",
    "\n",
    "import numpy as np\n",
    "import pandas as pd\n",
    "\n",
    "from statsmodels.api import OLS"
   ]
  },
  {
   "cell_type": "code",
   "execution_count": 2,
   "metadata": {
    "execution": {
     "iopub.execute_input": "2025-06-10T16:55:58.491996Z",
     "iopub.status.busy": "2025-06-10T16:55:58.491647Z",
     "iopub.status.idle": "2025-06-10T16:55:58.533085Z",
     "shell.execute_reply": "2025-06-10T16:55:58.532553Z"
    }
   },
   "outputs": [
    {
     "data": {
      "text/html": [
       "<div>\n",
       "<style scoped>\n",
       "    .dataframe tbody tr th:only-of-type {\n",
       "        vertical-align: middle;\n",
       "    }\n",
       "\n",
       "    .dataframe tbody tr th {\n",
       "        vertical-align: top;\n",
       "    }\n",
       "\n",
       "    .dataframe thead th {\n",
       "        text-align: right;\n",
       "    }\n",
       "</style>\n",
       "<table border=\"1\" class=\"dataframe\">\n",
       "  <thead>\n",
       "    <tr style=\"text-align: right;\">\n",
       "      <th></th>\n",
       "      <th>W0</th>\n",
       "      <th>v0</th>\n",
       "      <th>y</th>\n",
       "    </tr>\n",
       "  </thead>\n",
       "  <tbody>\n",
       "    <tr>\n",
       "      <th>0</th>\n",
       "      <td>-0.781891</td>\n",
       "      <td>False</td>\n",
       "      <td>0.387390</td>\n",
       "    </tr>\n",
       "    <tr>\n",
       "      <th>1</th>\n",
       "      <td>0.870782</td>\n",
       "      <td>False</td>\n",
       "      <td>-1.129183</td>\n",
       "    </tr>\n",
       "    <tr>\n",
       "      <th>2</th>\n",
       "      <td>-0.093696</td>\n",
       "      <td>True</td>\n",
       "      <td>7.159128</td>\n",
       "    </tr>\n",
       "    <tr>\n",
       "      <th>3</th>\n",
       "      <td>0.351093</td>\n",
       "      <td>True</td>\n",
       "      <td>5.115276</td>\n",
       "    </tr>\n",
       "    <tr>\n",
       "      <th>4</th>\n",
       "      <td>1.265067</td>\n",
       "      <td>False</td>\n",
       "      <td>0.173113</td>\n",
       "    </tr>\n",
       "    <tr>\n",
       "      <th>...</th>\n",
       "      <td>...</td>\n",
       "      <td>...</td>\n",
       "      <td>...</td>\n",
       "    </tr>\n",
       "    <tr>\n",
       "      <th>995</th>\n",
       "      <td>-0.154945</td>\n",
       "      <td>False</td>\n",
       "      <td>-1.722020</td>\n",
       "    </tr>\n",
       "    <tr>\n",
       "      <th>996</th>\n",
       "      <td>1.345329</td>\n",
       "      <td>False</td>\n",
       "      <td>0.914354</td>\n",
       "    </tr>\n",
       "    <tr>\n",
       "      <th>997</th>\n",
       "      <td>0.580256</td>\n",
       "      <td>True</td>\n",
       "      <td>4.642386</td>\n",
       "    </tr>\n",
       "    <tr>\n",
       "      <th>998</th>\n",
       "      <td>0.952156</td>\n",
       "      <td>False</td>\n",
       "      <td>1.785742</td>\n",
       "    </tr>\n",
       "    <tr>\n",
       "      <th>999</th>\n",
       "      <td>-0.004864</td>\n",
       "      <td>False</td>\n",
       "      <td>0.524789</td>\n",
       "    </tr>\n",
       "  </tbody>\n",
       "</table>\n",
       "<p>1000 rows × 3 columns</p>\n",
       "</div>"
      ],
      "text/plain": [
       "           W0     v0         y\n",
       "0   -0.781891  False  0.387390\n",
       "1    0.870782  False -1.129183\n",
       "2   -0.093696   True  7.159128\n",
       "3    0.351093   True  5.115276\n",
       "4    1.265067  False  0.173113\n",
       "..        ...    ...       ...\n",
       "995 -0.154945  False -1.722020\n",
       "996  1.345329  False  0.914354\n",
       "997  0.580256   True  4.642386\n",
       "998  0.952156  False  1.785742\n",
       "999 -0.004864  False  0.524789\n",
       "\n",
       "[1000 rows x 3 columns]"
      ]
     },
     "execution_count": 2,
     "metadata": {},
     "output_type": "execute_result"
    }
   ],
   "source": [
    "data = dowhy.datasets.linear_dataset(beta=5,\n",
    "        num_common_causes=1,\n",
    "        num_instruments = 0,\n",
    "        num_samples=1000,\n",
    "        treatment_is_binary=True)\n",
    "df = data['df']\n",
    "df['y'] = df['y'] + np.random.normal(size=len(df)) # Adding noise to data. Without noise, the variance in Y|X, Z is zero, and mcmc fails.\n",
    "nx_graph = build_graph_from_str(data[\"dot_graph\"])\n",
    "\n",
    "treatment= data[\"treatment_name\"][0]\n",
    "outcome = data[\"outcome_name\"][0]\n",
    "common_cause = data[\"common_causes_names\"][0]\n",
    "df"
   ]
  },
  {
   "cell_type": "code",
   "execution_count": 3,
   "metadata": {
    "execution": {
     "iopub.execute_input": "2025-06-10T16:55:58.535048Z",
     "iopub.status.busy": "2025-06-10T16:55:58.534673Z",
     "iopub.status.idle": "2025-06-10T16:55:58.715780Z",
     "shell.execute_reply": "2025-06-10T16:55:58.715125Z"
    },
    "scrolled": true
   },
   "outputs": [
    {
     "data": {
      "text/plain": [
       "<Axes: xlabel='v0'>"
      ]
     },
     "execution_count": 3,
     "metadata": {},
     "output_type": "execute_result"
    },
    {
     "data": {
      "image/png": "[encoded data removed]",
      "text/plain": [
       "<Figure size 640x480 with 1 Axes>"
      ]
     },
     "metadata": {},
     "output_type": "display_data"
    }
   ],
   "source": [
    "# data['df'] is just a regular pandas.DataFrame\n",
    "df.causal.do(x=treatment,\n",
    "             variable_types={treatment: 'b', outcome: 'c', common_cause: 'c'},\n",
    "             outcome=outcome,\n",
    "             common_causes=[common_cause],\n",
    "            ).groupby(treatment).mean().plot(y=outcome, kind='bar')"
   ]
  },
  {
   "cell_type": "code",
   "execution_count": 4,
   "metadata": {
    "execution": {
     "iopub.execute_input": "2025-06-10T16:55:58.718003Z",
     "iopub.status.busy": "2025-06-10T16:55:58.717635Z",
     "iopub.status.idle": "2025-06-10T16:55:58.828521Z",
     "shell.execute_reply": "2025-06-10T16:55:58.827790Z"
    }
   },
   "outputs": [
    {
     "data": {
      "text/plain": [
       "<Axes: xlabel='v0'>"
      ]
     },
     "execution_count": 4,
     "metadata": {},
     "output_type": "execute_result"
    },
    {
     "data": {
      "image/png": "[encoded data removed]",
      "text/plain": [
       "<Figure size 640x480 with 1 Axes>"
      ]
     },
     "metadata": {},
     "output_type": "display_data"
    }
   ],
   "source": [
    "df.causal.do(x={treatment: 1}, \n",
    "              variable_types={treatment:'b', outcome: 'c', common_cause: 'c'}, \n",
    "              outcome=outcome,\n",
    "              method='weighting', \n",
    "              common_causes=[common_cause]\n",
    "              ).groupby(treatment).mean().plot(y=outcome, kind='bar')"
   ]
  },
  {
   "cell_type": "code",
   "execution_count": 5,
   "metadata": {
    "execution": {
     "iopub.execute_input": "2025-06-10T16:55:58.830608Z",
     "iopub.status.busy": "2025-06-10T16:55:58.830402Z",
     "iopub.status.idle": "2025-06-10T16:55:58.855327Z",
     "shell.execute_reply": "2025-06-10T16:55:58.854654Z"
    }
   },
   "outputs": [],
   "source": [
    "cdf_1 = df.causal.do(x={treatment: 1}, \n",
    "              variable_types={treatment: 'b', outcome: 'c', common_cause: 'c'}, \n",
    "              outcome=outcome, \n",
    "              graph=nx_graph\n",
    "              )\n",
    "\n",
    "cdf_0 = df.causal.do(x={treatment: 0}, \n",
    "              variable_types={treatment: 'b', outcome: 'c', common_cause: 'c'}, \n",
    "              outcome=outcome, \n",
    "              graph=nx_graph\n",
    "              )\n"
   ]
  },
  {
   "cell_type": "code",
   "execution_count": 6,
   "metadata": {
    "execution": {
     "iopub.execute_input": "2025-06-10T16:55:58.857296Z",
     "iopub.status.busy": "2025-06-10T16:55:58.857104Z",
     "iopub.status.idle": "2025-06-10T16:55:58.866265Z",
     "shell.execute_reply": "2025-06-10T16:55:58.865739Z"
    },
    "scrolled": true
   },
   "outputs": [
    {
     "data": {
      "text/html": [
       "<div>\n",
       "<style scoped>\n",
       "    .dataframe tbody tr th:only-of-type {\n",
       "        vertical-align: middle;\n",
       "    }\n",
       "\n",
       "    .dataframe tbody tr th {\n",
       "        vertical-align: top;\n",
       "    }\n",
       "\n",
       "    .dataframe thead th {\n",
       "        text-align: right;\n",
       "    }\n",
       "</style>\n",
       "<table border=\"1\" class=\"dataframe\">\n",
       "  <thead>\n",
       "    <tr style=\"text-align: right;\">\n",
       "      <th></th>\n",
       "      <th>W0</th>\n",
       "      <th>v0</th>\n",
       "      <th>y</th>\n",
       "      <th>propensity_score</th>\n",
       "      <th>weight</th>\n",
       "    </tr>\n",
       "  </thead>\n",
       "  <tbody>\n",
       "    <tr>\n",
       "      <th>0</th>\n",
       "      <td>-0.188278</td>\n",
       "      <td>False</td>\n",
       "      <td>1.290284</td>\n",
       "      <td>0.483839</td>\n",
       "      <td>2.066804</td>\n",
       "    </tr>\n",
       "    <tr>\n",
       "      <th>1</th>\n",
       "      <td>0.028908</td>\n",
       "      <td>False</td>\n",
       "      <td>1.607867</td>\n",
       "      <td>0.472148</td>\n",
       "      <td>2.117982</td>\n",
       "    </tr>\n",
       "    <tr>\n",
       "      <th>2</th>\n",
       "      <td>0.556427</td>\n",
       "      <td>False</td>\n",
       "      <td>-0.796434</td>\n",
       "      <td>0.443903</td>\n",
       "      <td>2.252744</td>\n",
       "    </tr>\n",
       "    <tr>\n",
       "      <th>3</th>\n",
       "      <td>2.459039</td>\n",
       "      <td>False</td>\n",
       "      <td>0.225063</td>\n",
       "      <td>0.346192</td>\n",
       "      <td>2.888574</td>\n",
       "    </tr>\n",
       "    <tr>\n",
       "      <th>4</th>\n",
       "      <td>-0.100968</td>\n",
       "      <td>False</td>\n",
       "      <td>-0.653425</td>\n",
       "      <td>0.479136</td>\n",
       "      <td>2.087090</td>\n",
       "    </tr>\n",
       "    <tr>\n",
       "      <th>...</th>\n",
       "      <td>...</td>\n",
       "      <td>...</td>\n",
       "      <td>...</td>\n",
       "      <td>...</td>\n",
       "      <td>...</td>\n",
       "    </tr>\n",
       "    <tr>\n",
       "      <th>995</th>\n",
       "      <td>0.910922</td>\n",
       "      <td>False</td>\n",
       "      <td>0.123965</td>\n",
       "      <td>0.425113</td>\n",
       "      <td>2.352315</td>\n",
       "    </tr>\n",
       "    <tr>\n",
       "      <th>996</th>\n",
       "      <td>1.041682</td>\n",
       "      <td>False</td>\n",
       "      <td>-0.095624</td>\n",
       "      <td>0.418233</td>\n",
       "      <td>2.391009</td>\n",
       "    </tr>\n",
       "    <tr>\n",
       "      <th>997</th>\n",
       "      <td>-0.322524</td>\n",
       "      <td>False</td>\n",
       "      <td>-0.690124</td>\n",
       "      <td>0.491075</td>\n",
       "      <td>2.036349</td>\n",
       "    </tr>\n",
       "    <tr>\n",
       "      <th>998</th>\n",
       "      <td>0.303651</td>\n",
       "      <td>False</td>\n",
       "      <td>0.244013</td>\n",
       "      <td>0.457403</td>\n",
       "      <td>2.186254</td>\n",
       "    </tr>\n",
       "    <tr>\n",
       "      <th>999</th>\n",
       "      <td>-2.134144</td>\n",
       "      <td>False</td>\n",
       "      <td>-0.111381</td>\n",
       "      <td>0.587866</td>\n",
       "      <td>1.701069</td>\n",
       "    </tr>\n",
       "  </tbody>\n",
       "</table>\n",
       "<p>1000 rows × 5 columns</p>\n",
       "</div>"
      ],
      "text/plain": [
       "           W0     v0         y  propensity_score    weight\n",
       "0   -0.188278  False  1.290284          0.483839  2.066804\n",
       "1    0.028908  False  1.607867          0.472148  2.117982\n",
       "2    0.556427  False -0.796434          0.443903  2.252744\n",
       "3    2.459039  False  0.225063          0.346192  2.888574\n",
       "4   -0.100968  False -0.653425          0.479136  2.087090\n",
       "..        ...    ...       ...               ...       ...\n",
       "995  0.910922  False  0.123965          0.425113  2.352315\n",
       "996  1.041682  False -0.095624          0.418233  2.391009\n",
       "997 -0.322524  False -0.690124          0.491075  2.036349\n",
       "998  0.303651  False  0.244013          0.457403  2.186254\n",
       "999 -2.134144  False -0.111381          0.587866  1.701069\n",
       "\n",
       "[1000 rows x 5 columns]"
      ]
     },
     "execution_count": 6,
     "metadata": {},
     "output_type": "execute_result"
    }
   ],
   "source": [
    "cdf_0"
   ]
  },
  {
   "cell_type": "code",
   "execution_count": 7,
   "metadata": {
    "execution": {
     "iopub.execute_input": "2025-06-10T16:55:58.867912Z",
     "iopub.status.busy": "2025-06-10T16:55:58.867710Z",
     "iopub.status.idle": "2025-06-10T16:55:58.876429Z",
     "shell.execute_reply": "2025-06-10T16:55:58.875848Z"
    }
   },
   "outputs": [
    {
     "data": {
      "text/html": [
       "<div>\n",
       "<style scoped>\n",
       "    .dataframe tbody tr th:only-of-type {\n",
       "        vertical-align: middle;\n",
       "    }\n",
       "\n",
       "    .dataframe tbody tr th {\n",
       "        vertical-align: top;\n",
       "    }\n",
       "\n",
       "    .dataframe thead th {\n",
       "        text-align: right;\n",
       "    }\n",
       "</style>\n",
       "<table border=\"1\" class=\"dataframe\">\n",
       "  <thead>\n",
       "    <tr style=\"text-align: right;\">\n",
       "      <th></th>\n",
       "      <th>W0</th>\n",
       "      <th>v0</th>\n",
       "      <th>y</th>\n",
       "      <th>propensity_score</th>\n",
       "      <th>weight</th>\n",
       "    </tr>\n",
       "  </thead>\n",
       "  <tbody>\n",
       "    <tr>\n",
       "      <th>0</th>\n",
       "      <td>-0.218669</td>\n",
       "      <td>True</td>\n",
       "      <td>4.191087</td>\n",
       "      <td>0.514524</td>\n",
       "      <td>1.943545</td>\n",
       "    </tr>\n",
       "    <tr>\n",
       "      <th>1</th>\n",
       "      <td>2.934446</td>\n",
       "      <td>True</td>\n",
       "      <td>6.346822</td>\n",
       "      <td>0.676644</td>\n",
       "      <td>1.477883</td>\n",
       "    </tr>\n",
       "    <tr>\n",
       "      <th>2</th>\n",
       "      <td>-0.634608</td>\n",
       "      <td>True</td>\n",
       "      <td>5.340087</td>\n",
       "      <td>0.492094</td>\n",
       "      <td>2.032133</td>\n",
       "    </tr>\n",
       "    <tr>\n",
       "      <th>3</th>\n",
       "      <td>0.352200</td>\n",
       "      <td>True</td>\n",
       "      <td>5.885853</td>\n",
       "      <td>0.545195</td>\n",
       "      <td>1.834206</td>\n",
       "    </tr>\n",
       "    <tr>\n",
       "      <th>4</th>\n",
       "      <td>-0.523283</td>\n",
       "      <td>True</td>\n",
       "      <td>3.163376</td>\n",
       "      <td>0.498098</td>\n",
       "      <td>2.007638</td>\n",
       "    </tr>\n",
       "    <tr>\n",
       "      <th>...</th>\n",
       "      <td>...</td>\n",
       "      <td>...</td>\n",
       "      <td>...</td>\n",
       "      <td>...</td>\n",
       "      <td>...</td>\n",
       "    </tr>\n",
       "    <tr>\n",
       "      <th>995</th>\n",
       "      <td>1.667235</td>\n",
       "      <td>True</td>\n",
       "      <td>5.699182</td>\n",
       "      <td>0.614198</td>\n",
       "      <td>1.628140</td>\n",
       "    </tr>\n",
       "    <tr>\n",
       "      <th>996</th>\n",
       "      <td>0.581155</td>\n",
       "      <td>True</td>\n",
       "      <td>3.079788</td>\n",
       "      <td>0.557414</td>\n",
       "      <td>1.794000</td>\n",
       "    </tr>\n",
       "    <tr>\n",
       "      <th>997</th>\n",
       "      <td>-0.388253</td>\n",
       "      <td>True</td>\n",
       "      <td>4.392206</td>\n",
       "      <td>0.505381</td>\n",
       "      <td>1.978707</td>\n",
       "    </tr>\n",
       "    <tr>\n",
       "      <th>998</th>\n",
       "      <td>0.984084</td>\n",
       "      <td>True</td>\n",
       "      <td>6.050734</td>\n",
       "      <td>0.578740</td>\n",
       "      <td>1.727892</td>\n",
       "    </tr>\n",
       "    <tr>\n",
       "      <th>999</th>\n",
       "      <td>-1.159907</td>\n",
       "      <td>True</td>\n",
       "      <td>6.541946</td>\n",
       "      <td>0.463823</td>\n",
       "      <td>2.155993</td>\n",
       "    </tr>\n",
       "  </tbody>\n",
       "</table>\n",
       "<p>1000 rows × 5 columns</p>\n",
       "</div>"
      ],
      "text/plain": [
       "           W0    v0         y  propensity_score    weight\n",
       "0   -0.218669  True  4.191087          0.514524  1.943545\n",
       "1    2.934446  True  6.346822          0.676644  1.477883\n",
       "2   -0.634608  True  5.340087          0.492094  2.032133\n",
       "3    0.352200  True  5.885853          0.545195  1.834206\n",
       "4   -0.523283  True  3.163376          0.498098  2.007638\n",
       "..        ...   ...       ...               ...       ...\n",
       "995  1.667235  True  5.699182          0.614198  1.628140\n",
       "996  0.581155  True  3.079788          0.557414  1.794000\n",
       "997 -0.388253  True  4.392206          0.505381  1.978707\n",
       "998  0.984084  True  6.050734          0.578740  1.727892\n",
       "999 -1.159907  True  6.541946          0.463823  2.155993\n",
       "\n",
       "[1000 rows x 5 columns]"
      ]
     },
     "execution_count": 7,
     "metadata": {},
     "output_type": "execute_result"
    }
   ],
   "source": [
    "cdf_1"
   ]
  },
  {
   "cell_type": "markdown",
   "metadata": {},
   "source": [
    "## Comparing the estimate to Linear Regression\n",
    "First, estimating the effect using the causal data frame, and the 95% confidence interval."
   ]
  },
  {
   "cell_type": "code",
   "execution_count": 8,
   "metadata": {
    "execution": {
     "iopub.execute_input": "2025-06-10T16:55:58.878268Z",
     "iopub.status.busy": "2025-06-10T16:55:58.877935Z",
     "iopub.status.idle": "2025-06-10T16:55:58.925016Z",
     "shell.execute_reply": "2025-06-10T16:55:58.924251Z"
    }
   },
   "outputs": [
    {
     "data": {
      "image/png": "[encoded data removed]",
      "text/latex": [
       "$\\displaystyle 5.06624641268751$"
      ],
      "text/plain": [
       "5.0662464126875095"
      ]
     },
     "execution_count": 8,
     "metadata": {},
     "output_type": "execute_result"
    }
   ],
   "source": [
    "(cdf_1['y'] - cdf_0['y']).mean()"
   ]
  },
  {
   "cell_type": "code",
   "execution_count": 9,
   "metadata": {
    "execution": {
     "iopub.execute_input": "2025-06-10T16:55:58.926892Z",
     "iopub.status.busy": "2025-06-10T16:55:58.926675Z",
     "iopub.status.idle": "2025-06-10T16:55:58.943341Z",
     "shell.execute_reply": "2025-06-10T16:55:58.942838Z"
    }
   },
   "outputs": [
    {
     "data": {
      "image/png": "[encoded data removed]",
      "text/latex": [
       "$\\displaystyle 0.0927052409804712$"
      ],
      "text/plain": [
       "0.09270524098047121"
      ]
     },
     "execution_count": 9,
     "metadata": {},
     "output_type": "execute_result"
    }
   ],
   "source": [
    "1.96*(cdf_1['y'] - cdf_0['y']).std() / np.sqrt(len(df))"
   ]
  },
  {
   "cell_type": "markdown",
   "metadata": {},
   "source": [
    "Comparing to the estimate from OLS."
   ]
  },
  {
   "cell_type": "code",
   "execution_count": 10,
   "metadata": {
    "execution": {
     "iopub.execute_input": "2025-06-10T16:55:58.945082Z",
     "iopub.status.busy": "2025-06-10T16:55:58.944893Z",
     "iopub.status.idle": "2025-06-10T16:55:58.962306Z",
     "shell.execute_reply": "2025-06-10T16:55:58.961746Z"
    }
   },
   "outputs": [
    {
     "data": {
      "text/html": [
       "<table class=\"simpletable\">\n",
       "<caption>OLS Regression Results</caption>\n",
       "<tr>\n",
       "  <th>Dep. Variable:</th>            <td>y</td>        <th>  R-squared (uncentered):</th>      <td>   0.936</td>\n",
       "</tr>\n",
       "<tr>\n",
       "  <th>Model:</th>                   <td>OLS</td>       <th>  Adj. R-squared (uncentered):</th> <td>   0.936</td>\n",
       "</tr>\n",
       "<tr>\n",
       "  <th>Method:</th>             <td>Least Squares</td>  <th>  F-statistic:       </th>          <td>   7359.</td>\n",
       "</tr>\n",
       "<tr>\n",
       "  <th>Date:</th>             <td>Tue, 10 Jun 2025</td> <th>  Prob (F-statistic):</th>           <td>  0.00</td> \n",
       "</tr>\n",
       "<tr>\n",
       "  <th>Time:</th>                 <td>16:55:58</td>     <th>  Log-Likelihood:    </th>          <td> -1415.9</td>\n",
       "</tr>\n",
       "<tr>\n",
       "  <th>No. Observations:</th>      <td>  1000</td>      <th>  AIC:               </th>          <td>   2836.</td>\n",
       "</tr>\n",
       "<tr>\n",
       "  <th>Df Residuals:</th>          <td>   998</td>      <th>  BIC:               </th>          <td>   2846.</td>\n",
       "</tr>\n",
       "<tr>\n",
       "  <th>Df Model:</th>              <td>     2</td>      <th>                     </th>              <td> </td>   \n",
       "</tr>\n",
       "<tr>\n",
       "  <th>Covariance Type:</th>      <td>nonrobust</td>    <th>                     </th>              <td> </td>   \n",
       "</tr>\n",
       "</table>\n",
       "<table class=\"simpletable\">\n",
       "<tr>\n",
       "   <td></td>     <th>coef</th>     <th>std err</th>      <th>t</th>      <th>P>|t|</th>  <th>[0.025</th>    <th>0.975]</th>  \n",
       "</tr>\n",
       "<tr>\n",
       "  <th>x1</th> <td>    0.3877</td> <td>    0.031</td> <td>   12.569</td> <td> 0.000</td> <td>    0.327</td> <td>    0.448</td>\n",
       "</tr>\n",
       "<tr>\n",
       "  <th>x2</th> <td>    5.0039</td> <td>    0.045</td> <td>  111.778</td> <td> 0.000</td> <td>    4.916</td> <td>    5.092</td>\n",
       "</tr>\n",
       "</table>\n",
       "<table class=\"simpletable\">\n",
       "<tr>\n",
       "  <th>Omnibus:</th>       <td> 2.260</td> <th>  Durbin-Watson:     </th> <td>   1.893</td>\n",
       "</tr>\n",
       "<tr>\n",
       "  <th>Prob(Omnibus):</th> <td> 0.323</td> <th>  Jarque-Bera (JB):  </th> <td>   2.211</td>\n",
       "</tr>\n",
       "<tr>\n",
       "  <th>Skew:</th>          <td>-0.070</td> <th>  Prob(JB):          </th> <td>   0.331</td>\n",
       "</tr>\n",
       "<tr>\n",
       "  <th>Kurtosis:</th>      <td> 2.818</td> <th>  Cond. No.          </th> <td>    1.62</td>\n",
       "</tr>\n",
       "</table><br/><br/>Notes:<br/>[1] R² is computed without centering (uncentered) since the model does not contain a constant.<br/>[2] Standard Errors assume that the covariance matrix of the errors is correctly specified."
      ],
      "text/latex": [
       "\\begin{center}\n",
       "\\begin{tabular}{lclc}\n",
       "\\toprule\n",
       "\\textbf{Dep. Variable:}    &        y         & \\textbf{  R-squared (uncentered):}      &     0.936   \\\\\n",
       "\\textbf{Model:}            &       OLS        & \\textbf{  Adj. R-squared (uncentered):} &     0.936   \\\\\n",
       "\\textbf{Method:}           &  Least Squares   & \\textbf{  F-statistic:       }          &     7359.   \\\\\n",
       "\\textbf{Date:}             & Tue, 10 Jun 2025 & \\textbf{  Prob (F-statistic):}          &     0.00    \\\\\n",
       "\\textbf{Time:}             &     16:55:58     & \\textbf{  Log-Likelihood:    }          &   -1415.9   \\\\\n",
       "\\textbf{No. Observations:} &        1000      & \\textbf{  AIC:               }          &     2836.   \\\\\n",
       "\\textbf{Df Residuals:}     &         998      & \\textbf{  BIC:               }          &     2846.   \\\\\n",
       "\\textbf{Df Model:}         &           2      & \\textbf{                     }          &             \\\\\n",
       "\\textbf{Covariance Type:}  &    nonrobust     & \\textbf{                     }          &             \\\\\n",
       "\\bottomrule\n",
       "\\end{tabular}\n",
       "\\begin{tabular}{lcccccc}\n",
       "            & \\textbf{coef} & \\textbf{std err} & \\textbf{t} & \\textbf{P$> |$t$|$} & \\textbf{[0.025} & \\textbf{0.975]}  \\\\\n",
       "\\midrule\n",
       "\\textbf{x1} &       0.3877  &        0.031     &    12.569  &         0.000        &        0.327    &        0.448     \\\\\n",
       "\\textbf{x2} &       5.0039  &        0.045     &   111.778  &         0.000        &        4.916    &        5.092     \\\\\n",
       "\\bottomrule\n",
       "\\end{tabular}\n",
       "\\begin{tabular}{lclc}\n",
       "\\textbf{Omnibus:}       &  2.260 & \\textbf{  Durbin-Watson:     } &    1.893  \\\\\n",
       "\\textbf{Prob(Omnibus):} &  0.323 & \\textbf{  Jarque-Bera (JB):  } &    2.211  \\\\\n",
       "\\textbf{Skew:}          & -0.070 & \\textbf{  Prob(JB):          } &    0.331  \\\\\n",
       "\\textbf{Kurtosis:}      &  2.818 & \\textbf{  Cond. No.          } &     1.62  \\\\\n",
       "\\bottomrule\n",
       "\\end{tabular}\n",
       "%\\caption{OLS Regression Results}\n",
       "\\end{center}\n",
       "\n",
       "Notes: \\newline\n",
       " [1] R² is computed without centering (uncentered) since the model does not contain a constant. \\newline\n",
       " [2] Standard Errors assume that the covariance matrix of the errors is correctly specified."
      ],
      "text/plain": [
       "<class 'statsmodels.iolib.summary.Summary'>\n",
       "\"\"\"\n",
       "                                 OLS Regression Results                                \n",
       "=======================================================================================\n",
       "Dep. Variable:                      y   R-squared (uncentered):                   0.936\n",
       "Model:                            OLS   Adj. R-squared (uncentered):              0.936\n",
       "Method:                 Least Squares   F-statistic:                              7359.\n",
       "Date:                Tue, 10 Jun 2025   Prob (F-statistic):                        0.00\n",
       "Time:                        16:55:58   Log-Likelihood:                         -1415.9\n",
       "No. Observations:                1000   AIC:                                      2836.\n",
       "Df Residuals:                     998   BIC:                                      2846.\n",
       "Df Model:                           2                                                  \n",
       "Covariance Type:            nonrobust                                                  \n",
       "==============================================================================\n",
       "                 coef    std err          t      P>|t|      [0.025      0.975]\n",
       "------------------------------------------------------------------------------\n",
       "x1             0.3877      0.031     12.569      0.000       0.327       0.448\n",
       "x2             5.0039      0.045    111.778      0.000       4.916       5.092\n",
       "==============================================================================\n",
       "Omnibus:                        2.260   Durbin-Watson:                   1.893\n",
       "Prob(Omnibus):                  0.323   Jarque-Bera (JB):                2.211\n",
       "Skew:                          -0.070   Prob(JB):                        0.331\n",
       "Kurtosis:                       2.818   Cond. No.                         1.62\n",
       "==============================================================================\n",
       "\n",
       "Notes:\n",
       "[1] R² is computed without centering (uncentered) since the model does not contain a constant.\n",
       "[2] Standard Errors assume that the covariance matrix of the errors is correctly specified.\n",
       "\"\"\""
      ]
     },
     "execution_count": 10,
     "metadata": {},
     "output_type": "execute_result"
    }
   ],
   "source": [
    "model = OLS(np.asarray(df[outcome]), np.asarray(df[[common_cause, treatment]], dtype=np.float64))\n",
    "result = model.fit()\n",
    "result.summary()"
   ]
  }
 ],
 "metadata": {
  "kernelspec": {
   "display_name": "Python 3 (ipykernel)",
   "language": "python",
   "name": "python3"
  },
  "language_info": {
   "codemirror_mode": {
    "name": "ipython",
    "version": 3
   },
   "file_extension": ".py",
   "mimetype": "text/x-python",
   "name": "python",
   "nbconvert_exporter": "python",
   "pygments_lexer": "ipython3",
   "version": "3.8.10"
  },
  "toc": {
   "base_numbering": 1,
   "nav_menu": {},
   "number_sections": false,
   "sideBar": true,
   "skip_h1_title": true,
   "title_cell": "Table of Contents",
   "title_sidebar": "Contents",
   "toc_cell": false,
   "toc_position": {},
   "toc_section_display": true,
   "toc_window_display": false
  }
 },
 "nbformat": 4,
 "nbformat_minor": 4
}
