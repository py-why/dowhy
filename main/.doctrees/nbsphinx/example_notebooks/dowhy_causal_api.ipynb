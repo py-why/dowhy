{
 "cells": [
  {
   "cell_type": "markdown",
   "metadata": {},
   "source": [
    "# Demo for the DoWhy causal API\n",
    "We show a simple example of adding a causal extension to any dataframe. "
   ]
  },
  {
   "cell_type": "code",
   "execution_count": 1,
   "metadata": {
    "execution": {
     "iopub.execute_input": "2025-08-08T17:42:51.019871Z",
     "iopub.status.busy": "2025-08-08T17:42:51.019648Z",
     "iopub.status.idle": "2025-08-08T17:42:52.716265Z",
     "shell.execute_reply": "2025-08-08T17:42:52.715550Z"
    }
   },
   "outputs": [],
   "source": [
    "import dowhy.datasets\n",
    "import dowhy.api\n",
    "from dowhy.graph import build_graph_from_str\n",
    "\n",
    "import numpy as np\n",
    "import pandas as pd\n",
    "\n",
    "from statsmodels.api import OLS"
   ]
  },
  {
   "cell_type": "code",
   "execution_count": 2,
   "metadata": {
    "execution": {
     "iopub.execute_input": "2025-08-08T17:42:52.718626Z",
     "iopub.status.busy": "2025-08-08T17:42:52.718313Z",
     "iopub.status.idle": "2025-08-08T17:42:52.764314Z",
     "shell.execute_reply": "2025-08-08T17:42:52.763670Z"
    }
   },
   "outputs": [
    {
     "data": {
      "text/html": [
       "<div>\n",
       "<style scoped>\n",
       "    .dataframe tbody tr th:only-of-type {\n",
       "        vertical-align: middle;\n",
       "    }\n",
       "\n",
       "    .dataframe tbody tr th {\n",
       "        vertical-align: top;\n",
       "    }\n",
       "\n",
       "    .dataframe thead th {\n",
       "        text-align: right;\n",
       "    }\n",
       "</style>\n",
       "<table border=\"1\" class=\"dataframe\">\n",
       "  <thead>\n",
       "    <tr style=\"text-align: right;\">\n",
       "      <th></th>\n",
       "      <th>W0</th>\n",
       "      <th>v0</th>\n",
       "      <th>y</th>\n",
       "    </tr>\n",
       "  </thead>\n",
       "  <tbody>\n",
       "    <tr>\n",
       "      <th>0</th>\n",
       "      <td>0.214655</td>\n",
       "      <td>False</td>\n",
       "      <td>2.941039</td>\n",
       "    </tr>\n",
       "    <tr>\n",
       "      <th>1</th>\n",
       "      <td>-0.004082</td>\n",
       "      <td>False</td>\n",
       "      <td>0.050453</td>\n",
       "    </tr>\n",
       "    <tr>\n",
       "      <th>2</th>\n",
       "      <td>0.962410</td>\n",
       "      <td>False</td>\n",
       "      <td>1.414290</td>\n",
       "    </tr>\n",
       "    <tr>\n",
       "      <th>3</th>\n",
       "      <td>0.304345</td>\n",
       "      <td>False</td>\n",
       "      <td>1.253008</td>\n",
       "    </tr>\n",
       "    <tr>\n",
       "      <th>4</th>\n",
       "      <td>1.400684</td>\n",
       "      <td>True</td>\n",
       "      <td>7.154105</td>\n",
       "    </tr>\n",
       "    <tr>\n",
       "      <th>...</th>\n",
       "      <td>...</td>\n",
       "      <td>...</td>\n",
       "      <td>...</td>\n",
       "    </tr>\n",
       "    <tr>\n",
       "      <th>995</th>\n",
       "      <td>-0.194272</td>\n",
       "      <td>True</td>\n",
       "      <td>4.938361</td>\n",
       "    </tr>\n",
       "    <tr>\n",
       "      <th>996</th>\n",
       "      <td>1.102220</td>\n",
       "      <td>False</td>\n",
       "      <td>1.719023</td>\n",
       "    </tr>\n",
       "    <tr>\n",
       "      <th>997</th>\n",
       "      <td>1.031414</td>\n",
       "      <td>True</td>\n",
       "      <td>8.734417</td>\n",
       "    </tr>\n",
       "    <tr>\n",
       "      <th>998</th>\n",
       "      <td>-0.154344</td>\n",
       "      <td>True</td>\n",
       "      <td>6.041996</td>\n",
       "    </tr>\n",
       "    <tr>\n",
       "      <th>999</th>\n",
       "      <td>-0.937008</td>\n",
       "      <td>False</td>\n",
       "      <td>-3.587860</td>\n",
       "    </tr>\n",
       "  </tbody>\n",
       "</table>\n",
       "<p>1000 rows × 3 columns</p>\n",
       "</div>"
      ],
      "text/plain": [
       "           W0     v0         y\n",
       "0    0.214655  False  2.941039\n",
       "1   -0.004082  False  0.050453\n",
       "2    0.962410  False  1.414290\n",
       "3    0.304345  False  1.253008\n",
       "4    1.400684   True  7.154105\n",
       "..        ...    ...       ...\n",
       "995 -0.194272   True  4.938361\n",
       "996  1.102220  False  1.719023\n",
       "997  1.031414   True  8.734417\n",
       "998 -0.154344   True  6.041996\n",
       "999 -0.937008  False -3.587860\n",
       "\n",
       "[1000 rows x 3 columns]"
      ]
     },
     "execution_count": 2,
     "metadata": {},
     "output_type": "execute_result"
    }
   ],
   "source": [
    "data = dowhy.datasets.linear_dataset(beta=5,\n",
    "        num_common_causes=1,\n",
    "        num_instruments = 0,\n",
    "        num_samples=1000,\n",
    "        treatment_is_binary=True)\n",
    "df = data['df']\n",
    "df['y'] = df['y'] + np.random.normal(size=len(df)) # Adding noise to data. Without noise, the variance in Y|X, Z is zero, and mcmc fails.\n",
    "nx_graph = build_graph_from_str(data[\"dot_graph\"])\n",
    "\n",
    "treatment= data[\"treatment_name\"][0]\n",
    "outcome = data[\"outcome_name\"][0]\n",
    "common_cause = data[\"common_causes_names\"][0]\n",
    "df"
   ]
  },
  {
   "cell_type": "code",
   "execution_count": 3,
   "metadata": {
    "execution": {
     "iopub.execute_input": "2025-08-08T17:42:52.766215Z",
     "iopub.status.busy": "2025-08-08T17:42:52.766013Z",
     "iopub.status.idle": "2025-08-08T17:42:53.010423Z",
     "shell.execute_reply": "2025-08-08T17:42:53.009716Z"
    },
    "scrolled": true
   },
   "outputs": [
    {
     "data": {
      "text/plain": [
       "<Axes: xlabel='v0'>"
      ]
     },
     "execution_count": 3,
     "metadata": {},
     "output_type": "execute_result"
    },
    {
     "data": {
      "image/png": "[encoded data removed]",
      "text/plain": [
       "<Figure size 640x480 with 1 Axes>"
      ]
     },
     "metadata": {},
     "output_type": "display_data"
    }
   ],
   "source": [
    "# data['df'] is just a regular pandas.DataFrame\n",
    "df.causal.do(x=treatment,\n",
    "             variable_types={treatment: 'b', outcome: 'c', common_cause: 'c'},\n",
    "             outcome=outcome,\n",
    "             common_causes=[common_cause],\n",
    "            ).groupby(treatment).mean().plot(y=outcome, kind='bar')"
   ]
  },
  {
   "cell_type": "code",
   "execution_count": 4,
   "metadata": {
    "execution": {
     "iopub.execute_input": "2025-08-08T17:42:53.012579Z",
     "iopub.status.busy": "2025-08-08T17:42:53.012365Z",
     "iopub.status.idle": "2025-08-08T17:42:53.109314Z",
     "shell.execute_reply": "2025-08-08T17:42:53.108719Z"
    }
   },
   "outputs": [
    {
     "data": {
      "text/plain": [
       "<Axes: xlabel='v0'>"
      ]
     },
     "execution_count": 4,
     "metadata": {},
     "output_type": "execute_result"
    },
    {
     "data": {
      "image/png": "[encoded data removed]",
      "text/plain": [
       "<Figure size 640x480 with 1 Axes>"
      ]
     },
     "metadata": {},
     "output_type": "display_data"
    }
   ],
   "source": [
    "df.causal.do(x={treatment: 1}, \n",
    "              variable_types={treatment:'b', outcome: 'c', common_cause: 'c'}, \n",
    "              outcome=outcome,\n",
    "              method='weighting', \n",
    "              common_causes=[common_cause]\n",
    "              ).groupby(treatment).mean().plot(y=outcome, kind='bar')"
   ]
  },
  {
   "cell_type": "code",
   "execution_count": 5,
   "metadata": {
    "execution": {
     "iopub.execute_input": "2025-08-08T17:42:53.111361Z",
     "iopub.status.busy": "2025-08-08T17:42:53.111159Z",
     "iopub.status.idle": "2025-08-08T17:42:53.133955Z",
     "shell.execute_reply": "2025-08-08T17:42:53.133437Z"
    }
   },
   "outputs": [],
   "source": [
    "cdf_1 = df.causal.do(x={treatment: 1}, \n",
    "              variable_types={treatment: 'b', outcome: 'c', common_cause: 'c'}, \n",
    "              outcome=outcome, \n",
    "              graph=nx_graph\n",
    "              )\n",
    "\n",
    "cdf_0 = df.causal.do(x={treatment: 0}, \n",
    "              variable_types={treatment: 'b', outcome: 'c', common_cause: 'c'}, \n",
    "              outcome=outcome, \n",
    "              graph=nx_graph\n",
    "              )\n"
   ]
  },
  {
   "cell_type": "code",
   "execution_count": 6,
   "metadata": {
    "execution": {
     "iopub.execute_input": "2025-08-08T17:42:53.136197Z",
     "iopub.status.busy": "2025-08-08T17:42:53.135880Z",
     "iopub.status.idle": "2025-08-08T17:42:53.144722Z",
     "shell.execute_reply": "2025-08-08T17:42:53.144053Z"
    },
    "scrolled": true
   },
   "outputs": [
    {
     "data": {
      "text/html": [
       "<div>\n",
       "<style scoped>\n",
       "    .dataframe tbody tr th:only-of-type {\n",
       "        vertical-align: middle;\n",
       "    }\n",
       "\n",
       "    .dataframe tbody tr th {\n",
       "        vertical-align: top;\n",
       "    }\n",
       "\n",
       "    .dataframe thead th {\n",
       "        text-align: right;\n",
       "    }\n",
       "</style>\n",
       "<table border=\"1\" class=\"dataframe\">\n",
       "  <thead>\n",
       "    <tr style=\"text-align: right;\">\n",
       "      <th></th>\n",
       "      <th>W0</th>\n",
       "      <th>v0</th>\n",
       "      <th>y</th>\n",
       "      <th>propensity_score</th>\n",
       "      <th>weight</th>\n",
       "    </tr>\n",
       "  </thead>\n",
       "  <tbody>\n",
       "    <tr>\n",
       "      <th>0</th>\n",
       "      <td>0.288137</td>\n",
       "      <td>False</td>\n",
       "      <td>0.692929</td>\n",
       "      <td>0.381410</td>\n",
       "      <td>2.621849</td>\n",
       "    </tr>\n",
       "    <tr>\n",
       "      <th>1</th>\n",
       "      <td>-0.241317</td>\n",
       "      <td>False</td>\n",
       "      <td>-1.478225</td>\n",
       "      <td>0.645138</td>\n",
       "      <td>1.550057</td>\n",
       "    </tr>\n",
       "    <tr>\n",
       "      <th>2</th>\n",
       "      <td>0.511788</td>\n",
       "      <td>False</td>\n",
       "      <td>1.506312</td>\n",
       "      <td>0.280834</td>\n",
       "      <td>3.560827</td>\n",
       "    </tr>\n",
       "    <tr>\n",
       "      <th>3</th>\n",
       "      <td>0.145289</td>\n",
       "      <td>False</td>\n",
       "      <td>1.833579</td>\n",
       "      <td>0.452189</td>\n",
       "      <td>2.211465</td>\n",
       "    </tr>\n",
       "    <tr>\n",
       "      <th>4</th>\n",
       "      <td>0.977713</td>\n",
       "      <td>False</td>\n",
       "      <td>0.280645</td>\n",
       "      <td>0.131029</td>\n",
       "      <td>7.631869</td>\n",
       "    </tr>\n",
       "    <tr>\n",
       "      <th>...</th>\n",
       "      <td>...</td>\n",
       "      <td>...</td>\n",
       "      <td>...</td>\n",
       "      <td>...</td>\n",
       "      <td>...</td>\n",
       "    </tr>\n",
       "    <tr>\n",
       "      <th>995</th>\n",
       "      <td>0.525273</td>\n",
       "      <td>False</td>\n",
       "      <td>0.768097</td>\n",
       "      <td>0.275305</td>\n",
       "      <td>3.632334</td>\n",
       "    </tr>\n",
       "    <tr>\n",
       "      <th>996</th>\n",
       "      <td>0.864292</td>\n",
       "      <td>False</td>\n",
       "      <td>3.000881</td>\n",
       "      <td>0.159729</td>\n",
       "      <td>6.260615</td>\n",
       "    </tr>\n",
       "    <tr>\n",
       "      <th>997</th>\n",
       "      <td>-0.556271</td>\n",
       "      <td>False</td>\n",
       "      <td>1.546591</td>\n",
       "      <td>0.775732</td>\n",
       "      <td>1.289105</td>\n",
       "    </tr>\n",
       "    <tr>\n",
       "      <th>998</th>\n",
       "      <td>-0.762584</td>\n",
       "      <td>False</td>\n",
       "      <td>-0.901587</td>\n",
       "      <td>0.840549</td>\n",
       "      <td>1.189699</td>\n",
       "    </tr>\n",
       "    <tr>\n",
       "      <th>999</th>\n",
       "      <td>0.692444</td>\n",
       "      <td>False</td>\n",
       "      <td>2.171429</td>\n",
       "      <td>0.212607</td>\n",
       "      <td>4.703516</td>\n",
       "    </tr>\n",
       "  </tbody>\n",
       "</table>\n",
       "<p>1000 rows × 5 columns</p>\n",
       "</div>"
      ],
      "text/plain": [
       "           W0     v0         y  propensity_score    weight\n",
       "0    0.288137  False  0.692929          0.381410  2.621849\n",
       "1   -0.241317  False -1.478225          0.645138  1.550057\n",
       "2    0.511788  False  1.506312          0.280834  3.560827\n",
       "3    0.145289  False  1.833579          0.452189  2.211465\n",
       "4    0.977713  False  0.280645          0.131029  7.631869\n",
       "..        ...    ...       ...               ...       ...\n",
       "995  0.525273  False  0.768097          0.275305  3.632334\n",
       "996  0.864292  False  3.000881          0.159729  6.260615\n",
       "997 -0.556271  False  1.546591          0.775732  1.289105\n",
       "998 -0.762584  False -0.901587          0.840549  1.189699\n",
       "999  0.692444  False  2.171429          0.212607  4.703516\n",
       "\n",
       "[1000 rows x 5 columns]"
      ]
     },
     "execution_count": 6,
     "metadata": {},
     "output_type": "execute_result"
    }
   ],
   "source": [
    "cdf_0"
   ]
  },
  {
   "cell_type": "code",
   "execution_count": 7,
   "metadata": {
    "execution": {
     "iopub.execute_input": "2025-08-08T17:42:53.146663Z",
     "iopub.status.busy": "2025-08-08T17:42:53.146278Z",
     "iopub.status.idle": "2025-08-08T17:42:53.154680Z",
     "shell.execute_reply": "2025-08-08T17:42:53.154123Z"
    }
   },
   "outputs": [
    {
     "data": {
      "text/html": [
       "<div>\n",
       "<style scoped>\n",
       "    .dataframe tbody tr th:only-of-type {\n",
       "        vertical-align: middle;\n",
       "    }\n",
       "\n",
       "    .dataframe tbody tr th {\n",
       "        vertical-align: top;\n",
       "    }\n",
       "\n",
       "    .dataframe thead th {\n",
       "        text-align: right;\n",
       "    }\n",
       "</style>\n",
       "<table border=\"1\" class=\"dataframe\">\n",
       "  <thead>\n",
       "    <tr style=\"text-align: right;\">\n",
       "      <th></th>\n",
       "      <th>W0</th>\n",
       "      <th>v0</th>\n",
       "      <th>y</th>\n",
       "      <th>propensity_score</th>\n",
       "      <th>weight</th>\n",
       "    </tr>\n",
       "  </thead>\n",
       "  <tbody>\n",
       "    <tr>\n",
       "      <th>0</th>\n",
       "      <td>0.289570</td>\n",
       "      <td>True</td>\n",
       "      <td>4.858939</td>\n",
       "      <td>0.619280</td>\n",
       "      <td>1.614778</td>\n",
       "    </tr>\n",
       "    <tr>\n",
       "      <th>1</th>\n",
       "      <td>-0.297882</td>\n",
       "      <td>True</td>\n",
       "      <td>5.383500</td>\n",
       "      <td>0.328879</td>\n",
       "      <td>3.040628</td>\n",
       "    </tr>\n",
       "    <tr>\n",
       "      <th>2</th>\n",
       "      <td>1.240059</td>\n",
       "      <td>True</td>\n",
       "      <td>8.534554</td>\n",
       "      <td>0.918913</td>\n",
       "      <td>1.088242</td>\n",
       "    </tr>\n",
       "    <tr>\n",
       "      <th>3</th>\n",
       "      <td>1.674127</td>\n",
       "      <td>True</td>\n",
       "      <td>8.343734</td>\n",
       "      <td>0.964912</td>\n",
       "      <td>1.036364</td>\n",
       "    </tr>\n",
       "    <tr>\n",
       "      <th>4</th>\n",
       "      <td>0.605323</td>\n",
       "      <td>True</td>\n",
       "      <td>5.651376</td>\n",
       "      <td>0.756089</td>\n",
       "      <td>1.322595</td>\n",
       "    </tr>\n",
       "    <tr>\n",
       "      <th>...</th>\n",
       "      <td>...</td>\n",
       "      <td>...</td>\n",
       "      <td>...</td>\n",
       "      <td>...</td>\n",
       "      <td>...</td>\n",
       "    </tr>\n",
       "    <tr>\n",
       "      <th>995</th>\n",
       "      <td>0.766643</td>\n",
       "      <td>True</td>\n",
       "      <td>6.666703</td>\n",
       "      <td>0.811658</td>\n",
       "      <td>1.232046</td>\n",
       "    </tr>\n",
       "    <tr>\n",
       "      <th>996</th>\n",
       "      <td>1.914543</td>\n",
       "      <td>True</td>\n",
       "      <td>7.833458</td>\n",
       "      <td>0.978229</td>\n",
       "      <td>1.022255</td>\n",
       "    </tr>\n",
       "    <tr>\n",
       "      <th>997</th>\n",
       "      <td>-0.386300</td>\n",
       "      <td>True</td>\n",
       "      <td>2.690543</td>\n",
       "      <td>0.290320</td>\n",
       "      <td>3.444480</td>\n",
       "    </tr>\n",
       "    <tr>\n",
       "      <th>998</th>\n",
       "      <td>0.741430</td>\n",
       "      <td>True</td>\n",
       "      <td>7.903871</td>\n",
       "      <td>0.803660</td>\n",
       "      <td>1.244308</td>\n",
       "    </tr>\n",
       "    <tr>\n",
       "      <th>999</th>\n",
       "      <td>1.641513</td>\n",
       "      <td>True</td>\n",
       "      <td>9.606356</td>\n",
       "      <td>0.962585</td>\n",
       "      <td>1.038869</td>\n",
       "    </tr>\n",
       "  </tbody>\n",
       "</table>\n",
       "<p>1000 rows × 5 columns</p>\n",
       "</div>"
      ],
      "text/plain": [
       "           W0    v0         y  propensity_score    weight\n",
       "0    0.289570  True  4.858939          0.619280  1.614778\n",
       "1   -0.297882  True  5.383500          0.328879  3.040628\n",
       "2    1.240059  True  8.534554          0.918913  1.088242\n",
       "3    1.674127  True  8.343734          0.964912  1.036364\n",
       "4    0.605323  True  5.651376          0.756089  1.322595\n",
       "..        ...   ...       ...               ...       ...\n",
       "995  0.766643  True  6.666703          0.811658  1.232046\n",
       "996  1.914543  True  7.833458          0.978229  1.022255\n",
       "997 -0.386300  True  2.690543          0.290320  3.444480\n",
       "998  0.741430  True  7.903871          0.803660  1.244308\n",
       "999  1.641513  True  9.606356          0.962585  1.038869\n",
       "\n",
       "[1000 rows x 5 columns]"
      ]
     },
     "execution_count": 7,
     "metadata": {},
     "output_type": "execute_result"
    }
   ],
   "source": [
    "cdf_1"
   ]
  },
  {
   "cell_type": "markdown",
   "metadata": {},
   "source": [
    "## Comparing the estimate to Linear Regression\n",
    "First, estimating the effect using the causal data frame, and the 95% confidence interval."
   ]
  },
  {
   "cell_type": "code",
   "execution_count": 8,
   "metadata": {
    "execution": {
     "iopub.execute_input": "2025-08-08T17:42:53.156523Z",
     "iopub.status.busy": "2025-08-08T17:42:53.156339Z",
     "iopub.status.idle": "2025-08-08T17:42:53.220426Z",
     "shell.execute_reply": "2025-08-08T17:42:53.219817Z"
    }
   },
   "outputs": [
    {
     "data": {
      "image/png": "[encoded data removed]",
      "text/latex": [
       "$\\displaystyle 6.04785685654189$"
      ],
      "text/plain": [
       "np.float64(6.0478568565418875)"
      ]
     },
     "execution_count": 8,
     "metadata": {},
     "output_type": "execute_result"
    }
   ],
   "source": [
    "(cdf_1['y'] - cdf_0['y']).mean()"
   ]
  },
  {
   "cell_type": "code",
   "execution_count": 9,
   "metadata": {
    "execution": {
     "iopub.execute_input": "2025-08-08T17:42:53.222516Z",
     "iopub.status.busy": "2025-08-08T17:42:53.222310Z",
     "iopub.status.idle": "2025-08-08T17:42:53.240541Z",
     "shell.execute_reply": "2025-08-08T17:42:53.239985Z"
    }
   },
   "outputs": [
    {
     "data": {
      "image/png": "[encoded data removed]",
      "text/latex": [
       "$\\displaystyle 0.187665487599095$"
      ],
      "text/plain": [
       "np.float64(0.18766548759909524)"
      ]
     },
     "execution_count": 9,
     "metadata": {},
     "output_type": "execute_result"
    }
   ],
   "source": [
    "1.96*(cdf_1['y'] - cdf_0['y']).std() / np.sqrt(len(df))"
   ]
  },
  {
   "cell_type": "markdown",
   "metadata": {},
   "source": [
    "Comparing to the estimate from OLS."
   ]
  },
  {
   "cell_type": "code",
   "execution_count": 10,
   "metadata": {
    "execution": {
     "iopub.execute_input": "2025-08-08T17:42:53.242605Z",
     "iopub.status.busy": "2025-08-08T17:42:53.242403Z",
     "iopub.status.idle": "2025-08-08T17:42:53.262985Z",
     "shell.execute_reply": "2025-08-08T17:42:53.262419Z"
    }
   },
   "outputs": [
    {
     "data": {
      "text/html": [
       "<table class=\"simpletable\">\n",
       "<caption>OLS Regression Results</caption>\n",
       "<tr>\n",
       "  <th>Dep. Variable:</th>            <td>y</td>        <th>  R-squared (uncentered):</th>      <td>   0.976</td> \n",
       "</tr>\n",
       "<tr>\n",
       "  <th>Model:</th>                   <td>OLS</td>       <th>  Adj. R-squared (uncentered):</th> <td>   0.976</td> \n",
       "</tr>\n",
       "<tr>\n",
       "  <th>Method:</th>             <td>Least Squares</td>  <th>  F-statistic:       </th>          <td>2.068e+04</td>\n",
       "</tr>\n",
       "<tr>\n",
       "  <th>Date:</th>             <td>Fri, 08 Aug 2025</td> <th>  Prob (F-statistic):</th>           <td>  0.00</td>  \n",
       "</tr>\n",
       "<tr>\n",
       "  <th>Time:</th>                 <td>17:42:53</td>     <th>  Log-Likelihood:    </th>          <td> -1410.1</td> \n",
       "</tr>\n",
       "<tr>\n",
       "  <th>No. Observations:</th>      <td>  1000</td>      <th>  AIC:               </th>          <td>   2824.</td> \n",
       "</tr>\n",
       "<tr>\n",
       "  <th>Df Residuals:</th>          <td>   998</td>      <th>  BIC:               </th>          <td>   2834.</td> \n",
       "</tr>\n",
       "<tr>\n",
       "  <th>Df Model:</th>              <td>     2</td>      <th>                     </th>              <td> </td>    \n",
       "</tr>\n",
       "<tr>\n",
       "  <th>Covariance Type:</th>      <td>nonrobust</td>    <th>                     </th>              <td> </td>    \n",
       "</tr>\n",
       "</table>\n",
       "<table class=\"simpletable\">\n",
       "<tr>\n",
       "   <td></td>     <th>coef</th>     <th>std err</th>      <th>t</th>      <th>P>|t|</th>  <th>[0.025</th>    <th>0.975]</th>  \n",
       "</tr>\n",
       "<tr>\n",
       "  <th>x1</th> <td>    2.1873</td> <td>    0.038</td> <td>   58.230</td> <td> 0.000</td> <td>    2.114</td> <td>    2.261</td>\n",
       "</tr>\n",
       "<tr>\n",
       "  <th>x2</th> <td>    5.0529</td> <td>    0.056</td> <td>   90.582</td> <td> 0.000</td> <td>    4.943</td> <td>    5.162</td>\n",
       "</tr>\n",
       "</table>\n",
       "<table class=\"simpletable\">\n",
       "<tr>\n",
       "  <th>Omnibus:</th>       <td> 0.929</td> <th>  Durbin-Watson:     </th> <td>   2.003</td>\n",
       "</tr>\n",
       "<tr>\n",
       "  <th>Prob(Omnibus):</th> <td> 0.629</td> <th>  Jarque-Bera (JB):  </th> <td>   0.929</td>\n",
       "</tr>\n",
       "<tr>\n",
       "  <th>Skew:</th>          <td> 0.074</td> <th>  Prob(JB):          </th> <td>   0.628</td>\n",
       "</tr>\n",
       "<tr>\n",
       "  <th>Kurtosis:</th>      <td> 2.984</td> <th>  Cond. No.          </th> <td>    2.80</td>\n",
       "</tr>\n",
       "</table><br/><br/>Notes:<br/>[1] R² is computed without centering (uncentered) since the model does not contain a constant.<br/>[2] Standard Errors assume that the covariance matrix of the errors is correctly specified."
      ],
      "text/latex": [
       "\\begin{center}\n",
       "\\begin{tabular}{lclc}\n",
       "\\toprule\n",
       "\\textbf{Dep. Variable:}    &        y         & \\textbf{  R-squared (uncentered):}      &     0.976   \\\\\n",
       "\\textbf{Model:}            &       OLS        & \\textbf{  Adj. R-squared (uncentered):} &     0.976   \\\\\n",
       "\\textbf{Method:}           &  Least Squares   & \\textbf{  F-statistic:       }          & 2.068e+04   \\\\\n",
       "\\textbf{Date:}             & Fri, 08 Aug 2025 & \\textbf{  Prob (F-statistic):}          &     0.00    \\\\\n",
       "\\textbf{Time:}             &     17:42:53     & \\textbf{  Log-Likelihood:    }          &   -1410.1   \\\\\n",
       "\\textbf{No. Observations:} &        1000      & \\textbf{  AIC:               }          &     2824.   \\\\\n",
       "\\textbf{Df Residuals:}     &         998      & \\textbf{  BIC:               }          &     2834.   \\\\\n",
       "\\textbf{Df Model:}         &           2      & \\textbf{                     }          &             \\\\\n",
       "\\textbf{Covariance Type:}  &    nonrobust     & \\textbf{                     }          &             \\\\\n",
       "\\bottomrule\n",
       "\\end{tabular}\n",
       "\\begin{tabular}{lcccccc}\n",
       "            & \\textbf{coef} & \\textbf{std err} & \\textbf{t} & \\textbf{P$> |$t$|$} & \\textbf{[0.025} & \\textbf{0.975]}  \\\\\n",
       "\\midrule\n",
       "\\textbf{x1} &       2.1873  &        0.038     &    58.230  &         0.000        &        2.114    &        2.261     \\\\\n",
       "\\textbf{x2} &       5.0529  &        0.056     &    90.582  &         0.000        &        4.943    &        5.162     \\\\\n",
       "\\bottomrule\n",
       "\\end{tabular}\n",
       "\\begin{tabular}{lclc}\n",
       "\\textbf{Omnibus:}       &  0.929 & \\textbf{  Durbin-Watson:     } &    2.003  \\\\\n",
       "\\textbf{Prob(Omnibus):} &  0.629 & \\textbf{  Jarque-Bera (JB):  } &    0.929  \\\\\n",
       "\\textbf{Skew:}          &  0.074 & \\textbf{  Prob(JB):          } &    0.628  \\\\\n",
       "\\textbf{Kurtosis:}      &  2.984 & \\textbf{  Cond. No.          } &     2.80  \\\\\n",
       "\\bottomrule\n",
       "\\end{tabular}\n",
       "%\\caption{OLS Regression Results}\n",
       "\\end{center}\n",
       "\n",
       "Notes: \\newline\n",
       " [1] R² is computed without centering (uncentered) since the model does not contain a constant. \\newline\n",
       " [2] Standard Errors assume that the covariance matrix of the errors is correctly specified."
      ],
      "text/plain": [
       "<class 'statsmodels.iolib.summary.Summary'>\n",
       "\"\"\"\n",
       "                                 OLS Regression Results                                \n",
       "=======================================================================================\n",
       "Dep. Variable:                      y   R-squared (uncentered):                   0.976\n",
       "Model:                            OLS   Adj. R-squared (uncentered):              0.976\n",
       "Method:                 Least Squares   F-statistic:                          2.068e+04\n",
       "Date:                Fri, 08 Aug 2025   Prob (F-statistic):                        0.00\n",
       "Time:                        17:42:53   Log-Likelihood:                         -1410.1\n",
       "No. Observations:                1000   AIC:                                      2824.\n",
       "Df Residuals:                     998   BIC:                                      2834.\n",
       "Df Model:                           2                                                  \n",
       "Covariance Type:            nonrobust                                                  \n",
       "==============================================================================\n",
       "                 coef    std err          t      P>|t|      [0.025      0.975]\n",
       "------------------------------------------------------------------------------\n",
       "x1             2.1873      0.038     58.230      0.000       2.114       2.261\n",
       "x2             5.0529      0.056     90.582      0.000       4.943       5.162\n",
       "==============================================================================\n",
       "Omnibus:                        0.929   Durbin-Watson:                   2.003\n",
       "Prob(Omnibus):                  0.629   Jarque-Bera (JB):                0.929\n",
       "Skew:                           0.074   Prob(JB):                        0.628\n",
       "Kurtosis:                       2.984   Cond. No.                         2.80\n",
       "==============================================================================\n",
       "\n",
       "Notes:\n",
       "[1] R² is computed without centering (uncentered) since the model does not contain a constant.\n",
       "[2] Standard Errors assume that the covariance matrix of the errors is correctly specified.\n",
       "\"\"\""
      ]
     },
     "execution_count": 10,
     "metadata": {},
     "output_type": "execute_result"
    }
   ],
   "source": [
    "model = OLS(np.asarray(df[outcome]), np.asarray(df[[common_cause, treatment]], dtype=np.float64))\n",
    "result = model.fit()\n",
    "result.summary()"
   ]
  }
 ],
 "metadata": {
  "kernelspec": {
   "display_name": "Python 3 (ipykernel)",
   "language": "python",
   "name": "python3"
  },
  "language_info": {
   "codemirror_mode": {
    "name": "ipython",
    "version": 3
   },
   "file_extension": ".py",
   "mimetype": "text/x-python",
   "name": "python",
   "nbconvert_exporter": "python",
   "pygments_lexer": "ipython3",
   "version": "3.9.23"
  },
  "toc": {
   "base_numbering": 1,
   "nav_menu": {},
   "number_sections": false,
   "sideBar": true,
   "skip_h1_title": true,
   "title_cell": "Table of Contents",
   "title_sidebar": "Contents",
   "toc_cell": false,
   "toc_position": {},
   "toc_section_display": true,
   "toc_window_display": false
  }
 },
 "nbformat": 4,
 "nbformat_minor": 4
}
