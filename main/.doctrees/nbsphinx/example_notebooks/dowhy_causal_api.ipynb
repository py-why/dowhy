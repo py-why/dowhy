{
 "cells": [
  {
   "cell_type": "markdown",
   "metadata": {},
   "source": [
    "# Demo for the DoWhy causal API\n",
    "We show a simple example of adding a causal extension to any dataframe. "
   ]
  },
  {
   "cell_type": "code",
   "execution_count": 1,
   "metadata": {
    "execution": {
     "iopub.execute_input": "2025-10-26T04:40:18.631614Z",
     "iopub.status.busy": "2025-10-26T04:40:18.631010Z",
     "iopub.status.idle": "2025-10-26T04:40:20.339628Z",
     "shell.execute_reply": "2025-10-26T04:40:20.338914Z"
    }
   },
   "outputs": [],
   "source": [
    "import dowhy.datasets\n",
    "import dowhy.api\n",
    "from dowhy.graph import build_graph_from_str\n",
    "\n",
    "import numpy as np\n",
    "import pandas as pd\n",
    "\n",
    "from statsmodels.api import OLS"
   ]
  },
  {
   "cell_type": "code",
   "execution_count": 2,
   "metadata": {
    "execution": {
     "iopub.execute_input": "2025-10-26T04:40:20.342046Z",
     "iopub.status.busy": "2025-10-26T04:40:20.341722Z",
     "iopub.status.idle": "2025-10-26T04:40:20.383023Z",
     "shell.execute_reply": "2025-10-26T04:40:20.382322Z"
    }
   },
   "outputs": [
    {
     "data": {
      "text/html": [
       "<div>\n",
       "<style scoped>\n",
       "    .dataframe tbody tr th:only-of-type {\n",
       "        vertical-align: middle;\n",
       "    }\n",
       "\n",
       "    .dataframe tbody tr th {\n",
       "        vertical-align: top;\n",
       "    }\n",
       "\n",
       "    .dataframe thead th {\n",
       "        text-align: right;\n",
       "    }\n",
       "</style>\n",
       "<table border=\"1\" class=\"dataframe\">\n",
       "  <thead>\n",
       "    <tr style=\"text-align: right;\">\n",
       "      <th></th>\n",
       "      <th>W0</th>\n",
       "      <th>v0</th>\n",
       "      <th>y</th>\n",
       "    </tr>\n",
       "  </thead>\n",
       "  <tbody>\n",
       "    <tr>\n",
       "      <th>0</th>\n",
       "      <td>-1.921839</td>\n",
       "      <td>False</td>\n",
       "      <td>-3.162412</td>\n",
       "    </tr>\n",
       "    <tr>\n",
       "      <th>1</th>\n",
       "      <td>-0.727158</td>\n",
       "      <td>False</td>\n",
       "      <td>-0.411692</td>\n",
       "    </tr>\n",
       "    <tr>\n",
       "      <th>2</th>\n",
       "      <td>-0.628189</td>\n",
       "      <td>False</td>\n",
       "      <td>-2.747116</td>\n",
       "    </tr>\n",
       "    <tr>\n",
       "      <th>3</th>\n",
       "      <td>-0.966405</td>\n",
       "      <td>False</td>\n",
       "      <td>-0.284689</td>\n",
       "    </tr>\n",
       "    <tr>\n",
       "      <th>4</th>\n",
       "      <td>-0.302111</td>\n",
       "      <td>False</td>\n",
       "      <td>-0.845632</td>\n",
       "    </tr>\n",
       "    <tr>\n",
       "      <th>...</th>\n",
       "      <td>...</td>\n",
       "      <td>...</td>\n",
       "      <td>...</td>\n",
       "    </tr>\n",
       "    <tr>\n",
       "      <th>995</th>\n",
       "      <td>-0.964924</td>\n",
       "      <td>False</td>\n",
       "      <td>-1.987335</td>\n",
       "    </tr>\n",
       "    <tr>\n",
       "      <th>996</th>\n",
       "      <td>0.580303</td>\n",
       "      <td>True</td>\n",
       "      <td>7.927165</td>\n",
       "    </tr>\n",
       "    <tr>\n",
       "      <th>997</th>\n",
       "      <td>0.332588</td>\n",
       "      <td>False</td>\n",
       "      <td>-0.610100</td>\n",
       "    </tr>\n",
       "    <tr>\n",
       "      <th>998</th>\n",
       "      <td>-0.558305</td>\n",
       "      <td>False</td>\n",
       "      <td>-1.521874</td>\n",
       "    </tr>\n",
       "    <tr>\n",
       "      <th>999</th>\n",
       "      <td>-2.888737</td>\n",
       "      <td>False</td>\n",
       "      <td>-6.114267</td>\n",
       "    </tr>\n",
       "  </tbody>\n",
       "</table>\n",
       "<p>1000 rows × 3 columns</p>\n",
       "</div>"
      ],
      "text/plain": [
       "           W0     v0         y\n",
       "0   -1.921839  False -3.162412\n",
       "1   -0.727158  False -0.411692\n",
       "2   -0.628189  False -2.747116\n",
       "3   -0.966405  False -0.284689\n",
       "4   -0.302111  False -0.845632\n",
       "..        ...    ...       ...\n",
       "995 -0.964924  False -1.987335\n",
       "996  0.580303   True  7.927165\n",
       "997  0.332588  False -0.610100\n",
       "998 -0.558305  False -1.521874\n",
       "999 -2.888737  False -6.114267\n",
       "\n",
       "[1000 rows x 3 columns]"
      ]
     },
     "execution_count": 2,
     "metadata": {},
     "output_type": "execute_result"
    }
   ],
   "source": [
    "data = dowhy.datasets.linear_dataset(beta=5,\n",
    "        num_common_causes=1,\n",
    "        num_instruments = 0,\n",
    "        num_samples=1000,\n",
    "        treatment_is_binary=True)\n",
    "df = data['df']\n",
    "df['y'] = df['y'] + np.random.normal(size=len(df)) # Adding noise to data. Without noise, the variance in Y|X, Z is zero, and mcmc fails.\n",
    "nx_graph = build_graph_from_str(data[\"dot_graph\"])\n",
    "\n",
    "treatment= data[\"treatment_name\"][0]\n",
    "outcome = data[\"outcome_name\"][0]\n",
    "common_cause = data[\"common_causes_names\"][0]\n",
    "df"
   ]
  },
  {
   "cell_type": "code",
   "execution_count": 3,
   "metadata": {
    "execution": {
     "iopub.execute_input": "2025-10-26T04:40:20.385434Z",
     "iopub.status.busy": "2025-10-26T04:40:20.385008Z",
     "iopub.status.idle": "2025-10-26T04:40:20.636507Z",
     "shell.execute_reply": "2025-10-26T04:40:20.635829Z"
    },
    "scrolled": true
   },
   "outputs": [
    {
     "data": {
      "text/plain": [
       "<Axes: xlabel='v0'>"
      ]
     },
     "execution_count": 3,
     "metadata": {},
     "output_type": "execute_result"
    },
    {
     "data": {
      "image/png": "[encoded data removed]",
      "text/plain": [
       "<Figure size 640x480 with 1 Axes>"
      ]
     },
     "metadata": {},
     "output_type": "display_data"
    }
   ],
   "source": [
    "# data['df'] is just a regular pandas.DataFrame\n",
    "df.causal.do(x=treatment,\n",
    "             variable_types={treatment: 'b', outcome: 'c', common_cause: 'c'},\n",
    "             outcome=outcome,\n",
    "             common_causes=[common_cause],\n",
    "            ).groupby(treatment).mean().plot(y=outcome, kind='bar')"
   ]
  },
  {
   "cell_type": "code",
   "execution_count": 4,
   "metadata": {
    "execution": {
     "iopub.execute_input": "2025-10-26T04:40:20.638872Z",
     "iopub.status.busy": "2025-10-26T04:40:20.638459Z",
     "iopub.status.idle": "2025-10-26T04:40:20.741349Z",
     "shell.execute_reply": "2025-10-26T04:40:20.740784Z"
    }
   },
   "outputs": [
    {
     "data": {
      "text/plain": [
       "<Axes: xlabel='v0'>"
      ]
     },
     "execution_count": 4,
     "metadata": {},
     "output_type": "execute_result"
    },
    {
     "data": {
      "image/png": "[encoded data removed]",
      "text/plain": [
       "<Figure size 640x480 with 1 Axes>"
      ]
     },
     "metadata": {},
     "output_type": "display_data"
    }
   ],
   "source": [
    "df.causal.do(x={treatment: 1}, \n",
    "              variable_types={treatment:'b', outcome: 'c', common_cause: 'c'}, \n",
    "              outcome=outcome,\n",
    "              method='weighting', \n",
    "              common_causes=[common_cause]\n",
    "              ).groupby(treatment).mean().plot(y=outcome, kind='bar')"
   ]
  },
  {
   "cell_type": "code",
   "execution_count": 5,
   "metadata": {
    "execution": {
     "iopub.execute_input": "2025-10-26T04:40:20.743575Z",
     "iopub.status.busy": "2025-10-26T04:40:20.743124Z",
     "iopub.status.idle": "2025-10-26T04:40:20.765534Z",
     "shell.execute_reply": "2025-10-26T04:40:20.764977Z"
    }
   },
   "outputs": [],
   "source": [
    "cdf_1 = df.causal.do(x={treatment: 1}, \n",
    "              variable_types={treatment: 'b', outcome: 'c', common_cause: 'c'}, \n",
    "              outcome=outcome, \n",
    "              graph=nx_graph\n",
    "              )\n",
    "\n",
    "cdf_0 = df.causal.do(x={treatment: 0}, \n",
    "              variable_types={treatment: 'b', outcome: 'c', common_cause: 'c'}, \n",
    "              outcome=outcome, \n",
    "              graph=nx_graph\n",
    "              )\n"
   ]
  },
  {
   "cell_type": "code",
   "execution_count": 6,
   "metadata": {
    "execution": {
     "iopub.execute_input": "2025-10-26T04:40:20.767787Z",
     "iopub.status.busy": "2025-10-26T04:40:20.767370Z",
     "iopub.status.idle": "2025-10-26T04:40:20.775922Z",
     "shell.execute_reply": "2025-10-26T04:40:20.775406Z"
    },
    "scrolled": true
   },
   "outputs": [
    {
     "data": {
      "text/html": [
       "<div>\n",
       "<style scoped>\n",
       "    .dataframe tbody tr th:only-of-type {\n",
       "        vertical-align: middle;\n",
       "    }\n",
       "\n",
       "    .dataframe tbody tr th {\n",
       "        vertical-align: top;\n",
       "    }\n",
       "\n",
       "    .dataframe thead th {\n",
       "        text-align: right;\n",
       "    }\n",
       "</style>\n",
       "<table border=\"1\" class=\"dataframe\">\n",
       "  <thead>\n",
       "    <tr style=\"text-align: right;\">\n",
       "      <th></th>\n",
       "      <th>W0</th>\n",
       "      <th>v0</th>\n",
       "      <th>y</th>\n",
       "      <th>propensity_score</th>\n",
       "      <th>weight</th>\n",
       "    </tr>\n",
       "  </thead>\n",
       "  <tbody>\n",
       "    <tr>\n",
       "      <th>0</th>\n",
       "      <td>-0.383141</td>\n",
       "      <td>False</td>\n",
       "      <td>-0.641008</td>\n",
       "      <td>0.549504</td>\n",
       "      <td>1.819822</td>\n",
       "    </tr>\n",
       "    <tr>\n",
       "      <th>1</th>\n",
       "      <td>-1.307789</td>\n",
       "      <td>False</td>\n",
       "      <td>-1.647073</td>\n",
       "      <td>0.641089</td>\n",
       "      <td>1.559847</td>\n",
       "    </tr>\n",
       "    <tr>\n",
       "      <th>2</th>\n",
       "      <td>-0.884262</td>\n",
       "      <td>False</td>\n",
       "      <td>-0.140178</td>\n",
       "      <td>0.599980</td>\n",
       "      <td>1.666721</td>\n",
       "    </tr>\n",
       "    <tr>\n",
       "      <th>3</th>\n",
       "      <td>-0.057427</td>\n",
       "      <td>False</td>\n",
       "      <td>-0.053624</td>\n",
       "      <td>0.516072</td>\n",
       "      <td>1.937715</td>\n",
       "    </tr>\n",
       "    <tr>\n",
       "      <th>4</th>\n",
       "      <td>0.192399</td>\n",
       "      <td>False</td>\n",
       "      <td>1.144771</td>\n",
       "      <td>0.490315</td>\n",
       "      <td>2.039507</td>\n",
       "    </tr>\n",
       "    <tr>\n",
       "      <th>...</th>\n",
       "      <td>...</td>\n",
       "      <td>...</td>\n",
       "      <td>...</td>\n",
       "      <td>...</td>\n",
       "      <td>...</td>\n",
       "    </tr>\n",
       "    <tr>\n",
       "      <th>995</th>\n",
       "      <td>0.804121</td>\n",
       "      <td>False</td>\n",
       "      <td>0.879748</td>\n",
       "      <td>0.427738</td>\n",
       "      <td>2.337880</td>\n",
       "    </tr>\n",
       "    <tr>\n",
       "      <th>996</th>\n",
       "      <td>-1.128837</td>\n",
       "      <td>False</td>\n",
       "      <td>-2.891065</td>\n",
       "      <td>0.623932</td>\n",
       "      <td>1.602738</td>\n",
       "    </tr>\n",
       "    <tr>\n",
       "      <th>997</th>\n",
       "      <td>-1.094288</td>\n",
       "      <td>False</td>\n",
       "      <td>0.458060</td>\n",
       "      <td>0.620582</td>\n",
       "      <td>1.611390</td>\n",
       "    </tr>\n",
       "    <tr>\n",
       "      <th>998</th>\n",
       "      <td>-1.262602</td>\n",
       "      <td>False</td>\n",
       "      <td>-3.085060</td>\n",
       "      <td>0.636788</td>\n",
       "      <td>1.570380</td>\n",
       "    </tr>\n",
       "    <tr>\n",
       "      <th>999</th>\n",
       "      <td>1.239419</td>\n",
       "      <td>False</td>\n",
       "      <td>0.473164</td>\n",
       "      <td>0.384463</td>\n",
       "      <td>2.601033</td>\n",
       "    </tr>\n",
       "  </tbody>\n",
       "</table>\n",
       "<p>1000 rows × 5 columns</p>\n",
       "</div>"
      ],
      "text/plain": [
       "           W0     v0         y  propensity_score    weight\n",
       "0   -0.383141  False -0.641008          0.549504  1.819822\n",
       "1   -1.307789  False -1.647073          0.641089  1.559847\n",
       "2   -0.884262  False -0.140178          0.599980  1.666721\n",
       "3   -0.057427  False -0.053624          0.516072  1.937715\n",
       "4    0.192399  False  1.144771          0.490315  2.039507\n",
       "..        ...    ...       ...               ...       ...\n",
       "995  0.804121  False  0.879748          0.427738  2.337880\n",
       "996 -1.128837  False -2.891065          0.623932  1.602738\n",
       "997 -1.094288  False  0.458060          0.620582  1.611390\n",
       "998 -1.262602  False -3.085060          0.636788  1.570380\n",
       "999  1.239419  False  0.473164          0.384463  2.601033\n",
       "\n",
       "[1000 rows x 5 columns]"
      ]
     },
     "execution_count": 6,
     "metadata": {},
     "output_type": "execute_result"
    }
   ],
   "source": [
    "cdf_0"
   ]
  },
  {
   "cell_type": "code",
   "execution_count": 7,
   "metadata": {
    "execution": {
     "iopub.execute_input": "2025-10-26T04:40:20.777843Z",
     "iopub.status.busy": "2025-10-26T04:40:20.777488Z",
     "iopub.status.idle": "2025-10-26T04:40:20.785714Z",
     "shell.execute_reply": "2025-10-26T04:40:20.785183Z"
    }
   },
   "outputs": [
    {
     "data": {
      "text/html": [
       "<div>\n",
       "<style scoped>\n",
       "    .dataframe tbody tr th:only-of-type {\n",
       "        vertical-align: middle;\n",
       "    }\n",
       "\n",
       "    .dataframe tbody tr th {\n",
       "        vertical-align: top;\n",
       "    }\n",
       "\n",
       "    .dataframe thead th {\n",
       "        text-align: right;\n",
       "    }\n",
       "</style>\n",
       "<table border=\"1\" class=\"dataframe\">\n",
       "  <thead>\n",
       "    <tr style=\"text-align: right;\">\n",
       "      <th></th>\n",
       "      <th>W0</th>\n",
       "      <th>v0</th>\n",
       "      <th>y</th>\n",
       "      <th>propensity_score</th>\n",
       "      <th>weight</th>\n",
       "    </tr>\n",
       "  </thead>\n",
       "  <tbody>\n",
       "    <tr>\n",
       "      <th>0</th>\n",
       "      <td>0.071010</td>\n",
       "      <td>True</td>\n",
       "      <td>3.643999</td>\n",
       "      <td>0.497168</td>\n",
       "      <td>2.011392</td>\n",
       "    </tr>\n",
       "    <tr>\n",
       "      <th>1</th>\n",
       "      <td>-0.130863</td>\n",
       "      <td>True</td>\n",
       "      <td>4.981763</td>\n",
       "      <td>0.476367</td>\n",
       "      <td>2.099221</td>\n",
       "    </tr>\n",
       "    <tr>\n",
       "      <th>2</th>\n",
       "      <td>0.640052</td>\n",
       "      <td>True</td>\n",
       "      <td>6.150117</td>\n",
       "      <td>0.555620</td>\n",
       "      <td>1.799790</td>\n",
       "    </tr>\n",
       "    <tr>\n",
       "      <th>3</th>\n",
       "      <td>-1.203151</td>\n",
       "      <td>True</td>\n",
       "      <td>3.000128</td>\n",
       "      <td>0.368903</td>\n",
       "      <td>2.710743</td>\n",
       "    </tr>\n",
       "    <tr>\n",
       "      <th>4</th>\n",
       "      <td>-0.616986</td>\n",
       "      <td>True</td>\n",
       "      <td>4.066106</td>\n",
       "      <td>0.426748</td>\n",
       "      <td>2.343302</td>\n",
       "    </tr>\n",
       "    <tr>\n",
       "      <th>...</th>\n",
       "      <td>...</td>\n",
       "      <td>...</td>\n",
       "      <td>...</td>\n",
       "      <td>...</td>\n",
       "      <td>...</td>\n",
       "    </tr>\n",
       "    <tr>\n",
       "      <th>995</th>\n",
       "      <td>1.225548</td>\n",
       "      <td>True</td>\n",
       "      <td>8.188521</td>\n",
       "      <td>0.614182</td>\n",
       "      <td>1.628181</td>\n",
       "    </tr>\n",
       "    <tr>\n",
       "      <th>996</th>\n",
       "      <td>-0.277881</td>\n",
       "      <td>True</td>\n",
       "      <td>4.606692</td>\n",
       "      <td>0.461266</td>\n",
       "      <td>2.167947</td>\n",
       "    </tr>\n",
       "    <tr>\n",
       "      <th>997</th>\n",
       "      <td>-0.037943</td>\n",
       "      <td>True</td>\n",
       "      <td>6.270507</td>\n",
       "      <td>0.485936</td>\n",
       "      <td>2.057885</td>\n",
       "    </tr>\n",
       "    <tr>\n",
       "      <th>998</th>\n",
       "      <td>0.094173</td>\n",
       "      <td>True</td>\n",
       "      <td>3.762668</td>\n",
       "      <td>0.499557</td>\n",
       "      <td>2.001774</td>\n",
       "    </tr>\n",
       "    <tr>\n",
       "      <th>999</th>\n",
       "      <td>-0.668092</td>\n",
       "      <td>True</td>\n",
       "      <td>4.046286</td>\n",
       "      <td>0.421599</td>\n",
       "      <td>2.371922</td>\n",
       "    </tr>\n",
       "  </tbody>\n",
       "</table>\n",
       "<p>1000 rows × 5 columns</p>\n",
       "</div>"
      ],
      "text/plain": [
       "           W0    v0         y  propensity_score    weight\n",
       "0    0.071010  True  3.643999          0.497168  2.011392\n",
       "1   -0.130863  True  4.981763          0.476367  2.099221\n",
       "2    0.640052  True  6.150117          0.555620  1.799790\n",
       "3   -1.203151  True  3.000128          0.368903  2.710743\n",
       "4   -0.616986  True  4.066106          0.426748  2.343302\n",
       "..        ...   ...       ...               ...       ...\n",
       "995  1.225548  True  8.188521          0.614182  1.628181\n",
       "996 -0.277881  True  4.606692          0.461266  2.167947\n",
       "997 -0.037943  True  6.270507          0.485936  2.057885\n",
       "998  0.094173  True  3.762668          0.499557  2.001774\n",
       "999 -0.668092  True  4.046286          0.421599  2.371922\n",
       "\n",
       "[1000 rows x 5 columns]"
      ]
     },
     "execution_count": 7,
     "metadata": {},
     "output_type": "execute_result"
    }
   ],
   "source": [
    "cdf_1"
   ]
  },
  {
   "cell_type": "markdown",
   "metadata": {},
   "source": [
    "## Comparing the estimate to Linear Regression\n",
    "First, estimating the effect using the causal data frame, and the 95% confidence interval."
   ]
  },
  {
   "cell_type": "code",
   "execution_count": 8,
   "metadata": {
    "execution": {
     "iopub.execute_input": "2025-10-26T04:40:20.787770Z",
     "iopub.status.busy": "2025-10-26T04:40:20.787382Z",
     "iopub.status.idle": "2025-10-26T04:40:20.852229Z",
     "shell.execute_reply": "2025-10-26T04:40:20.851532Z"
    }
   },
   "outputs": [
    {
     "data": {
      "image/png": "[encoded data removed]",
      "text/latex": [
       "$\\displaystyle 5.0774121035847$"
      ],
      "text/plain": [
       "np.float64(5.077412103584699)"
      ]
     },
     "execution_count": 8,
     "metadata": {},
     "output_type": "execute_result"
    }
   ],
   "source": [
    "(cdf_1['y'] - cdf_0['y']).mean()"
   ]
  },
  {
   "cell_type": "code",
   "execution_count": 9,
   "metadata": {
    "execution": {
     "iopub.execute_input": "2025-10-26T04:40:20.854269Z",
     "iopub.status.busy": "2025-10-26T04:40:20.854072Z",
     "iopub.status.idle": "2025-10-26T04:40:20.872616Z",
     "shell.execute_reply": "2025-10-26T04:40:20.872063Z"
    }
   },
   "outputs": [
    {
     "data": {
      "image/png": "[encoded data removed]",
      "text/latex": [
       "$\\displaystyle 0.154412954139508$"
      ],
      "text/plain": [
       "np.float64(0.15441295413950845)"
      ]
     },
     "execution_count": 9,
     "metadata": {},
     "output_type": "execute_result"
    }
   ],
   "source": [
    "1.96*(cdf_1['y'] - cdf_0['y']).std() / np.sqrt(len(df))"
   ]
  },
  {
   "cell_type": "markdown",
   "metadata": {},
   "source": [
    "Comparing to the estimate from OLS."
   ]
  },
  {
   "cell_type": "code",
   "execution_count": 10,
   "metadata": {
    "execution": {
     "iopub.execute_input": "2025-10-26T04:40:20.874472Z",
     "iopub.status.busy": "2025-10-26T04:40:20.874252Z",
     "iopub.status.idle": "2025-10-26T04:40:20.894800Z",
     "shell.execute_reply": "2025-10-26T04:40:20.894185Z"
    }
   },
   "outputs": [
    {
     "data": {
      "text/html": [
       "<table class=\"simpletable\">\n",
       "<caption>OLS Regression Results</caption>\n",
       "<tr>\n",
       "  <th>Dep. Variable:</th>            <td>y</td>        <th>  R-squared (uncentered):</th>      <td>   0.918</td>\n",
       "</tr>\n",
       "<tr>\n",
       "  <th>Model:</th>                   <td>OLS</td>       <th>  Adj. R-squared (uncentered):</th> <td>   0.918</td>\n",
       "</tr>\n",
       "<tr>\n",
       "  <th>Method:</th>             <td>Least Squares</td>  <th>  F-statistic:       </th>          <td>   5600.</td>\n",
       "</tr>\n",
       "<tr>\n",
       "  <th>Date:</th>             <td>Sun, 26 Oct 2025</td> <th>  Prob (F-statistic):</th>           <td>  0.00</td> \n",
       "</tr>\n",
       "<tr>\n",
       "  <th>Time:</th>                 <td>04:40:20</td>     <th>  Log-Likelihood:    </th>          <td> -1425.1</td>\n",
       "</tr>\n",
       "<tr>\n",
       "  <th>No. Observations:</th>      <td>  1000</td>      <th>  AIC:               </th>          <td>   2854.</td>\n",
       "</tr>\n",
       "<tr>\n",
       "  <th>Df Residuals:</th>          <td>   998</td>      <th>  BIC:               </th>          <td>   2864.</td>\n",
       "</tr>\n",
       "<tr>\n",
       "  <th>Df Model:</th>              <td>     2</td>      <th>                     </th>              <td> </td>   \n",
       "</tr>\n",
       "<tr>\n",
       "  <th>Covariance Type:</th>      <td>nonrobust</td>    <th>                     </th>              <td> </td>   \n",
       "</tr>\n",
       "</table>\n",
       "<table class=\"simpletable\">\n",
       "<tr>\n",
       "   <td></td>     <th>coef</th>     <th>std err</th>      <th>t</th>      <th>P>|t|</th>  <th>[0.025</th>    <th>0.975]</th>  \n",
       "</tr>\n",
       "<tr>\n",
       "  <th>x1</th> <td>    1.4892</td> <td>    0.029</td> <td>   51.093</td> <td> 0.000</td> <td>    1.432</td> <td>    1.546</td>\n",
       "</tr>\n",
       "<tr>\n",
       "  <th>x2</th> <td>    4.9960</td> <td>    0.049</td> <td>  101.226</td> <td> 0.000</td> <td>    4.899</td> <td>    5.093</td>\n",
       "</tr>\n",
       "</table>\n",
       "<table class=\"simpletable\">\n",
       "<tr>\n",
       "  <th>Omnibus:</th>       <td> 2.151</td> <th>  Durbin-Watson:     </th> <td>   2.022</td>\n",
       "</tr>\n",
       "<tr>\n",
       "  <th>Prob(Omnibus):</th> <td> 0.341</td> <th>  Jarque-Bera (JB):  </th> <td>   2.020</td>\n",
       "</tr>\n",
       "<tr>\n",
       "  <th>Skew:</th>          <td> 0.102</td> <th>  Prob(JB):          </th> <td>   0.364</td>\n",
       "</tr>\n",
       "<tr>\n",
       "  <th>Kurtosis:</th>      <td> 3.081</td> <th>  Cond. No.          </th> <td>    1.77</td>\n",
       "</tr>\n",
       "</table><br/><br/>Notes:<br/>[1] R² is computed without centering (uncentered) since the model does not contain a constant.<br/>[2] Standard Errors assume that the covariance matrix of the errors is correctly specified."
      ],
      "text/latex": [
       "\\begin{center}\n",
       "\\begin{tabular}{lclc}\n",
       "\\toprule\n",
       "\\textbf{Dep. Variable:}    &        y         & \\textbf{  R-squared (uncentered):}      &     0.918   \\\\\n",
       "\\textbf{Model:}            &       OLS        & \\textbf{  Adj. R-squared (uncentered):} &     0.918   \\\\\n",
       "\\textbf{Method:}           &  Least Squares   & \\textbf{  F-statistic:       }          &     5600.   \\\\\n",
       "\\textbf{Date:}             & Sun, 26 Oct 2025 & \\textbf{  Prob (F-statistic):}          &     0.00    \\\\\n",
       "\\textbf{Time:}             &     04:40:20     & \\textbf{  Log-Likelihood:    }          &   -1425.1   \\\\\n",
       "\\textbf{No. Observations:} &        1000      & \\textbf{  AIC:               }          &     2854.   \\\\\n",
       "\\textbf{Df Residuals:}     &         998      & \\textbf{  BIC:               }          &     2864.   \\\\\n",
       "\\textbf{Df Model:}         &           2      & \\textbf{                     }          &             \\\\\n",
       "\\textbf{Covariance Type:}  &    nonrobust     & \\textbf{                     }          &             \\\\\n",
       "\\bottomrule\n",
       "\\end{tabular}\n",
       "\\begin{tabular}{lcccccc}\n",
       "            & \\textbf{coef} & \\textbf{std err} & \\textbf{t} & \\textbf{P$> |$t$|$} & \\textbf{[0.025} & \\textbf{0.975]}  \\\\\n",
       "\\midrule\n",
       "\\textbf{x1} &       1.4892  &        0.029     &    51.093  &         0.000        &        1.432    &        1.546     \\\\\n",
       "\\textbf{x2} &       4.9960  &        0.049     &   101.226  &         0.000        &        4.899    &        5.093     \\\\\n",
       "\\bottomrule\n",
       "\\end{tabular}\n",
       "\\begin{tabular}{lclc}\n",
       "\\textbf{Omnibus:}       &  2.151 & \\textbf{  Durbin-Watson:     } &    2.022  \\\\\n",
       "\\textbf{Prob(Omnibus):} &  0.341 & \\textbf{  Jarque-Bera (JB):  } &    2.020  \\\\\n",
       "\\textbf{Skew:}          &  0.102 & \\textbf{  Prob(JB):          } &    0.364  \\\\\n",
       "\\textbf{Kurtosis:}      &  3.081 & \\textbf{  Cond. No.          } &     1.77  \\\\\n",
       "\\bottomrule\n",
       "\\end{tabular}\n",
       "%\\caption{OLS Regression Results}\n",
       "\\end{center}\n",
       "\n",
       "Notes: \\newline\n",
       " [1] R² is computed without centering (uncentered) since the model does not contain a constant. \\newline\n",
       " [2] Standard Errors assume that the covariance matrix of the errors is correctly specified."
      ],
      "text/plain": [
       "<class 'statsmodels.iolib.summary.Summary'>\n",
       "\"\"\"\n",
       "                                 OLS Regression Results                                \n",
       "=======================================================================================\n",
       "Dep. Variable:                      y   R-squared (uncentered):                   0.918\n",
       "Model:                            OLS   Adj. R-squared (uncentered):              0.918\n",
       "Method:                 Least Squares   F-statistic:                              5600.\n",
       "Date:                Sun, 26 Oct 2025   Prob (F-statistic):                        0.00\n",
       "Time:                        04:40:20   Log-Likelihood:                         -1425.1\n",
       "No. Observations:                1000   AIC:                                      2854.\n",
       "Df Residuals:                     998   BIC:                                      2864.\n",
       "Df Model:                           2                                                  \n",
       "Covariance Type:            nonrobust                                                  \n",
       "==============================================================================\n",
       "                 coef    std err          t      P>|t|      [0.025      0.975]\n",
       "------------------------------------------------------------------------------\n",
       "x1             1.4892      0.029     51.093      0.000       1.432       1.546\n",
       "x2             4.9960      0.049    101.226      0.000       4.899       5.093\n",
       "==============================================================================\n",
       "Omnibus:                        2.151   Durbin-Watson:                   2.022\n",
       "Prob(Omnibus):                  0.341   Jarque-Bera (JB):                2.020\n",
       "Skew:                           0.102   Prob(JB):                        0.364\n",
       "Kurtosis:                       3.081   Cond. No.                         1.77\n",
       "==============================================================================\n",
       "\n",
       "Notes:\n",
       "[1] R² is computed without centering (uncentered) since the model does not contain a constant.\n",
       "[2] Standard Errors assume that the covariance matrix of the errors is correctly specified.\n",
       "\"\"\""
      ]
     },
     "execution_count": 10,
     "metadata": {},
     "output_type": "execute_result"
    }
   ],
   "source": [
    "model = OLS(np.asarray(df[outcome]), np.asarray(df[[common_cause, treatment]], dtype=np.float64))\n",
    "result = model.fit()\n",
    "result.summary()"
   ]
  }
 ],
 "metadata": {
  "kernelspec": {
   "display_name": "Python 3 (ipykernel)",
   "language": "python",
   "name": "python3"
  },
  "language_info": {
   "codemirror_mode": {
    "name": "ipython",
    "version": 3
   },
   "file_extension": ".py",
   "mimetype": "text/x-python",
   "name": "python",
   "nbconvert_exporter": "python",
   "pygments_lexer": "ipython3",
   "version": "3.9.23"
  },
  "toc": {
   "base_numbering": 1,
   "nav_menu": {},
   "number_sections": false,
   "sideBar": true,
   "skip_h1_title": true,
   "title_cell": "Table of Contents",
   "title_sidebar": "Contents",
   "toc_cell": false,
   "toc_position": {},
   "toc_section_display": true,
   "toc_window_display": false
  }
 },
 "nbformat": 4,
 "nbformat_minor": 4
}
