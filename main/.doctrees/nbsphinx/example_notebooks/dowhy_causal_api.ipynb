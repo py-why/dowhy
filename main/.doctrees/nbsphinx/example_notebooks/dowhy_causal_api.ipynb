{
 "cells": [
  {
   "cell_type": "markdown",
   "metadata": {},
   "source": [
    "# Demo for the DoWhy causal API\n",
    "We show a simple example of adding a causal extension to any dataframe. "
   ]
  },
  {
   "cell_type": "code",
   "execution_count": 1,
   "metadata": {
    "execution": {
     "iopub.execute_input": "2025-08-02T09:22:54.263929Z",
     "iopub.status.busy": "2025-08-02T09:22:54.263721Z",
     "iopub.status.idle": "2025-08-02T09:22:55.940325Z",
     "shell.execute_reply": "2025-08-02T09:22:55.939645Z"
    }
   },
   "outputs": [],
   "source": [
    "import dowhy.datasets\n",
    "import dowhy.api\n",
    "from dowhy.graph import build_graph_from_str\n",
    "\n",
    "import numpy as np\n",
    "import pandas as pd\n",
    "\n",
    "from statsmodels.api import OLS"
   ]
  },
  {
   "cell_type": "code",
   "execution_count": 2,
   "metadata": {
    "execution": {
     "iopub.execute_input": "2025-08-02T09:22:55.942799Z",
     "iopub.status.busy": "2025-08-02T09:22:55.942461Z",
     "iopub.status.idle": "2025-08-02T09:22:55.988227Z",
     "shell.execute_reply": "2025-08-02T09:22:55.987642Z"
    }
   },
   "outputs": [
    {
     "data": {
      "text/html": [
       "<div>\n",
       "<style scoped>\n",
       "    .dataframe tbody tr th:only-of-type {\n",
       "        vertical-align: middle;\n",
       "    }\n",
       "\n",
       "    .dataframe tbody tr th {\n",
       "        vertical-align: top;\n",
       "    }\n",
       "\n",
       "    .dataframe thead th {\n",
       "        text-align: right;\n",
       "    }\n",
       "</style>\n",
       "<table border=\"1\" class=\"dataframe\">\n",
       "  <thead>\n",
       "    <tr style=\"text-align: right;\">\n",
       "      <th></th>\n",
       "      <th>W0</th>\n",
       "      <th>v0</th>\n",
       "      <th>y</th>\n",
       "    </tr>\n",
       "  </thead>\n",
       "  <tbody>\n",
       "    <tr>\n",
       "      <th>0</th>\n",
       "      <td>0.668177</td>\n",
       "      <td>True</td>\n",
       "      <td>6.970205</td>\n",
       "    </tr>\n",
       "    <tr>\n",
       "      <th>1</th>\n",
       "      <td>-0.291871</td>\n",
       "      <td>True</td>\n",
       "      <td>4.857942</td>\n",
       "    </tr>\n",
       "    <tr>\n",
       "      <th>2</th>\n",
       "      <td>0.046020</td>\n",
       "      <td>True</td>\n",
       "      <td>5.387203</td>\n",
       "    </tr>\n",
       "    <tr>\n",
       "      <th>3</th>\n",
       "      <td>-0.601034</td>\n",
       "      <td>False</td>\n",
       "      <td>-2.936236</td>\n",
       "    </tr>\n",
       "    <tr>\n",
       "      <th>4</th>\n",
       "      <td>-2.042230</td>\n",
       "      <td>False</td>\n",
       "      <td>-3.920646</td>\n",
       "    </tr>\n",
       "    <tr>\n",
       "      <th>...</th>\n",
       "      <td>...</td>\n",
       "      <td>...</td>\n",
       "      <td>...</td>\n",
       "    </tr>\n",
       "    <tr>\n",
       "      <th>995</th>\n",
       "      <td>-1.561052</td>\n",
       "      <td>False</td>\n",
       "      <td>-1.215025</td>\n",
       "    </tr>\n",
       "    <tr>\n",
       "      <th>996</th>\n",
       "      <td>-0.290057</td>\n",
       "      <td>False</td>\n",
       "      <td>-2.142960</td>\n",
       "    </tr>\n",
       "    <tr>\n",
       "      <th>997</th>\n",
       "      <td>-1.156101</td>\n",
       "      <td>False</td>\n",
       "      <td>-0.370745</td>\n",
       "    </tr>\n",
       "    <tr>\n",
       "      <th>998</th>\n",
       "      <td>-0.732807</td>\n",
       "      <td>False</td>\n",
       "      <td>-1.922964</td>\n",
       "    </tr>\n",
       "    <tr>\n",
       "      <th>999</th>\n",
       "      <td>-2.642260</td>\n",
       "      <td>False</td>\n",
       "      <td>-6.078972</td>\n",
       "    </tr>\n",
       "  </tbody>\n",
       "</table>\n",
       "<p>1000 rows × 3 columns</p>\n",
       "</div>"
      ],
      "text/plain": [
       "           W0     v0         y\n",
       "0    0.668177   True  6.970205\n",
       "1   -0.291871   True  4.857942\n",
       "2    0.046020   True  5.387203\n",
       "3   -0.601034  False -2.936236\n",
       "4   -2.042230  False -3.920646\n",
       "..        ...    ...       ...\n",
       "995 -1.561052  False -1.215025\n",
       "996 -0.290057  False -2.142960\n",
       "997 -1.156101  False -0.370745\n",
       "998 -0.732807  False -1.922964\n",
       "999 -2.642260  False -6.078972\n",
       "\n",
       "[1000 rows x 3 columns]"
      ]
     },
     "execution_count": 2,
     "metadata": {},
     "output_type": "execute_result"
    }
   ],
   "source": [
    "data = dowhy.datasets.linear_dataset(beta=5,\n",
    "        num_common_causes=1,\n",
    "        num_instruments = 0,\n",
    "        num_samples=1000,\n",
    "        treatment_is_binary=True)\n",
    "df = data['df']\n",
    "df['y'] = df['y'] + np.random.normal(size=len(df)) # Adding noise to data. Without noise, the variance in Y|X, Z is zero, and mcmc fails.\n",
    "nx_graph = build_graph_from_str(data[\"dot_graph\"])\n",
    "\n",
    "treatment= data[\"treatment_name\"][0]\n",
    "outcome = data[\"outcome_name\"][0]\n",
    "common_cause = data[\"common_causes_names\"][0]\n",
    "df"
   ]
  },
  {
   "cell_type": "code",
   "execution_count": 3,
   "metadata": {
    "execution": {
     "iopub.execute_input": "2025-08-02T09:22:55.990258Z",
     "iopub.status.busy": "2025-08-02T09:22:55.989865Z",
     "iopub.status.idle": "2025-08-02T09:22:56.223404Z",
     "shell.execute_reply": "2025-08-02T09:22:56.222818Z"
    },
    "scrolled": true
   },
   "outputs": [
    {
     "data": {
      "text/plain": [
       "<Axes: xlabel='v0'>"
      ]
     },
     "execution_count": 3,
     "metadata": {},
     "output_type": "execute_result"
    },
    {
     "data": {
      "image/png": "[encoded data removed]",
      "text/plain": [
       "<Figure size 640x480 with 1 Axes>"
      ]
     },
     "metadata": {},
     "output_type": "display_data"
    }
   ],
   "source": [
    "# data['df'] is just a regular pandas.DataFrame\n",
    "df.causal.do(x=treatment,\n",
    "             variable_types={treatment: 'b', outcome: 'c', common_cause: 'c'},\n",
    "             outcome=outcome,\n",
    "             common_causes=[common_cause],\n",
    "            ).groupby(treatment).mean().plot(y=outcome, kind='bar')"
   ]
  },
  {
   "cell_type": "code",
   "execution_count": 4,
   "metadata": {
    "execution": {
     "iopub.execute_input": "2025-08-02T09:22:56.225440Z",
     "iopub.status.busy": "2025-08-02T09:22:56.225253Z",
     "iopub.status.idle": "2025-08-02T09:22:56.318002Z",
     "shell.execute_reply": "2025-08-02T09:22:56.317303Z"
    }
   },
   "outputs": [
    {
     "data": {
      "text/plain": [
       "<Axes: xlabel='v0'>"
      ]
     },
     "execution_count": 4,
     "metadata": {},
     "output_type": "execute_result"
    },
    {
     "data": {
      "image/png": "[encoded data removed]",
      "text/plain": [
       "<Figure size 640x480 with 1 Axes>"
      ]
     },
     "metadata": {},
     "output_type": "display_data"
    }
   ],
   "source": [
    "df.causal.do(x={treatment: 1}, \n",
    "              variable_types={treatment:'b', outcome: 'c', common_cause: 'c'}, \n",
    "              outcome=outcome,\n",
    "              method='weighting', \n",
    "              common_causes=[common_cause]\n",
    "              ).groupby(treatment).mean().plot(y=outcome, kind='bar')"
   ]
  },
  {
   "cell_type": "code",
   "execution_count": 5,
   "metadata": {
    "execution": {
     "iopub.execute_input": "2025-08-02T09:22:56.320044Z",
     "iopub.status.busy": "2025-08-02T09:22:56.319844Z",
     "iopub.status.idle": "2025-08-02T09:22:56.342033Z",
     "shell.execute_reply": "2025-08-02T09:22:56.341509Z"
    }
   },
   "outputs": [],
   "source": [
    "cdf_1 = df.causal.do(x={treatment: 1}, \n",
    "              variable_types={treatment: 'b', outcome: 'c', common_cause: 'c'}, \n",
    "              outcome=outcome, \n",
    "              graph=nx_graph\n",
    "              )\n",
    "\n",
    "cdf_0 = df.causal.do(x={treatment: 0}, \n",
    "              variable_types={treatment: 'b', outcome: 'c', common_cause: 'c'}, \n",
    "              outcome=outcome, \n",
    "              graph=nx_graph\n",
    "              )\n"
   ]
  },
  {
   "cell_type": "code",
   "execution_count": 6,
   "metadata": {
    "execution": {
     "iopub.execute_input": "2025-08-02T09:22:56.343883Z",
     "iopub.status.busy": "2025-08-02T09:22:56.343693Z",
     "iopub.status.idle": "2025-08-02T09:22:56.352575Z",
     "shell.execute_reply": "2025-08-02T09:22:56.351906Z"
    },
    "scrolled": true
   },
   "outputs": [
    {
     "data": {
      "text/html": [
       "<div>\n",
       "<style scoped>\n",
       "    .dataframe tbody tr th:only-of-type {\n",
       "        vertical-align: middle;\n",
       "    }\n",
       "\n",
       "    .dataframe tbody tr th {\n",
       "        vertical-align: top;\n",
       "    }\n",
       "\n",
       "    .dataframe thead th {\n",
       "        text-align: right;\n",
       "    }\n",
       "</style>\n",
       "<table border=\"1\" class=\"dataframe\">\n",
       "  <thead>\n",
       "    <tr style=\"text-align: right;\">\n",
       "      <th></th>\n",
       "      <th>W0</th>\n",
       "      <th>v0</th>\n",
       "      <th>y</th>\n",
       "      <th>propensity_score</th>\n",
       "      <th>weight</th>\n",
       "    </tr>\n",
       "  </thead>\n",
       "  <tbody>\n",
       "    <tr>\n",
       "      <th>0</th>\n",
       "      <td>-1.639780</td>\n",
       "      <td>False</td>\n",
       "      <td>-4.250883</td>\n",
       "      <td>0.969588</td>\n",
       "      <td>1.031366</td>\n",
       "    </tr>\n",
       "    <tr>\n",
       "      <th>1</th>\n",
       "      <td>-0.442939</td>\n",
       "      <td>False</td>\n",
       "      <td>-1.107574</td>\n",
       "      <td>0.699270</td>\n",
       "      <td>1.430063</td>\n",
       "    </tr>\n",
       "    <tr>\n",
       "      <th>2</th>\n",
       "      <td>1.246396</td>\n",
       "      <td>False</td>\n",
       "      <td>1.965423</td>\n",
       "      <td>0.054590</td>\n",
       "      <td>18.318315</td>\n",
       "    </tr>\n",
       "    <tr>\n",
       "      <th>3</th>\n",
       "      <td>-0.204212</td>\n",
       "      <td>False</td>\n",
       "      <td>-0.284739</td>\n",
       "      <td>0.579710</td>\n",
       "      <td>1.725000</td>\n",
       "    </tr>\n",
       "    <tr>\n",
       "      <th>4</th>\n",
       "      <td>0.535547</td>\n",
       "      <td>False</td>\n",
       "      <td>0.579688</td>\n",
       "      <td>0.214719</td>\n",
       "      <td>4.657247</td>\n",
       "    </tr>\n",
       "    <tr>\n",
       "      <th>...</th>\n",
       "      <td>...</td>\n",
       "      <td>...</td>\n",
       "      <td>...</td>\n",
       "      <td>...</td>\n",
       "      <td>...</td>\n",
       "    </tr>\n",
       "    <tr>\n",
       "      <th>995</th>\n",
       "      <td>-1.457028</td>\n",
       "      <td>False</td>\n",
       "      <td>-2.773123</td>\n",
       "      <td>0.955308</td>\n",
       "      <td>1.046783</td>\n",
       "    </tr>\n",
       "    <tr>\n",
       "      <th>996</th>\n",
       "      <td>-0.023986</td>\n",
       "      <td>False</td>\n",
       "      <td>0.178944</td>\n",
       "      <td>0.481838</td>\n",
       "      <td>2.075385</td>\n",
       "    </tr>\n",
       "    <tr>\n",
       "      <th>997</th>\n",
       "      <td>0.070553</td>\n",
       "      <td>False</td>\n",
       "      <td>1.420155</td>\n",
       "      <td>0.430578</td>\n",
       "      <td>2.322458</td>\n",
       "    </tr>\n",
       "    <tr>\n",
       "      <th>998</th>\n",
       "      <td>-1.122728</td>\n",
       "      <td>False</td>\n",
       "      <td>-1.477888</td>\n",
       "      <td>0.911406</td>\n",
       "      <td>1.097206</td>\n",
       "    </tr>\n",
       "    <tr>\n",
       "      <th>999</th>\n",
       "      <td>-0.414344</td>\n",
       "      <td>False</td>\n",
       "      <td>-0.827779</td>\n",
       "      <td>0.685953</td>\n",
       "      <td>1.457825</td>\n",
       "    </tr>\n",
       "  </tbody>\n",
       "</table>\n",
       "<p>1000 rows × 5 columns</p>\n",
       "</div>"
      ],
      "text/plain": [
       "           W0     v0         y  propensity_score     weight\n",
       "0   -1.639780  False -4.250883          0.969588   1.031366\n",
       "1   -0.442939  False -1.107574          0.699270   1.430063\n",
       "2    1.246396  False  1.965423          0.054590  18.318315\n",
       "3   -0.204212  False -0.284739          0.579710   1.725000\n",
       "4    0.535547  False  0.579688          0.214719   4.657247\n",
       "..        ...    ...       ...               ...        ...\n",
       "995 -1.457028  False -2.773123          0.955308   1.046783\n",
       "996 -0.023986  False  0.178944          0.481838   2.075385\n",
       "997  0.070553  False  1.420155          0.430578   2.322458\n",
       "998 -1.122728  False -1.477888          0.911406   1.097206\n",
       "999 -0.414344  False -0.827779          0.685953   1.457825\n",
       "\n",
       "[1000 rows x 5 columns]"
      ]
     },
     "execution_count": 6,
     "metadata": {},
     "output_type": "execute_result"
    }
   ],
   "source": [
    "cdf_0"
   ]
  },
  {
   "cell_type": "code",
   "execution_count": 7,
   "metadata": {
    "execution": {
     "iopub.execute_input": "2025-08-02T09:22:56.354448Z",
     "iopub.status.busy": "2025-08-02T09:22:56.354128Z",
     "iopub.status.idle": "2025-08-02T09:22:56.362403Z",
     "shell.execute_reply": "2025-08-02T09:22:56.361877Z"
    }
   },
   "outputs": [
    {
     "data": {
      "text/html": [
       "<div>\n",
       "<style scoped>\n",
       "    .dataframe tbody tr th:only-of-type {\n",
       "        vertical-align: middle;\n",
       "    }\n",
       "\n",
       "    .dataframe tbody tr th {\n",
       "        vertical-align: top;\n",
       "    }\n",
       "\n",
       "    .dataframe thead th {\n",
       "        text-align: right;\n",
       "    }\n",
       "</style>\n",
       "<table border=\"1\" class=\"dataframe\">\n",
       "  <thead>\n",
       "    <tr style=\"text-align: right;\">\n",
       "      <th></th>\n",
       "      <th>W0</th>\n",
       "      <th>v0</th>\n",
       "      <th>y</th>\n",
       "      <th>propensity_score</th>\n",
       "      <th>weight</th>\n",
       "    </tr>\n",
       "  </thead>\n",
       "  <tbody>\n",
       "    <tr>\n",
       "      <th>0</th>\n",
       "      <td>-0.094421</td>\n",
       "      <td>True</td>\n",
       "      <td>4.997059</td>\n",
       "      <td>0.479660</td>\n",
       "      <td>2.084810</td>\n",
       "    </tr>\n",
       "    <tr>\n",
       "      <th>1</th>\n",
       "      <td>-0.211197</td>\n",
       "      <td>True</td>\n",
       "      <td>4.675631</td>\n",
       "      <td>0.416572</td>\n",
       "      <td>2.400548</td>\n",
       "    </tr>\n",
       "    <tr>\n",
       "      <th>2</th>\n",
       "      <td>0.906771</td>\n",
       "      <td>True</td>\n",
       "      <td>8.216713</td>\n",
       "      <td>0.891756</td>\n",
       "      <td>1.121384</td>\n",
       "    </tr>\n",
       "    <tr>\n",
       "      <th>3</th>\n",
       "      <td>-0.597175</td>\n",
       "      <td>True</td>\n",
       "      <td>2.900050</td>\n",
       "      <td>0.234831</td>\n",
       "      <td>4.258376</td>\n",
       "    </tr>\n",
       "    <tr>\n",
       "      <th>4</th>\n",
       "      <td>0.110182</td>\n",
       "      <td>True</td>\n",
       "      <td>4.737032</td>\n",
       "      <td>0.590537</td>\n",
       "      <td>1.693375</td>\n",
       "    </tr>\n",
       "    <tr>\n",
       "      <th>...</th>\n",
       "      <td>...</td>\n",
       "      <td>...</td>\n",
       "      <td>...</td>\n",
       "      <td>...</td>\n",
       "      <td>...</td>\n",
       "    </tr>\n",
       "    <tr>\n",
       "      <th>995</th>\n",
       "      <td>-0.582541</td>\n",
       "      <td>True</td>\n",
       "      <td>5.514049</td>\n",
       "      <td>0.240632</td>\n",
       "      <td>4.155715</td>\n",
       "    </tr>\n",
       "    <tr>\n",
       "      <th>996</th>\n",
       "      <td>1.339761</td>\n",
       "      <td>True</td>\n",
       "      <td>6.669533</td>\n",
       "      <td>0.955041</td>\n",
       "      <td>1.047075</td>\n",
       "    </tr>\n",
       "    <tr>\n",
       "      <th>997</th>\n",
       "      <td>0.448267</td>\n",
       "      <td>True</td>\n",
       "      <td>6.154305</td>\n",
       "      <td>0.751341</td>\n",
       "      <td>1.330953</td>\n",
       "    </tr>\n",
       "    <tr>\n",
       "      <th>998</th>\n",
       "      <td>1.610851</td>\n",
       "      <td>True</td>\n",
       "      <td>8.743860</td>\n",
       "      <td>0.974644</td>\n",
       "      <td>1.026016</td>\n",
       "    </tr>\n",
       "    <tr>\n",
       "      <th>999</th>\n",
       "      <td>-0.155733</td>\n",
       "      <td>True</td>\n",
       "      <td>4.258549</td>\n",
       "      <td>0.446325</td>\n",
       "      <td>2.240521</td>\n",
       "    </tr>\n",
       "  </tbody>\n",
       "</table>\n",
       "<p>1000 rows × 5 columns</p>\n",
       "</div>"
      ],
      "text/plain": [
       "           W0    v0         y  propensity_score    weight\n",
       "0   -0.094421  True  4.997059          0.479660  2.084810\n",
       "1   -0.211197  True  4.675631          0.416572  2.400548\n",
       "2    0.906771  True  8.216713          0.891756  1.121384\n",
       "3   -0.597175  True  2.900050          0.234831  4.258376\n",
       "4    0.110182  True  4.737032          0.590537  1.693375\n",
       "..        ...   ...       ...               ...       ...\n",
       "995 -0.582541  True  5.514049          0.240632  4.155715\n",
       "996  1.339761  True  6.669533          0.955041  1.047075\n",
       "997  0.448267  True  6.154305          0.751341  1.330953\n",
       "998  1.610851  True  8.743860          0.974644  1.026016\n",
       "999 -0.155733  True  4.258549          0.446325  2.240521\n",
       "\n",
       "[1000 rows x 5 columns]"
      ]
     },
     "execution_count": 7,
     "metadata": {},
     "output_type": "execute_result"
    }
   ],
   "source": [
    "cdf_1"
   ]
  },
  {
   "cell_type": "markdown",
   "metadata": {},
   "source": [
    "## Comparing the estimate to Linear Regression\n",
    "First, estimating the effect using the causal data frame, and the 95% confidence interval."
   ]
  },
  {
   "cell_type": "code",
   "execution_count": 8,
   "metadata": {
    "execution": {
     "iopub.execute_input": "2025-08-02T09:22:56.364414Z",
     "iopub.status.busy": "2025-08-02T09:22:56.364052Z",
     "iopub.status.idle": "2025-08-02T09:22:56.429100Z",
     "shell.execute_reply": "2025-08-02T09:22:56.428443Z"
    }
   },
   "outputs": [
    {
     "data": {
      "image/png": "[encoded data removed]",
      "text/latex": [
       "$\\displaystyle 5.59465067575799$"
      ],
      "text/plain": [
       "np.float64(5.5946506757579915)"
      ]
     },
     "execution_count": 8,
     "metadata": {},
     "output_type": "execute_result"
    }
   ],
   "source": [
    "(cdf_1['y'] - cdf_0['y']).mean()"
   ]
  },
  {
   "cell_type": "code",
   "execution_count": 9,
   "metadata": {
    "execution": {
     "iopub.execute_input": "2025-08-02T09:22:56.431277Z",
     "iopub.status.busy": "2025-08-02T09:22:56.430902Z",
     "iopub.status.idle": "2025-08-02T09:22:56.449316Z",
     "shell.execute_reply": "2025-08-02T09:22:56.448658Z"
    }
   },
   "outputs": [
    {
     "data": {
      "image/png": "[encoded data removed]",
      "text/latex": [
       "$\\displaystyle 0.186266000621901$"
      ],
      "text/plain": [
       "np.float64(0.18626600062190143)"
      ]
     },
     "execution_count": 9,
     "metadata": {},
     "output_type": "execute_result"
    }
   ],
   "source": [
    "1.96*(cdf_1['y'] - cdf_0['y']).std() / np.sqrt(len(df))"
   ]
  },
  {
   "cell_type": "markdown",
   "metadata": {},
   "source": [
    "Comparing to the estimate from OLS."
   ]
  },
  {
   "cell_type": "code",
   "execution_count": 10,
   "metadata": {
    "execution": {
     "iopub.execute_input": "2025-08-02T09:22:56.451336Z",
     "iopub.status.busy": "2025-08-02T09:22:56.451145Z",
     "iopub.status.idle": "2025-08-02T09:22:56.471548Z",
     "shell.execute_reply": "2025-08-02T09:22:56.470980Z"
    }
   },
   "outputs": [
    {
     "data": {
      "text/html": [
       "<table class=\"simpletable\">\n",
       "<caption>OLS Regression Results</caption>\n",
       "<tr>\n",
       "  <th>Dep. Variable:</th>            <td>y</td>        <th>  R-squared (uncentered):</th>      <td>   0.955</td> \n",
       "</tr>\n",
       "<tr>\n",
       "  <th>Model:</th>                   <td>OLS</td>       <th>  Adj. R-squared (uncentered):</th> <td>   0.955</td> \n",
       "</tr>\n",
       "<tr>\n",
       "  <th>Method:</th>             <td>Least Squares</td>  <th>  F-statistic:       </th>          <td>1.059e+04</td>\n",
       "</tr>\n",
       "<tr>\n",
       "  <th>Date:</th>             <td>Sat, 02 Aug 2025</td> <th>  Prob (F-statistic):</th>           <td>  0.00</td>  \n",
       "</tr>\n",
       "<tr>\n",
       "  <th>Time:</th>                 <td>09:22:56</td>     <th>  Log-Likelihood:    </th>          <td> -1430.7</td> \n",
       "</tr>\n",
       "<tr>\n",
       "  <th>No. Observations:</th>      <td>  1000</td>      <th>  AIC:               </th>          <td>   2865.</td> \n",
       "</tr>\n",
       "<tr>\n",
       "  <th>Df Residuals:</th>          <td>   998</td>      <th>  BIC:               </th>          <td>   2875.</td> \n",
       "</tr>\n",
       "<tr>\n",
       "  <th>Df Model:</th>              <td>     2</td>      <th>                     </th>              <td> </td>    \n",
       "</tr>\n",
       "<tr>\n",
       "  <th>Covariance Type:</th>      <td>nonrobust</td>    <th>                     </th>              <td> </td>    \n",
       "</tr>\n",
       "</table>\n",
       "<table class=\"simpletable\">\n",
       "<tr>\n",
       "   <td></td>     <th>coef</th>     <th>std err</th>      <th>t</th>      <th>P>|t|</th>  <th>[0.025</th>    <th>0.975]</th>  \n",
       "</tr>\n",
       "<tr>\n",
       "  <th>x1</th> <td>    1.9617</td> <td>    0.035</td> <td>   56.286</td> <td> 0.000</td> <td>    1.893</td> <td>    2.030</td>\n",
       "</tr>\n",
       "<tr>\n",
       "  <th>x2</th> <td>    4.9829</td> <td>    0.049</td> <td>  101.379</td> <td> 0.000</td> <td>    4.886</td> <td>    5.079</td>\n",
       "</tr>\n",
       "</table>\n",
       "<table class=\"simpletable\">\n",
       "<tr>\n",
       "  <th>Omnibus:</th>       <td> 0.576</td> <th>  Durbin-Watson:     </th> <td>   1.939</td>\n",
       "</tr>\n",
       "<tr>\n",
       "  <th>Prob(Omnibus):</th> <td> 0.750</td> <th>  Jarque-Bera (JB):  </th> <td>   0.662</td>\n",
       "</tr>\n",
       "<tr>\n",
       "  <th>Skew:</th>          <td>-0.026</td> <th>  Prob(JB):          </th> <td>   0.718</td>\n",
       "</tr>\n",
       "<tr>\n",
       "  <th>Kurtosis:</th>      <td> 2.885</td> <th>  Cond. No.          </th> <td>    1.72</td>\n",
       "</tr>\n",
       "</table><br/><br/>Notes:<br/>[1] R² is computed without centering (uncentered) since the model does not contain a constant.<br/>[2] Standard Errors assume that the covariance matrix of the errors is correctly specified."
      ],
      "text/latex": [
       "\\begin{center}\n",
       "\\begin{tabular}{lclc}\n",
       "\\toprule\n",
       "\\textbf{Dep. Variable:}    &        y         & \\textbf{  R-squared (uncentered):}      &     0.955   \\\\\n",
       "\\textbf{Model:}            &       OLS        & \\textbf{  Adj. R-squared (uncentered):} &     0.955   \\\\\n",
       "\\textbf{Method:}           &  Least Squares   & \\textbf{  F-statistic:       }          & 1.059e+04   \\\\\n",
       "\\textbf{Date:}             & Sat, 02 Aug 2025 & \\textbf{  Prob (F-statistic):}          &     0.00    \\\\\n",
       "\\textbf{Time:}             &     09:22:56     & \\textbf{  Log-Likelihood:    }          &   -1430.7   \\\\\n",
       "\\textbf{No. Observations:} &        1000      & \\textbf{  AIC:               }          &     2865.   \\\\\n",
       "\\textbf{Df Residuals:}     &         998      & \\textbf{  BIC:               }          &     2875.   \\\\\n",
       "\\textbf{Df Model:}         &           2      & \\textbf{                     }          &             \\\\\n",
       "\\textbf{Covariance Type:}  &    nonrobust     & \\textbf{                     }          &             \\\\\n",
       "\\bottomrule\n",
       "\\end{tabular}\n",
       "\\begin{tabular}{lcccccc}\n",
       "            & \\textbf{coef} & \\textbf{std err} & \\textbf{t} & \\textbf{P$> |$t$|$} & \\textbf{[0.025} & \\textbf{0.975]}  \\\\\n",
       "\\midrule\n",
       "\\textbf{x1} &       1.9617  &        0.035     &    56.286  &         0.000        &        1.893    &        2.030     \\\\\n",
       "\\textbf{x2} &       4.9829  &        0.049     &   101.379  &         0.000        &        4.886    &        5.079     \\\\\n",
       "\\bottomrule\n",
       "\\end{tabular}\n",
       "\\begin{tabular}{lclc}\n",
       "\\textbf{Omnibus:}       &  0.576 & \\textbf{  Durbin-Watson:     } &    1.939  \\\\\n",
       "\\textbf{Prob(Omnibus):} &  0.750 & \\textbf{  Jarque-Bera (JB):  } &    0.662  \\\\\n",
       "\\textbf{Skew:}          & -0.026 & \\textbf{  Prob(JB):          } &    0.718  \\\\\n",
       "\\textbf{Kurtosis:}      &  2.885 & \\textbf{  Cond. No.          } &     1.72  \\\\\n",
       "\\bottomrule\n",
       "\\end{tabular}\n",
       "%\\caption{OLS Regression Results}\n",
       "\\end{center}\n",
       "\n",
       "Notes: \\newline\n",
       " [1] R² is computed without centering (uncentered) since the model does not contain a constant. \\newline\n",
       " [2] Standard Errors assume that the covariance matrix of the errors is correctly specified."
      ],
      "text/plain": [
       "<class 'statsmodels.iolib.summary.Summary'>\n",
       "\"\"\"\n",
       "                                 OLS Regression Results                                \n",
       "=======================================================================================\n",
       "Dep. Variable:                      y   R-squared (uncentered):                   0.955\n",
       "Model:                            OLS   Adj. R-squared (uncentered):              0.955\n",
       "Method:                 Least Squares   F-statistic:                          1.059e+04\n",
       "Date:                Sat, 02 Aug 2025   Prob (F-statistic):                        0.00\n",
       "Time:                        09:22:56   Log-Likelihood:                         -1430.7\n",
       "No. Observations:                1000   AIC:                                      2865.\n",
       "Df Residuals:                     998   BIC:                                      2875.\n",
       "Df Model:                           2                                                  \n",
       "Covariance Type:            nonrobust                                                  \n",
       "==============================================================================\n",
       "                 coef    std err          t      P>|t|      [0.025      0.975]\n",
       "------------------------------------------------------------------------------\n",
       "x1             1.9617      0.035     56.286      0.000       1.893       2.030\n",
       "x2             4.9829      0.049    101.379      0.000       4.886       5.079\n",
       "==============================================================================\n",
       "Omnibus:                        0.576   Durbin-Watson:                   1.939\n",
       "Prob(Omnibus):                  0.750   Jarque-Bera (JB):                0.662\n",
       "Skew:                          -0.026   Prob(JB):                        0.718\n",
       "Kurtosis:                       2.885   Cond. No.                         1.72\n",
       "==============================================================================\n",
       "\n",
       "Notes:\n",
       "[1] R² is computed without centering (uncentered) since the model does not contain a constant.\n",
       "[2] Standard Errors assume that the covariance matrix of the errors is correctly specified.\n",
       "\"\"\""
      ]
     },
     "execution_count": 10,
     "metadata": {},
     "output_type": "execute_result"
    }
   ],
   "source": [
    "model = OLS(np.asarray(df[outcome]), np.asarray(df[[common_cause, treatment]], dtype=np.float64))\n",
    "result = model.fit()\n",
    "result.summary()"
   ]
  }
 ],
 "metadata": {
  "kernelspec": {
   "display_name": "Python 3 (ipykernel)",
   "language": "python",
   "name": "python3"
  },
  "language_info": {
   "codemirror_mode": {
    "name": "ipython",
    "version": 3
   },
   "file_extension": ".py",
   "mimetype": "text/x-python",
   "name": "python",
   "nbconvert_exporter": "python",
   "pygments_lexer": "ipython3",
   "version": "3.9.23"
  },
  "toc": {
   "base_numbering": 1,
   "nav_menu": {},
   "number_sections": false,
   "sideBar": true,
   "skip_h1_title": true,
   "title_cell": "Table of Contents",
   "title_sidebar": "Contents",
   "toc_cell": false,
   "toc_position": {},
   "toc_section_display": true,
   "toc_window_display": false
  }
 },
 "nbformat": 4,
 "nbformat_minor": 4
}
