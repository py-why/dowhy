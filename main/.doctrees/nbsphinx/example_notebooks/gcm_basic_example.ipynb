{
 "cells": [
  {
   "cell_type": "markdown",
   "id": "b72f7198",
   "metadata": {},
   "source": [
    "# Basic Example for Graphical Causal Models"
   ]
  },
  {
   "cell_type": "markdown",
   "id": "8fe6b612",
   "metadata": {},
   "source": [
    "## Step 1: Modeling cause-effect relationships as a structural causal model (SCM)\n",
    "\n",
    "The first step is to model the cause-effect relationships between variables relevant to our use case. We do that in form of a causal graph. A causal graph is a directed acyclic graph (DAG) where an edge X→Y implies that X causes Y. Statistically, a causal graph encodes the conditional independence relations between variables. Using the [NetworkX](https://networkx.org/) library, we can create causal graphs. In the snippet below, we create a chain X→Y→Z:\n",
    "\n"
   ]
  },
  {
   "cell_type": "code",
   "execution_count": 1,
   "id": "f22337ab",
   "metadata": {
    "execution": {
     "iopub.execute_input": "2025-10-26T04:53:56.655261Z",
     "iopub.status.busy": "2025-10-26T04:53:56.654758Z",
     "iopub.status.idle": "2025-10-26T04:53:57.021993Z",
     "shell.execute_reply": "2025-10-26T04:53:57.021240Z"
    }
   },
   "outputs": [],
   "source": [
    "import networkx as nx\n",
    "causal_graph = nx.DiGraph([('X', 'Y'), ('Y', 'Z')])"
   ]
  },
  {
   "cell_type": "markdown",
   "id": "1a0bb234",
   "metadata": {},
   "source": [
    "To answer causal questions using causal graphs, we also have to know the nature of underlying data-generating process of variables. A causal graph by itself, being a diagram, does not have any information about the data-generating process. To introduce this data-generating process, we use an SCM that’s built on top of our causal graph:\n"
   ]
  },
  {
   "cell_type": "code",
   "execution_count": 2,
   "id": "0367caeb",
   "metadata": {
    "execution": {
     "iopub.execute_input": "2025-10-26T04:53:57.024579Z",
     "iopub.status.busy": "2025-10-26T04:53:57.024240Z",
     "iopub.status.idle": "2025-10-26T04:53:58.554804Z",
     "shell.execute_reply": "2025-10-26T04:53:58.554075Z"
    }
   },
   "outputs": [],
   "source": [
    "from dowhy import gcm\n",
    "causal_model = gcm.StructuralCausalModel(causal_graph)"
   ]
  },
  {
   "cell_type": "markdown",
   "id": "85ea234d",
   "metadata": {
    "collapsed": false,
    "jupyter": {
     "outputs_hidden": false
    },
    "pycharm": {
     "name": "#%% md\n"
    }
   },
   "source": [
    "At this point we would normally load our dataset. For this introduction, we generate\n",
    "some synthetic data instead. The API takes data in form of Pandas DataFrames:"
   ]
  },
  {
   "cell_type": "code",
   "execution_count": 3,
   "id": "71c06991",
   "metadata": {
    "collapsed": false,
    "execution": {
     "iopub.execute_input": "2025-10-26T04:53:58.557640Z",
     "iopub.status.busy": "2025-10-26T04:53:58.557255Z",
     "iopub.status.idle": "2025-10-26T04:53:58.569488Z",
     "shell.execute_reply": "2025-10-26T04:53:58.568792Z"
    },
    "jupyter": {
     "outputs_hidden": false
    },
    "pycharm": {
     "name": "#%%\n"
    }
   },
   "outputs": [
    {
     "data": {
      "text/html": [
       "<div>\n",
       "<style scoped>\n",
       "    .dataframe tbody tr th:only-of-type {\n",
       "        vertical-align: middle;\n",
       "    }\n",
       "\n",
       "    .dataframe tbody tr th {\n",
       "        vertical-align: top;\n",
       "    }\n",
       "\n",
       "    .dataframe thead th {\n",
       "        text-align: right;\n",
       "    }\n",
       "</style>\n",
       "<table border=\"1\" class=\"dataframe\">\n",
       "  <thead>\n",
       "    <tr style=\"text-align: right;\">\n",
       "      <th></th>\n",
       "      <th>X</th>\n",
       "      <th>Y</th>\n",
       "      <th>Z</th>\n",
       "    </tr>\n",
       "  </thead>\n",
       "  <tbody>\n",
       "    <tr>\n",
       "      <th>0</th>\n",
       "      <td>0.322509</td>\n",
       "      <td>2.889543</td>\n",
       "      <td>7.999584</td>\n",
       "    </tr>\n",
       "    <tr>\n",
       "      <th>1</th>\n",
       "      <td>0.529368</td>\n",
       "      <td>1.238352</td>\n",
       "      <td>3.713945</td>\n",
       "    </tr>\n",
       "    <tr>\n",
       "      <th>2</th>\n",
       "      <td>0.408486</td>\n",
       "      <td>1.922315</td>\n",
       "      <td>5.178745</td>\n",
       "    </tr>\n",
       "    <tr>\n",
       "      <th>3</th>\n",
       "      <td>-0.657048</td>\n",
       "      <td>-0.943606</td>\n",
       "      <td>-2.612721</td>\n",
       "    </tr>\n",
       "    <tr>\n",
       "      <th>4</th>\n",
       "      <td>-0.150601</td>\n",
       "      <td>-0.640273</td>\n",
       "      <td>-1.782792</td>\n",
       "    </tr>\n",
       "  </tbody>\n",
       "</table>\n",
       "</div>"
      ],
      "text/plain": [
       "          X         Y         Z\n",
       "0  0.322509  2.889543  7.999584\n",
       "1  0.529368  1.238352  3.713945\n",
       "2  0.408486  1.922315  5.178745\n",
       "3 -0.657048 -0.943606 -2.612721\n",
       "4 -0.150601 -0.640273 -1.782792"
      ]
     },
     "execution_count": 3,
     "metadata": {},
     "output_type": "execute_result"
    }
   ],
   "source": [
    "import numpy as np, pandas as pd\n",
    "\n",
    "X = np.random.normal(loc=0, scale=1, size=1000)\n",
    "Y = 2 * X + np.random.normal(loc=0, scale=1, size=1000)\n",
    "Z = 3 * Y + np.random.normal(loc=0, scale=1, size=1000)\n",
    "data = pd.DataFrame(data=dict(X=X, Y=Y, Z=Z))\n",
    "data.head()"
   ]
  },
  {
   "cell_type": "markdown",
   "id": "b24c2de4",
   "metadata": {
    "collapsed": false,
    "jupyter": {
     "outputs_hidden": false
    },
    "pycharm": {
     "name": "#%% md\n"
    }
   },
   "source": [
    "Note how the columns X, Y, Z correspond to our nodes X, Y, Z in the graph constructed above. We can also see how the\n",
    "values of X influence the values of Y and how the values of Y influence the values of Z in that data set.\n",
    "\n",
    "The causal model created above allows us now to assign causal mechanisms to each node in the form of functional causal\n",
    "models. Here, these mechanism can either be assigned manually if, for instance, prior knowledge about certain causal\n",
    "relationships are known or they can be assigned automatically using the `auto` module. For the latter,\n",
    "we simply call:"
   ]
  },
  {
   "cell_type": "code",
   "execution_count": 4,
   "id": "f2c342c9",
   "metadata": {
    "collapsed": false,
    "execution": {
     "iopub.execute_input": "2025-10-26T04:53:58.571819Z",
     "iopub.status.busy": "2025-10-26T04:53:58.571402Z",
     "iopub.status.idle": "2025-10-26T04:54:03.712801Z",
     "shell.execute_reply": "2025-10-26T04:54:03.711969Z"
    },
    "jupyter": {
     "outputs_hidden": false
    },
    "pycharm": {
     "name": "#%%\n"
    }
   },
   "outputs": [],
   "source": [
    "auto_assignment_summary = gcm.auto.assign_causal_mechanisms(causal_model, data)"
   ]
  },
  {
   "cell_type": "markdown",
   "id": "6f5d2959-342a-4a2f-af49-3ba0e698f607",
   "metadata": {},
   "source": [
    "Optionally, we can get more insights from the auto assignment process:"
   ]
  },
  {
   "cell_type": "code",
   "execution_count": 5,
   "id": "4f1493d8-9a0b-4ed5-97be-7b5f39cbd7d4",
   "metadata": {
    "execution": {
     "iopub.execute_input": "2025-10-26T04:54:03.715941Z",
     "iopub.status.busy": "2025-10-26T04:54:03.715389Z",
     "iopub.status.idle": "2025-10-26T04:54:03.724290Z",
     "shell.execute_reply": "2025-10-26T04:54:03.723646Z"
    }
   },
   "outputs": [
    {
     "name": "stdout",
     "output_type": "stream",
     "text": [
      "When using this auto assignment function, the given data is used to automatically assign a causal mechanism to each node. Note that causal mechanisms can also be customized and assigned manually.\n",
      "The following types of causal mechanisms are considered for the automatic selection:\n",
      "\n",
      "If root node:\n",
      "An empirical distribution, i.e., the distribution is represented by randomly sampling from the provided data. This provides a flexible and non-parametric way to model the marginal distribution and is valid for all types of data modalities.\n",
      "\n",
      "If non-root node and the data is continuous:\n",
      "Additive Noise Models (ANM) of the form X_i = f(PA_i) + N_i, where PA_i are the parents of X_i and the unobserved noise N_i is assumed to be independent of PA_i.To select the best model for f, different regression models are evaluated and the model with the smallest mean squared error is selected.Note that minimizing the mean squared error here is equivalent to selecting the best choice of an ANM.\n",
      "\n",
      "If non-root node and the data is discrete:\n",
      "Discrete Additive Noise Models have almost the same definition as non-discrete ANMs, but come with an additional constraint for f to only return discrete values.\n",
      "Note that 'discrete' here refers to numerical values with an order. If the data is categorical, consider representing them as strings to ensure proper model selection.\n",
      "\n",
      "If non-root node and the data is categorical:\n",
      "A functional causal model based on a classifier, i.e., X_i = f(PA_i, N_i).\n",
      "Here, N_i follows a uniform distribution on [0, 1] and is used to randomly sample a class (category) using the conditional probability distribution produced by a classification model.Here, different model classes are evaluated using the (negative) F1 score and the best performing model class is selected.\n",
      "\n",
      "In total, 3 nodes were analyzed:\n",
      "\n",
      "--- Node: X\n",
      "Node X is a root node. Therefore, assigning 'Empirical Distribution' to the node representing the marginal distribution.\n",
      "\n",
      "--- Node: Y\n",
      "Node Y is a non-root node with continuous data. Assigning 'AdditiveNoiseModel using Pipeline' to the node.\n",
      "This represents the causal relationship as Y := f(X) + N.\n",
      "For the model selection, the following models were evaluated on the mean squared error (MSE) metric:\n",
      "Pipeline(steps=[('polynomialfeatures', PolynomialFeatures(include_bias=False)),\n",
      "                ('linearregression', LinearRegression)]): 1.06363838591927\n",
      "LinearRegression: 1.063949718093531\n",
      "HistGradientBoostingRegressor: 1.209224585900919\n",
      "\n",
      "--- Node: Z\n",
      "Node Z is a non-root node with continuous data. Assigning 'AdditiveNoiseModel using LinearRegression' to the node.\n",
      "This represents the causal relationship as Z := f(Y) + N.\n",
      "For the model selection, the following models were evaluated on the mean squared error (MSE) metric:\n",
      "LinearRegression: 0.9920068700634991\n",
      "Pipeline(steps=[('polynomialfeatures', PolynomialFeatures(include_bias=False)),\n",
      "                ('linearregression', LinearRegression)]): 0.993158296310712\n",
      "HistGradientBoostingRegressor: 1.3964519582834858\n",
      "\n",
      "===Note===\n",
      "Note, based on the selected auto assignment quality, the set of evaluated models changes.\n",
      "For more insights toward the quality of the fitted graphical causal model, consider using the evaluate_causal_model function after fitting the causal mechanisms.\n"
     ]
    }
   ],
   "source": [
    "print(auto_assignment_summary)"
   ]
  },
  {
   "cell_type": "markdown",
   "id": "0ccbc2ad",
   "metadata": {},
   "source": [
    "In case we want to have more control over the assigned mechanisms, we can do this manually as well. For instance, we can\n",
    "can assign an empirical distribution to the root node X and linear additive noise models to nodes Y and Z:"
   ]
  },
  {
   "cell_type": "code",
   "execution_count": 6,
   "id": "5a50a60a",
   "metadata": {
    "collapsed": false,
    "execution": {
     "iopub.execute_input": "2025-10-26T04:54:03.726464Z",
     "iopub.status.busy": "2025-10-26T04:54:03.726235Z",
     "iopub.status.idle": "2025-10-26T04:54:03.730126Z",
     "shell.execute_reply": "2025-10-26T04:54:03.729504Z"
    },
    "jupyter": {
     "outputs_hidden": false
    },
    "pycharm": {
     "name": "#%%\n"
    }
   },
   "outputs": [],
   "source": [
    "causal_model.set_causal_mechanism('X', gcm.EmpiricalDistribution())\n",
    "causal_model.set_causal_mechanism('Y', gcm.AdditiveNoiseModel(gcm.ml.create_linear_regressor()))\n",
    "causal_model.set_causal_mechanism('Z', gcm.AdditiveNoiseModel(gcm.ml.create_linear_regressor()))"
   ]
  },
  {
   "cell_type": "markdown",
   "id": "e0d1cbd1-2544-4b18-a2c9-ddd59cd69f94",
   "metadata": {},
   "source": [
    "Here, we set node X to follow the empirical distribution we observed (nonparametric) and nodes Y and Z to follow an additive noise model where we explicitly set a linear relationship."
   ]
  },
  {
   "cell_type": "markdown",
   "id": "684d6391",
   "metadata": {},
   "source": [
    "In the real world, the data comes as an opaque stream of values, where we typically don't know how one\n",
    "variable influences another. The graphical causal models can help us to deconstruct these causal\n",
    "relationships again, even though we didn't know them before.\n",
    "\n",
    "## Step 2: Fitting the SCM to the data\n",
    "\n",
    "With the data at hand and the graph constructed earlier, we can now train the SCM using `fit`:"
   ]
  },
  {
   "cell_type": "code",
   "execution_count": 7,
   "id": "fe5f99f0",
   "metadata": {
    "execution": {
     "iopub.execute_input": "2025-10-26T04:54:03.732142Z",
     "iopub.status.busy": "2025-10-26T04:54:03.731943Z",
     "iopub.status.idle": "2025-10-26T04:54:03.744862Z",
     "shell.execute_reply": "2025-10-26T04:54:03.744158Z"
    }
   },
   "outputs": [
    {
     "name": "stderr",
     "output_type": "stream",
     "text": [
      "\r",
      "Fitting causal models:   0%|          | 0/3 [00:00<?, ?it/s]"
     ]
    },
    {
     "name": "stderr",
     "output_type": "stream",
     "text": [
      "\r",
      "Fitting causal mechanism of node X:   0%|          | 0/3 [00:00<?, ?it/s]"
     ]
    },
    {
     "name": "stderr",
     "output_type": "stream",
     "text": [
      "\r",
      "Fitting causal mechanism of node Y:   0%|          | 0/3 [00:00<?, ?it/s]"
     ]
    },
    {
     "name": "stderr",
     "output_type": "stream",
     "text": [
      "\r",
      "Fitting causal mechanism of node Z:   0%|          | 0/3 [00:00<?, ?it/s]"
     ]
    },
    {
     "name": "stderr",
     "output_type": "stream",
     "text": [
      "\r",
      "Fitting causal mechanism of node Z: 100%|██████████| 3/3 [00:00<00:00, 431.39it/s]"
     ]
    },
    {
     "name": "stderr",
     "output_type": "stream",
     "text": [
      "\n"
     ]
    }
   ],
   "source": [
    "gcm.fit(causal_model, data)"
   ]
  },
  {
   "cell_type": "markdown",
   "id": "13043ca5",
   "metadata": {},
   "source": [
    "Fitting means, we learn the generative models of the variables in the SCM according to the data."
   ]
  },
  {
   "cell_type": "markdown",
   "id": "766840ab-a353-4061-ae28-f9a9c451e490",
   "metadata": {},
   "source": [
    "Once fitted, we can also obtain more insights into the model performances:"
   ]
  },
  {
   "cell_type": "code",
   "execution_count": 8,
   "id": "671cd8d8-75b0-4019-b503-8aa83ad91615",
   "metadata": {
    "execution": {
     "iopub.execute_input": "2025-10-26T04:54:03.747151Z",
     "iopub.status.busy": "2025-10-26T04:54:03.746943Z",
     "iopub.status.idle": "2025-10-26T04:54:04.803184Z",
     "shell.execute_reply": "2025-10-26T04:54:04.802466Z"
    }
   },
   "outputs": [
    {
     "name": "stderr",
     "output_type": "stream",
     "text": [
      "\r",
      "Evaluating causal mechanisms...:   0%|          | 0/3 [00:00<?, ?it/s]"
     ]
    },
    {
     "name": "stderr",
     "output_type": "stream",
     "text": [
      "\r",
      "Evaluating causal mechanisms...: 100%|██████████| 3/3 [00:00<00:00, 3126.97it/s]"
     ]
    },
    {
     "name": "stderr",
     "output_type": "stream",
     "text": [
      "\n"
     ]
    },
    {
     "name": "stderr",
     "output_type": "stream",
     "text": [
      "\r",
      "Test permutations of given graph:   0%|          | 0/6 [00:00<?, ?it/s]"
     ]
    },
    {
     "name": "stderr",
     "output_type": "stream",
     "text": [
      "\r",
      "Test permutations of given graph:  33%|███▎      | 2/6 [00:00<00:00, 12.20it/s]"
     ]
    },
    {
     "name": "stderr",
     "output_type": "stream",
     "text": [
      "\r",
      "Test permutations of given graph:  67%|██████▋   | 4/6 [00:00<00:00, 12.61it/s]"
     ]
    },
    {
     "name": "stderr",
     "output_type": "stream",
     "text": [
      "\r",
      "Test permutations of given graph: 100%|██████████| 6/6 [00:00<00:00, 18.64it/s]"
     ]
    },
    {
     "name": "stderr",
     "output_type": "stream",
     "text": [
      "\n"
     ]
    },
    {
     "data": {
      "image/png": "[encoded data removed]",
      "text/plain": [
       "<Figure size 800x300 with 1 Axes>"
      ]
     },
     "metadata": {},
     "output_type": "display_data"
    },
    {
     "name": "stdout",
     "output_type": "stream",
     "text": [
      "Evaluated the performance of the causal mechanisms and the invertibility assumption of the causal mechanisms and the overall average KL divergence between generated and observed distribution and the graph structure. The results are as follows:\n",
      "\n",
      "==== Evaluation of Causal Mechanisms ====\n",
      "The used evaluation metrics are:\n",
      "- KL divergence (only for root-nodes): Evaluates the divergence between the generated and the observed distribution.\n",
      "- Mean Squared Error (MSE): Evaluates the average squared differences between the observed values and the conditional expectation of the causal mechanisms.\n",
      "- Normalized MSE (NMSE): The MSE normalized by the standard deviation for better comparison.\n",
      "- R2 coefficient: Indicates how much variance is explained by the conditional expectations of the mechanisms. Note, however, that this can be misleading for nonlinear relationships.\n",
      "- F1 score (only for categorical non-root nodes): The harmonic mean of the precision and recall indicating the goodness of the underlying classifier model.\n",
      "- (normalized) Continuous Ranked Probability Score (CRPS): The CRPS generalizes the Mean Absolute Percentage Error to probabilistic predictions. This gives insights into the accuracy and calibration of the causal mechanisms.\n",
      "NOTE: Every metric focuses on different aspects and they might not consistently indicate a good or bad performance.\n",
      "We will mostly utilize the CRPS for comparing and interpreting the performance of the mechanisms, since this captures the most important properties for the causal model.\n",
      "\n",
      "--- Node X\n",
      "- The KL divergence between generated and observed distribution is 0.04629355955671715.\n",
      "The estimated KL divergence indicates an overall very good representation of the data distribution.\n",
      "\n",
      "--- Node Y\n",
      "- The MSE is 1.0659002016620422.\n",
      "- The NMSE is 0.47810741685237224.\n",
      "- The R2 coefficient is 0.7712500223167849.\n",
      "- The normalized CRPS is 0.2747700413945544.\n",
      "The estimated CRPS indicates a good model performance.\n",
      "\n",
      "--- Node Z\n",
      "- The MSE is 0.9914273630463711.\n",
      "- The NMSE is 0.15112783442401506.\n",
      "- The R2 coefficient is 0.9771160115277459.\n",
      "- The normalized CRPS is 0.08664973743537843.\n",
      "The estimated CRPS indicates a very good model performance.\n",
      "\n",
      "==== Evaluation of Invertible Functional Causal Model Assumption ====\n",
      "\n",
      "--- The model assumption for node Y is not rejected with a p-value of 0.3413086851787437 (after potential adjustment) and a significance level of 0.05.\n",
      "This implies that the model assumption might be valid.\n",
      "\n",
      "--- The model assumption for node Z is not rejected with a p-value of 1.0 (after potential adjustment) and a significance level of 0.05.\n",
      "This implies that the model assumption might be valid.\n",
      "\n",
      "Note that these results are based on statistical independence tests, and the fact that the assumption was not rejected does not necessarily imply that it is correct. There is just no evidence against it.\n",
      "\n",
      "==== Evaluation of Generated Distribution ====\n",
      "The overall average KL divergence between the generated and observed distribution is 0.0\n",
      "The estimated KL divergence indicates an overall very good representation of the data distribution.\n",
      "\n",
      "==== Evaluation of the Causal Graph Structure ====\n",
      "+-------------------------------------------------------------------------------------------------------+\n",
      "|                                         Falsification Summary                                         |\n",
      "+-------------------------------------------------------------------------------------------------------+\n",
      "| The given DAG is not informative because 2 / 6 of the permutations lie in the Markov                  |\n",
      "| equivalence class of the given DAG (p-value: 0.33).                                                   |\n",
      "| The given DAG violates 0/1 LMCs and is better than 66.7% of the permuted DAGs (p-value: 0.33).        |\n",
      "| Based on the provided significance level (0.2) and because the DAG is not informative,                |\n",
      "| we do not reject the DAG.                                                                             |\n",
      "+-------------------------------------------------------------------------------------------------------+\n",
      "\n",
      "==== NOTE ====\n",
      "Always double check the made model assumptions with respect to the graph structure and choice of causal mechanisms.\n",
      "All these evaluations give some insight into the goodness of the causal model, but should not be overinterpreted, since some causal relationships can be intrinsically hard to model. Furthermore, many algorithms are fairly robust against misspecifications or poor performances of causal mechanisms.\n"
     ]
    }
   ],
   "source": [
    "print(gcm.evaluate_causal_model(causal_model, data))"
   ]
  },
  {
   "cell_type": "markdown",
   "id": "176d918a-47ed-4440-a925-51f6c19281da",
   "metadata": {},
   "source": [
    "This summary tells us a few things:\n",
    "- Our models are a good fit.\n",
    "- The additive noise model assumption was not rejected.\n",
    "- The generated distribution is very similar to the observed one.\n",
    "- The causal graph structure was not rejected."
   ]
  },
  {
   "cell_type": "markdown",
   "id": "67cfaf23-1b90-4124-84cb-39ea67401a22",
   "metadata": {},
   "source": [
    "> Note, this evaluation can take some significant time depending on the model complexities, graph size and amount of data. For a speed-up, consider changing the evaluation parameters."
   ]
  },
  {
   "cell_type": "markdown",
   "id": "fc324e13",
   "metadata": {},
   "source": [
    "## Step 3: Answering a causal query based on the SCM\n",
    "\n",
    "The last step, answering a causal question, is our actual goal. E.g. we could ask the question \"What will happen to the variable Z if I intervene on Y?\".\n",
    "\n",
    "This can be done via the `interventional_samples` function. Here’s how:"
   ]
  },
  {
   "cell_type": "code",
   "execution_count": 9,
   "id": "52452496",
   "metadata": {
    "execution": {
     "iopub.execute_input": "2025-10-26T04:54:04.805351Z",
     "iopub.status.busy": "2025-10-26T04:54:04.805148Z",
     "iopub.status.idle": "2025-10-26T04:54:04.817583Z",
     "shell.execute_reply": "2025-10-26T04:54:04.816971Z"
    }
   },
   "outputs": [
    {
     "data": {
      "text/html": [
       "<div>\n",
       "<style scoped>\n",
       "    .dataframe tbody tr th:only-of-type {\n",
       "        vertical-align: middle;\n",
       "    }\n",
       "\n",
       "    .dataframe tbody tr th {\n",
       "        vertical-align: top;\n",
       "    }\n",
       "\n",
       "    .dataframe thead th {\n",
       "        text-align: right;\n",
       "    }\n",
       "</style>\n",
       "<table border=\"1\" class=\"dataframe\">\n",
       "  <thead>\n",
       "    <tr style=\"text-align: right;\">\n",
       "      <th></th>\n",
       "      <th>X</th>\n",
       "      <th>Y</th>\n",
       "      <th>Z</th>\n",
       "    </tr>\n",
       "  </thead>\n",
       "  <tbody>\n",
       "    <tr>\n",
       "      <th>0</th>\n",
       "      <td>1.100304</td>\n",
       "      <td>2.34</td>\n",
       "      <td>7.007176</td>\n",
       "    </tr>\n",
       "    <tr>\n",
       "      <th>1</th>\n",
       "      <td>1.340453</td>\n",
       "      <td>2.34</td>\n",
       "      <td>6.128374</td>\n",
       "    </tr>\n",
       "    <tr>\n",
       "      <th>2</th>\n",
       "      <td>-0.684661</td>\n",
       "      <td>2.34</td>\n",
       "      <td>8.076388</td>\n",
       "    </tr>\n",
       "    <tr>\n",
       "      <th>3</th>\n",
       "      <td>0.253986</td>\n",
       "      <td>2.34</td>\n",
       "      <td>7.628337</td>\n",
       "    </tr>\n",
       "    <tr>\n",
       "      <th>4</th>\n",
       "      <td>-0.388024</td>\n",
       "      <td>2.34</td>\n",
       "      <td>7.549850</td>\n",
       "    </tr>\n",
       "  </tbody>\n",
       "</table>\n",
       "</div>"
      ],
      "text/plain": [
       "          X     Y         Z\n",
       "0  1.100304  2.34  7.007176\n",
       "1  1.340453  2.34  6.128374\n",
       "2 -0.684661  2.34  8.076388\n",
       "3  0.253986  2.34  7.628337\n",
       "4 -0.388024  2.34  7.549850"
      ]
     },
     "execution_count": 9,
     "metadata": {},
     "output_type": "execute_result"
    }
   ],
   "source": [
    "samples = gcm.interventional_samples(causal_model,\n",
    "                                     {'Y': lambda y: 2.34 },\n",
    "                                     num_samples_to_draw=1000)\n",
    "samples.head()"
   ]
  },
  {
   "cell_type": "markdown",
   "id": "9976c633",
   "metadata": {
    "collapsed": false,
    "jupyter": {
     "outputs_hidden": false
    },
    "pycharm": {
     "name": "#%% md\n"
    }
   },
   "source": [
    "This intervention says: \"I'll ignore any causal effects of X on Y, and set every value of Y to 2.34.\" So the distribution of X will remain unchanged, whereas values of Y will be at a fixed value and Z will respond according to its causal model."
   ]
  },
  {
   "cell_type": "markdown",
   "id": "d65e3319-58ea-4284-8810-c88b10d08448",
   "metadata": {},
   "source": [
    "> DoWhy offers a wide range of causal questions that can be answered with GCMs. See the user guide or other notebooks for more examples."
   ]
  }
 ],
 "metadata": {
  "kernelspec": {
   "display_name": "Python 3 (ipykernel)",
   "language": "python",
   "name": "python3"
  },
  "language_info": {
   "codemirror_mode": {
    "name": "ipython",
    "version": 3
   },
   "file_extension": ".py",
   "mimetype": "text/x-python",
   "name": "python",
   "nbconvert_exporter": "python",
   "pygments_lexer": "ipython3",
   "version": "3.9.23"
  }
 },
 "nbformat": 4,
 "nbformat_minor": 5
}
