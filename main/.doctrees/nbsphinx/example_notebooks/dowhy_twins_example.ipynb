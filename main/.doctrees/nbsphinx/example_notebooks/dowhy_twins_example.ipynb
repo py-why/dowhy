{
 "cells": [
  {
   "cell_type": "markdown",
   "metadata": {},
   "source": [
    "# DoWhy example on Twins dataset"
   ]
  },
  {
   "cell_type": "markdown",
   "metadata": {},
   "source": [
    "Here we study the twins dataset as studied by <a href=\"https://arxiv.org/pdf/1705.08821.pdf\" target=\"_blank\">Louizos et al</a>. We focus on twins which are the same sex and weigh less than 2kgs. The treatment t = 1 is being born the heavier twin and the outcome is mortality of each of the twins in their first year of life.The confounding variable taken is 'gestat10', the number of gestational weeks prior to birth, as it is highly correlated with the outcome. The results using the methods below are in coherence with those obtained in the paper. "
   ]
  },
  {
   "cell_type": "code",
   "execution_count": 1,
   "metadata": {
    "execution": {
     "iopub.execute_input": "2025-08-26T20:37:05.526544Z",
     "iopub.status.busy": "2025-08-26T20:37:05.526345Z",
     "iopub.status.idle": "2025-08-26T20:37:07.285146Z",
     "shell.execute_reply": "2025-08-26T20:37:07.284317Z"
    }
   },
   "outputs": [],
   "source": [
    "import pandas as pd\n",
    "import numpy as np\n",
    "import dowhy\n",
    "from dowhy import CausalModel\n",
    "from dowhy import causal_estimators\n",
    "\n",
    "# Config dict to set the logging level\n",
    "import logging.config\n",
    "DEFAULT_LOGGING = {\n",
    "    'version': 1,\n",
    "    'disable_existing_loggers': False,\n",
    "    'loggers': {\n",
    "        '': {\n",
    "            'level': 'WARN',\n",
    "        },\n",
    "    }\n",
    "}\n",
    "logging.config.dictConfig(DEFAULT_LOGGING)\n",
    "# Disabling warnings output\n",
    "import warnings\n",
    "from sklearn.exceptions import DataConversionWarning\n",
    "warnings.filterwarnings(action='ignore', category=DataConversionWarning)"
   ]
  },
  {
   "cell_type": "markdown",
   "metadata": {},
   "source": [
    "**<font size=\"4\">Load the Data</font>**"
   ]
  },
  {
   "cell_type": "markdown",
   "metadata": {},
   "source": [
    "The data loading process involves combining the covariates, treatment and outcome, and resolving the pair property in the data. Since there are entries for both the twins, their mortalities can be treated as two potential outcomes. The treatment is given in terms of weights of the twins.Therefore, to get a binary treatment, each child's information is added in a separate row instead of both's information being condensed in a single row as in the original data source."
   ]
  },
  {
   "cell_type": "code",
   "execution_count": 2,
   "metadata": {
    "execution": {
     "iopub.execute_input": "2025-08-26T20:37:07.287882Z",
     "iopub.status.busy": "2025-08-26T20:37:07.287566Z",
     "iopub.status.idle": "2025-08-26T20:37:07.739830Z",
     "shell.execute_reply": "2025-08-26T20:37:07.739164Z"
    }
   },
   "outputs": [],
   "source": [
    "#The covariates data has 46 features\n",
    "x = pd.read_csv(\"https://raw.githubusercontent.com/AMLab-Amsterdam/CEVAE/master/datasets/TWINS/twin_pairs_X_3years_samesex.csv\")\n",
    "\n",
    "#The outcome data contains mortality of the lighter and heavier twin\n",
    "y = pd.read_csv(\"https://raw.githubusercontent.com/AMLab-Amsterdam/CEVAE/master/datasets/TWINS/twin_pairs_Y_3years_samesex.csv\")\n",
    "\n",
    "#The treatment data contains weight in grams of both the twins\n",
    "t = pd.read_csv(\"https://raw.githubusercontent.com/AMLab-Amsterdam/CEVAE/master/datasets/TWINS/twin_pairs_T_3years_samesex.csv\")"
   ]
  },
  {
   "cell_type": "code",
   "execution_count": 3,
   "metadata": {
    "execution": {
     "iopub.execute_input": "2025-08-26T20:37:07.742122Z",
     "iopub.status.busy": "2025-08-26T20:37:07.741899Z",
     "iopub.status.idle": "2025-08-26T20:37:07.747794Z",
     "shell.execute_reply": "2025-08-26T20:37:07.747142Z"
    }
   },
   "outputs": [],
   "source": [
    "#_0 denotes features specific to the lighter twin and _1 denotes features specific to the heavier twin\n",
    "lighter_columns = ['pldel', 'birattnd', 'brstate', 'stoccfipb', 'mager8',\n",
    "       'ormoth', 'mrace', 'meduc6', 'dmar', 'mplbir', 'mpre5', 'adequacy',\n",
    "       'orfath', 'frace', 'birmon', 'gestat10', 'csex', 'anemia', 'cardiac',\n",
    "       'lung', 'diabetes', 'herpes', 'hydra', 'hemo', 'chyper', 'phyper',\n",
    "       'eclamp', 'incervix', 'pre4000', 'preterm', 'renal', 'rh', 'uterine',\n",
    "       'othermr', 'tobacco', 'alcohol', 'cigar6', 'drink5', 'crace',\n",
    "       'data_year', 'nprevistq', 'dfageq', 'feduc6', 'infant_id_0',\n",
    "       'dlivord_min', 'dtotord_min', 'bord_0',\n",
    "       'brstate_reg', 'stoccfipb_reg', 'mplbir_reg']\n",
    "heavier_columns = [ 'pldel', 'birattnd', 'brstate', 'stoccfipb', 'mager8',\n",
    "       'ormoth', 'mrace', 'meduc6', 'dmar', 'mplbir', 'mpre5', 'adequacy',\n",
    "       'orfath', 'frace', 'birmon', 'gestat10', 'csex', 'anemia', 'cardiac',\n",
    "       'lung', 'diabetes', 'herpes', 'hydra', 'hemo', 'chyper', 'phyper',\n",
    "       'eclamp', 'incervix', 'pre4000', 'preterm', 'renal', 'rh', 'uterine',\n",
    "       'othermr', 'tobacco', 'alcohol', 'cigar6', 'drink5', 'crace',\n",
    "       'data_year', 'nprevistq', 'dfageq', 'feduc6',\n",
    "       'infant_id_1', 'dlivord_min', 'dtotord_min', 'bord_1',\n",
    "       'brstate_reg', 'stoccfipb_reg', 'mplbir_reg']"
   ]
  },
  {
   "cell_type": "code",
   "execution_count": 4,
   "metadata": {
    "execution": {
     "iopub.execute_input": "2025-08-26T20:37:07.749977Z",
     "iopub.status.busy": "2025-08-26T20:37:07.749783Z",
     "iopub.status.idle": "2025-08-26T20:37:21.087335Z",
     "shell.execute_reply": "2025-08-26T20:37:21.086539Z"
    }
   },
   "outputs": [],
   "source": [
    "#Since data has pair property,processing the data to get separate row for each twin so that each child can be treated as an instance\n",
    "data = []\n",
    "\n",
    "for i in range(len(t.values)):\n",
    "    \n",
    "    #select only if both <=2kg\n",
    "    if t.iloc[i].values[1]>=2000 or t.iloc[i].values[2]>=2000:\n",
    "        continue\n",
    "    \n",
    "    this_instance_lighter = list(x.iloc[i][lighter_columns].values)\n",
    "    this_instance_heavier = list(x.iloc[i][heavier_columns].values)\n",
    "    \n",
    "    #adding weight\n",
    "    this_instance_lighter.append(t.iloc[i].values[1])\n",
    "    this_instance_heavier.append(t.iloc[i].values[2])\n",
    "    \n",
    "    #adding treatment, is_heavier\n",
    "    this_instance_lighter.append(0)\n",
    "    this_instance_heavier.append(1)\n",
    "    \n",
    "    #adding the outcome\n",
    "    this_instance_lighter.append(y.iloc[i].values[1])\n",
    "    this_instance_heavier.append(y.iloc[i].values[2])\n",
    "    data.append(this_instance_lighter)\n",
    "    data.append(this_instance_heavier)"
   ]
  },
  {
   "cell_type": "code",
   "execution_count": 5,
   "metadata": {
    "execution": {
     "iopub.execute_input": "2025-08-26T20:37:21.089953Z",
     "iopub.status.busy": "2025-08-26T20:37:21.089541Z",
     "iopub.status.idle": "2025-08-26T20:37:21.263158Z",
     "shell.execute_reply": "2025-08-26T20:37:21.262488Z"
    }
   },
   "outputs": [
    {
     "data": {
      "text/html": [
       "<div>\n",
       "<style scoped>\n",
       "    .dataframe tbody tr th:only-of-type {\n",
       "        vertical-align: middle;\n",
       "    }\n",
       "\n",
       "    .dataframe tbody tr th {\n",
       "        vertical-align: top;\n",
       "    }\n",
       "\n",
       "    .dataframe thead th {\n",
       "        text-align: right;\n",
       "    }\n",
       "</style>\n",
       "<table border=\"1\" class=\"dataframe\">\n",
       "  <thead>\n",
       "    <tr style=\"text-align: right;\">\n",
       "      <th></th>\n",
       "      <th>pldel</th>\n",
       "      <th>birattnd</th>\n",
       "      <th>brstate</th>\n",
       "      <th>stoccfipb</th>\n",
       "      <th>mager8</th>\n",
       "      <th>ormoth</th>\n",
       "      <th>mrace</th>\n",
       "      <th>meduc6</th>\n",
       "      <th>dmar</th>\n",
       "      <th>mplbir</th>\n",
       "      <th>...</th>\n",
       "      <th>infant_id</th>\n",
       "      <th>dlivord_min</th>\n",
       "      <th>dtotord_min</th>\n",
       "      <th>bord</th>\n",
       "      <th>brstate_reg</th>\n",
       "      <th>stoccfipb_reg</th>\n",
       "      <th>mplbir_reg</th>\n",
       "      <th>wt</th>\n",
       "      <th>treatment</th>\n",
       "      <th>outcome</th>\n",
       "    </tr>\n",
       "  </thead>\n",
       "  <tbody>\n",
       "    <tr>\n",
       "      <th>0</th>\n",
       "      <td>1.0</td>\n",
       "      <td>1.0</td>\n",
       "      <td>1.0</td>\n",
       "      <td>1.0</td>\n",
       "      <td>3.0</td>\n",
       "      <td>0.0</td>\n",
       "      <td>1.0</td>\n",
       "      <td>3.0</td>\n",
       "      <td>1.0</td>\n",
       "      <td>1.0</td>\n",
       "      <td>...</td>\n",
       "      <td>35.0</td>\n",
       "      <td>3.0</td>\n",
       "      <td>3.0</td>\n",
       "      <td>2.0</td>\n",
       "      <td>5.0</td>\n",
       "      <td>5.0</td>\n",
       "      <td>5.0</td>\n",
       "      <td>936.0</td>\n",
       "      <td>0</td>\n",
       "      <td>0.0</td>\n",
       "    </tr>\n",
       "    <tr>\n",
       "      <th>1</th>\n",
       "      <td>1.0</td>\n",
       "      <td>1.0</td>\n",
       "      <td>1.0</td>\n",
       "      <td>1.0</td>\n",
       "      <td>3.0</td>\n",
       "      <td>0.0</td>\n",
       "      <td>1.0</td>\n",
       "      <td>3.0</td>\n",
       "      <td>1.0</td>\n",
       "      <td>1.0</td>\n",
       "      <td>...</td>\n",
       "      <td>34.0</td>\n",
       "      <td>3.0</td>\n",
       "      <td>3.0</td>\n",
       "      <td>1.0</td>\n",
       "      <td>5.0</td>\n",
       "      <td>5.0</td>\n",
       "      <td>5.0</td>\n",
       "      <td>1006.0</td>\n",
       "      <td>1</td>\n",
       "      <td>0.0</td>\n",
       "    </tr>\n",
       "    <tr>\n",
       "      <th>2</th>\n",
       "      <td>1.0</td>\n",
       "      <td>1.0</td>\n",
       "      <td>1.0</td>\n",
       "      <td>1.0</td>\n",
       "      <td>3.0</td>\n",
       "      <td>0.0</td>\n",
       "      <td>1.0</td>\n",
       "      <td>2.0</td>\n",
       "      <td>0.0</td>\n",
       "      <td>1.0</td>\n",
       "      <td>...</td>\n",
       "      <td>47.0</td>\n",
       "      <td>NaN</td>\n",
       "      <td>NaN</td>\n",
       "      <td>NaN</td>\n",
       "      <td>5.0</td>\n",
       "      <td>5.0</td>\n",
       "      <td>5.0</td>\n",
       "      <td>737.0</td>\n",
       "      <td>0</td>\n",
       "      <td>0.0</td>\n",
       "    </tr>\n",
       "    <tr>\n",
       "      <th>3</th>\n",
       "      <td>1.0</td>\n",
       "      <td>1.0</td>\n",
       "      <td>1.0</td>\n",
       "      <td>1.0</td>\n",
       "      <td>3.0</td>\n",
       "      <td>0.0</td>\n",
       "      <td>1.0</td>\n",
       "      <td>2.0</td>\n",
       "      <td>0.0</td>\n",
       "      <td>1.0</td>\n",
       "      <td>...</td>\n",
       "      <td>46.0</td>\n",
       "      <td>NaN</td>\n",
       "      <td>NaN</td>\n",
       "      <td>NaN</td>\n",
       "      <td>5.0</td>\n",
       "      <td>5.0</td>\n",
       "      <td>5.0</td>\n",
       "      <td>850.0</td>\n",
       "      <td>1</td>\n",
       "      <td>1.0</td>\n",
       "    </tr>\n",
       "    <tr>\n",
       "      <th>4</th>\n",
       "      <td>1.0</td>\n",
       "      <td>1.0</td>\n",
       "      <td>1.0</td>\n",
       "      <td>1.0</td>\n",
       "      <td>3.0</td>\n",
       "      <td>0.0</td>\n",
       "      <td>1.0</td>\n",
       "      <td>3.0</td>\n",
       "      <td>1.0</td>\n",
       "      <td>1.0</td>\n",
       "      <td>...</td>\n",
       "      <td>52.0</td>\n",
       "      <td>1.0</td>\n",
       "      <td>1.0</td>\n",
       "      <td>1.0</td>\n",
       "      <td>5.0</td>\n",
       "      <td>5.0</td>\n",
       "      <td>5.0</td>\n",
       "      <td>1830.0</td>\n",
       "      <td>0</td>\n",
       "      <td>0.0</td>\n",
       "    </tr>\n",
       "  </tbody>\n",
       "</table>\n",
       "<p>5 rows × 53 columns</p>\n",
       "</div>"
      ],
      "text/plain": [
       "   pldel  birattnd  brstate  stoccfipb  mager8  ormoth  mrace  meduc6  dmar  \\\n",
       "0    1.0       1.0      1.0        1.0     3.0     0.0    1.0     3.0   1.0   \n",
       "1    1.0       1.0      1.0        1.0     3.0     0.0    1.0     3.0   1.0   \n",
       "2    1.0       1.0      1.0        1.0     3.0     0.0    1.0     2.0   0.0   \n",
       "3    1.0       1.0      1.0        1.0     3.0     0.0    1.0     2.0   0.0   \n",
       "4    1.0       1.0      1.0        1.0     3.0     0.0    1.0     3.0   1.0   \n",
       "\n",
       "   mplbir  ...  infant_id  dlivord_min  dtotord_min  bord  brstate_reg  \\\n",
       "0     1.0  ...       35.0          3.0          3.0   2.0          5.0   \n",
       "1     1.0  ...       34.0          3.0          3.0   1.0          5.0   \n",
       "2     1.0  ...       47.0          NaN          NaN   NaN          5.0   \n",
       "3     1.0  ...       46.0          NaN          NaN   NaN          5.0   \n",
       "4     1.0  ...       52.0          1.0          1.0   1.0          5.0   \n",
       "\n",
       "   stoccfipb_reg  mplbir_reg      wt  treatment  outcome  \n",
       "0            5.0         5.0   936.0          0      0.0  \n",
       "1            5.0         5.0  1006.0          1      0.0  \n",
       "2            5.0         5.0   737.0          0      0.0  \n",
       "3            5.0         5.0   850.0          1      1.0  \n",
       "4            5.0         5.0  1830.0          0      0.0  \n",
       "\n",
       "[5 rows x 53 columns]"
      ]
     },
     "execution_count": 5,
     "metadata": {},
     "output_type": "execute_result"
    }
   ],
   "source": [
    "cols = [ 'pldel', 'birattnd', 'brstate', 'stoccfipb', 'mager8',\n",
    "       'ormoth', 'mrace', 'meduc6', 'dmar', 'mplbir', 'mpre5', 'adequacy',\n",
    "       'orfath', 'frace', 'birmon', 'gestat10', 'csex', 'anemia', 'cardiac',\n",
    "       'lung', 'diabetes', 'herpes', 'hydra', 'hemo', 'chyper', 'phyper',\n",
    "       'eclamp', 'incervix', 'pre4000', 'preterm', 'renal', 'rh', 'uterine',\n",
    "       'othermr', 'tobacco', 'alcohol', 'cigar6', 'drink5', 'crace',\n",
    "       'data_year', 'nprevistq', 'dfageq', 'feduc6',\n",
    "       'infant_id', 'dlivord_min', 'dtotord_min', 'bord',\n",
    "       'brstate_reg', 'stoccfipb_reg', 'mplbir_reg','wt','treatment','outcome']\n",
    "df = pd.DataFrame(columns=cols,data=data)\n",
    "df.head()"
   ]
  },
  {
   "cell_type": "code",
   "execution_count": 6,
   "metadata": {
    "execution": {
     "iopub.execute_input": "2025-08-26T20:37:21.265193Z",
     "iopub.status.busy": "2025-08-26T20:37:21.264980Z",
     "iopub.status.idle": "2025-08-26T20:37:21.344813Z",
     "shell.execute_reply": "2025-08-26T20:37:21.344137Z"
    }
   },
   "outputs": [
    {
     "name": "stdout",
     "output_type": "stream",
     "text": [
      "0.16421895861148197\n",
      "0.1894192256341789\n",
      "ATE -0.025200267022696926\n"
     ]
    }
   ],
   "source": [
    "df = df.astype({\"treatment\":'bool'}, copy=False) #explicitly assigning treatment column as boolean \n",
    "\n",
    "df.fillna(value=df.mean(),inplace=True)    #filling the missing values\n",
    "df.fillna(value=df.mode().loc[0],inplace=True)\n",
    "\n",
    "data_1 = df[df[\"treatment\"]==1]\n",
    "data_0 = df[df[\"treatment\"]==0]\n",
    "print(np.mean(data_1[\"outcome\"]))\n",
    "print(np.mean(data_0[\"outcome\"]))\n",
    "print(\"ATE\", np.mean(data_1[\"outcome\"])- np.mean(data_0[\"outcome\"]))"
   ]
  },
  {
   "cell_type": "markdown",
   "metadata": {},
   "source": [
    "**<font size=\"4\">1. Model</font>**"
   ]
  },
  {
   "cell_type": "code",
   "execution_count": 7,
   "metadata": {
    "execution": {
     "iopub.execute_input": "2025-08-26T20:37:21.347046Z",
     "iopub.status.busy": "2025-08-26T20:37:21.346845Z",
     "iopub.status.idle": "2025-08-26T20:37:21.350321Z",
     "shell.execute_reply": "2025-08-26T20:37:21.349766Z"
    },
    "scrolled": true
   },
   "outputs": [],
   "source": [
    "#The causal model has \"treatment = is_heavier\", \"outcome = mortality\" and \"gestat10 = gestational weeks before birth\"\n",
    "model=CausalModel(\n",
    "        data = df,\n",
    "        treatment='treatment',\n",
    "        outcome='outcome',\n",
    "        common_causes='gestat10'\n",
    "        )"
   ]
  },
  {
   "cell_type": "markdown",
   "metadata": {},
   "source": [
    "**<font size=\"4\">2. Identify</font>**"
   ]
  },
  {
   "cell_type": "code",
   "execution_count": 8,
   "metadata": {
    "execution": {
     "iopub.execute_input": "2025-08-26T20:37:21.352067Z",
     "iopub.status.busy": "2025-08-26T20:37:21.351875Z",
     "iopub.status.idle": "2025-08-26T20:37:21.359602Z",
     "shell.execute_reply": "2025-08-26T20:37:21.359020Z"
    },
    "scrolled": true
   },
   "outputs": [
    {
     "name": "stdout",
     "output_type": "stream",
     "text": [
      "Estimand type: EstimandType.NONPARAMETRIC_ATE\n",
      "\n",
      "### Estimand : 1\n",
      "Estimand name: backdoor\n",
      "Estimand expression:\n",
      "     d                           \n",
      "────────────(E[outcome|gestat10])\n",
      "d[treatment]                     \n",
      "Estimand assumption 1, Unconfoundedness: If U→{treatment} and U→outcome then P(outcome|treatment,gestat10,U) = P(outcome|treatment,gestat10)\n",
      "\n",
      "### Estimand : 2\n",
      "Estimand name: iv\n",
      "No such variable(s) found!\n",
      "\n",
      "### Estimand : 3\n",
      "Estimand name: frontdoor\n",
      "No such variable(s) found!\n",
      "\n"
     ]
    }
   ],
   "source": [
    "identified_estimand = model.identify_effect(proceed_when_unidentifiable=True)\n",
    "print(identified_estimand)"
   ]
  },
  {
   "cell_type": "markdown",
   "metadata": {},
   "source": [
    "**<font size=\"4\">3. Estimate Using Various Methods</font>**"
   ]
  },
  {
   "cell_type": "markdown",
   "metadata": {},
   "source": [
    "**<font size=\"3\">3.1 Using Linear Regression</font>**"
   ]
  },
  {
   "cell_type": "code",
   "execution_count": 9,
   "metadata": {
    "execution": {
     "iopub.execute_input": "2025-08-26T20:37:21.361466Z",
     "iopub.status.busy": "2025-08-26T20:37:21.361270Z",
     "iopub.status.idle": "2025-08-26T20:37:21.401078Z",
     "shell.execute_reply": "2025-08-26T20:37:21.400421Z"
    }
   },
   "outputs": [
    {
     "name": "stdout",
     "output_type": "stream",
     "text": [
      "*** Causal Estimate ***\n",
      "\n",
      "## Identified estimand\n",
      "Estimand type: EstimandType.NONPARAMETRIC_ATE\n",
      "\n",
      "### Estimand : 1\n",
      "Estimand name: backdoor\n",
      "Estimand expression:\n",
      "     d                           \n",
      "────────────(E[outcome|gestat10])\n",
      "d[treatment]                     \n",
      "Estimand assumption 1, Unconfoundedness: If U→{treatment} and U→outcome then P(outcome|treatment,gestat10,U) = P(outcome|treatment,gestat10)\n",
      "\n",
      "## Realized estimand\n",
      "b: outcome~treatment+gestat10\n",
      "Target units: ate\n",
      "\n",
      "## Estimate\n",
      "Mean value: -0.025200267022693457\n",
      "p-value: [7.18902894e-08]\n",
      "\n",
      "ATE -0.025200267022696926\n",
      "Causal Estimate is -0.025200267022693457\n"
     ]
    }
   ],
   "source": [
    "estimate = model.estimate_effect(identified_estimand,\n",
    "        method_name=\"backdoor.linear_regression\", test_significance=True\n",
    ")\n",
    "\n",
    "print(estimate)\n",
    "print(\"ATE\", np.mean(data_1[\"outcome\"])- np.mean(data_0[\"outcome\"]))\n",
    "print(\"Causal Estimate is \" + str(estimate.value))"
   ]
  },
  {
   "cell_type": "markdown",
   "metadata": {},
   "source": [
    "**<font size=\"3\">3.2 Using Propensity Score Matching</font>**"
   ]
  },
  {
   "cell_type": "code",
   "execution_count": 10,
   "metadata": {
    "execution": {
     "iopub.execute_input": "2025-08-26T20:37:21.403971Z",
     "iopub.status.busy": "2025-08-26T20:37:21.403748Z",
     "iopub.status.idle": "2025-08-26T20:37:22.794134Z",
     "shell.execute_reply": "2025-08-26T20:37:22.793467Z"
    }
   },
   "outputs": [
    {
     "name": "stdout",
     "output_type": "stream",
     "text": [
      "Causal Estimate is 0.4873998664886515\n",
      "ATE -0.025200267022696926\n"
     ]
    }
   ],
   "source": [
    "estimate = model.estimate_effect(identified_estimand,\n",
    "        method_name=\"backdoor.propensity_score_matching\"\n",
    ")\n",
    "\n",
    "print(\"Causal Estimate is \" + str(estimate.value))\n",
    "\n",
    "print(\"ATE\", np.mean(data_1[\"outcome\"])- np.mean(data_0[\"outcome\"]))"
   ]
  },
  {
   "cell_type": "markdown",
   "metadata": {},
   "source": [
    "**<font size=\"4\">4. Refute</font>**"
   ]
  },
  {
   "cell_type": "markdown",
   "metadata": {},
   "source": [
    "**<font size=\"3\">4.1 Adding a random cause</font>**"
   ]
  },
  {
   "cell_type": "code",
   "execution_count": 11,
   "metadata": {
    "execution": {
     "iopub.execute_input": "2025-08-26T20:37:22.796287Z",
     "iopub.status.busy": "2025-08-26T20:37:22.796060Z",
     "iopub.status.idle": "2025-08-26T20:39:36.100559Z",
     "shell.execute_reply": "2025-08-26T20:39:36.099836Z"
    }
   },
   "outputs": [
    {
     "name": "stdout",
     "output_type": "stream",
     "text": [
      "Refute: Add a random common cause\n",
      "Estimated effect:0.4873998664886515\n",
      "New effect:0.48739986648865147\n",
      "p value:1.0\n",
      "\n"
     ]
    }
   ],
   "source": [
    "refute_results=model.refute_estimate(identified_estimand, estimate,\n",
    "        method_name=\"random_common_cause\")\n",
    "print(refute_results)"
   ]
  },
  {
   "cell_type": "markdown",
   "metadata": {},
   "source": [
    "**<font size=\"3\">4.2 Using a placebo treatment</font>**"
   ]
  },
  {
   "cell_type": "code",
   "execution_count": 12,
   "metadata": {
    "execution": {
     "iopub.execute_input": "2025-08-26T20:39:36.102749Z",
     "iopub.status.busy": "2025-08-26T20:39:36.102366Z",
     "iopub.status.idle": "2025-08-26T20:40:02.763305Z",
     "shell.execute_reply": "2025-08-26T20:40:02.762663Z"
    }
   },
   "outputs": [
    {
     "name": "stdout",
     "output_type": "stream",
     "text": [
      "Refute: Use a Placebo Treatment\n",
      "Estimated effect:0.4873998664886515\n",
      "New effect:-0.09975801068090787\n",
      "p value:0.34744266269102764\n",
      "\n"
     ]
    }
   ],
   "source": [
    "res_placebo=model.refute_estimate(identified_estimand, estimate,\n",
    "        method_name=\"placebo_treatment_refuter\", placebo_type=\"permute\",\n",
    "        num_simulations=20) \n",
    "print(res_placebo)"
   ]
  },
  {
   "cell_type": "markdown",
   "metadata": {},
   "source": [
    "**<font size=\"3\">4.3 Using a data subset refuter</font>**"
   ]
  },
  {
   "cell_type": "code",
   "execution_count": 13,
   "metadata": {
    "execution": {
     "iopub.execute_input": "2025-08-26T20:40:02.765339Z",
     "iopub.status.busy": "2025-08-26T20:40:02.765149Z",
     "iopub.status.idle": "2025-08-26T20:40:24.895133Z",
     "shell.execute_reply": "2025-08-26T20:40:24.894507Z"
    }
   },
   "outputs": [
    {
     "name": "stdout",
     "output_type": "stream",
     "text": [
      "Refute: Use a subset of data\n",
      "Estimated effect:0.4873998664886515\n",
      "New effect:0.037348755273283574\n",
      "p value:0.019434170683845453\n",
      "\n"
     ]
    }
   ],
   "source": [
    "res_subset=model.refute_estimate(identified_estimand, estimate,\n",
    "        method_name=\"data_subset_refuter\", subset_fraction=0.9,\n",
    "        num_simulations=20)\n",
    "print(res_subset)"
   ]
  }
 ],
 "metadata": {
  "kernelspec": {
   "display_name": "Python 3",
   "language": "python",
   "name": "python3"
  },
  "language_info": {
   "codemirror_mode": {
    "name": "ipython",
    "version": 3
   },
   "file_extension": ".py",
   "mimetype": "text/x-python",
   "name": "python",
   "nbconvert_exporter": "python",
   "pygments_lexer": "ipython3",
   "version": "3.9.23"
  },
  "toc": {
   "base_numbering": 1,
   "nav_menu": {},
   "number_sections": true,
   "sideBar": true,
   "skip_h1_title": true,
   "title_cell": "Table of Contents",
   "title_sidebar": "Contents",
   "toc_cell": false,
   "toc_position": {},
   "toc_section_display": true,
   "toc_window_display": true
  }
 },
 "nbformat": 4,
 "nbformat_minor": 4
}
