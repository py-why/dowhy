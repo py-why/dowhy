{
 "cells": [
  {
   "cell_type": "markdown",
   "id": "d5433f53-63d7-4ed7-95aa-8dea0b2b0065",
   "metadata": {},
   "source": [
    "# Causal Effect Estimation with the Generalized Adjustment Criterion - Example Notebook\n",
    "\n",
    "The backdoor criterion, while very useful, is not complete, e.g. there are some valid adjustment sets which do not satisfy the backdoor criterion. This notebook gives an example where the backdoor criterion finds no adjustment sets, but by using the generalized adjustment algorithm one can still use covariate adjustment to estimate the causal effect."
   ]
  },
  {
   "cell_type": "code",
   "execution_count": 1,
   "id": "63a631d8-b14b-4647-b74d-e898cc2bf540",
   "metadata": {},
   "outputs": [],
   "source": [
    "from dowhy import CausalModel\n",
    "import dowhy.datasets\n",
    "import pandas as pd\n",
    "import networkx as nx\n",
    "\n",
    "import warnings\n",
    "warnings.filterwarnings('ignore')"
   ]
  },
  {
   "cell_type": "code",
   "execution_count": 44,
   "id": "68c136aa-a91d-46a7-8934-a1092bc17d60",
   "metadata": {},
   "outputs": [
    {
     "data": {
      "text/html": [
       "<div>\n",
       "<style scoped>\n",
       "    .dataframe tbody tr th:only-of-type {\n",
       "        vertical-align: middle;\n",
       "    }\n",
       "\n",
       "    .dataframe tbody tr th {\n",
       "        vertical-align: top;\n",
       "    }\n",
       "\n",
       "    .dataframe thead th {\n",
       "        text-align: right;\n",
       "    }\n",
       "</style>\n",
       "<table border=\"1\" class=\"dataframe\">\n",
       "  <thead>\n",
       "    <tr style=\"text-align: right;\">\n",
       "      <th></th>\n",
       "      <th>L</th>\n",
       "      <th>V4</th>\n",
       "      <th>V5</th>\n",
       "      <th>X1</th>\n",
       "      <th>V1</th>\n",
       "      <th>V3</th>\n",
       "      <th>V2</th>\n",
       "      <th>X2</th>\n",
       "      <th>Y</th>\n",
       "    </tr>\n",
       "  </thead>\n",
       "  <tbody>\n",
       "    <tr>\n",
       "      <th>0</th>\n",
       "      <td>-0.285453</td>\n",
       "      <td>-0.634205</td>\n",
       "      <td>-0.829879</td>\n",
       "      <td>1</td>\n",
       "      <td>-0.689395</td>\n",
       "      <td>-0.159391</td>\n",
       "      <td>1.472056</td>\n",
       "      <td>1</td>\n",
       "      <td>0.983598</td>\n",
       "    </tr>\n",
       "    <tr>\n",
       "      <th>1</th>\n",
       "      <td>-0.765150</td>\n",
       "      <td>1.840856</td>\n",
       "      <td>0.364065</td>\n",
       "      <td>1</td>\n",
       "      <td>-0.195452</td>\n",
       "      <td>-0.343018</td>\n",
       "      <td>-0.397037</td>\n",
       "      <td>0</td>\n",
       "      <td>-0.286198</td>\n",
       "    </tr>\n",
       "    <tr>\n",
       "      <th>2</th>\n",
       "      <td>0.424812</td>\n",
       "      <td>0.670598</td>\n",
       "      <td>-0.693397</td>\n",
       "      <td>0</td>\n",
       "      <td>0.481983</td>\n",
       "      <td>1.232096</td>\n",
       "      <td>0.764908</td>\n",
       "      <td>0</td>\n",
       "      <td>-0.169075</td>\n",
       "    </tr>\n",
       "    <tr>\n",
       "      <th>3</th>\n",
       "      <td>1.633208</td>\n",
       "      <td>-0.772012</td>\n",
       "      <td>-1.144497</td>\n",
       "      <td>0</td>\n",
       "      <td>-1.039779</td>\n",
       "      <td>0.682182</td>\n",
       "      <td>0.891705</td>\n",
       "      <td>1</td>\n",
       "      <td>0.335345</td>\n",
       "    </tr>\n",
       "    <tr>\n",
       "      <th>4</th>\n",
       "      <td>-0.568951</td>\n",
       "      <td>0.064867</td>\n",
       "      <td>-0.194460</td>\n",
       "      <td>0</td>\n",
       "      <td>1.816467</td>\n",
       "      <td>0.704929</td>\n",
       "      <td>0.175386</td>\n",
       "      <td>0</td>\n",
       "      <td>0.866810</td>\n",
       "    </tr>\n",
       "  </tbody>\n",
       "</table>\n",
       "</div>"
      ],
      "text/plain": [
       "          L        V4        V5  X1        V1        V3        V2  X2  \\\n",
       "0 -0.285453 -0.634205 -0.829879   1 -0.689395 -0.159391  1.472056   1   \n",
       "1 -0.765150  1.840856  0.364065   1 -0.195452 -0.343018 -0.397037   0   \n",
       "2  0.424812  0.670598 -0.693397   0  0.481983  1.232096  0.764908   0   \n",
       "3  1.633208 -0.772012 -1.144497   0 -1.039779  0.682182  0.891705   1   \n",
       "4 -0.568951  0.064867 -0.194460   0  1.816467  0.704929  0.175386   0   \n",
       "\n",
       "          Y  \n",
       "0  0.983598  \n",
       "1 -0.286198  \n",
       "2 -0.169075  \n",
       "3  0.335345  \n",
       "4  0.866810  "
      ]
     },
     "execution_count": 44,
     "metadata": {},
     "output_type": "execute_result"
    }
   ],
   "source": [
    "# Define the graph\n",
    "treatments = [\"X1\", \"X2\"]\n",
    "outcome = \"Y\"\n",
    "variables = [\"V1\", \"V2\", \"V3\", \"V4\", \"V5\"]\n",
    "edges = [\n",
    "    (\"V5\", \"X1\"),\n",
    "    (\"V4\", \"X1\"),\n",
    "    (\"X1\", \"V1\"),\n",
    "    (\"V1\", \"V2\"),\n",
    "    (\"V2\", \"X2\"),\n",
    "    (\"X2\", \"Y\"),\n",
    "    (\"X1\", \"V3\"),\n",
    "    (\"V3\", \"Y\"),\n",
    "    (\"L\", \"V3\"),\n",
    "    (\"L\", \"V2\"),\n",
    "]\n",
    "graph = nx.DiGraph(edges)\n",
    "data = dowhy.datasets.linear_dataset_from_graph(\n",
    "    graph, \n",
    "    treatments=treatments, \n",
    "    outcome=outcome, \n",
    "    treatments_are_binary=True,\n",
    "    outcome_is_binary=False,\n",
    "    num_samples=10_000\n",
    ")\n",
    "data['df'].head()"
   ]
  },
  {
   "cell_type": "markdown",
   "id": "1ce53578-ed47-4116-820b-d9ace13b6ddc",
   "metadata": {},
   "source": [
    "Since this data was syntheticly generated, we have access to the true ATE from the random edge weights assigned to the given causal graph."
   ]
  },
  {
   "cell_type": "code",
   "execution_count": 47,
   "id": "e5b6c8a6-eb0c-43c4-b8b6-332f20041a95",
   "metadata": {},
   "outputs": [
    {
     "data": {
      "image/png": "[encoded data removed]",
      "text/latex": [
       "$\\displaystyle 0.750699626768534$"
      ],
      "text/plain": [
       "0.7506996267685339"
      ]
     },
     "execution_count": 47,
     "metadata": {},
     "output_type": "execute_result"
    }
   ],
   "source": [
    "data[\"ate\"]"
   ]
  },
  {
   "cell_type": "markdown",
   "id": "abedc954-dbdc-4b44-a6eb-c395fb8e12a8",
   "metadata": {},
   "source": [
    "We now drop \"L\" from the dataset, as L will be unobserved."
   ]
  },
  {
   "cell_type": "code",
   "execution_count": 50,
   "id": "f25eefb9-f0a4-4d14-bfe7-e4a13bb0f66c",
   "metadata": {},
   "outputs": [
    {
     "data": {
      "text/html": [
       "<div>\n",
       "<style scoped>\n",
       "    .dataframe tbody tr th:only-of-type {\n",
       "        vertical-align: middle;\n",
       "    }\n",
       "\n",
       "    .dataframe tbody tr th {\n",
       "        vertical-align: top;\n",
       "    }\n",
       "\n",
       "    .dataframe thead th {\n",
       "        text-align: right;\n",
       "    }\n",
       "</style>\n",
       "<table border=\"1\" class=\"dataframe\">\n",
       "  <thead>\n",
       "    <tr style=\"text-align: right;\">\n",
       "      <th></th>\n",
       "      <th>V4</th>\n",
       "      <th>V5</th>\n",
       "      <th>X1</th>\n",
       "      <th>V1</th>\n",
       "      <th>V3</th>\n",
       "      <th>V2</th>\n",
       "      <th>X2</th>\n",
       "      <th>Y</th>\n",
       "    </tr>\n",
       "  </thead>\n",
       "  <tbody>\n",
       "    <tr>\n",
       "      <th>0</th>\n",
       "      <td>-0.634205</td>\n",
       "      <td>-0.829879</td>\n",
       "      <td>1</td>\n",
       "      <td>-0.689395</td>\n",
       "      <td>-0.159391</td>\n",
       "      <td>1.472056</td>\n",
       "      <td>1</td>\n",
       "      <td>0.983598</td>\n",
       "    </tr>\n",
       "    <tr>\n",
       "      <th>1</th>\n",
       "      <td>1.840856</td>\n",
       "      <td>0.364065</td>\n",
       "      <td>1</td>\n",
       "      <td>-0.195452</td>\n",
       "      <td>-0.343018</td>\n",
       "      <td>-0.397037</td>\n",
       "      <td>0</td>\n",
       "      <td>-0.286198</td>\n",
       "    </tr>\n",
       "    <tr>\n",
       "      <th>2</th>\n",
       "      <td>0.670598</td>\n",
       "      <td>-0.693397</td>\n",
       "      <td>0</td>\n",
       "      <td>0.481983</td>\n",
       "      <td>1.232096</td>\n",
       "      <td>0.764908</td>\n",
       "      <td>0</td>\n",
       "      <td>-0.169075</td>\n",
       "    </tr>\n",
       "    <tr>\n",
       "      <th>3</th>\n",
       "      <td>-0.772012</td>\n",
       "      <td>-1.144497</td>\n",
       "      <td>0</td>\n",
       "      <td>-1.039779</td>\n",
       "      <td>0.682182</td>\n",
       "      <td>0.891705</td>\n",
       "      <td>1</td>\n",
       "      <td>0.335345</td>\n",
       "    </tr>\n",
       "    <tr>\n",
       "      <th>4</th>\n",
       "      <td>0.064867</td>\n",
       "      <td>-0.194460</td>\n",
       "      <td>0</td>\n",
       "      <td>1.816467</td>\n",
       "      <td>0.704929</td>\n",
       "      <td>0.175386</td>\n",
       "      <td>0</td>\n",
       "      <td>0.866810</td>\n",
       "    </tr>\n",
       "  </tbody>\n",
       "</table>\n",
       "</div>"
      ],
      "text/plain": [
       "         V4        V5  X1        V1        V3        V2  X2         Y\n",
       "0 -0.634205 -0.829879   1 -0.689395 -0.159391  1.472056   1  0.983598\n",
       "1  1.840856  0.364065   1 -0.195452 -0.343018 -0.397037   0 -0.286198\n",
       "2  0.670598 -0.693397   0  0.481983  1.232096  0.764908   0 -0.169075\n",
       "3 -0.772012 -1.144497   0 -1.039779  0.682182  0.891705   1  0.335345\n",
       "4  0.064867 -0.194460   0  1.816467  0.704929  0.175386   0  0.866810"
      ]
     },
     "execution_count": 50,
     "metadata": {},
     "output_type": "execute_result"
    }
   ],
   "source": [
    "data['df'] = data['df'].drop(columns='L', inplace=False)  # L is unobserved\n",
    "df=data['df']\n",
    "df.head()"
   ]
  },
  {
   "cell_type": "code",
   "execution_count": 52,
   "id": "23dfda9f-0399-4725-8a6b-ae2b27c97570",
   "metadata": {},
   "outputs": [],
   "source": [
    "model = CausalModel(data=data[\"df\"],\n",
    "                    treatment=data[\"treatment_name\"], outcome=data[\"outcome_name\"],\n",
    "                    graph=data[\"gml_graph\"])"
   ]
  },
  {
   "cell_type": "code",
   "execution_count": 54,
   "id": "fe402e90-58fe-48e3-a90f-3fc0d76ec734",
   "metadata": {},
   "outputs": [
    {
     "data": {
      "image/png": "[encoded data removed]",
      "text/plain": [
       "<Figure size 800x600 with 1 Axes>"
      ]
     },
     "metadata": {},
     "output_type": "display_data"
    },
    {
     "data": {
      "image/png": "[encoded data removed]",
      "text/plain": [
       "<IPython.core.display.Image object>"
      ]
     },
     "metadata": {},
     "output_type": "display_data"
    }
   ],
   "source": [
    "model.view_model()\n",
    "from IPython.display import Image, display\n",
    "display(Image(filename=\"causal_model.png\"))"
   ]
  },
  {
   "cell_type": "markdown",
   "id": "2d605c9c-c5df-4de8-93d2-ddc5e75a817f",
   "metadata": {},
   "source": [
    "The backdoor criterion requires the adjustment set **Z** to (1) contain no descendents of **X** and (2) to d-separate all backdoor paths from **X** to **Y**. In this case, in the above graph, the backdoor criterion would require the adjustment set to include L (since V2 and V3 are descendents of **X**). But if L is unobserved, then we cannot control for L, and so the backdoor criterion finds no adjustment sets.\n",
    "\n",
    "The generalized adjustment criterion given in Perković et al. (2018) however is complete, and is able to identify that in fact {V1, V2} is a valid adjustment set. One can use this adjustment criterion to identify an estimand by using the 'identify_effect()' method in the CausalModel class, which gives a minimal adjustment set which meets the general adjustment criterion. One can then use convariate adjustment to estimate the causal effect given this estimad."
   ]
  },
  {
   "cell_type": "code",
   "execution_count": 57,
   "id": "f6236abe-37d4-403d-b7ae-15302bf75887",
   "metadata": {},
   "outputs": [
    {
     "name": "stdout",
     "output_type": "stream",
     "text": [
      "Estimand type: EstimandType.NONPARAMETRIC_ATE\n",
      "\n",
      "### Estimand : 1\n",
      "Estimand name: backdoor\n",
      "No such variable(s) found!\n",
      "\n",
      "### Estimand : 2\n",
      "Estimand name: iv\n",
      "Estimand expression:\n",
      " ⎡                                  -1⎤\n",
      " ⎢    d        ⎛    ∂              ⎞  ⎥\n",
      "E⎢─────────(Y)⋅⎜─────────([X₁  X₂])⎟  ⎥\n",
      " ⎣d[V₅  V₄]    ⎝∂[V₅  V₄]          ⎠  ⎦\n",
      "Estimand assumption 1, As-if-random: If U→→Y then ¬(U →→{V5,V4})\n",
      "Estimand assumption 2, Exclusion: If we remove {V5,V4}→{X1,X2}, then ¬({V5,V4}→Y)\n",
      "\n",
      "### Estimand : 3\n",
      "Estimand name: frontdoor\n",
      "No such variable(s) found!\n",
      "\n",
      "### Estimand : 4\n",
      "Estimand name: general_adjustment\n",
      "Estimand expression:\n",
      "    d                \n",
      "─────────(E[Y|V1,V2])\n",
      "d[X₁  X₂]            \n",
      "Estimand assumption 1, Unconfoundedness: If U→{X1,X2} and U→Y then P(Y|X1,X2,V1,V2,U) = P(Y|X1,X2,V1,V2)\n",
      "\n"
     ]
    }
   ],
   "source": [
    "identified_estimand= model.identify_effect(proceed_when_unidentifiable=True)\n",
    "print(identified_estimand)"
   ]
  },
  {
   "cell_type": "markdown",
   "id": "8e253d81-a1f2-4a85-8b08-0e1ab448eafa",
   "metadata": {},
   "source": [
    "### Computing the Estimate\n",
    "\n",
    "We can now use the covariate adjustment set identified by the general adjustment criterion used in the identify_effect() method. We can compare this to the ground truth ATE of the data from above."
   ]
  },
  {
   "cell_type": "code",
   "execution_count": 60,
   "id": "137ba024-a199-4b01-854e-736acbcc85e4",
   "metadata": {},
   "outputs": [
    {
     "name": "stdout",
     "output_type": "stream",
     "text": [
      "*** Causal Estimate ***\n",
      "\n",
      "## Identified estimand\n",
      "Estimand type: EstimandType.NONPARAMETRIC_ATE\n",
      "\n",
      "### Estimand : 1\n",
      "Estimand name: general_adjustment\n",
      "Estimand expression:\n",
      "    d                \n",
      "─────────(E[Y|V1,V2])\n",
      "d[X₁  X₂]            \n",
      "Estimand assumption 1, Unconfoundedness: If U→{X1,X2} and U→Y then P(Y|X1,X2,V1,V2,U) = P(Y|X1,X2,V1,V2)\n",
      "\n",
      "## Realized estimand\n",
      "b: Y~X1+X2+V1+V2\n",
      "Target units: ate\n",
      "\n",
      "## Estimate\n",
      "Mean value: 0.7697765002235358\n",
      "\n"
     ]
    }
   ],
   "source": [
    "linear_estimate = model.estimate_effect(identified_estimand,\n",
    "                                        method_name=\"general_adjustment.linear_regression\",\n",
    "                                        control_value=(0,0),\n",
    "                                        treatment_value=(1,1),\n",
    "                                        method_params={'need_conditional_estimates': False})\n",
    "print(linear_estimate)"
   ]
  },
  {
   "cell_type": "code",
   "execution_count": null,
   "id": "c4c51fee-38a7-455a-b8b7-35a4469a6929",
   "metadata": {},
   "outputs": [],
   "source": []
  }
 ],
 "metadata": {
  "kernelspec": {
   "display_name": "Python 3 (ipykernel)",
   "language": "python",
   "name": "python3"
  },
  "language_info": {
   "codemirror_mode": {
    "name": "ipython",
    "version": 3
   },
   "file_extension": ".py",
   "mimetype": "text/x-python",
   "name": "python",
   "nbconvert_exporter": "python",
   "pygments_lexer": "ipython3",
   "version": "3.11.7"
  }
 },
 "nbformat": 4,
 "nbformat_minor": 5
}
