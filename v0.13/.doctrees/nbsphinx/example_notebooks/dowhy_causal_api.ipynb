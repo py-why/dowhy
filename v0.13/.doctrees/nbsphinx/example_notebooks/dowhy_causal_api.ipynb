{
 "cells": [
  {
   "cell_type": "markdown",
   "metadata": {},
   "source": [
    "# Demo for the DoWhy causal API\n",
    "We show a simple example of adding a causal extension to any dataframe. "
   ]
  },
  {
   "cell_type": "code",
   "execution_count": 1,
   "metadata": {
    "execution": {
     "iopub.execute_input": "2025-07-12T13:59:08.214214Z",
     "iopub.status.busy": "2025-07-12T13:59:08.213977Z",
     "iopub.status.idle": "2025-07-12T13:59:09.956652Z",
     "shell.execute_reply": "2025-07-12T13:59:09.955751Z"
    }
   },
   "outputs": [],
   "source": [
    "import dowhy.datasets\n",
    "import dowhy.api\n",
    "from dowhy.graph import build_graph_from_str\n",
    "\n",
    "import numpy as np\n",
    "import pandas as pd\n",
    "\n",
    "from statsmodels.api import OLS"
   ]
  },
  {
   "cell_type": "code",
   "execution_count": 2,
   "metadata": {
    "execution": {
     "iopub.execute_input": "2025-07-12T13:59:09.959752Z",
     "iopub.status.busy": "2025-07-12T13:59:09.958992Z",
     "iopub.status.idle": "2025-07-12T13:59:10.004549Z",
     "shell.execute_reply": "2025-07-12T13:59:10.003895Z"
    }
   },
   "outputs": [
    {
     "data": {
      "text/html": [
       "<div>\n",
       "<style scoped>\n",
       "    .dataframe tbody tr th:only-of-type {\n",
       "        vertical-align: middle;\n",
       "    }\n",
       "\n",
       "    .dataframe tbody tr th {\n",
       "        vertical-align: top;\n",
       "    }\n",
       "\n",
       "    .dataframe thead th {\n",
       "        text-align: right;\n",
       "    }\n",
       "</style>\n",
       "<table border=\"1\" class=\"dataframe\">\n",
       "  <thead>\n",
       "    <tr style=\"text-align: right;\">\n",
       "      <th></th>\n",
       "      <th>W0</th>\n",
       "      <th>v0</th>\n",
       "      <th>y</th>\n",
       "    </tr>\n",
       "  </thead>\n",
       "  <tbody>\n",
       "    <tr>\n",
       "      <th>0</th>\n",
       "      <td>1.734861</td>\n",
       "      <td>True</td>\n",
       "      <td>5.677652</td>\n",
       "    </tr>\n",
       "    <tr>\n",
       "      <th>1</th>\n",
       "      <td>1.692967</td>\n",
       "      <td>True</td>\n",
       "      <td>5.345768</td>\n",
       "    </tr>\n",
       "    <tr>\n",
       "      <th>2</th>\n",
       "      <td>-0.678012</td>\n",
       "      <td>True</td>\n",
       "      <td>5.865227</td>\n",
       "    </tr>\n",
       "    <tr>\n",
       "      <th>3</th>\n",
       "      <td>0.320417</td>\n",
       "      <td>False</td>\n",
       "      <td>-1.465444</td>\n",
       "    </tr>\n",
       "    <tr>\n",
       "      <th>4</th>\n",
       "      <td>-1.743889</td>\n",
       "      <td>True</td>\n",
       "      <td>5.025204</td>\n",
       "    </tr>\n",
       "    <tr>\n",
       "      <th>...</th>\n",
       "      <td>...</td>\n",
       "      <td>...</td>\n",
       "      <td>...</td>\n",
       "    </tr>\n",
       "    <tr>\n",
       "      <th>995</th>\n",
       "      <td>-1.195709</td>\n",
       "      <td>False</td>\n",
       "      <td>-0.097315</td>\n",
       "    </tr>\n",
       "    <tr>\n",
       "      <th>996</th>\n",
       "      <td>1.086976</td>\n",
       "      <td>False</td>\n",
       "      <td>1.035984</td>\n",
       "    </tr>\n",
       "    <tr>\n",
       "      <th>997</th>\n",
       "      <td>0.115227</td>\n",
       "      <td>True</td>\n",
       "      <td>4.093856</td>\n",
       "    </tr>\n",
       "    <tr>\n",
       "      <th>998</th>\n",
       "      <td>0.986937</td>\n",
       "      <td>True</td>\n",
       "      <td>4.631330</td>\n",
       "    </tr>\n",
       "    <tr>\n",
       "      <th>999</th>\n",
       "      <td>0.226167</td>\n",
       "      <td>True</td>\n",
       "      <td>5.485148</td>\n",
       "    </tr>\n",
       "  </tbody>\n",
       "</table>\n",
       "<p>1000 rows × 3 columns</p>\n",
       "</div>"
      ],
      "text/plain": [
       "           W0     v0         y\n",
       "0    1.734861   True  5.677652\n",
       "1    1.692967   True  5.345768\n",
       "2   -0.678012   True  5.865227\n",
       "3    0.320417  False -1.465444\n",
       "4   -1.743889   True  5.025204\n",
       "..        ...    ...       ...\n",
       "995 -1.195709  False -0.097315\n",
       "996  1.086976  False  1.035984\n",
       "997  0.115227   True  4.093856\n",
       "998  0.986937   True  4.631330\n",
       "999  0.226167   True  5.485148\n",
       "\n",
       "[1000 rows x 3 columns]"
      ]
     },
     "execution_count": 2,
     "metadata": {},
     "output_type": "execute_result"
    }
   ],
   "source": [
    "data = dowhy.datasets.linear_dataset(beta=5,\n",
    "        num_common_causes=1,\n",
    "        num_instruments = 0,\n",
    "        num_samples=1000,\n",
    "        treatment_is_binary=True)\n",
    "df = data['df']\n",
    "df['y'] = df['y'] + np.random.normal(size=len(df)) # Adding noise to data. Without noise, the variance in Y|X, Z is zero, and mcmc fails.\n",
    "nx_graph = build_graph_from_str(data[\"dot_graph\"])\n",
    "\n",
    "treatment= data[\"treatment_name\"][0]\n",
    "outcome = data[\"outcome_name\"][0]\n",
    "common_cause = data[\"common_causes_names\"][0]\n",
    "df"
   ]
  },
  {
   "cell_type": "code",
   "execution_count": 3,
   "metadata": {
    "execution": {
     "iopub.execute_input": "2025-07-12T13:59:10.006896Z",
     "iopub.status.busy": "2025-07-12T13:59:10.006512Z",
     "iopub.status.idle": "2025-07-12T13:59:10.187697Z",
     "shell.execute_reply": "2025-07-12T13:59:10.187044Z"
    },
    "scrolled": true
   },
   "outputs": [
    {
     "data": {
      "text/plain": [
       "<Axes: xlabel='v0'>"
      ]
     },
     "execution_count": 3,
     "metadata": {},
     "output_type": "execute_result"
    },
    {
     "data": {
      "image/png": "[encoded data removed]",
      "text/plain": [
       "<Figure size 640x480 with 1 Axes>"
      ]
     },
     "metadata": {},
     "output_type": "display_data"
    }
   ],
   "source": [
    "# data['df'] is just a regular pandas.DataFrame\n",
    "df.causal.do(x=treatment,\n",
    "             variable_types={treatment: 'b', outcome: 'c', common_cause: 'c'},\n",
    "             outcome=outcome,\n",
    "             common_causes=[common_cause],\n",
    "            ).groupby(treatment).mean().plot(y=outcome, kind='bar')"
   ]
  },
  {
   "cell_type": "code",
   "execution_count": 4,
   "metadata": {
    "execution": {
     "iopub.execute_input": "2025-07-12T13:59:10.190000Z",
     "iopub.status.busy": "2025-07-12T13:59:10.189531Z",
     "iopub.status.idle": "2025-07-12T13:59:10.416676Z",
     "shell.execute_reply": "2025-07-12T13:59:10.416004Z"
    }
   },
   "outputs": [
    {
     "data": {
      "text/plain": [
       "<Axes: xlabel='v0'>"
      ]
     },
     "execution_count": 4,
     "metadata": {},
     "output_type": "execute_result"
    },
    {
     "data": {
      "image/png": "[encoded data removed]",
      "text/plain": [
       "<Figure size 640x480 with 1 Axes>"
      ]
     },
     "metadata": {},
     "output_type": "display_data"
    }
   ],
   "source": [
    "df.causal.do(x={treatment: 1}, \n",
    "              variable_types={treatment:'b', outcome: 'c', common_cause: 'c'}, \n",
    "              outcome=outcome,\n",
    "              method='weighting', \n",
    "              common_causes=[common_cause]\n",
    "              ).groupby(treatment).mean().plot(y=outcome, kind='bar')"
   ]
  },
  {
   "cell_type": "code",
   "execution_count": 5,
   "metadata": {
    "execution": {
     "iopub.execute_input": "2025-07-12T13:59:10.419007Z",
     "iopub.status.busy": "2025-07-12T13:59:10.418663Z",
     "iopub.status.idle": "2025-07-12T13:59:10.440931Z",
     "shell.execute_reply": "2025-07-12T13:59:10.440215Z"
    }
   },
   "outputs": [],
   "source": [
    "cdf_1 = df.causal.do(x={treatment: 1}, \n",
    "              variable_types={treatment: 'b', outcome: 'c', common_cause: 'c'}, \n",
    "              outcome=outcome, \n",
    "              graph=nx_graph\n",
    "              )\n",
    "\n",
    "cdf_0 = df.causal.do(x={treatment: 0}, \n",
    "              variable_types={treatment: 'b', outcome: 'c', common_cause: 'c'}, \n",
    "              outcome=outcome, \n",
    "              graph=nx_graph\n",
    "              )\n"
   ]
  },
  {
   "cell_type": "code",
   "execution_count": 6,
   "metadata": {
    "execution": {
     "iopub.execute_input": "2025-07-12T13:59:10.443439Z",
     "iopub.status.busy": "2025-07-12T13:59:10.443028Z",
     "iopub.status.idle": "2025-07-12T13:59:10.452456Z",
     "shell.execute_reply": "2025-07-12T13:59:10.451744Z"
    },
    "scrolled": true
   },
   "outputs": [
    {
     "data": {
      "text/html": [
       "<div>\n",
       "<style scoped>\n",
       "    .dataframe tbody tr th:only-of-type {\n",
       "        vertical-align: middle;\n",
       "    }\n",
       "\n",
       "    .dataframe tbody tr th {\n",
       "        vertical-align: top;\n",
       "    }\n",
       "\n",
       "    .dataframe thead th {\n",
       "        text-align: right;\n",
       "    }\n",
       "</style>\n",
       "<table border=\"1\" class=\"dataframe\">\n",
       "  <thead>\n",
       "    <tr style=\"text-align: right;\">\n",
       "      <th></th>\n",
       "      <th>W0</th>\n",
       "      <th>v0</th>\n",
       "      <th>y</th>\n",
       "      <th>propensity_score</th>\n",
       "      <th>weight</th>\n",
       "    </tr>\n",
       "  </thead>\n",
       "  <tbody>\n",
       "    <tr>\n",
       "      <th>0</th>\n",
       "      <td>1.425122</td>\n",
       "      <td>False</td>\n",
       "      <td>1.553599</td>\n",
       "      <td>0.468980</td>\n",
       "      <td>2.132286</td>\n",
       "    </tr>\n",
       "    <tr>\n",
       "      <th>1</th>\n",
       "      <td>1.522968</td>\n",
       "      <td>False</td>\n",
       "      <td>2.940058</td>\n",
       "      <td>0.464910</td>\n",
       "      <td>2.150952</td>\n",
       "    </tr>\n",
       "    <tr>\n",
       "      <th>2</th>\n",
       "      <td>1.624560</td>\n",
       "      <td>False</td>\n",
       "      <td>-0.714125</td>\n",
       "      <td>0.460690</td>\n",
       "      <td>2.170659</td>\n",
       "    </tr>\n",
       "    <tr>\n",
       "      <th>3</th>\n",
       "      <td>1.883998</td>\n",
       "      <td>False</td>\n",
       "      <td>-1.628021</td>\n",
       "      <td>0.449938</td>\n",
       "      <td>2.222528</td>\n",
       "    </tr>\n",
       "    <tr>\n",
       "      <th>4</th>\n",
       "      <td>0.781901</td>\n",
       "      <td>False</td>\n",
       "      <td>-1.317539</td>\n",
       "      <td>0.495812</td>\n",
       "      <td>2.016892</td>\n",
       "    </tr>\n",
       "    <tr>\n",
       "      <th>...</th>\n",
       "      <td>...</td>\n",
       "      <td>...</td>\n",
       "      <td>...</td>\n",
       "      <td>...</td>\n",
       "      <td>...</td>\n",
       "    </tr>\n",
       "    <tr>\n",
       "      <th>995</th>\n",
       "      <td>1.883998</td>\n",
       "      <td>False</td>\n",
       "      <td>-1.628021</td>\n",
       "      <td>0.449938</td>\n",
       "      <td>2.222528</td>\n",
       "    </tr>\n",
       "    <tr>\n",
       "      <th>996</th>\n",
       "      <td>1.624560</td>\n",
       "      <td>False</td>\n",
       "      <td>-0.714125</td>\n",
       "      <td>0.460690</td>\n",
       "      <td>2.170659</td>\n",
       "    </tr>\n",
       "    <tr>\n",
       "      <th>997</th>\n",
       "      <td>0.027170</td>\n",
       "      <td>False</td>\n",
       "      <td>1.790618</td>\n",
       "      <td>0.527316</td>\n",
       "      <td>1.896398</td>\n",
       "    </tr>\n",
       "    <tr>\n",
       "      <th>998</th>\n",
       "      <td>0.538403</td>\n",
       "      <td>False</td>\n",
       "      <td>-1.014590</td>\n",
       "      <td>0.505985</td>\n",
       "      <td>1.976345</td>\n",
       "    </tr>\n",
       "    <tr>\n",
       "      <th>999</th>\n",
       "      <td>0.007696</td>\n",
       "      <td>False</td>\n",
       "      <td>1.750373</td>\n",
       "      <td>0.528127</td>\n",
       "      <td>1.893485</td>\n",
       "    </tr>\n",
       "  </tbody>\n",
       "</table>\n",
       "<p>1000 rows × 5 columns</p>\n",
       "</div>"
      ],
      "text/plain": [
       "           W0     v0         y  propensity_score    weight\n",
       "0    1.425122  False  1.553599          0.468980  2.132286\n",
       "1    1.522968  False  2.940058          0.464910  2.150952\n",
       "2    1.624560  False -0.714125          0.460690  2.170659\n",
       "3    1.883998  False -1.628021          0.449938  2.222528\n",
       "4    0.781901  False -1.317539          0.495812  2.016892\n",
       "..        ...    ...       ...               ...       ...\n",
       "995  1.883998  False -1.628021          0.449938  2.222528\n",
       "996  1.624560  False -0.714125          0.460690  2.170659\n",
       "997  0.027170  False  1.790618          0.527316  1.896398\n",
       "998  0.538403  False -1.014590          0.505985  1.976345\n",
       "999  0.007696  False  1.750373          0.528127  1.893485\n",
       "\n",
       "[1000 rows x 5 columns]"
      ]
     },
     "execution_count": 6,
     "metadata": {},
     "output_type": "execute_result"
    }
   ],
   "source": [
    "cdf_0"
   ]
  },
  {
   "cell_type": "code",
   "execution_count": 7,
   "metadata": {
    "execution": {
     "iopub.execute_input": "2025-07-12T13:59:10.454488Z",
     "iopub.status.busy": "2025-07-12T13:59:10.454281Z",
     "iopub.status.idle": "2025-07-12T13:59:10.463729Z",
     "shell.execute_reply": "2025-07-12T13:59:10.463031Z"
    }
   },
   "outputs": [
    {
     "data": {
      "text/html": [
       "<div>\n",
       "<style scoped>\n",
       "    .dataframe tbody tr th:only-of-type {\n",
       "        vertical-align: middle;\n",
       "    }\n",
       "\n",
       "    .dataframe tbody tr th {\n",
       "        vertical-align: top;\n",
       "    }\n",
       "\n",
       "    .dataframe thead th {\n",
       "        text-align: right;\n",
       "    }\n",
       "</style>\n",
       "<table border=\"1\" class=\"dataframe\">\n",
       "  <thead>\n",
       "    <tr style=\"text-align: right;\">\n",
       "      <th></th>\n",
       "      <th>W0</th>\n",
       "      <th>v0</th>\n",
       "      <th>y</th>\n",
       "      <th>propensity_score</th>\n",
       "      <th>weight</th>\n",
       "    </tr>\n",
       "  </thead>\n",
       "  <tbody>\n",
       "    <tr>\n",
       "      <th>0</th>\n",
       "      <td>1.628855</td>\n",
       "      <td>True</td>\n",
       "      <td>5.879210</td>\n",
       "      <td>0.539489</td>\n",
       "      <td>1.853607</td>\n",
       "    </tr>\n",
       "    <tr>\n",
       "      <th>1</th>\n",
       "      <td>0.800083</td>\n",
       "      <td>True</td>\n",
       "      <td>5.501920</td>\n",
       "      <td>0.504947</td>\n",
       "      <td>1.980405</td>\n",
       "    </tr>\n",
       "    <tr>\n",
       "      <th>2</th>\n",
       "      <td>1.329587</td>\n",
       "      <td>True</td>\n",
       "      <td>6.044962</td>\n",
       "      <td>0.527042</td>\n",
       "      <td>1.897382</td>\n",
       "    </tr>\n",
       "    <tr>\n",
       "      <th>3</th>\n",
       "      <td>2.467841</td>\n",
       "      <td>True</td>\n",
       "      <td>2.798915</td>\n",
       "      <td>0.574072</td>\n",
       "      <td>1.741940</td>\n",
       "    </tr>\n",
       "    <tr>\n",
       "      <th>4</th>\n",
       "      <td>0.387281</td>\n",
       "      <td>True</td>\n",
       "      <td>3.828899</td>\n",
       "      <td>0.487704</td>\n",
       "      <td>2.050424</td>\n",
       "    </tr>\n",
       "    <tr>\n",
       "      <th>...</th>\n",
       "      <td>...</td>\n",
       "      <td>...</td>\n",
       "      <td>...</td>\n",
       "      <td>...</td>\n",
       "      <td>...</td>\n",
       "    </tr>\n",
       "    <tr>\n",
       "      <th>995</th>\n",
       "      <td>2.490357</td>\n",
       "      <td>True</td>\n",
       "      <td>6.209058</td>\n",
       "      <td>0.574992</td>\n",
       "      <td>1.739154</td>\n",
       "    </tr>\n",
       "    <tr>\n",
       "      <th>996</th>\n",
       "      <td>0.802514</td>\n",
       "      <td>True</td>\n",
       "      <td>5.794019</td>\n",
       "      <td>0.505049</td>\n",
       "      <td>1.980007</td>\n",
       "    </tr>\n",
       "    <tr>\n",
       "      <th>997</th>\n",
       "      <td>0.835262</td>\n",
       "      <td>True</td>\n",
       "      <td>4.489131</td>\n",
       "      <td>0.506417</td>\n",
       "      <td>1.974659</td>\n",
       "    </tr>\n",
       "    <tr>\n",
       "      <th>998</th>\n",
       "      <td>0.080196</td>\n",
       "      <td>True</td>\n",
       "      <td>4.995161</td>\n",
       "      <td>0.474894</td>\n",
       "      <td>2.105735</td>\n",
       "    </tr>\n",
       "    <tr>\n",
       "      <th>999</th>\n",
       "      <td>1.739403</td>\n",
       "      <td>True</td>\n",
       "      <td>3.959105</td>\n",
       "      <td>0.544075</td>\n",
       "      <td>1.837982</td>\n",
       "    </tr>\n",
       "  </tbody>\n",
       "</table>\n",
       "<p>1000 rows × 5 columns</p>\n",
       "</div>"
      ],
      "text/plain": [
       "           W0    v0         y  propensity_score    weight\n",
       "0    1.628855  True  5.879210          0.539489  1.853607\n",
       "1    0.800083  True  5.501920          0.504947  1.980405\n",
       "2    1.329587  True  6.044962          0.527042  1.897382\n",
       "3    2.467841  True  2.798915          0.574072  1.741940\n",
       "4    0.387281  True  3.828899          0.487704  2.050424\n",
       "..        ...   ...       ...               ...       ...\n",
       "995  2.490357  True  6.209058          0.574992  1.739154\n",
       "996  0.802514  True  5.794019          0.505049  1.980007\n",
       "997  0.835262  True  4.489131          0.506417  1.974659\n",
       "998  0.080196  True  4.995161          0.474894  2.105735\n",
       "999  1.739403  True  3.959105          0.544075  1.837982\n",
       "\n",
       "[1000 rows x 5 columns]"
      ]
     },
     "execution_count": 7,
     "metadata": {},
     "output_type": "execute_result"
    }
   ],
   "source": [
    "cdf_1"
   ]
  },
  {
   "cell_type": "markdown",
   "metadata": {},
   "source": [
    "## Comparing the estimate to Linear Regression\n",
    "First, estimating the effect using the causal data frame, and the 95% confidence interval."
   ]
  },
  {
   "cell_type": "code",
   "execution_count": 8,
   "metadata": {
    "execution": {
     "iopub.execute_input": "2025-07-12T13:59:10.465969Z",
     "iopub.status.busy": "2025-07-12T13:59:10.465573Z",
     "iopub.status.idle": "2025-07-12T13:59:10.530754Z",
     "shell.execute_reply": "2025-07-12T13:59:10.530150Z"
    }
   },
   "outputs": [
    {
     "data": {
      "image/png": "[encoded data removed]",
      "text/latex": [
       "$\\displaystyle 5.01130335938293$"
      ],
      "text/plain": [
       "5.011303359382935"
      ]
     },
     "execution_count": 8,
     "metadata": {},
     "output_type": "execute_result"
    }
   ],
   "source": [
    "(cdf_1['y'] - cdf_0['y']).mean()"
   ]
  },
  {
   "cell_type": "code",
   "execution_count": 9,
   "metadata": {
    "execution": {
     "iopub.execute_input": "2025-07-12T13:59:10.532973Z",
     "iopub.status.busy": "2025-07-12T13:59:10.532551Z",
     "iopub.status.idle": "2025-07-12T13:59:10.552396Z",
     "shell.execute_reply": "2025-07-12T13:59:10.551791Z"
    }
   },
   "outputs": [
    {
     "data": {
      "image/png": "[encoded data removed]",
      "text/latex": [
       "$\\displaystyle 0.0886036474860154$"
      ],
      "text/plain": [
       "0.08860364748601543"
      ]
     },
     "execution_count": 9,
     "metadata": {},
     "output_type": "execute_result"
    }
   ],
   "source": [
    "1.96*(cdf_1['y'] - cdf_0['y']).std() / np.sqrt(len(df))"
   ]
  },
  {
   "cell_type": "markdown",
   "metadata": {},
   "source": [
    "Comparing to the estimate from OLS."
   ]
  },
  {
   "cell_type": "code",
   "execution_count": 10,
   "metadata": {
    "execution": {
     "iopub.execute_input": "2025-07-12T13:59:10.554606Z",
     "iopub.status.busy": "2025-07-12T13:59:10.554197Z",
     "iopub.status.idle": "2025-07-12T13:59:10.575669Z",
     "shell.execute_reply": "2025-07-12T13:59:10.575062Z"
    }
   },
   "outputs": [
    {
     "data": {
      "text/html": [
       "<table class=\"simpletable\">\n",
       "<caption>OLS Regression Results</caption>\n",
       "<tr>\n",
       "  <th>Dep. Variable:</th>            <td>y</td>        <th>  R-squared (uncentered):</th>      <td>   0.934</td>\n",
       "</tr>\n",
       "<tr>\n",
       "  <th>Model:</th>                   <td>OLS</td>       <th>  Adj. R-squared (uncentered):</th> <td>   0.934</td>\n",
       "</tr>\n",
       "<tr>\n",
       "  <th>Method:</th>             <td>Least Squares</td>  <th>  F-statistic:       </th>          <td>   7086.</td>\n",
       "</tr>\n",
       "<tr>\n",
       "  <th>Date:</th>             <td>Sat, 12 Jul 2025</td> <th>  Prob (F-statistic):</th>           <td>  0.00</td> \n",
       "</tr>\n",
       "<tr>\n",
       "  <th>Time:</th>                 <td>13:59:10</td>     <th>  Log-Likelihood:    </th>          <td> -1425.1</td>\n",
       "</tr>\n",
       "<tr>\n",
       "  <th>No. Observations:</th>      <td>  1000</td>      <th>  AIC:               </th>          <td>   2854.</td>\n",
       "</tr>\n",
       "<tr>\n",
       "  <th>Df Residuals:</th>          <td>   998</td>      <th>  BIC:               </th>          <td>   2864.</td>\n",
       "</tr>\n",
       "<tr>\n",
       "  <th>Df Model:</th>              <td>     2</td>      <th>                     </th>              <td> </td>   \n",
       "</tr>\n",
       "<tr>\n",
       "  <th>Covariance Type:</th>      <td>nonrobust</td>    <th>                     </th>              <td> </td>   \n",
       "</tr>\n",
       "</table>\n",
       "<table class=\"simpletable\">\n",
       "<tr>\n",
       "   <td></td>     <th>coef</th>     <th>std err</th>      <th>t</th>      <th>P>|t|</th>  <th>[0.025</th>    <th>0.975]</th>  \n",
       "</tr>\n",
       "<tr>\n",
       "  <th>x1</th> <td>    0.2809</td> <td>    0.028</td> <td>    9.906</td> <td> 0.000</td> <td>    0.225</td> <td>    0.337</td>\n",
       "</tr>\n",
       "<tr>\n",
       "  <th>x2</th> <td>    5.0450</td> <td>    0.052</td> <td>   97.125</td> <td> 0.000</td> <td>    4.943</td> <td>    5.147</td>\n",
       "</tr>\n",
       "</table>\n",
       "<table class=\"simpletable\">\n",
       "<tr>\n",
       "  <th>Omnibus:</th>       <td> 1.607</td> <th>  Durbin-Watson:     </th> <td>   2.017</td>\n",
       "</tr>\n",
       "<tr>\n",
       "  <th>Prob(Omnibus):</th> <td> 0.448</td> <th>  Jarque-Bera (JB):  </th> <td>   1.600</td>\n",
       "</tr>\n",
       "<tr>\n",
       "  <th>Skew:</th>          <td> 0.047</td> <th>  Prob(JB):          </th> <td>   0.449</td>\n",
       "</tr>\n",
       "<tr>\n",
       "  <th>Kurtosis:</th>      <td> 2.828</td> <th>  Cond. No.          </th> <td>    2.33</td>\n",
       "</tr>\n",
       "</table><br/><br/>Notes:<br/>[1] R² is computed without centering (uncentered) since the model does not contain a constant.<br/>[2] Standard Errors assume that the covariance matrix of the errors is correctly specified."
      ],
      "text/latex": [
       "\\begin{center}\n",
       "\\begin{tabular}{lclc}\n",
       "\\toprule\n",
       "\\textbf{Dep. Variable:}    &        y         & \\textbf{  R-squared (uncentered):}      &     0.934   \\\\\n",
       "\\textbf{Model:}            &       OLS        & \\textbf{  Adj. R-squared (uncentered):} &     0.934   \\\\\n",
       "\\textbf{Method:}           &  Least Squares   & \\textbf{  F-statistic:       }          &     7086.   \\\\\n",
       "\\textbf{Date:}             & Sat, 12 Jul 2025 & \\textbf{  Prob (F-statistic):}          &     0.00    \\\\\n",
       "\\textbf{Time:}             &     13:59:10     & \\textbf{  Log-Likelihood:    }          &   -1425.1   \\\\\n",
       "\\textbf{No. Observations:} &        1000      & \\textbf{  AIC:               }          &     2854.   \\\\\n",
       "\\textbf{Df Residuals:}     &         998      & \\textbf{  BIC:               }          &     2864.   \\\\\n",
       "\\textbf{Df Model:}         &           2      & \\textbf{                     }          &             \\\\\n",
       "\\textbf{Covariance Type:}  &    nonrobust     & \\textbf{                     }          &             \\\\\n",
       "\\bottomrule\n",
       "\\end{tabular}\n",
       "\\begin{tabular}{lcccccc}\n",
       "            & \\textbf{coef} & \\textbf{std err} & \\textbf{t} & \\textbf{P$> |$t$|$} & \\textbf{[0.025} & \\textbf{0.975]}  \\\\\n",
       "\\midrule\n",
       "\\textbf{x1} &       0.2809  &        0.028     &     9.906  &         0.000        &        0.225    &        0.337     \\\\\n",
       "\\textbf{x2} &       5.0450  &        0.052     &    97.125  &         0.000        &        4.943    &        5.147     \\\\\n",
       "\\bottomrule\n",
       "\\end{tabular}\n",
       "\\begin{tabular}{lclc}\n",
       "\\textbf{Omnibus:}       &  1.607 & \\textbf{  Durbin-Watson:     } &    2.017  \\\\\n",
       "\\textbf{Prob(Omnibus):} &  0.448 & \\textbf{  Jarque-Bera (JB):  } &    1.600  \\\\\n",
       "\\textbf{Skew:}          &  0.047 & \\textbf{  Prob(JB):          } &    0.449  \\\\\n",
       "\\textbf{Kurtosis:}      &  2.828 & \\textbf{  Cond. No.          } &     2.33  \\\\\n",
       "\\bottomrule\n",
       "\\end{tabular}\n",
       "%\\caption{OLS Regression Results}\n",
       "\\end{center}\n",
       "\n",
       "Notes: \\newline\n",
       " [1] R² is computed without centering (uncentered) since the model does not contain a constant. \\newline\n",
       " [2] Standard Errors assume that the covariance matrix of the errors is correctly specified."
      ],
      "text/plain": [
       "<class 'statsmodels.iolib.summary.Summary'>\n",
       "\"\"\"\n",
       "                                 OLS Regression Results                                \n",
       "=======================================================================================\n",
       "Dep. Variable:                      y   R-squared (uncentered):                   0.934\n",
       "Model:                            OLS   Adj. R-squared (uncentered):              0.934\n",
       "Method:                 Least Squares   F-statistic:                              7086.\n",
       "Date:                Sat, 12 Jul 2025   Prob (F-statistic):                        0.00\n",
       "Time:                        13:59:10   Log-Likelihood:                         -1425.1\n",
       "No. Observations:                1000   AIC:                                      2854.\n",
       "Df Residuals:                     998   BIC:                                      2864.\n",
       "Df Model:                           2                                                  \n",
       "Covariance Type:            nonrobust                                                  \n",
       "==============================================================================\n",
       "                 coef    std err          t      P>|t|      [0.025      0.975]\n",
       "------------------------------------------------------------------------------\n",
       "x1             0.2809      0.028      9.906      0.000       0.225       0.337\n",
       "x2             5.0450      0.052     97.125      0.000       4.943       5.147\n",
       "==============================================================================\n",
       "Omnibus:                        1.607   Durbin-Watson:                   2.017\n",
       "Prob(Omnibus):                  0.448   Jarque-Bera (JB):                1.600\n",
       "Skew:                           0.047   Prob(JB):                        0.449\n",
       "Kurtosis:                       2.828   Cond. No.                         2.33\n",
       "==============================================================================\n",
       "\n",
       "Notes:\n",
       "[1] R² is computed without centering (uncentered) since the model does not contain a constant.\n",
       "[2] Standard Errors assume that the covariance matrix of the errors is correctly specified.\n",
       "\"\"\""
      ]
     },
     "execution_count": 10,
     "metadata": {},
     "output_type": "execute_result"
    }
   ],
   "source": [
    "model = OLS(np.asarray(df[outcome]), np.asarray(df[[common_cause, treatment]], dtype=np.float64))\n",
    "result = model.fit()\n",
    "result.summary()"
   ]
  }
 ],
 "metadata": {
  "kernelspec": {
   "display_name": "Python 3 (ipykernel)",
   "language": "python",
   "name": "python3"
  },
  "language_info": {
   "codemirror_mode": {
    "name": "ipython",
    "version": 3
   },
   "file_extension": ".py",
   "mimetype": "text/x-python",
   "name": "python",
   "nbconvert_exporter": "python",
   "pygments_lexer": "ipython3",
   "version": "3.9.23"
  },
  "toc": {
   "base_numbering": 1,
   "nav_menu": {},
   "number_sections": false,
   "sideBar": true,
   "skip_h1_title": true,
   "title_cell": "Table of Contents",
   "title_sidebar": "Contents",
   "toc_cell": false,
   "toc_position": {},
   "toc_section_display": true,
   "toc_window_display": false
  }
 },
 "nbformat": 4,
 "nbformat_minor": 4
}
