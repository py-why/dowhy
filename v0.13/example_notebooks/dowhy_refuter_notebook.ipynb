{
 "cells": [
  {
   "cell_type": "markdown",
   "metadata": {},
   "source": [
    "# Iterating over multiple refutation tests\n",
    "The objective of this notebook is to compare the ability of refuters to detect the problems in a given set of estimators.\n",
    "Note:\n",
    "This notebook makes use of the optional dependencies:\n",
    "- pygraphviz\n",
    "- econml"
   ]
  },
  {
   "cell_type": "markdown",
   "metadata": {},
   "source": [
    "## Import Dependencies"
   ]
  },
  {
   "cell_type": "code",
   "execution_count": 23,
   "metadata": {},
   "outputs": [],
   "source": [
    "from dowhy.datasets import linear_dataset\n",
    "from dowhy import CausalModel\n",
    "import econml\n",
    "\n",
    "# Config dict to set the logging level\n",
    "import logging.config\n",
    "DEFAULT_LOGGING = {\n",
    "    'version': 1,\n",
    "    'disable_existing_loggers': False,\n",
    "    'loggers': {\n",
    "        '': {\n",
    "            'level': 'WARN',\n",
    "        },\n",
    "    }\n",
    "}\n",
    "\n",
    "logging.config.dictConfig(DEFAULT_LOGGING)\n",
    "# Disabling warnings output\n",
    "import warnings\n",
    "from sklearn.exceptions import DataConversionWarning\n",
    "warnings.filterwarnings(action='ignore', category=DataConversionWarning)"
   ]
  },
  {
   "cell_type": "markdown",
   "metadata": {},
   "source": [
    "## Inspection Parameters\n",
    "These parameters give us the option of inspecting the intermediate steps to sanity check the steps performed"
   ]
  },
  {
   "cell_type": "code",
   "execution_count": 24,
   "metadata": {},
   "outputs": [],
   "source": [
    "inspect_datasets = True\n",
    "inspect_models = True\n",
    "inspect_identified_estimands = True\n",
    "inspect_estimates = True\n",
    "inspect_refutations = True"
   ]
  },
  {
   "cell_type": "markdown",
   "metadata": {},
   "source": [
    "## Estimator List\n",
    "We pass a list of strings, corresponding to the estimators of interest"
   ]
  },
  {
   "cell_type": "code",
   "execution_count": 25,
   "metadata": {},
   "outputs": [],
   "source": [
    "from sklearn.preprocessing import PolynomialFeatures\n",
    "from sklearn.linear_model import LassoCV\n",
    "from sklearn.ensemble import GradientBoostingRegressor\n",
    "\n",
    "estimator_list = [\"backdoor.propensity_score_matching\", \"backdoor.propensity_score_weighting\", \"backdoor.econml.dml.DML\"]\n",
    "method_params= [ None, None, {\"init_params\":{'model_y':GradientBoostingRegressor(),\n",
    "                                                              'model_t': GradientBoostingRegressor(),\n",
    "                                                              \"model_final\":LassoCV(fit_intercept=False), \n",
    "                                                              'featurizer':PolynomialFeatures(degree=1, include_bias=False)},\n",
    "                                               \"fit_params\":{}} ]"
   ]
  },
  {
   "cell_type": "markdown",
   "metadata": {},
   "source": [
    "## Refuter List\n",
    "A list of strings, corresponding to each refuter we wish to run"
   ]
  },
  {
   "cell_type": "code",
   "execution_count": 26,
   "metadata": {},
   "outputs": [],
   "source": [
    "refuter_list = [\"bootstrap_refuter\", \"data_subset_refuter\"]"
   ]
  },
  {
   "cell_type": "markdown",
   "metadata": {},
   "source": [
    "## Create the Datasets"
   ]
  },
  {
   "cell_type": "code",
   "execution_count": 27,
   "metadata": {},
   "outputs": [],
   "source": [
    "# Parameters for creating the Dataset\n",
    "TREATMENT_IS_BINARY = True\n",
    "BETA = 10\n",
    "NUM_SAMPLES = 5000\n",
    "NUM_CONFOUNDERS = 5\n",
    "NUM_INSTRUMENTS = 3\n",
    "NUM_EFFECT_MODIFIERS = 2\n",
    "\n",
    "# Creating a Linear Dataset with the given parameters\n",
    "linear_data = linear_dataset(\n",
    "            beta = BETA,\n",
    "            num_common_causes = NUM_CONFOUNDERS,\n",
    "            num_instruments = NUM_INSTRUMENTS,\n",
    "            num_effect_modifiers = NUM_EFFECT_MODIFIERS,\n",
    "            num_samples = NUM_SAMPLES,\n",
    "            treatment_is_binary = True\n",
    "        )\n",
    "# Other datasets come here \n",
    "\n",
    "\n",
    "# Append them together in an array\n",
    "datasets = [linear_data]\n"
   ]
  },
  {
   "cell_type": "markdown",
   "metadata": {},
   "source": [
    "## Inspect Data"
   ]
  },
  {
   "cell_type": "code",
   "execution_count": 28,
   "metadata": {},
   "outputs": [
    {
     "name": "stdout",
     "output_type": "stream",
     "text": [
      "####### Dataset 1###########################################################################################\n",
      "         X0        X1   Z0        Z1   Z2        W0        W1        W2  \\\n",
      "0  1.967335  1.905424  1.0  0.670757  0.0 -0.202865 -1.144348  1.183711   \n",
      "1  1.128093 -1.239441  0.0  0.867080  0.0 -0.356516  1.708609  1.092528   \n",
      "2  1.652412 -0.091724  1.0  0.571701  0.0 -0.932946 -2.417561  0.628134   \n",
      "3 -1.435738  0.029290  1.0  0.107491  0.0 -0.573645 -1.436408 -0.625384   \n",
      "4  1.811213  0.656676  1.0  0.789946  0.0 -1.196961 -1.909887  0.436464   \n",
      "\n",
      "         W3        W4    v0          y  \n",
      "0  0.936799 -0.174390  True  12.717473  \n",
      "1 -0.040246 -1.029646  True  15.072868  \n",
      "2 -1.921820  0.121284  True  -9.638836  \n",
      "3  1.963276 -1.014058  True   5.584867  \n",
      "4 -0.035781 -0.435584  True  -2.168388  \n",
      "#############################################################################################################\n"
     ]
    }
   ],
   "source": [
    "dataset_num = 1\n",
    "if inspect_datasets is True:\n",
    "    for data in datasets:\n",
    "        print(\"####### Dataset {}###########################################################################################\".format(dataset_num))\n",
    "        print(data['df'].head())\n",
    "        print(\"#############################################################################################################\")\n",
    "        dataset_num += 1"
   ]
  },
  {
   "cell_type": "markdown",
   "metadata": {},
   "source": [
    "## Create the CausalModels"
   ]
  },
  {
   "cell_type": "code",
   "execution_count": 29,
   "metadata": {},
   "outputs": [],
   "source": [
    "models = []\n",
    "for data in datasets:\n",
    "    model = CausalModel(\n",
    "                data = data['df'],\n",
    "                treatment = data['treatment_name'],\n",
    "                outcome = data['outcome_name'],\n",
    "                graph = data['gml_graph']\n",
    "            )\n",
    "    models.append(model)"
   ]
  },
  {
   "cell_type": "markdown",
   "metadata": {},
   "source": [
    "## View Models"
   ]
  },
  {
   "cell_type": "code",
   "execution_count": 30,
   "metadata": {},
   "outputs": [
    {
     "data": {
      "image/png": "[encoded data removed]",
      "text/plain": [
       "<IPython.core.display.Image object>"
      ]
     },
     "metadata": {},
     "output_type": "display_data"
    }
   ],
   "source": [
    "model.view_model()\n",
    "from IPython.display import Image, display\n",
    "display(Image(filename=\"causal_model.png\"))"
   ]
  },
  {
   "cell_type": "markdown",
   "metadata": {},
   "source": [
    "## Identify Effect"
   ]
  },
  {
   "cell_type": "code",
   "execution_count": 31,
   "metadata": {},
   "outputs": [],
   "source": [
    "identified_estimands = []\n",
    "for model in models:\n",
    "    identified_estimand = model.identify_effect(proceed_when_unidentifiable=True)\n",
    "    identified_estimands.append(identified_estimand)"
   ]
  },
  {
   "cell_type": "markdown",
   "metadata": {},
   "source": [
    "## Identified Estimands"
   ]
  },
  {
   "cell_type": "code",
   "execution_count": 32,
   "metadata": {},
   "outputs": [
    {
     "name": "stdout",
     "output_type": "stream",
     "text": [
      "####### Identified Estimand 1#####################################################################################\n",
      "Estimand type: nonparametric-ate\n",
      "\n",
      "### Estimand : 1\n",
      "Estimand name: backdoor\n",
      "Estimand expression:\n",
      "  d                                 \n",
      "─────(Expectation(y|W0,W1,W4,W3,W2))\n",
      "d[v₀]                               \n",
      "Estimand assumption 1, Unconfoundedness: If U→{v0} and U→y then P(y|v0,W0,W1,W4,W3,W2,U) = P(y|v0,W0,W1,W4,W3,W2)\n",
      "\n",
      "### Estimand : 2\n",
      "Estimand name: iv\n",
      "Estimand expression:\n",
      "Expectation(Derivative(y, [Z1, Z0, Z2])*Derivative([v0], [Z1, Z0, Z2])**(-1))\n",
      "Estimand assumption 1, As-if-random: If U→→y then ¬(U →→{Z1,Z0,Z2})\n",
      "Estimand assumption 2, Exclusion: If we remove {Z1,Z0,Z2}→{v0}, then ¬({Z1,Z0,Z2}→y)\n",
      "\n",
      "### Estimand : 3\n",
      "Estimand name: frontdoor\n",
      "No such variable(s) found!\n",
      "\n",
      "###################################################################################################################\n"
     ]
    }
   ],
   "source": [
    "estimand_count = 1\n",
    "for estimand in identified_estimands:\n",
    "    print(\"####### Identified Estimand {}#####################################################################################\".format(estimand_count))\n",
    "    print(estimand)\n",
    "    print(\"###################################################################################################################\")\n",
    "    estimand_count += 1"
   ]
  },
  {
   "cell_type": "markdown",
   "metadata": {},
   "source": [
    "## Estimate Effect"
   ]
  },
  {
   "cell_type": "code",
   "execution_count": 33,
   "metadata": {},
   "outputs": [],
   "source": [
    "estimate_list = []\n",
    "for i in range(len(identified_estimands)):\n",
    "    for j in range(len(estimator_list)):\n",
    "        estimate = model.estimate_effect(\n",
    "                        identified_estimands[i],\n",
    "                        method_name=estimator_list[j],\n",
    "                        method_params=method_params[j]\n",
    "                  )\n",
    "        estimate_list.append(estimate)"
   ]
  },
  {
   "cell_type": "markdown",
   "metadata": {},
   "source": [
    "## Estimate Values"
   ]
  },
  {
   "cell_type": "code",
   "execution_count": 34,
   "metadata": {},
   "outputs": [
    {
     "name": "stdout",
     "output_type": "stream",
     "text": [
      "####### Estimand 1#######################################################################################\n",
      "*** Class Name ***\n",
      "\n",
      "<class 'dowhy.causal_estimators.propensity_score_matching_estimator.PropensityScoreMatchingEstimator'>\n",
      "\n",
      "*** Causal Estimate ***\n",
      "\n",
      "## Identified estimand\n",
      "Estimand type: nonparametric-ate\n",
      "\n",
      "### Estimand : 1\n",
      "Estimand name: backdoor\n",
      "Estimand expression:\n",
      "  d                                 \n",
      "─────(Expectation(y|W0,W1,W4,W3,W2))\n",
      "d[v₀]                               \n",
      "Estimand assumption 1, Unconfoundedness: If U→{v0} and U→y then P(y|v0,W0,W1,W4,W3,W2,U) = P(y|v0,W0,W1,W4,W3,W2)\n",
      "\n",
      "## Realized estimand\n",
      "b: y~v0+W0+W1+W4+W3+W2\n",
      "Target units: ate\n",
      "\n",
      "## Estimate\n",
      "Mean value: 8.974926096306975\n",
      "\n",
      "########################################################################################################\n",
      "\n",
      "####### Estimand 2#######################################################################################\n",
      "*** Class Name ***\n",
      "\n",
      "<class 'dowhy.causal_estimators.propensity_score_weighting_estimator.PropensityScoreWeightingEstimator'>\n",
      "\n",
      "*** Causal Estimate ***\n",
      "\n",
      "## Identified estimand\n",
      "Estimand type: nonparametric-ate\n",
      "\n",
      "### Estimand : 1\n",
      "Estimand name: backdoor\n",
      "Estimand expression:\n",
      "  d                                 \n",
      "─────(Expectation(y|W0,W1,W4,W3,W2))\n",
      "d[v₀]                               \n",
      "Estimand assumption 1, Unconfoundedness: If U→{v0} and U→y then P(y|v0,W0,W1,W4,W3,W2,U) = P(y|v0,W0,W1,W4,W3,W2)\n",
      "\n",
      "## Realized estimand\n",
      "b: y~v0+W0+W1+W4+W3+W2\n",
      "Target units: ate\n",
      "\n",
      "## Estimate\n",
      "Mean value: 12.408983841921629\n",
      "\n",
      "########################################################################################################\n",
      "\n",
      "####### Estimand 3#######################################################################################\n",
      "*** Class Name ***\n",
      "\n",
      "<class 'dowhy.causal_estimators.econml.Econml'>\n",
      "\n",
      "*** Causal Estimate ***\n",
      "\n",
      "## Identified estimand\n",
      "Estimand type: nonparametric-ate\n",
      "\n",
      "### Estimand : 1\n",
      "Estimand name: backdoor\n",
      "Estimand expression:\n",
      "  d                                 \n",
      "─────(Expectation(y|W0,W1,W4,W3,W2))\n",
      "d[v₀]                               \n",
      "Estimand assumption 1, Unconfoundedness: If U→{v0} and U→y then P(y|v0,W0,W1,W4,W3,W2,U) = P(y|v0,W0,W1,W4,W3,W2)\n",
      "\n",
      "## Realized estimand\n",
      "b: y~v0+W0+W1+W4+W3+W2 | X0,X1\n",
      "Target units: ate\n",
      "\n",
      "## Estimate\n",
      "Mean value: 9.858256590293788\n",
      "Effect estimates: [11.0297145   9.78699228 10.30838788 ...  9.46308525  9.64756645\n",
      " 10.80259596]\n",
      "\n",
      "########################################################################################################\n",
      "\n"
     ]
    }
   ],
   "source": [
    "estimand_count = 1\n",
    "if inspect_estimates is True:\n",
    "    for estimand in estimate_list:\n",
    "        print(\"####### Estimand {}#######################################################################################\".format(estimand_count))\n",
    "        print(\"*** Class Name ***\")\n",
    "        print()\n",
    "        print(estimand.params['estimator_class'])\n",
    "        print()\n",
    "        print(estimand)\n",
    "        print(\"########################################################################################################\")\n",
    "        print()\n",
    "        estimand_count += 1\n",
    "    "
   ]
  },
  {
   "cell_type": "markdown",
   "metadata": {},
   "source": [
    "## Refute Estimate"
   ]
  },
  {
   "cell_type": "code",
   "execution_count": 35,
   "metadata": {},
   "outputs": [],
   "source": [
    "refutation_list = []\n",
    "for estimand in identified_estimands:\n",
    "    for estimate in estimate_list: \n",
    "        for refuter in refuter_list:\n",
    "            ref = model.refute_estimate(estimand, estimate,method_name=refuter)\n",
    "            refutation_list.append(ref)"
   ]
  },
  {
   "cell_type": "markdown",
   "metadata": {},
   "source": [
    "## Refutation Values"
   ]
  },
  {
   "cell_type": "code",
   "execution_count": 36,
   "metadata": {},
   "outputs": [
    {
     "name": "stdout",
     "output_type": "stream",
     "text": [
      "####### Refutation 1#######################################################################################\n",
      "*** Class Name ***\n",
      "\n",
      "Refute: Bootstrap Sample Dataset\n",
      "\n",
      "Refute: Bootstrap Sample Dataset\n",
      "Estimated effect:8.974926096306975\n",
      "New effect:9.710002131986627\n",
      "p value:0.25\n",
      "\n",
      "########################################################################################################\n",
      "\n",
      "####### Refutation 2#######################################################################################\n",
      "*** Class Name ***\n",
      "\n",
      "Refute: Use a subset of data\n",
      "\n",
      "Refute: Use a subset of data\n",
      "Estimated effect:8.974926096306975\n",
      "New effect:9.859343600595292\n",
      "p value:0.1\n",
      "\n",
      "########################################################################################################\n",
      "\n",
      "####### Refutation 3#######################################################################################\n",
      "*** Class Name ***\n",
      "\n",
      "Refute: Bootstrap Sample Dataset\n",
      "\n",
      "Refute: Bootstrap Sample Dataset\n",
      "Estimated effect:12.408983841921629\n",
      "New effect:12.497225598094587\n",
      "p value:0.31\n",
      "\n",
      "########################################################################################################\n",
      "\n",
      "####### Refutation 4#######################################################################################\n",
      "*** Class Name ***\n",
      "\n",
      "Refute: Use a subset of data\n",
      "\n",
      "Refute: Use a subset of data\n",
      "Estimated effect:12.408983841921629\n",
      "New effect:12.414222770840858\n",
      "p value:0.46\n",
      "\n",
      "########################################################################################################\n",
      "\n",
      "####### Refutation 5#######################################################################################\n",
      "*** Class Name ***\n",
      "\n",
      "Refute: Bootstrap Sample Dataset\n",
      "\n",
      "Refute: Bootstrap Sample Dataset\n",
      "Estimated effect:9.858256590293788\n",
      "New effect:9.904506002270809\n",
      "p value:0.29\n",
      "\n",
      "########################################################################################################\n",
      "\n",
      "####### Refutation 6#######################################################################################\n",
      "*** Class Name ***\n",
      "\n",
      "Refute: Use a subset of data\n",
      "\n",
      "Refute: Use a subset of data\n",
      "Estimated effect:9.858256590293788\n",
      "New effect:9.896534434335736\n",
      "p value:0.28\n",
      "\n",
      "########################################################################################################\n",
      "\n"
     ]
    }
   ],
   "source": [
    "refuter_count = 1\n",
    "if inspect_refutations is True:\n",
    "    for refutation in refutation_list:\n",
    "        print(\"####### Refutation {}#######################################################################################\".format(refuter_count))\n",
    "        print(\"*** Class Name ***\")\n",
    "        print()\n",
    "        print(refutation.refutation_type)\n",
    "        print()\n",
    "        print(refutation)\n",
    "        print(\"########################################################################################################\")\n",
    "        print()\n",
    "        refuter_count += 1"
   ]
  }
 ],
 "metadata": {
  "kernelspec": {
   "display_name": "Python 3 (ipykernel)",
   "language": "python",
   "name": "python3"
  },
  "language_info": {
   "codemirror_mode": {
    "name": "ipython",
    "version": 3
   },
   "file_extension": ".py",
   "mimetype": "text/x-python",
   "name": "python",
   "nbconvert_exporter": "python",
   "pygments_lexer": "ipython3",
   "version": "3.8.12"
  },
  "toc": {
   "base_numbering": 1,
   "nav_menu": {},
   "number_sections": false,
   "sideBar": true,
   "skip_h1_title": true,
   "title_cell": "Table of Contents",
   "title_sidebar": "Contents",
   "toc_cell": false,
   "toc_position": {},
   "toc_section_display": true,
   "toc_window_display": false
  }
 },
 "nbformat": 4,
 "nbformat_minor": 4
}
